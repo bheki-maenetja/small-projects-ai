{
 "cells": [
  {
   "cell_type": "code",
   "execution_count": 20,
   "metadata": {},
   "outputs": [],
   "source": [
    "import pandas as pd\n",
    "import numpy as np"
   ]
  },
  {
   "cell_type": "code",
   "execution_count": 21,
   "metadata": {},
   "outputs": [],
   "source": [
    "class BasicAnn:\n",
    "    def __init__(self, layers):\n",
    "        weight_shapes = [(layers[i],layers[i-1]) for i in range(1, len(layers))]\n",
    "        self.weights = [np.random.standard_normal(s)/s[1]**0.5 for s in weight_shapes]\n",
    "        self.biases = [np.random.randn(y,1) for y in layers[1:]]\n",
    "    "
   ]
  },
  {
   "cell_type": "code",
   "execution_count": 22,
   "metadata": {},
   "outputs": [
    {
     "name": "stdout",
     "output_type": "stream",
     "text": [
      "[[ 0.14752363 -0.06110104]\n",
      " [-0.62238783 -0.60189095]\n",
      " [ 0.52993836  0.25658304]\n",
      " [ 0.00645277 -1.84870428]\n",
      " [ 0.67683989 -0.15363934]]\n",
      "[[ 0.1797233  -0.04561444 -0.12239586 -0.06895181 -0.29708243]\n",
      " [-0.20887302  0.55651611 -0.06224417 -0.19536555 -0.50836433]\n",
      " [-0.13157998  0.21901513  0.2141659  -0.01253509 -0.2827316 ]]\n",
      "[[-1.08735507  0.26712946 -0.94929899]\n",
      " [-0.1429541   0.09097664  0.12948194]]\n",
      "[[ 1.31500132]\n",
      " [-0.01769685]\n",
      " [-0.92777253]\n",
      " [ 1.31288101]\n",
      " [-0.18551263]]\n",
      "[[-0.96500454]\n",
      " [-1.65331586]\n",
      " [ 1.21065786]]\n",
      "[[-0.73292982]\n",
      " [-1.1580277 ]]\n"
     ]
    },
    {
     "data": {
      "text/plain": [
       "<__main__.BasicAnn at 0x7fd92cff3490>"
      ]
     },
     "execution_count": 22,
     "metadata": {},
     "output_type": "execute_result"
    }
   ],
   "source": [
    "BasicAnn((2,5,3,2))"
   ]
  },
  {
   "cell_type": "code",
   "execution_count": 12,
   "metadata": {},
   "outputs": [
    {
     "ename": "NameError",
     "evalue": "name 'sqrt' is not defined",
     "output_type": "error",
     "traceback": [
      "\u001b[0;31m---------------------------------------------------------------------------\u001b[0m",
      "\u001b[0;31mNameError\u001b[0m                                 Traceback (most recent call last)",
      "\u001b[0;32m<ipython-input-12-ef2dc5896f23>\u001b[0m in \u001b[0;36m<module>\u001b[0;34m\u001b[0m\n\u001b[0;32m----> 1\u001b[0;31m \u001b[0msqrt\u001b[0m\u001b[0;34m(\u001b[0m\u001b[0;36m5\u001b[0m\u001b[0;34m)\u001b[0m\u001b[0;34m\u001b[0m\u001b[0;34m\u001b[0m\u001b[0m\n\u001b[0m",
      "\u001b[0;31mNameError\u001b[0m: name 'sqrt' is not defined"
     ]
    }
   ],
   "source": []
  },
  {
   "cell_type": "code",
   "execution_count": null,
   "metadata": {},
   "outputs": [],
   "source": []
  }
 ],
 "metadata": {
  "kernelspec": {
   "display_name": "Python 3",
   "language": "python",
   "name": "python3"
  },
  "language_info": {
   "codemirror_mode": {
    "name": "ipython",
    "version": 3
   },
   "file_extension": ".py",
   "mimetype": "text/x-python",
   "name": "python",
   "nbconvert_exporter": "python",
   "pygments_lexer": "ipython3",
   "version": "3.7.6"
  }
 },
 "nbformat": 4,
 "nbformat_minor": 4
}
