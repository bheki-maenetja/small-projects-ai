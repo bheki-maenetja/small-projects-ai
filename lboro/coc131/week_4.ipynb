{
 "cells": [
  {
   "cell_type": "code",
   "execution_count": 1,
   "metadata": {
    "collapsed": true
   },
   "outputs": [],
   "source": [
    "# import required packages\n",
    "import numpy as np\n",
    "import pandas as pd\n",
    "\n",
    "from sklearn.preprocessing import MinMaxScaler\n",
    "from sklearn.model_selection import train_test_split, cross_val_score, KFold\n",
    "from sklearn.feature_selection import r_regression, SelectKBest\n",
    "from sklearn.svm import SVC\n",
    "from sklearn.neural_network import MLPClassifier\n",
    "from sklearn.metrics import ConfusionMatrixDisplay\n",
    "import matplotlib.pyplot as plt  # For creating plots"
   ]
  },
  {
   "cell_type": "markdown",
   "source": [
    "**Question 1**: Load the dataset provided with today's lab material using numpy. Note that this is a pre-formatted version of the dataset from the last week's lab i.e. all features have already been converted to numerical values."
   ],
   "metadata": {
    "collapsed": false,
    "pycharm": {
     "name": "#%% md\n"
    }
   }
  },
  {
   "cell_type": "markdown",
   "source": [
    "**Question 2**: How many samples and features does the dataset have? The dataset is based on [this](https://www.kaggle.com/datasets/ahsan81/hotel-reservations-classification-dataset) dataset in Kaggle. The last column in the dataset represents the class."
   ],
   "metadata": {
    "collapsed": false
   }
  },
  {
   "cell_type": "markdown",
   "source": [
    "**Question 3**: How many classes does this dataset have?"
   ],
   "metadata": {
    "collapsed": false
   }
  },
  {
   "cell_type": "markdown",
   "source": [
    "**Question 4**: Computing pearson correlation coefficient between each feature and the class. Using the estimate coefficients, identify the 5 most important features."
   ],
   "metadata": {
    "collapsed": false
   }
  },
  {
   "cell_type": "markdown",
   "source": [
    "**Question 5**: sklearn provides a shortcut to achieve what we did in the previous question. Checkout [this](https://scikit-learn.org/stable/modules/feature_selection.html#univariate-feature-selection) page and attempt the previous question again."
   ],
   "metadata": {
    "collapsed": false,
    "pycharm": {
     "name": "#%% md\n"
    }
   }
  },
  {
   "cell_type": "markdown",
   "source": [
    "**Question 6**: Split the dataset after feature selection into training and testing?"
   ],
   "metadata": {
    "collapsed": false
   }
  },
  {
   "cell_type": "markdown",
   "source": [
    "**Question 7**: Normalize the training data to the range $[-1, 1]$ using scikit-learn."
   ],
   "metadata": {
    "collapsed": false,
    "pycharm": {
     "name": "#%% md\n"
    }
   }
  },
  {
   "cell_type": "markdown",
   "source": [
    "**Question 8**: Train a Support Vector Machine (SVM) classifier using the holdout method with the normalized data. Report your model's performance.\n"
   ],
   "metadata": {
    "collapsed": false,
    "pycharm": {
     "name": "#%% md\n"
    }
   }
  },
  {
   "cell_type": "markdown",
   "source": [
    "**Question 9**: Train a Support Vector Machine (SVM) classifier using the holdout method with the **original data** i.e. not the normalized data. Do you see a difference in your model's performance?"
   ],
   "metadata": {
    "collapsed": false,
    "pycharm": {
     "name": "#%% md\n"
    }
   }
  },
  {
   "cell_type": "markdown",
   "source": [
    "#### Selecting appropriate number of features\n",
    "**Question 10**: Determine the appropriate number of features to be selected using pearson correlation coefficient."
   ],
   "metadata": {
    "collapsed": false,
    "pycharm": {
     "name": "#%% md\n"
    }
   }
  }
 ],
 "metadata": {
  "kernelspec": {
   "display_name": "Python 3",
   "language": "python",
   "name": "python3"
  },
  "language_info": {
   "codemirror_mode": {
    "name": "ipython",
    "version": 2
   },
   "file_extension": ".py",
   "mimetype": "text/x-python",
   "name": "python",
   "nbconvert_exporter": "python",
   "pygments_lexer": "ipython2",
   "version": "2.7.6"
  }
 },
 "nbformat": 4,
 "nbformat_minor": 0
}