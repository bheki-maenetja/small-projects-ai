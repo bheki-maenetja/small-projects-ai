{
 "cells": [
  {
   "cell_type": "code",
   "execution_count": 1,
   "metadata": {},
   "outputs": [],
   "source": [
    "# import required packages\n",
    "import numpy as np\n",
    "import pandas as pd\n",
    "\n",
    "from sklearn.preprocessing import MinMaxScaler\n",
    "from sklearn.model_selection import train_test_split, cross_val_score, KFold\n",
    "from sklearn.feature_selection import r_regression, SelectKBest\n",
    "from sklearn.svm import SVC\n",
    "from sklearn.neural_network import MLPClassifier\n",
    "from sklearn.metrics import ConfusionMatrixDisplay\n",
    "import matplotlib.pyplot as plt  # For creating plots"
   ]
  },
  {
   "cell_type": "markdown",
   "metadata": {
    "pycharm": {
     "name": "#%% md\n"
    }
   },
   "source": [
    "**Question 1**: Load the dataset provided with today's lab material using numpy. Note that this is a pre-formatted version of the dataset from the last week's lab i.e. all features have already been converted to numerical values.\n",
    "**Solution**: Use the function [`genfromtxt'](https://numpy.org/doc/stable/reference/generated/numpy.genfromtxt.html) to load the dataset."
   ]
  },
  {
   "cell_type": "code",
   "execution_count": 2,
   "metadata": {
    "pycharm": {
     "name": "#%%\n"
    }
   },
   "outputs": [],
   "source": [
    "hr = np.genfromtxt('hotel_res.csv', delimiter=',')"
   ]
  },
  {
   "cell_type": "markdown",
   "metadata": {},
   "source": [
    "**Question 2**: How many samples and features does the dataset have? The dataset is based on [this](https://www.kaggle.com/datasets/ahsan81/hotel-reservations-classification-dataset) dataset in Kaggle. The last column in the dataset represents the class."
   ]
  },
  {
   "cell_type": "code",
   "execution_count": 3,
   "metadata": {
    "pycharm": {
     "name": "#%%\n"
    }
   },
   "outputs": [
    {
     "data": {
      "text/plain": [
       "(36275, 18)"
      ]
     },
     "execution_count": 3,
     "metadata": {},
     "output_type": "execute_result"
    }
   ],
   "source": [
    "hr.shape"
   ]
  },
  {
   "cell_type": "markdown",
   "metadata": {},
   "source": [
    "**Question 3**: How many classes does this dataset have?\n",
    "**Solution**: The method we used in the last lab session won't work because this is not a data downloaded using scikit-learn. A generic way to do this is check the number of unique values on the class column."
   ]
  },
  {
   "cell_type": "code",
   "execution_count": 4,
   "metadata": {
    "pycharm": {
     "name": "#%%\n"
    }
   },
   "outputs": [
    {
     "data": {
      "text/plain": [
       "array([0., 1.])"
      ]
     },
     "execution_count": 4,
     "metadata": {},
     "output_type": "execute_result"
    }
   ],
   "source": [
    "np.unique(hr[:, -1])"
   ]
  },
  {
   "cell_type": "markdown",
   "metadata": {},
   "source": [
    "**Question 4**: Computing pearson correlation coefficient between each feature and the class. Using the estimate coefficients, identify the 5 most important features.\n",
    "**Solution**: Refer documentation of [`r_regression'](https://scikit-learn.org/stable/modules/generated/sklearn.feature_selection.r_regression.html)."
   ]
  },
  {
   "cell_type": "code",
   "execution_count": 5,
   "metadata": {
    "pycharm": {
     "name": "#%%\n"
    }
   },
   "outputs": [
    {
     "name": "stdout",
     "output_type": "stream",
     "text": [
      "[-0.0869203  -0.03307782 -0.06156254 -0.09299601 -0.04937437  0.08618528\n",
      " -0.02298637 -0.43853792 -0.17952889  0.01123305 -0.01062905 -0.13600847\n",
      "  0.10728664  0.0337278   0.06017942 -0.14223419  0.25306981]\n"
     ]
    }
   ],
   "source": [
    "# compute pearson correlation coefficient between each feature and the class\n",
    "hotel_pr = r_regression(hr[:, :-1], hr[:, -1])\n",
    "print(hotel_pr)\n"
   ]
  },
  {
   "cell_type": "code",
   "execution_count": 6,
   "metadata": {
    "pycharm": {
     "name": "#%%\n"
    }
   },
   "outputs": [
    {
     "data": {
      "text/plain": [
       "array([11, 15,  8, 16,  7])"
      ]
     },
     "execution_count": 6,
     "metadata": {},
     "output_type": "execute_result"
    }
   ],
   "source": [
    "# sort the absolute value of the pearson correlation coefficient to identify the important features\n",
    "imp_feature_idx = np.argsort(np.abs(hotel_pr))\n",
    "\n",
    "# the 5 most important features are\n",
    "# argsort sorts in the ascending order. Higher pearson correlation coefficient represents important features for us.\n",
    "imp_feature_idx[-5:]"
   ]
  },
  {
   "cell_type": "markdown",
   "metadata": {
    "pycharm": {
     "name": "#%% md\n"
    }
   },
   "source": [
    "**Question 5**: sklearn provides a shortcut to achieve what we did in the previous question. Checkout [this](https://scikit-learn.org/stable/modules/feature_selection.html#univariate-feature-selection) page and attempt the previous question again."
   ]
  },
  {
   "cell_type": "code",
   "execution_count": 7,
   "metadata": {
    "pycharm": {
     "name": "#%%\n"
    }
   },
   "outputs": [],
   "source": [
    "skb = SelectKBest(r_regression, k=6)\n",
    "hr2 = skb.fit_transform(hr[:, :-1], hr[:, -1])\n"
   ]
  },
  {
   "cell_type": "code",
   "execution_count": 8,
   "metadata": {
    "pycharm": {
     "name": "#%%\n"
    }
   },
   "outputs": [
    {
     "data": {
      "text/plain": [
       "array([-0.0869203 , -0.03307782, -0.06156254, -0.09299601, -0.04937437,\n",
       "        0.08618528, -0.02298637, -0.43853792, -0.17952889,  0.01123305,\n",
       "       -0.01062905, -0.13600847,  0.10728664,  0.0337278 ,  0.06017942,\n",
       "       -0.14223419,  0.25306981])"
      ]
     },
     "execution_count": 8,
     "metadata": {},
     "output_type": "execute_result"
    }
   ],
   "source": [
    "# you can use the 'scores_' attribute of skb to view the scores computed using pearson correlation coefficient\n",
    "skb.scores_\n"
   ]
  },
  {
   "cell_type": "code",
   "execution_count": 9,
   "metadata": {
    "pycharm": {
     "name": "#%%\n"
    }
   },
   "outputs": [
    {
     "data": {
      "text/plain": [
       "(36275, 6)"
      ]
     },
     "execution_count": 9,
     "metadata": {},
     "output_type": "execute_result"
    }
   ],
   "source": [
    "hr2.shape"
   ]
  },
  {
   "cell_type": "markdown",
   "metadata": {},
   "source": [
    "**Question 6**: Split the dataset after feature selection into training and testing?"
   ]
  },
  {
   "cell_type": "code",
   "execution_count": 10,
   "metadata": {
    "pycharm": {
     "name": "#%%\n"
    }
   },
   "outputs": [],
   "source": [
    "x_train, x_test, y_train, y_test = train_test_split(hr2, hr[:, -1], test_size=0.2)"
   ]
  },
  {
   "cell_type": "markdown",
   "metadata": {
    "pycharm": {
     "name": "#%% md\n"
    }
   },
   "source": [
    "**Question 7**: Normalize the training data to the range $[-1, 1]$ using scikit-learn.\n",
    "**Solution**: Refer to the documentation for [MinMaxScaler](https://scikit-learn.org/stable/modules/generated/sklearn.preprocessing.MinMaxScaler.html)"
   ]
  },
  {
   "cell_type": "code",
   "execution_count": 11,
   "metadata": {
    "pycharm": {
     "name": "#%%\n"
    }
   },
   "outputs": [],
   "source": [
    "mms = MinMaxScaler(feature_range=(-1, 1))\n",
    "x_train_norm = mms.fit_transform(x_train)"
   ]
  },
  {
   "cell_type": "code",
   "execution_count": 12,
   "metadata": {
    "pycharm": {
     "name": "#%%\n"
    }
   },
   "outputs": [
    {
     "data": {
      "text/plain": [
       "array([[-1.        , -0.09090909, -1.        , -1.        , -1.        ,\n",
       "        -1.        ],\n",
       "       [ 1.        ,  0.45454545, -1.        , -1.        , -1.        ,\n",
       "        -0.2       ],\n",
       "       [-1.        ,  0.45454545, -1.        , -1.        , -1.        ,\n",
       "        -1.        ],\n",
       "       ...,\n",
       "       [-1.        ,  0.09090909, -1.        , -1.        , -1.        ,\n",
       "        -1.        ],\n",
       "       [-1.        , -0.09090909, -1.        , -1.        , -1.        ,\n",
       "        -1.        ],\n",
       "       [-1.        ,  0.45454545, -1.        , -1.        , -1.        ,\n",
       "        -0.6       ]])"
      ]
     },
     "execution_count": 12,
     "metadata": {},
     "output_type": "execute_result"
    }
   ],
   "source": [
    "x_train_norm"
   ]
  },
  {
   "cell_type": "markdown",
   "metadata": {
    "pycharm": {
     "name": "#%% md\n"
    }
   },
   "source": [
    "**Question 8**: Train a Support Vector Machine (SVM) classifier using the holdout method with the normalized data. Report your model's performance.\n"
   ]
  },
  {
   "cell_type": "code",
   "execution_count": 13,
   "metadata": {
    "pycharm": {
     "name": "#%%\n"
    }
   },
   "outputs": [
    {
     "name": "stdout",
     "output_type": "stream",
     "text": [
      "Training Accuracy:  0.6961750516884907\n",
      "Testing Accuracy:  0.6975878704341834\n"
     ]
    }
   ],
   "source": [
    "clf = SVC()\n",
    "clf.fit(x_train_norm, y_train) # train an SVM using the training data.\n",
    "print('Training Accuracy: ', clf.score(x_train_norm, y_train)) # Accuracy on the training data\n",
    "\n",
    "x_test_norm = mms.transform(x_test) # normalize the testing data before testing. Note that we use the model fit using the training data\n",
    "print('Testing Accuracy: ', clf.score(x_test_norm, y_test)) # Accuracy on the testing data"
   ]
  },
  {
   "cell_type": "markdown",
   "metadata": {
    "pycharm": {
     "name": "#%% md\n"
    }
   },
   "source": [
    "**Question 9**: Train a Support Vector Machine (SVM) classifier using the holdout method with the **original data** i.e. not the normalized data. Do you see a difference in your model's performance?"
   ]
  },
  {
   "cell_type": "code",
   "execution_count": 14,
   "metadata": {
    "pycharm": {
     "name": "#%%\n"
    }
   },
   "outputs": [
    {
     "name": "stdout",
     "output_type": "stream",
     "text": [
      "Training Accuracy:  0.6705031013094418\n",
      "Testing Accuracy:  0.6803583735354928\n"
     ]
    }
   ],
   "source": [
    "clf = SVC()\n",
    "clf.fit(x_train, y_train) # train an SVM using the training data.\n",
    "print('Training Accuracy: ', clf.score(x_train, y_train)) # Accuracy on the training data\n",
    "print('Testing Accuracy: ', clf.score(x_test, y_test)) # Accuracy on the testing data"
   ]
  },
  {
   "cell_type": "markdown",
   "metadata": {
    "pycharm": {
     "name": "#%% md\n"
    }
   },
   "source": [
    "#### Selecting appropriate number of features\n",
    "**Question 10**: Determine the appropriate number of features to be selected using pearson correlation coefficient."
   ]
  },
  {
   "cell_type": "code",
   "execution_count": 16,
   "metadata": {
    "pycharm": {
     "name": "#%%\n"
    }
   },
   "outputs": [
    {
     "name": "stdout",
     "output_type": "stream",
     "text": [
      "Using 1 features:\n",
      "Training Accuracy:  0.6719159200551343\n",
      "Testing Accuracy:  0.6741557546519642\n",
      "Using 2 features:\n",
      "Training Accuracy:  0.6712267401791868\n",
      "Testing Accuracy:  0.6769124741557546\n",
      "Using 3 features:\n",
      "Training Accuracy:  0.6728118538938663\n",
      "Testing Accuracy:  0.6705720192970366\n",
      "Using 4 features:\n",
      "Training Accuracy:  0.6722949689869056\n",
      "Testing Accuracy:  0.6726395589248794\n",
      "Using 5 features:\n",
      "Training Accuracy:  0.6713990351481737\n",
      "Testing Accuracy:  0.6767746381805652\n",
      "Using 6 features:\n",
      "Training Accuracy:  0.697381116471399\n",
      "Testing Accuracy:  0.6927636113025499\n",
      "Using 7 features:\n",
      "Training Accuracy:  0.6891454169538249\n",
      "Testing Accuracy:  0.6876636802205376\n",
      "I came here\n"
     ]
    }
   ],
   "source": [
    "n_features = hr.shape[1]\n",
    "\n",
    "prev_train_acc = 0\n",
    "prev_test_acc = 0\n",
    "use_n_samples = hr.shape[0]\n",
    "for f in range(1, n_features):\n",
    "    # feature selection\n",
    "    skb = SelectKBest(r_regression, k=f)\n",
    "    hr3 = skb.fit_transform(hr[:use_n_samples, :-1], hr[:use_n_samples, -1]) # dataset with selected features\n",
    "\n",
    "    # split the dataset into training and testing\n",
    "    x_train, x_test, y_train, y_test = train_test_split(hr3, hr[:use_n_samples, -1], test_size=0.2)\n",
    "\n",
    "    # normalize the training data\n",
    "    mms = MinMaxScaler(feature_range=(-1, 1))\n",
    "    x_train_norm = mms.fit_transform(x_train)\n",
    "\n",
    "    # train a classifier\n",
    "    clf = SVC()\n",
    "    clf.fit(x_train_norm, y_train) # train an SVM using the training data.\n",
    "    train_acc = clf.score(x_train_norm, y_train) # estimate training accuracy\n",
    "\n",
    "    # testing\n",
    "    x_test_norm = mms.transform(x_test) # normalize the testing data before testing. Note that we use the model fit using the training data\n",
    "    test_acc = clf.score(x_test_norm, y_test) # estimate testing accuracy\n",
    "\n",
    "    print(f'Using {f} features:')\n",
    "    print('Training Accuracy: ', train_acc) # Accuracy on the training data\n",
    "    print('Testing Accuracy: ', test_acc) # Accuracy on the testing data\n",
    "\n",
    "    if (train_acc > prev_train_acc) or (test_acc > prev_test_acc):\n",
    "        prev_train_acc = train_acc\n",
    "        prev_test_acc = test_acc\n",
    "    else:\n",
    "        print('I came here')\n",
    "        break"
   ]
  },
  {
   "cell_type": "markdown",
   "metadata": {
    "pycharm": {
     "name": "#%% md\n"
    }
   },
   "source": [
    "Question: Generate a random set of points to see how pearson correlation changes"
   ]
  },
  {
   "cell_type": "markdown",
   "metadata": {
    "pycharm": {
     "name": "#%% md\n"
    }
   },
   "source": [
    "Question: An example to use matplotlib for plotting multiple times on the same figure."
   ]
  }
 ],
 "metadata": {
  "kernelspec": {
   "display_name": "Python 3 (ipykernel)",
   "language": "python",
   "name": "python3"
  },
  "language_info": {
   "codemirror_mode": {
    "name": "ipython",
    "version": 3
   },
   "file_extension": ".py",
   "mimetype": "text/x-python",
   "name": "python",
   "nbconvert_exporter": "python",
   "pygments_lexer": "ipython3",
   "version": "3.9.6"
  }
 },
 "nbformat": 4,
 "nbformat_minor": 1
}
