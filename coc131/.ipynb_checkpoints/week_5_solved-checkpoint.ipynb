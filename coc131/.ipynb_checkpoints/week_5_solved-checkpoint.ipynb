{
 "cells": [
  {
   "cell_type": "code",
   "execution_count": 25,
   "metadata": {
    "collapsed": true
   },
   "outputs": [],
   "source": [
    "# import required packages\n",
    "import numpy as np\n",
    "import pandas as pd\n",
    "\n",
    "from sklearn.preprocessing import MinMaxScaler\n",
    "from sklearn.model_selection import train_test_split, cross_val_score, KFold\n",
    "from sklearn.feature_selection import r_regression, SelectKBest\n",
    "from sklearn.svm import SVR\n",
    "from sklearn.linear_model import LinearRegression\n",
    "from sklearn.neural_network import MLPClassifier\n",
    "from sklearn.metrics import ConfusionMatrixDisplay\n",
    "import matplotlib.pyplot as plt  # For creating plots"
   ]
  },
  {
   "cell_type": "markdown",
   "metadata": {},
   "source": [
    "**Question 1**: Load the dataset provided with today's lab material using numpy.\n",
    "**Solution**: Use the function [`genfromtxt'](https://numpy.org/doc/stable/reference/generated/numpy.genfromtxt.html) to load the dataset."
   ]
  },
  {
   "cell_type": "code",
   "execution_count": 26,
   "metadata": {
    "pycharm": {
     "name": "#%%\n"
    }
   },
   "outputs": [],
   "source": [
    "csd = np.genfromtxt('Concrete_Strength_Data.csv', delimiter=',', skip_header=True)"
   ]
  },
  {
   "cell_type": "markdown",
   "metadata": {
    "pycharm": {
     "name": "#%% md\n"
    }
   },
   "source": [
    "**Question 2**: How many samples and features does the dataset have? The dataset is based on [this](https://www.kaggle.com/datasets/ahsan81/hotel-reservations-classification-dataset) dataset in Kaggle. The last column in the dataset represents the quantity to be predicted."
   ]
  },
  {
   "cell_type": "code",
   "execution_count": 106,
   "metadata": {
    "pycharm": {
     "name": "#%%\n"
    }
   },
   "outputs": [
    {
     "data": {
      "text/plain": [
       "(1030, 9)"
      ]
     },
     "execution_count": 106,
     "metadata": {},
     "output_type": "execute_result"
    }
   ],
   "source": [
    "csd.shape"
   ]
  },
  {
   "cell_type": "markdown",
   "metadata": {
    "pycharm": {
     "name": "#%% md\n"
    }
   },
   "source": [
    "**Question 3**: Split the dataset into training and testing?\n",
    "**Solution**: Refer documentation of [`train_test_split`](https://scikit-learn.org/stable/modules/generated/sklearn.model_selection.train_test_split.html).\n",
    "An example is shown in the cell below."
   ]
  },
  {
   "cell_type": "code",
   "execution_count": 27,
   "metadata": {
    "pycharm": {
     "name": "#%%\n"
    }
   },
   "outputs": [],
   "source": [
    "x_train, x_test, y_train, y_test = train_test_split(csd[:, :-1], csd[:, -1], test_size=0.2)"
   ]
  },
  {
   "cell_type": "markdown",
   "metadata": {
    "pycharm": {
     "name": "#%% md\n"
    }
   },
   "source": [
    "**Question 4**: Train a Support Vector Machine (SVM) using the holdout method. Report your model's performance.\n",
    "**Note**: Keep in mind that this is a regression problem.\n",
    "**Solution**: See code below. Note that for regression a performance metric of average classification accuracy doesn't make sense. Instead a metric called $R^2$ is used. Read more about $R^2$ [here](https://scikit-learn.org/stable/modules/generated/sklearn.svm.SVR.html#sklearn.svm.SVR.score)."
   ]
  },
  {
   "cell_type": "code",
   "execution_count": 108,
   "metadata": {
    "pycharm": {
     "name": "#%%\n"
    }
   },
   "outputs": [
    {
     "data": {
      "text/plain": [
       "0.24135136302882598"
      ]
     },
     "execution_count": 108,
     "metadata": {},
     "output_type": "execute_result"
    }
   ],
   "source": [
    "clf2 = SVR()\n",
    "clf2.fit(x_train, y_train)\n",
    "clf2.score(x_test, y_test)"
   ]
  },
  {
   "cell_type": "markdown",
   "metadata": {
    "pycharm": {
     "name": "#%% md\n"
    }
   },
   "source": [
    "**Question 5** (i): Train a Linear Regression (LR) model using the holdout method. Report your model's performance.\n",
    "**Note**: Keep in mind that this is a regression problem.\n",
    "**Solution**: See code below."
   ]
  },
  {
   "cell_type": "code",
   "execution_count": 28,
   "metadata": {
    "pycharm": {
     "name": "#%%\n"
    }
   },
   "outputs": [
    {
     "data": {
      "text/plain": [
       "0.5621351916171029"
      ]
     },
     "execution_count": 28,
     "metadata": {},
     "output_type": "execute_result"
    }
   ],
   "source": [
    "lr = LinearRegression()\n",
    "lr.fit(x_train, y_train)\n",
    "lr.score(x_test, y_test)"
   ]
  },
  {
   "cell_type": "markdown",
   "metadata": {},
   "source": [
    "**Question 5** (ii): Print the LR coefficients for each feature in the dataset. Sort the features in the ascending order of their importance."
   ]
  },
  {
   "cell_type": "code",
   "execution_count": 29,
   "metadata": {
    "pycharm": {
     "name": "#%%\n"
    }
   },
   "outputs": [
    {
     "name": "stdout",
     "output_type": "stream",
     "text": [
      "[ 0.12311263  0.10673091  0.09648068 -0.15397929  0.2115661   0.01528656\n",
      "  0.01983978  0.11350325]\n",
      "[5 6 2 1 7 0 3 4]\n"
     ]
    }
   ],
   "source": [
    "print(lr.coef_)\n",
    "print(np.argsort(np.abs(lr.coef_)))"
   ]
  },
  {
   "cell_type": "markdown",
   "metadata": {
    "pycharm": {
     "name": "#%% md\n"
    }
   },
   "source": [
    "**Question 6**: Can you improve the performance of SVM by choosing alternative values for its hyperparameters?\n",
    "**Solution**: This is what's called hyperparameter optimization."
   ]
  },
  {
   "cell_type": "code",
   "execution_count": 111,
   "metadata": {
    "pycharm": {
     "name": "#%%\n"
    }
   },
   "outputs": [
    {
     "name": "stdout",
     "output_type": "stream",
     "text": [
      "Attempt 1: 0.5157651871087164\n",
      "Attempt 2: 0.6952358870879887\n",
      "Attempt 3: 0.603180234825371\n"
     ]
    }
   ],
   "source": [
    "# This cell lists code for couple of different models that worked better than the original SVR\n",
    "# Attempt 1\n",
    "clf2 = SVR(kernel='linear')\n",
    "clf2.fit(x_train, y_train)\n",
    "print(f'Attempt 1: {clf2.score(x_test, y_test)}')\n",
    "\n",
    "# Attempt 2\n",
    "clf3 = SVR(kernel='poly', degree=10)\n",
    "clf3.fit(x_train, y_train)\n",
    "print(f'Attempt 2: {clf3.score(x_test, y_test)}')\n",
    "\n",
    "# Attempt 3\n",
    "clf4 = SVR(C=20)\n",
    "clf4.fit(x_train, y_train)\n",
    "print(f'Attempt 3: {clf4.score(x_test, y_test)}')"
   ]
  },
  {
   "cell_type": "markdown",
   "metadata": {
    "pycharm": {
     "name": "#%% md\n"
    }
   },
   "source": [
    "**Question 7**: Normalize the data to the range $[0, 1]$ using scikit-learn.\n",
    "**Solution**: Refer to the documentation for [MinMaxScaler](https://scikit-learn.org/stable/modules/generated/sklearn.preprocessing.MinMaxScaler.html)"
   ]
  },
  {
   "cell_type": "code",
   "execution_count": 30,
   "metadata": {
    "pycharm": {
     "name": "#%%\n"
    }
   },
   "outputs": [],
   "source": [
    "x_mms = MinMaxScaler(feature_range=(0, 1))\n",
    "y_mms = MinMaxScaler(feature_range=(0, 1))\n",
    "x_csd_norm = x_mms.fit_transform(csd[:, :-1])\n",
    "y_csd_norm = y_mms.fit_transform(csd[:, [-1]])"
   ]
  },
  {
   "cell_type": "markdown",
   "metadata": {
    "pycharm": {
     "name": "#%% md\n"
    }
   },
   "source": [
    "**Question 8** (i): Train a Linear Regression (LR) model using the normalized data. Report your model's performance.\n",
    "**Solution**: See code below."
   ]
  },
  {
   "cell_type": "code",
   "execution_count": 31,
   "metadata": {
    "pycharm": {
     "name": "#%%\n"
    }
   },
   "outputs": [],
   "source": [
    "# x_train2, x_test2, y_train2, y_test2 = train_test_split(x_csd_norm, csd[:, -1], test_size=0.2)\n",
    "x_train2, x_test2, y_train2, y_test2 = train_test_split(x_csd_norm, y_csd_norm, test_size=0.2)"
   ]
  },
  {
   "cell_type": "code",
   "execution_count": 41,
   "metadata": {
    "pycharm": {
     "name": "#%%\n"
    }
   },
   "outputs": [
    {
     "data": {
      "text/plain": [
       "0.632998638376312"
      ]
     },
     "execution_count": 41,
     "metadata": {},
     "output_type": "execute_result"
    }
   ],
   "source": [
    "lr2 = LinearRegression()\n",
    "lr2.fit(x_train2, y_train2)\n",
    "lr2.score(x_test2, y_test2)\n",
    "# lr2.score(x_mms.transform(x_test2), y_mms.transform(y_test2))"
   ]
  },
  {
   "cell_type": "markdown",
   "metadata": {
    "pycharm": {
     "name": "#%% md\n"
    }
   },
   "source": [
    "**Question 8** (ii): Compute the predicted values for the target variable based on the model trained in the previous question. Use the first 10 samples in the dataset and generate a visualization that shows the actual and predicted values for these 10 samples."
   ]
  },
  {
   "cell_type": "code",
   "execution_count": 42,
   "metadata": {
    "pycharm": {
     "name": "#%%\n"
    }
   },
   "outputs": [],
   "source": [
    "# compute predictions for samples in the testing dataset\n",
    "y_pred = lr2.predict(x_test2)"
   ]
  },
  {
   "cell_type": "code",
   "execution_count": 43,
   "metadata": {
    "pycharm": {
     "name": "#%%\n"
    }
   },
   "outputs": [
    {
     "data": {
      "text/plain": [
       "Text(0, 0.5, 'Actual/Predicted value of the target')"
      ]
     },
     "execution_count": 43,
     "metadata": {},
     "output_type": "execute_result"
    },
    {
     "data": {
      "image/png": "[encoded data removed]",
      "text/plain": [
       "<Figure size 640x480 with 1 Axes>"
      ]
     },
     "metadata": {},
     "output_type": "display_data"
    }
   ],
   "source": [
    "# scatter plot of actual and predicted values for the target variable for first 10 samples\n",
    "plt.plot(y_test2[:10], 'o', label='Actual')\n",
    "plt.plot(y_pred[:10], 'o', label='Prediction')\n",
    "\n",
    "# add the legend to reflect which point denote which quantity\n",
    "plt.legend()\n",
    "plt.xlabel('Index of sample') # label of x-axis\n",
    "plt.ylabel('Actual/Predicted value of the target') # label of y-axis"
   ]
  },
  {
   "cell_type": "markdown",
   "metadata": {},
   "source": [
    "**Question 8** (iii): Print the LR coefficients for each feature in the dataset. Sort the features in the ascending order of their importance."
   ]
  },
  {
   "cell_type": "code",
   "execution_count": 33,
   "metadata": {
    "pycharm": {
     "name": "#%%\n"
    }
   },
   "outputs": [
    {
     "name": "stdout",
     "output_type": "stream",
     "text": [
      "[[ 0.64709927  0.46909613  0.21093637 -0.23167211  0.12677515  0.08364443\n",
      "   0.09518955  0.52765705]]\n",
      "[[5 6 4 2 3 1 7 0]]\n"
     ]
    }
   ],
   "source": [
    "print(lr2.coef_)\n",
    "print(np.argsort(np.abs(lr2.coef_)))"
   ]
  },
  {
   "cell_type": "markdown",
   "metadata": {
    "pycharm": {
     "name": "#%% md\n"
    }
   },
   "source": [
    "**Question 9**: Based on the two models trained using LR in Questions 5 and 8, you can identify the importance of features. Note the most important features in both cases. Build and evaluate two more LR models excluding the most important features identified in Question 5 and 8. Do results align with your expectations?"
   ]
  },
  {
   "cell_type": "code",
   "execution_count": 34,
   "metadata": {
    "pycharm": {
     "name": "#%%\n"
    }
   },
   "outputs": [
    {
     "data": {
      "text/plain": [
       "0.5516849556584291"
      ]
     },
     "execution_count": 34,
     "metadata": {},
     "output_type": "execute_result"
    }
   ],
   "source": [
    "lr = LinearRegression()\n",
    "lr.fit(x_train[:, [0, 1, 2, 3, 5, 6, 7]], y_train)\n",
    "lr.score(x_test[:, [0, 1, 2, 3, 5, 6, 7]], y_test)"
   ]
  },
  {
   "cell_type": "code",
   "execution_count": 35,
   "metadata": {
    "pycharm": {
     "name": "#%%\n"
    }
   },
   "outputs": [
    {
     "data": {
      "text/plain": [
       "0.500627447187491"
      ]
     },
     "execution_count": 35,
     "metadata": {},
     "output_type": "execute_result"
    }
   ],
   "source": [
    "lr = LinearRegression()\n",
    "lr.fit(x_train[:, [1, 2, 3, 4, 5, 6, 7]], y_train)\n",
    "lr.score(x_test[:, [1, 2, 3, 4, 5, 6, 7]], y_test)"
   ]
  },
  {
   "cell_type": "code",
   "execution_count": 36,
   "metadata": {
    "pycharm": {
     "name": "#%%\n"
    }
   },
   "outputs": [
    {
     "data": {
      "text/plain": [
       "0.5464303833255935"
      ]
     },
     "execution_count": 36,
     "metadata": {},
     "output_type": "execute_result"
    }
   ],
   "source": [
    "lr2 = LinearRegression()\n",
    "lr2.fit(x_train2[:, [1, 2, 3, 4, 5, 6, 7]], y_train2)\n",
    "lr2.score(x_test2[:, [1, 2, 3, 4, 5, 6, 7]], y_test2)"
   ]
  },
  {
   "cell_type": "code",
   "execution_count": 37,
   "metadata": {
    "pycharm": {
     "name": "#%%\n"
    }
   },
   "outputs": [
    {
     "data": {
      "text/plain": [
       "0.63278543241275"
      ]
     },
     "execution_count": 37,
     "metadata": {},
     "output_type": "execute_result"
    }
   ],
   "source": [
    "lr2 = LinearRegression()\n",
    "lr2.fit(x_train2[:, [0, 1, 2, 3, 5, 6, 7]], y_train2)\n",
    "lr2.score(x_test2[:, [0, 1, 2, 3, 5, 6, 7]], y_test2)"
   ]
  },
  {
   "cell_type": "markdown",
   "metadata": {
    "pycharm": {
     "name": "#%% md\n"
    }
   },
   "source": [
    "**Question 10**: Based on the two models trained using LR in Questions 5 and 8, you can identify the importance of features. Note the most important features in both cases. Build and evaluate two more LR models including only the most important features identified in Question 5 and 8. Do results align with your expectations?"
   ]
  },
  {
   "cell_type": "code",
   "execution_count": 22,
   "metadata": {
    "pycharm": {
     "name": "#%%\n"
    }
   },
   "outputs": [
    {
     "data": {
      "text/plain": [
       "0.1710451489505611"
      ]
     },
     "execution_count": 22,
     "metadata": {},
     "output_type": "execute_result"
    }
   ],
   "source": [
    "lr = LinearRegression()\n",
    "lr.fit(x_train[:, [4]], y_train)\n",
    "lr.score(x_test[:, [4]], y_test)"
   ]
  },
  {
   "cell_type": "code",
   "execution_count": 38,
   "metadata": {
    "pycharm": {
     "name": "#%%\n"
    }
   },
   "outputs": [
    {
     "data": {
      "text/plain": [
       "0.23591701515579644"
      ]
     },
     "execution_count": 38,
     "metadata": {},
     "output_type": "execute_result"
    }
   ],
   "source": [
    "lr = LinearRegression()\n",
    "lr.fit(x_train[:, [0]], y_train)\n",
    "lr.score(x_test[:, [0]], y_test)"
   ]
  },
  {
   "cell_type": "code",
   "execution_count": 21,
   "metadata": {
    "pycharm": {
     "name": "#%%\n"
    }
   },
   "outputs": [
    {
     "data": {
      "text/plain": [
       "0.2151056244000804"
      ]
     },
     "execution_count": 21,
     "metadata": {},
     "output_type": "execute_result"
    }
   ],
   "source": [
    "lr2 = LinearRegression()\n",
    "lr2.fit(x_train2[:, [0]], y_train2)\n",
    "lr2.score(x_test2[:, [0]], y_test2)"
   ]
  },
  {
   "cell_type": "code",
   "execution_count": 39,
   "metadata": {
    "pycharm": {
     "name": "#%%\n"
    }
   },
   "outputs": [
    {
     "data": {
      "text/plain": [
       "0.1041740056189373"
      ]
     },
     "execution_count": 39,
     "metadata": {},
     "output_type": "execute_result"
    }
   ],
   "source": [
    "lr2 = LinearRegression()\n",
    "lr2.fit(x_train2[:, [4]], y_train2)\n",
    "lr2.score(x_test2[:, [4]], y_test2)"
   ]
  }
 ],
 "metadata": {
  "kernelspec": {
   "display_name": "Python 3 (ipykernel)",
   "language": "python",
   "name": "python3"
  },
  "language_info": {
   "codemirror_mode": {
    "name": "ipython",
    "version": 3
   },
   "file_extension": ".py",
   "mimetype": "text/x-python",
   "name": "python",
   "nbconvert_exporter": "python",
   "pygments_lexer": "ipython3",
   "version": "3.9.6"
  }
 },
 "nbformat": 4,
 "nbformat_minor": 1
}
