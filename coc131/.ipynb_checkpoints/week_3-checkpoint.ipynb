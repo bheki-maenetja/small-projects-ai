{
 "cells": [
  {
   "cell_type": "code",
   "execution_count": 64,
   "metadata": {
    "pycharm": {
     "name": "#%%\n"
    }
   },
   "outputs": [],
   "source": [
    "# import required packages\n",
    "import numpy as np\n",
    "\n",
    "from  sklearn.preprocessing import OrdinalEncoder, OneHotEncoder\n",
    "from sklearn.datasets import load_breast_cancer, fetch_california_housing\n",
    "from sklearn.model_selection import train_test_split, cross_val_score, KFold\n",
    "from sklearn.svm import SVC\n",
    "from sklearn.linear_model import LinearRegression\n",
    "from sklearn.neural_network import MLPClassifier\n",
    "from sklearn.metrics import ConfusionMatrixDisplay\n",
    "import matplotlib.pyplot as plt  # For creating plots"
   ]
  },
  {
   "cell_type": "markdown",
   "metadata": {
    "pycharm": {
     "name": "#%% md\n"
    }
   },
   "source": [
    "**Question 1**: Load the dataset (Hotel_reservation.csv) for today's lab from LEARN using the function [genfromtxt](https://numpy.org/doc/stable/reference/generated/numpy.genfromtxt.html) in numpy. The dataset comes from [this page](https://www.kaggle.com/datasets/ahsan81/hotel-reservations-classification-dataset). View your dataset after loading and compare it to the contents of the CSV file. You may have to choose non-default values for some of the parameters of genfromtxt to get this dataset to load properly."
   ]
  },
  {
   "cell_type": "markdown",
   "metadata": {
    "pycharm": {
     "name": "#%% md\n"
    }
   },
   "source": [
    "**Question 2**: For the following questions, we will not be using the first column in the dataset. Drop that column from the dataset. Note that the last column in the dataset represents class labels."
   ]
  },
  {
   "cell_type": "markdown",
   "metadata": {
    "pycharm": {
     "name": "#%% md\n"
    }
   },
   "source": [
    "\n",
    "**Question 3**: You may note that the 5th column in the dataset contains strings. Most ML models are not capable of handling such data, for instance, you can't do multiplication with string which is needed for linear regression. You need to change the string values to real numbers. Use ['OrdinalEncoder'](https://scikit-learn.org/stable/modules/generated/sklearn.preprocessing.OrdinalEncoder.html) to encode the strings with real numbers. You can read more about `Encoding` [here](https://scikit-learn.org/stable/modules/preprocessing.html#encoding-categorical-features)."
   ]
  },
  {
   "cell_type": "markdown",
   "metadata": {
    "pycharm": {
     "name": "#%% md\n"
    }
   },
   "source": [
    "**Question 5**: At this stage, all your columns except the last one should contain real values. Split the dataset into two variables containing features and class labels respectively. Change the dtype for features to `float`."
   ]
  },
  {
   "cell_type": "markdown",
   "metadata": {
    "pycharm": {
     "name": "#%% md\n"
    }
   },
   "source": [
    "**Question 6**: Split the dataset into training and testing? Train a Support Vector Machine (SVM) classifier using the holdout method. Report your model’s performance."
   ]
  },
  {
   "cell_type": "markdown",
   "metadata": {
    "pycharm": {
     "name": "#%% md\n"
    }
   },
   "source": [
    "**Question 7**: [OneHotEncoder](https://scikit-learn.org/stable/modules/generated/sklearn.preprocessing.OneHotEncoder.html#sklearn.preprocessing.OneHotEncoder) is another technique in scikit-learn for encoding features with non-real values. Use OneHotEncoder to encode the 4th column in the dataset obtained after 2nd question. For other columns having non-real values, use OrdinalEncoder. Split the dataset into training and testing? Train a Support Vector Machine (SVM) classifier using the holdout method. Report your model’s performance."
   ]
  },
  {
   "cell_type": "markdown",
   "metadata": {},
   "source": [
    "**Question 8** Read the documentation about [datasets](https://scikit-learn.org/stable/modules/classes.html#module-sklearn.datasets) in scikit-learn and download the california housing dataset. How many features does the dataset have? What does the target value look like? Split the dataset into training and testing?"
   ]
  },
  {
   "cell_type": "markdown",
   "metadata": {},
   "source": [
    "**Question 9**: Build a linear regression model using the training dataset. Evaluate the performance of your model on the training and testing dataset.\n",
    "**Solution**: Refer documentation and examples on [this](https://scikit-learn.org/stable/modules/generated/sklearn.linear_model.LinearRegression.html#sklearn.linear_model.LinearRegression) page.\n",
    "Also, see cell below. The object `lr` contains all information about the trained model."
   ]
  },
  {
   "cell_type": "markdown",
   "metadata": {
    "pycharm": {
     "name": "#%% md\n"
    }
   },
   "source": [
    "**Question 10**: Compute the predicted values for the target variable based on the model trained in the previous question. Use the first 10 samples in the dataset and generate a visualization that shows the actual and predicted values for these 10 samples."
   ]
  }
 ],
 "metadata": {
  "kernelspec": {
   "display_name": "Python 3 (ipykernel)",
   "language": "python",
   "name": "python3"
  },
  "language_info": {
   "codemirror_mode": {
    "name": "ipython",
    "version": 3
   },
   "file_extension": ".py",
   "mimetype": "text/x-python",
   "name": "python",
   "nbconvert_exporter": "python",
   "pygments_lexer": "ipython3",
   "version": "3.9.6"
  }
 },
 "nbformat": 4,
 "nbformat_minor": 1
}
