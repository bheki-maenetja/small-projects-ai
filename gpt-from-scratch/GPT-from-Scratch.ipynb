{
 "cells": [
  {
   "cell_type": "markdown",
   "id": "a7388985-076c-48df-a18c-3883a8b2d726",
   "metadata": {},
   "source": [
    "# GPT from Scratch"
   ]
  },
  {
   "cell_type": "markdown",
   "id": "f6b70392-6567-4cf9-bc14-d93f83df2a64",
   "metadata": {},
   "source": [
    "## Imports"
   ]
  },
  {
   "cell_type": "code",
   "execution_count": 1,
   "id": "93a1af7e-570e-4805-af04-ff36493aaec3",
   "metadata": {},
   "outputs": [],
   "source": [
    "import sys\n",
    "sys.path.append(\".\")\n",
    "from scripts import data_handling as dh\n",
    "from scripts.model_helpers import train, generate_text\n",
    "from scripts.bigram_lm import BigramLM\n",
    "from scripts.attention_lm import AttentionLM\n",
    "from scripts.transformer_lm import TransformerLM\n",
    "\n",
    "import torch\n",
    "import torch.nn as nn\n",
    "import torch.optim as optim"
   ]
  },
  {
   "cell_type": "markdown",
   "id": "9aebdb05-523f-4aca-a0fc-b37fc4730919",
   "metadata": {},
   "source": [
    "## Set Device"
   ]
  },
  {
   "cell_type": "code",
   "execution_count": 2,
   "id": "4775638d-3255-47af-9f30-dc00e2b36f85",
   "metadata": {},
   "outputs": [
    {
     "data": {
      "text/plain": [
       "device(type='mps')"
      ]
     },
     "execution_count": 2,
     "metadata": {},
     "output_type": "execute_result"
    }
   ],
   "source": [
    "if torch.cuda.is_available():\n",
    "    device = torch.device(\"cuda\")\n",
    "elif torch.backends.mps.is_available():\n",
    "    device = torch.device(\"mps\")\n",
    "else:\n",
    "    device = torch.device(\"cpu\")\n",
    "\n",
    "device"
   ]
  },
  {
   "cell_type": "markdown",
   "id": "76b58764-fae4-4152-b582-8b7bba0db0b5",
   "metadata": {},
   "source": [
    "## The Data"
   ]
  },
  {
   "cell_type": "markdown",
   "id": "20a9fc3d-0106-42e2-a976-8bc9f5ac9d75",
   "metadata": {},
   "source": [
    "### Get Data"
   ]
  },
  {
   "cell_type": "code",
   "execution_count": 3,
   "id": "4c0e858d-2e3e-41f8-a316-b728ebfa3e07",
   "metadata": {},
   "outputs": [
    {
     "data": {
      "text/plain": [
       "'Number of characters: 1115394'"
      ]
     },
     "execution_count": 3,
     "metadata": {},
     "output_type": "execute_result"
    }
   ],
   "source": [
    "bard_text = dh.get_text(\"shakespeare\")\n",
    "f\"Number of characters: {len(bard_text)}\""
   ]
  },
  {
   "cell_type": "markdown",
   "id": "3cee4b73-aa48-4deb-9769-6e51c79528c5",
   "metadata": {},
   "source": [
    "### Vocabulary and Tokenisation"
   ]
  },
  {
   "cell_type": "code",
   "execution_count": 4,
   "id": "b639c96a-61d9-4205-b644-f3fa3dffe543",
   "metadata": {},
   "outputs": [
    {
     "name": "stdout",
     "output_type": "stream",
     "text": [
      "Vocabulary (size = 65):\n",
      "        \n",
      " !$&',-.3:;?ABCDEFGHIJKLMNOPQRSTUVWXYZabcdefghijklmnopqrstuvwxyz\n",
      "\n",
      "        First 1000 characters:\n",
      "        First Citizen:\n",
      "Before we proceed any further, hear me speak.\n",
      "\n",
      "All:\n",
      "Speak, speak.\n",
      "\n",
      "First Citizen:\n",
      "You are all resolved rather to die than to famish?\n",
      "\n",
      "All:\n",
      "Resolved. resolved.\n",
      "\n",
      "First Citizen:\n",
      "First, you know Caius Marcius is chief enemy to the people.\n",
      "\n",
      "All:\n",
      "We know't, we know't.\n",
      "\n",
      "First Citizen:\n",
      "Let us kill him, and we'll have corn at our own price.\n",
      "Is't a verdict?\n",
      "\n",
      "All:\n",
      "No more talking on't; let it be done: away, away!\n",
      "\n",
      "Second Citizen:\n",
      "One word, good citizens.\n",
      "\n",
      "First Citizen:\n",
      "We are accounted poor\n",
      "        \n"
     ]
    }
   ],
   "source": [
    "tm1 = dh.TextManager(bard_text)\n",
    "print(tm1)"
   ]
  },
  {
   "cell_type": "markdown",
   "id": "b6c507a8-891b-4fd3-9b2e-9b6011308c1f",
   "metadata": {},
   "source": [
    "### Creating Dataset"
   ]
  },
  {
   "cell_type": "code",
   "execution_count": 5,
   "id": "d4b47ff3-b475-43ec-920b-0e1d514c0287",
   "metadata": {},
   "outputs": [
    {
     "name": "stdout",
     "output_type": "stream",
     "text": [
      "torch.Size([1115394]) torch.int64\n",
      "tensor([18, 47, 56, 57, 58,  1, 15, 47, 58, 47, 64, 43, 52, 10,  0, 14, 43, 44,\n",
      "        53, 56, 43,  1, 61, 43,  1, 54, 56, 53, 41, 43, 43, 42,  1, 39, 52, 63,\n",
      "         1, 44, 59, 56, 58, 46, 43, 56,  6,  1, 46, 43, 39, 56,  1, 51, 43,  1,\n",
      "        57, 54, 43, 39, 49,  8,  0,  0, 13, 50, 50, 10,  0, 31, 54, 43, 39, 49,\n",
      "         6,  1, 57, 54, 43, 39, 49,  8,  0,  0, 18, 47, 56, 57, 58,  1, 15, 47,\n",
      "        58, 47, 64, 43, 52, 10,  0, 37, 53, 59])\n"
     ]
    }
   ],
   "source": [
    "data = tm1.get_text_tensor()\n",
    "print(data.shape, data.dtype)\n",
    "print(data[:100])"
   ]
  },
  {
   "cell_type": "code",
   "execution_count": 6,
   "id": "720ece71-17b9-451a-b0c5-cf88982b5d29",
   "metadata": {},
   "outputs": [
    {
     "name": "stdout",
     "output_type": "stream",
     "text": [
      "Training Data (torch.Size([1003854]))\n",
      "tensor([18, 47, 56, 57, 58,  1, 15, 47, 58, 47, 64, 43, 52, 10,  0, 14, 43, 44,\n",
      "        53, 56, 43,  1, 61, 43,  1, 54, 56, 53, 41, 43, 43, 42,  1, 39, 52, 63,\n",
      "         1, 44, 59, 56, 58, 46, 43, 56,  6,  1, 46, 43, 39, 56,  1, 51, 43,  1,\n",
      "        57, 54, 43, 39, 49,  8,  0,  0, 13, 50, 50, 10,  0, 31, 54, 43, 39, 49,\n",
      "         6,  1, 57, 54, 43, 39, 49,  8,  0,  0, 18, 47, 56, 57, 58,  1, 15, 47,\n",
      "        58, 47, 64, 43, 52, 10,  0, 37, 53, 59])\n",
      "\n",
      "Validation Data (torch.Size([111540]))\n",
      "tensor([12,  0,  0, 19, 30, 17, 25, 21, 27, 10,  0, 19, 53, 53, 42,  1, 51, 53,\n",
      "        56, 56, 53, 61,  6,  1, 52, 43, 47, 45, 46, 40, 53, 59, 56,  1, 14, 39,\n",
      "        54, 58, 47, 57, 58, 39,  8,  0,  0, 14, 13, 28, 32, 21, 31, 32, 13, 10,\n",
      "         0, 19, 53, 53, 42,  1, 51, 53, 56, 56, 53, 61,  6,  1, 52, 43, 47, 45,\n",
      "        46, 40, 53, 59, 56,  1, 19, 56, 43, 51, 47, 53,  8,  0, 19, 53, 42,  1,\n",
      "        57, 39, 60, 43,  1, 63, 53, 59,  6,  1])\n"
     ]
    }
   ],
   "source": [
    "test_size = 0.1\n",
    "train_data, val_data = tm1.get_text_tensor_split(test_size, True)"
   ]
  },
  {
   "cell_type": "markdown",
   "id": "4d86f391-265f-450e-8cfc-61594d684c9f",
   "metadata": {},
   "source": [
    "### Batching"
   ]
  },
  {
   "cell_type": "code",
   "execution_count": 7,
   "id": "dca2120a-fc8b-4adb-a072-472809c8884b",
   "metadata": {},
   "outputs": [
    {
     "name": "stdout",
     "output_type": "stream",
     "text": [
      "Inputs:\n",
      "torch.Size([4, 8])\n",
      "tensor([[43, 50, 50,  1, 35, 39, 56, 61],\n",
      "        [46, 47, 56, 58,  1, 39, 52, 42],\n",
      "        [59, 41, 46,  1, 58, 53,  1, 42],\n",
      "        [ 1, 58, 53,  1, 51, 43,  6,  1]], device='mps:0')\n",
      "Targets:\n",
      "torch.Size([4, 8])\n",
      "tensor([[50, 50,  1, 35, 39, 56, 61, 47],\n",
      "        [47, 56, 58,  1, 39, 52, 42,  1],\n",
      "        [41, 46,  1, 58, 53,  1, 42, 53],\n",
      "        [58, 53,  1, 51, 43,  6,  1, 25]], device='mps:0')\n",
      "============================================\n",
      "When input (context) is [43] target = 50.\n",
      "When input (context) is [43, 50] target = 50.\n",
      "When input (context) is [43, 50, 50] target = 1.\n",
      "When input (context) is [43, 50, 50, 1] target = 35.\n",
      "When input (context) is [43, 50, 50, 1, 35] target = 39.\n",
      "When input (context) is [43, 50, 50, 1, 35, 39] target = 56.\n",
      "When input (context) is [43, 50, 50, 1, 35, 39, 56] target = 61.\n",
      "When input (context) is [43, 50, 50, 1, 35, 39, 56, 61] target = 47.\n",
      "When input (context) is [46] target = 47.\n",
      "When input (context) is [46, 47] target = 56.\n",
      "When input (context) is [46, 47, 56] target = 58.\n",
      "When input (context) is [46, 47, 56, 58] target = 1.\n",
      "When input (context) is [46, 47, 56, 58, 1] target = 39.\n",
      "When input (context) is [46, 47, 56, 58, 1, 39] target = 52.\n",
      "When input (context) is [46, 47, 56, 58, 1, 39, 52] target = 42.\n",
      "When input (context) is [46, 47, 56, 58, 1, 39, 52, 42] target = 1.\n",
      "When input (context) is [59] target = 41.\n",
      "When input (context) is [59, 41] target = 46.\n",
      "When input (context) is [59, 41, 46] target = 1.\n",
      "When input (context) is [59, 41, 46, 1] target = 58.\n",
      "When input (context) is [59, 41, 46, 1, 58] target = 53.\n",
      "When input (context) is [59, 41, 46, 1, 58, 53] target = 1.\n",
      "When input (context) is [59, 41, 46, 1, 58, 53, 1] target = 42.\n",
      "When input (context) is [59, 41, 46, 1, 58, 53, 1, 42] target = 53.\n",
      "When input (context) is [1] target = 58.\n",
      "When input (context) is [1, 58] target = 53.\n",
      "When input (context) is [1, 58, 53] target = 1.\n",
      "When input (context) is [1, 58, 53, 1] target = 51.\n",
      "When input (context) is [1, 58, 53, 1, 51] target = 43.\n",
      "When input (context) is [1, 58, 53, 1, 51, 43] target = 6.\n",
      "When input (context) is [1, 58, 53, 1, 51, 43, 6] target = 1.\n",
      "When input (context) is [1, 58, 53, 1, 51, 43, 6, 1] target = 25.\n"
     ]
    }
   ],
   "source": [
    "# Block size (T) = context length for prediction\n",
    "# Batch size (B) = number of independent sequences we process in parallel\n",
    "# torch.manual_seed(1337)\n",
    "block_size = 8\n",
    "batch_size = 4\n",
    "xb, yb = dh.create_batch(train_data, block_size, batch_size, device)\n",
    "dh.batch_sanity_check(xb, yb)"
   ]
  },
  {
   "cell_type": "markdown",
   "id": "f41449a5-28b8-414d-9928-8f204f404d6d",
   "metadata": {},
   "source": [
    "## Models"
   ]
  },
  {
   "cell_type": "markdown",
   "id": "e4974de4-d09a-434a-be6f-6748f2d52f8e",
   "metadata": {},
   "source": [
    "### Bigram Language Model"
   ]
  },
  {
   "cell_type": "code",
   "execution_count": 8,
   "id": "5fbadc19-d0d9-4276-bda3-ef23abb2daff",
   "metadata": {},
   "outputs": [
    {
     "name": "stdout",
     "output_type": "stream",
     "text": [
      "torch.Size([32, 65])\n",
      "tensor(4.3622, device='mps:0', grad_fn=<NllLossBackward0>)\n",
      "BigramLM(\n",
      "  (embedding): Embedding(65, 32)\n",
      "  (pos_embedding): Embedding(8, 32)\n",
      "  (lm_head): Linear(in_features=32, out_features=65, bias=True)\n",
      "  (loss): CrossEntropyLoss()\n",
      "  (softmax): Softmax(dim=-1)\n",
      ")\n",
      "Number of trainable parameters: 4481\n"
     ]
    }
   ],
   "source": [
    "# Foward pass example\n",
    "bi_lm = BigramLM(tm1.vocab_size, device=device)\n",
    "\n",
    "# Move model to selected device\n",
    "bi_lm.to(device)\n",
    "\n",
    "logits, loss = bi_lm(xb, yb)\n",
    "print(logits.shape)\n",
    "print(loss)\n",
    "print(bi_lm)\n",
    "print(f\"Number of trainable parameters: {sum(p.numel() for p in bi_lm.parameters())}\")"
   ]
  },
  {
   "cell_type": "code",
   "execution_count": 9,
   "id": "50c8f6d0-7599-4c09-803f-067c2c7e2a09",
   "metadata": {},
   "outputs": [
    {
     "name": "stdout",
     "output_type": "stream",
     "text": [
      " xs:QcF'pNW&KteM,u& VJyX $kkgqbpT;s PiU,ZjjFSIGeEpfhLYj!ZNa'&:Gp$H!JHpp3$x?HowoKRSETiaTMUkO.AL&,gf,P.\n"
     ]
    }
   ],
   "source": [
    "# Generation example with untrained model\n",
    "gen_text = generate_text(\" \", tm1, bi_lm, device=device)\n",
    "print(gen_text)"
   ]
  },
  {
   "cell_type": "code",
   "execution_count": 10,
   "id": "54fb59ce-d8ba-4645-9ec6-83be8a4562fa",
   "metadata": {},
   "outputs": [
    {
     "name": "stdout",
     "output_type": "stream",
     "text": [
      "Step: 0, Train Loss: 4.4697, Val Loss: 4.4810\n",
      "Step: 500, Train Loss: 2.7120, Val Loss: 2.7490\n",
      "Step: 1000, Train Loss: 2.5849, Val Loss: 2.6039\n",
      "Step: 1500, Train Loss: 2.5519, Val Loss: 2.5371\n",
      "Step: 2000, Train Loss: 2.5161, Val Loss: 2.5259\n",
      "Step: 2500, Train Loss: 2.5149, Val Loss: 2.5106\n",
      "Step: 3000, Train Loss: 2.4840, Val Loss: 2.5102\n",
      "Step: 3500, Train Loss: 2.4847, Val Loss: 2.5116\n",
      "Step: 4000, Train Loss: 2.4891, Val Loss: 2.5051\n",
      "Step: 4500, Train Loss: 2.4953, Val Loss: 2.5013\n",
      "Step: 5000, Train Loss: 2.4880, Val Loss: 2.4974\n",
      "Step: 5500, Train Loss: 2.4796, Val Loss: 2.4942\n",
      "Step: 6000, Train Loss: 2.4752, Val Loss: 2.4909\n",
      "Step: 6500, Train Loss: 2.4846, Val Loss: 2.4930\n",
      "Step: 7000, Train Loss: 2.4729, Val Loss: 2.4863\n",
      "Step: 7500, Train Loss: 2.4730, Val Loss: 2.4947\n",
      "Step: 8000, Train Loss: 2.4690, Val Loss: 2.4863\n",
      "Step: 8500, Train Loss: 2.4759, Val Loss: 2.4840\n",
      "Step: 9000, Train Loss: 2.4652, Val Loss: 2.4972\n",
      "Step: 9500, Train Loss: 2.4652, Val Loss: 2.4966\n"
     ]
    }
   ],
   "source": [
    "train(bi_lm, train_data, val_data, device=device)"
   ]
  },
  {
   "cell_type": "code",
   "execution_count": 11,
   "id": "6e30381b-bcd6-4183-8577-a17f6a05d5a7",
   "metadata": {},
   "outputs": [
    {
     "name": "stdout",
     "output_type": "stream",
     "text": [
      " us me.\n",
      "TUSELAPOManniveny bilesfadl,\n",
      "INRDUKERENEGERDULUKESWhe'homencthidued fu?\n",
      "MO:ileequby,\n",
      "MENGLADW\n"
     ]
    }
   ],
   "source": [
    "# Generation example with trained model\n",
    "gen_text = generate_text(\" \", tm1, bi_lm, device=device)\n",
    "print(gen_text)"
   ]
  },
  {
   "cell_type": "markdown",
   "id": "fae31f1d-10b6-4ea3-a012-76877b6166e1",
   "metadata": {},
   "source": [
    "### Single Attention Head Language Model"
   ]
  },
  {
   "cell_type": "code",
   "execution_count": 12,
   "id": "f967501c-9745-485c-bdde-51be723398de",
   "metadata": {},
   "outputs": [
    {
     "name": "stdout",
     "output_type": "stream",
     "text": [
      "torch.Size([32, 65])\n",
      "tensor(4.1374, device='mps:0', grad_fn=<NllLossBackward0>)\n",
      "\n",
      "AttentionLM(\n",
      "  (embedding): Embedding(65, 32)\n",
      "  (pos_embedding): Embedding(8, 32)\n",
      "  (ffwd): FeedForward(\n",
      "    (net): Sequential(\n",
      "      (0): Linear(in_features=32, out_features=32, bias=True)\n",
      "      (1): ReLU()\n",
      "    )\n",
      "  )\n",
      "  (lm_head): Linear(in_features=32, out_features=65, bias=True)\n",
      "  (sa_heads): AttentionHead(\n",
      "    (key): Linear(in_features=32, out_features=32, bias=False)\n",
      "    (query): Linear(in_features=32, out_features=32, bias=False)\n",
      "    (value): Linear(in_features=32, out_features=32, bias=False)\n",
      "    (softmax): Softmax(dim=-1)\n",
      "    (dropout): Dropout(p=0.1, inplace=False)\n",
      "  )\n",
      "  (loss): CrossEntropyLoss()\n",
      "  (softmax): Softmax(dim=-1)\n",
      ")\n",
      "Number of trainable parameters: 8609\n"
     ]
    }
   ],
   "source": [
    "# Foward pass example\n",
    "att_lm = AttentionLM(tm1.vocab_size, device=device)\n",
    "\n",
    "# Move model to selected device\n",
    "att_lm.to(device)\n",
    "\n",
    "logits, loss = att_lm(xb, yb)\n",
    "print(logits.shape)\n",
    "print(loss, end=\"\\n\\n\")\n",
    "print(att_lm)\n",
    "print(f\"Number of trainable parameters: {sum(p.numel() for p in att_lm.parameters())}\")"
   ]
  },
  {
   "cell_type": "code",
   "execution_count": 13,
   "id": "141168b5-7477-47ae-b140-391b5a7a2b97",
   "metadata": {},
   "outputs": [
    {
     "name": "stdout",
     "output_type": "stream",
     "text": [
      " Ar!jfvLOE3.vRXi\n",
      "LbW&eLw;qDXq& I3vPLLJ!,.WBh&YefmpNkXpwMOrGAFqaAtggrb $'$yepLvjh$q-agcrr\n",
      ":KJCqheTdmdi\n"
     ]
    }
   ],
   "source": [
    "# Generation example with untrained model\n",
    "gen_text = generate_text(\" \", tm1, att_lm, device=device)\n",
    "print(gen_text)"
   ]
  },
  {
   "cell_type": "code",
   "execution_count": 14,
   "id": "6a073092-1b7e-4a78-92be-4239f37afb77",
   "metadata": {},
   "outputs": [
    {
     "name": "stdout",
     "output_type": "stream",
     "text": [
      "Step: 0, Train Loss: 4.2016, Val Loss: 4.1990\n",
      "Step: 500, Train Loss: 2.9457, Val Loss: 2.9653\n",
      "Step: 1000, Train Loss: 2.6220, Val Loss: 2.6405\n",
      "Step: 1500, Train Loss: 2.5709, Val Loss: 2.5715\n",
      "Step: 2000, Train Loss: 2.5408, Val Loss: 2.5430\n",
      "Step: 2500, Train Loss: 2.5257, Val Loss: 2.5326\n",
      "Step: 3000, Train Loss: 2.5117, Val Loss: 2.5291\n",
      "Step: 3500, Train Loss: 2.5030, Val Loss: 2.5189\n",
      "Step: 4000, Train Loss: 2.5015, Val Loss: 2.5171\n",
      "Step: 4500, Train Loss: 2.4889, Val Loss: 2.5239\n",
      "Step: 5000, Train Loss: 2.4872, Val Loss: 2.5135\n",
      "Step: 5500, Train Loss: 2.4817, Val Loss: 2.5115\n",
      "Step: 6000, Train Loss: 2.4927, Val Loss: 2.5106\n",
      "Step: 6500, Train Loss: 2.4828, Val Loss: 2.5074\n",
      "Step: 7000, Train Loss: 2.4808, Val Loss: 2.5027\n",
      "Step: 7500, Train Loss: 2.4796, Val Loss: 2.5055\n",
      "Step: 8000, Train Loss: 2.4834, Val Loss: 2.5037\n",
      "Step: 8500, Train Loss: 2.4671, Val Loss: 2.4999\n",
      "Step: 9000, Train Loss: 2.4769, Val Loss: 2.5005\n",
      "Step: 9500, Train Loss: 2.4761, Val Loss: 2.5002\n"
     ]
    }
   ],
   "source": [
    "train(att_lm, train_data, val_data, device=device)"
   ]
  },
  {
   "cell_type": "code",
   "execution_count": 15,
   "id": "514b4ac8-3d75-4999-9ecc-630c342378bb",
   "metadata": {},
   "outputs": [
    {
     "name": "stdout",
     "output_type": "stream",
     "text": [
      " ayereere ror avele, th thnt-be; t prk; tonth RKEThorg y ars tisse.\n",
      "Af he stand\n",
      "HARO:\n",
      "\n",
      "Wind r; ge prt\n"
     ]
    }
   ],
   "source": [
    "# Generation example with trained model\n",
    "gen_text = generate_text(\" \", tm1, att_lm, device=device)\n",
    "print(gen_text)"
   ]
  },
  {
   "cell_type": "markdown",
   "id": "097f030f-8188-472e-85a8-e3422782546d",
   "metadata": {},
   "source": [
    "### Multi-Head Attention Language Model"
   ]
  },
  {
   "cell_type": "code",
   "execution_count": 16,
   "id": "c9d2e4c8-a6f7-4cbe-8190-14d224e9dc6c",
   "metadata": {},
   "outputs": [
    {
     "name": "stdout",
     "output_type": "stream",
     "text": [
      "torch.Size([32, 65])\n",
      "tensor(4.2453, device='mps:0', grad_fn=<NllLossBackward0>)\n",
      "\n",
      "AttentionLM(\n",
      "  (embedding): Embedding(65, 32)\n",
      "  (pos_embedding): Embedding(8, 32)\n",
      "  (ffwd): FeedForward(\n",
      "    (net): Sequential(\n",
      "      (0): Linear(in_features=32, out_features=32, bias=True)\n",
      "      (1): ReLU()\n",
      "    )\n",
      "  )\n",
      "  (lm_head): Linear(in_features=32, out_features=65, bias=True)\n",
      "  (sa_heads): MultiHeadAttention(\n",
      "    (heads): ModuleList(\n",
      "      (0-3): 4 x AttentionHead(\n",
      "        (key): Linear(in_features=32, out_features=8, bias=False)\n",
      "        (query): Linear(in_features=32, out_features=8, bias=False)\n",
      "        (value): Linear(in_features=32, out_features=8, bias=False)\n",
      "        (softmax): Softmax(dim=-1)\n",
      "        (dropout): Dropout(p=0.1, inplace=False)\n",
      "      )\n",
      "    )\n",
      "  )\n",
      "  (loss): CrossEntropyLoss()\n",
      "  (softmax): Softmax(dim=-1)\n",
      ")\n",
      "Number of trainable parameters: 8609\n"
     ]
    }
   ],
   "source": [
    "# Foward pass example\n",
    "mult_att_lm = AttentionLM(tm1.vocab_size, n_heads=4, device=device)\n",
    "\n",
    "# Move model to selected device\n",
    "mult_att_lm.to(device)\n",
    "\n",
    "logits, loss = mult_att_lm(xb, yb)\n",
    "print(logits.shape)\n",
    "print(loss)\n",
    "print()\n",
    "print(mult_att_lm)\n",
    "print(f\"Number of trainable parameters: {sum(p.numel() for p in mult_att_lm.parameters())}\")"
   ]
  },
  {
   "cell_type": "code",
   "execution_count": 17,
   "id": "afb59bf4-29f2-40fc-a63d-b1a1e51f94d7",
   "metadata": {},
   "outputs": [
    {
     "name": "stdout",
     "output_type": "stream",
     "text": [
      " We :tTp:ABCMuviYw;xYTXpHENyqODZRlGLC:fbXlnk'SKEuEutfa.S clisGfZHS'G E;xitNRxobrSGlMzS\n",
      "'GLSofo?yI-EE:\n"
     ]
    }
   ],
   "source": [
    "# Generation example with untrained model\n",
    "gen_text = generate_text(\" \", tm1, mult_att_lm, device=device)\n",
    "print(gen_text)"
   ]
  },
  {
   "cell_type": "code",
   "execution_count": 18,
   "id": "14dfe852-431a-414b-81c1-ddd6a4bad47c",
   "metadata": {},
   "outputs": [
    {
     "name": "stdout",
     "output_type": "stream",
     "text": [
      "Step: 0, Train Loss: 4.2628, Val Loss: 4.2557\n",
      "Step: 500, Train Loss: 2.7816, Val Loss: 2.7971\n",
      "Step: 1000, Train Loss: 2.5764, Val Loss: 2.5725\n",
      "Step: 1500, Train Loss: 2.4935, Val Loss: 2.4959\n",
      "Step: 2000, Train Loss: 2.4413, Val Loss: 2.4514\n",
      "Step: 2500, Train Loss: 2.4194, Val Loss: 2.4165\n",
      "Step: 3000, Train Loss: 2.3828, Val Loss: 2.4009\n",
      "Step: 3500, Train Loss: 2.3624, Val Loss: 2.3669\n",
      "Step: 4000, Train Loss: 2.3274, Val Loss: 2.3366\n",
      "Step: 4500, Train Loss: 2.3056, Val Loss: 2.3321\n",
      "Step: 5000, Train Loss: 2.3002, Val Loss: 2.3229\n",
      "Step: 5500, Train Loss: 2.2739, Val Loss: 2.3089\n",
      "Step: 6000, Train Loss: 2.2739, Val Loss: 2.2921\n",
      "Step: 6500, Train Loss: 2.2598, Val Loss: 2.2888\n",
      "Step: 7000, Train Loss: 2.2486, Val Loss: 2.2856\n",
      "Step: 7500, Train Loss: 2.2351, Val Loss: 2.2798\n",
      "Step: 8000, Train Loss: 2.2375, Val Loss: 2.2775\n",
      "Step: 8500, Train Loss: 2.2246, Val Loss: 2.2762\n",
      "Step: 9000, Train Loss: 2.2250, Val Loss: 2.2606\n",
      "Step: 9500, Train Loss: 2.2168, Val Loss: 2.2521\n"
     ]
    }
   ],
   "source": [
    "train(mult_att_lm, train_data, val_data, device=device)"
   ]
  },
  {
   "cell_type": "code",
   "execution_count": 19,
   "id": "bde0e973-f140-4808-ac27-79476aaa8aa3",
   "metadata": {},
   "outputs": [
    {
     "name": "stdout",
     "output_type": "stream",
     "text": [
      " to then nod inont bee yourss!\n",
      "S: pe asto thutheiche least well I thee nome, boie so the holjer meast\n"
     ]
    }
   ],
   "source": [
    "# Generation example with trained model\n",
    "gen_text = generate_text(\" \", tm1, mult_att_lm, device=device)\n",
    "print(gen_text)"
   ]
  },
  {
   "cell_type": "markdown",
   "id": "d3164830-4589-4eca-8e43-6cd6768137d1",
   "metadata": {},
   "source": [
    "### Transformer Model"
   ]
  },
  {
   "cell_type": "code",
   "execution_count": 20,
   "id": "eae99e8d-cea1-48ee-b1ab-00dd94acb6ec",
   "metadata": {},
   "outputs": [
    {
     "name": "stdout",
     "output_type": "stream",
     "text": [
      "torch.Size([32, 65])\n",
      "tensor(4.4167, device='mps:0', grad_fn=<NllLossBackward0>)\n",
      "\n",
      "TransformerLM(\n",
      "  (embedding): Embedding(65, 32)\n",
      "  (pos_embedding): Embedding(8, 32)\n",
      "  (blocks): Sequential(\n",
      "    (0): TransformerBlock(\n",
      "      (sa): TransformerMultiHeadAttention(\n",
      "        (heads): ModuleList(\n",
      "          (0-3): 4 x AttentionHead(\n",
      "            (key): Linear(in_features=32, out_features=8, bias=False)\n",
      "            (query): Linear(in_features=32, out_features=8, bias=False)\n",
      "            (value): Linear(in_features=32, out_features=8, bias=False)\n",
      "            (softmax): Softmax(dim=-1)\n",
      "            (dropout): Dropout(p=0.1, inplace=False)\n",
      "          )\n",
      "        )\n",
      "        (proj): Linear(in_features=32, out_features=32, bias=True)\n",
      "        (dropout): Dropout(p=0.1, inplace=False)\n",
      "      )\n",
      "      (ffwd): TransformerFeedForward(\n",
      "        (net): Sequential(\n",
      "          (0): Linear(in_features=32, out_features=128, bias=True)\n",
      "          (1): ReLU()\n",
      "          (2): Linear(in_features=128, out_features=32, bias=True)\n",
      "          (3): Dropout(p=0.1, inplace=False)\n",
      "        )\n",
      "      )\n",
      "      (ln1): LayerNorm((32,), eps=1e-05, elementwise_affine=True)\n",
      "      (ln2): LayerNorm((32,), eps=1e-05, elementwise_affine=True)\n",
      "    )\n",
      "    (1): TransformerBlock(\n",
      "      (sa): TransformerMultiHeadAttention(\n",
      "        (heads): ModuleList(\n",
      "          (0-3): 4 x AttentionHead(\n",
      "            (key): Linear(in_features=32, out_features=8, bias=False)\n",
      "            (query): Linear(in_features=32, out_features=8, bias=False)\n",
      "            (value): Linear(in_features=32, out_features=8, bias=False)\n",
      "            (softmax): Softmax(dim=-1)\n",
      "            (dropout): Dropout(p=0.1, inplace=False)\n",
      "          )\n",
      "        )\n",
      "        (proj): Linear(in_features=32, out_features=32, bias=True)\n",
      "        (dropout): Dropout(p=0.1, inplace=False)\n",
      "      )\n",
      "      (ffwd): TransformerFeedForward(\n",
      "        (net): Sequential(\n",
      "          (0): Linear(in_features=32, out_features=128, bias=True)\n",
      "          (1): ReLU()\n",
      "          (2): Linear(in_features=128, out_features=32, bias=True)\n",
      "          (3): Dropout(p=0.1, inplace=False)\n",
      "        )\n",
      "      )\n",
      "      (ln1): LayerNorm((32,), eps=1e-05, elementwise_affine=True)\n",
      "      (ln2): LayerNorm((32,), eps=1e-05, elementwise_affine=True)\n",
      "    )\n",
      "    (2): TransformerBlock(\n",
      "      (sa): TransformerMultiHeadAttention(\n",
      "        (heads): ModuleList(\n",
      "          (0-3): 4 x AttentionHead(\n",
      "            (key): Linear(in_features=32, out_features=8, bias=False)\n",
      "            (query): Linear(in_features=32, out_features=8, bias=False)\n",
      "            (value): Linear(in_features=32, out_features=8, bias=False)\n",
      "            (softmax): Softmax(dim=-1)\n",
      "            (dropout): Dropout(p=0.1, inplace=False)\n",
      "          )\n",
      "        )\n",
      "        (proj): Linear(in_features=32, out_features=32, bias=True)\n",
      "        (dropout): Dropout(p=0.1, inplace=False)\n",
      "      )\n",
      "      (ffwd): TransformerFeedForward(\n",
      "        (net): Sequential(\n",
      "          (0): Linear(in_features=32, out_features=128, bias=True)\n",
      "          (1): ReLU()\n",
      "          (2): Linear(in_features=128, out_features=32, bias=True)\n",
      "          (3): Dropout(p=0.1, inplace=False)\n",
      "        )\n",
      "      )\n",
      "      (ln1): LayerNorm((32,), eps=1e-05, elementwise_affine=True)\n",
      "      (ln2): LayerNorm((32,), eps=1e-05, elementwise_affine=True)\n",
      "    )\n",
      "    (3): LayerNorm((32,), eps=1e-05, elementwise_affine=True)\n",
      "  )\n",
      "  (lm_head): Linear(in_features=32, out_features=65, bias=True)\n",
      "  (loss): CrossEntropyLoss()\n",
      "  (softmax): Softmax(dim=-1)\n",
      ")\n",
      "Number of trainable parameters: 42369\n"
     ]
    }
   ],
   "source": [
    "# Foward pass example\n",
    "trans_lm = TransformerLM(tm1.vocab_size, device=device)\n",
    "\n",
    "# Move model to selected device\n",
    "trans_lm.to(device)\n",
    "\n",
    "logits, loss = trans_lm(xb, yb)\n",
    "print(logits.shape)\n",
    "print(loss)\n",
    "print()\n",
    "print(trans_lm)\n",
    "print(f\"Number of trainable parameters: {sum(p.numel() for p in trans_lm.parameters())}\")"
   ]
  },
  {
   "cell_type": "code",
   "execution_count": 21,
   "id": "0875ffd1-e13a-493f-b545-a31b9b37f2cd",
   "metadata": {},
   "outputs": [
    {
     "name": "stdout",
     "output_type": "stream",
     "text": [
      " .kbKVsgGy?sNerB$D'inYUQw&Z--NdjofO-R ;.Rrh\n",
      "GhyceRVr DzQOagUOKVj-&yKbgUmD-?GDwjaCFPxEFSUb3jyqr;C:mz.C\n"
     ]
    }
   ],
   "source": [
    "# Generation example with untrained model\n",
    "gen_text = generate_text(\" \", tm1, trans_lm, device=device)\n",
    "print(gen_text)"
   ]
  },
  {
   "cell_type": "code",
   "execution_count": 22,
   "id": "d27978b0-e599-485d-a597-c6d09caf842b",
   "metadata": {},
   "outputs": [
    {
     "name": "stdout",
     "output_type": "stream",
     "text": [
      "Step: 0, Train Loss: 4.3652, Val Loss: 4.3713\n",
      "Step: 500, Train Loss: 2.4601, Val Loss: 2.4710\n",
      "Step: 1000, Train Loss: 2.3337, Val Loss: 2.3398\n",
      "Step: 1500, Train Loss: 2.2586, Val Loss: 2.2791\n",
      "Step: 2000, Train Loss: 2.2113, Val Loss: 2.2417\n",
      "Step: 2500, Train Loss: 2.1739, Val Loss: 2.2065\n",
      "Step: 3000, Train Loss: 2.1432, Val Loss: 2.1803\n",
      "Step: 3500, Train Loss: 2.1388, Val Loss: 2.1684\n",
      "Step: 4000, Train Loss: 2.1236, Val Loss: 2.1476\n",
      "Step: 4500, Train Loss: 2.0894, Val Loss: 2.1345\n",
      "Step: 5000, Train Loss: 2.0792, Val Loss: 2.1289\n",
      "Step: 5500, Train Loss: 2.0621, Val Loss: 2.1247\n",
      "Step: 6000, Train Loss: 2.0410, Val Loss: 2.1147\n",
      "Step: 6500, Train Loss: 2.0289, Val Loss: 2.1010\n",
      "Step: 7000, Train Loss: 2.0324, Val Loss: 2.0801\n",
      "Step: 7500, Train Loss: 2.0099, Val Loss: 2.0897\n",
      "Step: 8000, Train Loss: 2.0083, Val Loss: 2.0924\n",
      "Step: 8500, Train Loss: 2.0065, Val Loss: 2.0918\n",
      "Step: 9000, Train Loss: 1.9940, Val Loss: 2.0672\n",
      "Step: 9500, Train Loss: 1.9919, Val Loss: 2.0655\n"
     ]
    }
   ],
   "source": [
    "train(trans_lm, train_data, val_data, device=device)"
   ]
  },
  {
   "cell_type": "code",
   "execution_count": 23,
   "id": "00145bca-aceb-4001-8063-db896ac71849",
   "metadata": {},
   "outputs": [
    {
     "name": "stdout",
     "output_type": "stream",
     "text": [
      " the buract on kees: ofture as difint, the and for, seentle, oom iapre; all, werest me, my good muce \n"
     ]
    }
   ],
   "source": [
    "# Generation example with trained model\n",
    "gen_text = generate_text(\" \", tm1, trans_lm, device=device)\n",
    "print(gen_text)"
   ]
  },
  {
   "cell_type": "code",
   "execution_count": null,
   "id": "5eaed491-e439-43e2-9b02-c7f24a88dd8b",
   "metadata": {},
   "outputs": [],
   "source": []
  }
 ],
 "metadata": {
  "kernelspec": {
   "display_name": "Python 3 (ipykernel)",
   "language": "python",
   "name": "python3"
  },
  "language_info": {
   "codemirror_mode": {
    "name": "ipython",
    "version": 3
   },
   "file_extension": ".py",
   "mimetype": "text/x-python",
   "name": "python",
   "nbconvert_exporter": "python",
   "pygments_lexer": "ipython3",
   "version": "3.9.6"
  }
 },
 "nbformat": 4,
 "nbformat_minor": 5
}
