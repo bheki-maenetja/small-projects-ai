{
 "cells": [
  {
   "cell_type": "markdown",
   "id": "a7388985-076c-48df-a18c-3883a8b2d726",
   "metadata": {},
   "source": [
    "# GPT from Scratch"
   ]
  },
  {
   "cell_type": "markdown",
   "id": "f6b70392-6567-4cf9-bc14-d93f83df2a64",
   "metadata": {},
   "source": [
    "## Imports"
   ]
  },
  {
   "cell_type": "code",
   "execution_count": 1,
   "id": "93a1af7e-570e-4805-af04-ff36493aaec3",
   "metadata": {},
   "outputs": [],
   "source": [
    "import tiktoken\n",
    "import torch"
   ]
  },
  {
   "cell_type": "markdown",
   "id": "76b58764-fae4-4152-b582-8b7bba0db0b5",
   "metadata": {},
   "source": [
    "## The Data"
   ]
  },
  {
   "cell_type": "markdown",
   "id": "20a9fc3d-0106-42e2-a976-8bc9f5ac9d75",
   "metadata": {},
   "source": [
    "### Download Data"
   ]
  },
  {
   "cell_type": "code",
   "execution_count": 2,
   "id": "3c196918-521e-45ab-a5c4-afdc34862a88",
   "metadata": {},
   "outputs": [],
   "source": [
    "# !curl https://raw.githubusercontent.com/karpathy/char-rnn/master/data/tinyshakespeare/input.txt > \"shakespeare.txt\"\n",
    "# !curl https://www.gutenberg.org/cache/epub/174/pg174.txt > \"dorian-gray.txt\"\n",
    "# !curl https://www.gutenberg.org/cache/epub/64317/pg64317.txt > \"gatsby.txt\"\n",
    "# !curl https://www.gutenberg.org/ebooks/43.txt.utf-8 > \"jekyll.txt\"\n",
    "# !curl https://www.gutenberg.org/ebooks/76101.txt.utf-8 > \"theory-of-earth.txt\""
   ]
  },
  {
   "cell_type": "code",
   "execution_count": 3,
   "id": "4c0e858d-2e3e-41f8-a316-b728ebfa3e07",
   "metadata": {},
   "outputs": [
    {
     "data": {
      "text/plain": [
       "'Number of characters: 1115394'"
      ]
     },
     "execution_count": 3,
     "metadata": {},
     "output_type": "execute_result"
    }
   ],
   "source": [
    "with open(\"shakespeare.txt\", \"r\", encoding=\"utf-8\") as f:\n",
    "    bard_text = f.read()\n",
    "\n",
    "f\"Number of characters: {len(bard_text)}\""
   ]
  },
  {
   "cell_type": "code",
   "execution_count": 4,
   "id": "66583b4b-2b61-4897-8233-1cbe786989b5",
   "metadata": {},
   "outputs": [],
   "source": [
    "# with open(\"dorian-gray.txt\", \"r\", encoding=\"utf-8\") as f:\n",
    "#     dorian_text = f.read()\n",
    "\n",
    "# f\"Number of characters: {len(dorian_text)}\""
   ]
  },
  {
   "cell_type": "code",
   "execution_count": 5,
   "id": "7c867488-2735-49e6-a84c-129f615091f7",
   "metadata": {},
   "outputs": [],
   "source": [
    "# with open(\"gatsby.txt\", \"r\", encoding=\"utf-8\") as f:\n",
    "#     gatsby_text = f.read()\n",
    "\n",
    "# f\"Number of characters: {len(gatsby_text)}\""
   ]
  },
  {
   "cell_type": "markdown",
   "id": "3cee4b73-aa48-4deb-9769-6e51c79528c5",
   "metadata": {},
   "source": [
    "### Vocabulary and Tokenisation"
   ]
  },
  {
   "cell_type": "code",
   "execution_count": 6,
   "id": "c12368b6-fe91-4b57-bc9b-eb2611709ef2",
   "metadata": {},
   "outputs": [],
   "source": [
    "def get_vocab(text):\n",
    "        return sorted(list(set(text)))\n",
    "\n",
    "def char_to_idx(chars=None, text=None):\n",
    "    if chars is None:\n",
    "        chars = get_vocab(text)\n",
    "    return {ch:i for i, ch in enumerate(chars)}\n",
    "\n",
    "def idx_to_char(chars=None, text=None):\n",
    "    if chars is None:\n",
    "        chars = get_vocab(text)\n",
    "    return {i:ch for i, ch in enumerate(chars)}\n",
    "\n",
    "class TextManager:\n",
    "    def __init__(self, text, enc_method=\"simple\"):\n",
    "        self.vocab = get_vocab(text)\n",
    "        self.vocab_size = len(self.vocab)\n",
    "        self.c_to_i = char_to_idx(self.vocab)\n",
    "        self.i_to_c = idx_to_char(self.vocab)\n",
    "        self.enc_method = enc_method\n",
    "        \n",
    "        if enc_method == \"tiktoken\":\n",
    "            self.enc = tiktoken.get_encoding(\"gpt2\")\n",
    "        else:\n",
    "            self.enc = None\n",
    "        \n",
    "    def __str__(self):\n",
    "        return f\"\"\"Vocabulary (size = {self.vocab_size}):\n",
    "        {\"\".join(self.vocab)}\n",
    "        \"\"\"\n",
    "\n",
    "    def get_vocab(self, as_str=False):\n",
    "        if as_str:\n",
    "            return \"\".join(self.vocab)\n",
    "        return self.vocab\n",
    "    \n",
    "    def encode(self, text):\n",
    "        \"\"\"\n",
    "        Take a string, output a list of integers.\n",
    "        \"\"\"\n",
    "        if self.enc_method == \"tiktoken\":\n",
    "            return self.enc.encode(text)\n",
    "        return [self.c_to_i[c] for c in text]\n",
    "    \n",
    "    def decode(self, indices):\n",
    "        \"\"\"\n",
    "        Take a list of integers, output a string.\n",
    "        \"\"\"\n",
    "        if self.enc_method == \"tiktoken\":\n",
    "            return self.enc.decode(indices)\n",
    "        return \"\".join([self.i_to_c[idx] for idx in indices])"
   ]
  },
  {
   "cell_type": "code",
   "execution_count": 7,
   "id": "b639c96a-61d9-4205-b644-f3fa3dffe543",
   "metadata": {},
   "outputs": [
    {
     "name": "stdout",
     "output_type": "stream",
     "text": [
      "Vocabulary (size = 65):\n",
      "        \n",
      " !$&',-.3:;?ABCDEFGHIJKLMNOPQRSTUVWXYZabcdefghijklmnopqrstuvwxyz\n",
      "        \n"
     ]
    }
   ],
   "source": [
    "tm1 = TextManager(bard_text)\n",
    "print(tm1)"
   ]
  },
  {
   "cell_type": "markdown",
   "id": "b6c507a8-891b-4fd3-9b2e-9b6011308c1f",
   "metadata": {},
   "source": [
    "### Creating Dataset"
   ]
  },
  {
   "cell_type": "code",
   "execution_count": 8,
   "id": "d4b47ff3-b475-43ec-920b-0e1d514c0287",
   "metadata": {},
   "outputs": [
    {
     "name": "stdout",
     "output_type": "stream",
     "text": [
      "torch.Size([1115394]) torch.int64\n",
      "tensor([18, 47, 56, 57, 58,  1, 15, 47, 58, 47, 64, 43, 52, 10,  0, 14, 43, 44,\n",
      "        53, 56, 43,  1, 61, 43,  1, 54, 56, 53, 41, 43, 43, 42,  1, 39, 52, 63,\n",
      "         1, 44, 59, 56, 58, 46, 43, 56,  6,  1, 46, 43, 39, 56,  1, 51, 43,  1,\n",
      "        57, 54, 43, 39, 49,  8,  0,  0, 13, 50, 50, 10,  0, 31, 54, 43, 39, 49,\n",
      "         6,  1, 57, 54, 43, 39, 49,  8,  0,  0, 18, 47, 56, 57, 58,  1, 15, 47,\n",
      "        58, 47, 64, 43, 52, 10,  0, 37, 53, 59])\n"
     ]
    }
   ],
   "source": [
    "data = torch.tensor(tm1.encode(bard_text), dtype=torch.long)\n",
    "print(data.shape, data.dtype)\n",
    "print(data[:100])"
   ]
  },
  {
   "cell_type": "code",
   "execution_count": 9,
   "id": "02ca7242-5d0d-467e-9eb6-c74aea6e5e8a",
   "metadata": {},
   "outputs": [],
   "source": [
    "test_size = 0.1\n",
    "n = int((1-test_size)*data.shape[0])\n",
    "train_data = data[:n]\n",
    "val_data = data[n:]"
   ]
  },
  {
   "cell_type": "code",
   "execution_count": 21,
   "id": "f9f664cf-f089-4ad5-ac36-03463e01293c",
   "metadata": {},
   "outputs": [
    {
     "data": {
      "text/plain": [
       "torch.Size([1003854])"
      ]
     },
     "execution_count": 21,
     "metadata": {},
     "output_type": "execute_result"
    }
   ],
   "source": [
    "train_data.shape"
   ]
  },
  {
   "cell_type": "code",
   "execution_count": 22,
   "id": "73b1a27c-d2b8-4988-9e0f-ff5092cec28c",
   "metadata": {},
   "outputs": [
    {
     "data": {
      "text/plain": [
       "torch.Size([111540])"
      ]
     },
     "execution_count": 22,
     "metadata": {},
     "output_type": "execute_result"
    }
   ],
   "source": [
    "val_data.shape"
   ]
  },
  {
   "cell_type": "code",
   "execution_count": null,
   "id": "ae842c88-f109-400d-8fb1-00fb4e995377",
   "metadata": {},
   "outputs": [],
   "source": []
  }
 ],
 "metadata": {
  "kernelspec": {
   "display_name": "Python 3 (ipykernel)",
   "language": "python",
   "name": "python3"
  },
  "language_info": {
   "codemirror_mode": {
    "name": "ipython",
    "version": 3
   },
   "file_extension": ".py",
   "mimetype": "text/x-python",
   "name": "python",
   "nbconvert_exporter": "python",
   "pygments_lexer": "ipython3",
   "version": "3.9.6"
  }
 },
 "nbformat": 4,
 "nbformat_minor": 5
}
