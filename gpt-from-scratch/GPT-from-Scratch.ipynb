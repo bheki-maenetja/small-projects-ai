{
 "cells": [
  {
   "cell_type": "markdown",
   "id": "a7388985-076c-48df-a18c-3883a8b2d726",
   "metadata": {},
   "source": [
    "# GPT from Scratch"
   ]
  },
  {
   "cell_type": "markdown",
   "id": "f6b70392-6567-4cf9-bc14-d93f83df2a64",
   "metadata": {},
   "source": [
    "## Imports"
   ]
  },
  {
   "cell_type": "code",
   "execution_count": 1,
   "id": "93a1af7e-570e-4805-af04-ff36493aaec3",
   "metadata": {},
   "outputs": [],
   "source": [
    "import tiktoken\n",
    "import torch\n",
    "import torch.nn as nn\n",
    "import torch.optim as optim"
   ]
  },
  {
   "cell_type": "markdown",
   "id": "76b58764-fae4-4152-b582-8b7bba0db0b5",
   "metadata": {},
   "source": [
    "## The Data"
   ]
  },
  {
   "cell_type": "markdown",
   "id": "20a9fc3d-0106-42e2-a976-8bc9f5ac9d75",
   "metadata": {},
   "source": [
    "### Download Data"
   ]
  },
  {
   "cell_type": "code",
   "execution_count": 2,
   "id": "3c196918-521e-45ab-a5c4-afdc34862a88",
   "metadata": {},
   "outputs": [],
   "source": [
    "# !curl https://raw.githubusercontent.com/karpathy/char-rnn/master/data/tinyshakespeare/input.txt > \"shakespeare.txt\"\n",
    "# !curl https://www.gutenberg.org/cache/epub/174/pg174.txt > \"dorian-gray.txt\"\n",
    "# !curl https://www.gutenberg.org/cache/epub/64317/pg64317.txt > \"gatsby.txt\"\n",
    "# !curl https://www.gutenberg.org/ebooks/43.txt.utf-8 > \"jekyll.txt\"\n",
    "# !curl https://www.gutenberg.org/ebooks/76101.txt.utf-8 > \"theory-of-earth.txt\""
   ]
  },
  {
   "cell_type": "code",
   "execution_count": 3,
   "id": "4c0e858d-2e3e-41f8-a316-b728ebfa3e07",
   "metadata": {},
   "outputs": [
    {
     "data": {
      "text/plain": [
       "'Number of characters: 1115394'"
      ]
     },
     "execution_count": 3,
     "metadata": {},
     "output_type": "execute_result"
    }
   ],
   "source": [
    "with open(\"shakespeare.txt\", \"r\", encoding=\"utf-8\") as f:\n",
    "    bard_text = f.read()\n",
    "\n",
    "f\"Number of characters: {len(bard_text)}\""
   ]
  },
  {
   "cell_type": "code",
   "execution_count": 4,
   "id": "66583b4b-2b61-4897-8233-1cbe786989b5",
   "metadata": {},
   "outputs": [],
   "source": [
    "# with open(\"dorian-gray.txt\", \"r\", encoding=\"utf-8\") as f:\n",
    "#     dorian_text = f.read()\n",
    "\n",
    "# f\"Number of characters: {len(dorian_text)}\""
   ]
  },
  {
   "cell_type": "code",
   "execution_count": 5,
   "id": "7c867488-2735-49e6-a84c-129f615091f7",
   "metadata": {},
   "outputs": [],
   "source": [
    "# with open(\"gatsby.txt\", \"r\", encoding=\"utf-8\") as f:\n",
    "#     gatsby_text = f.read()\n",
    "\n",
    "# f\"Number of characters: {len(gatsby_text)}\""
   ]
  },
  {
   "cell_type": "markdown",
   "id": "3cee4b73-aa48-4deb-9769-6e51c79528c5",
   "metadata": {},
   "source": [
    "### Vocabulary and Tokenisation"
   ]
  },
  {
   "cell_type": "code",
   "execution_count": 6,
   "id": "c12368b6-fe91-4b57-bc9b-eb2611709ef2",
   "metadata": {},
   "outputs": [],
   "source": [
    "def get_vocab(text):\n",
    "        return sorted(list(set(text)))\n",
    "\n",
    "def char_to_idx(chars=None, text=None):\n",
    "    if chars is None:\n",
    "        chars = get_vocab(text)\n",
    "    return {ch:i for i, ch in enumerate(chars)}\n",
    "\n",
    "def idx_to_char(chars=None, text=None):\n",
    "    if chars is None:\n",
    "        chars = get_vocab(text)\n",
    "    return {i:ch for i, ch in enumerate(chars)}\n",
    "\n",
    "class TextManager:\n",
    "    def __init__(self, text, enc_method=\"simple\"):\n",
    "        self.vocab = get_vocab(text)\n",
    "        self.vocab_size = len(self.vocab)\n",
    "        self.c_to_i = char_to_idx(self.vocab)\n",
    "        self.i_to_c = idx_to_char(self.vocab)\n",
    "        self.enc_method = enc_method\n",
    "        \n",
    "        if enc_method == \"tiktoken\":\n",
    "            self.enc = tiktoken.get_encoding(\"gpt2\")\n",
    "        else:\n",
    "            self.enc = None\n",
    "        \n",
    "    def __str__(self):\n",
    "        return f\"\"\"Vocabulary (size = {self.vocab_size}):\n",
    "        {\"\".join(self.vocab)}\n",
    "        \"\"\"\n",
    "\n",
    "    def get_vocab(self, as_str=False):\n",
    "        if as_str:\n",
    "            return \"\".join(self.vocab)\n",
    "        return self.vocab\n",
    "    \n",
    "    def encode(self, text):\n",
    "        \"\"\"\n",
    "        Take a string, output a list of integers.\n",
    "        \"\"\"\n",
    "        if self.enc_method == \"tiktoken\":\n",
    "            return self.enc.encode(text)\n",
    "        return [self.c_to_i[c] for c in text]\n",
    "    \n",
    "    def decode(self, indices):\n",
    "        \"\"\"\n",
    "        Take a list of integers, output a string.\n",
    "        \"\"\"\n",
    "        if self.enc_method == \"tiktoken\":\n",
    "            return self.enc.decode(indices)\n",
    "        return \"\".join([self.i_to_c[idx] for idx in indices])"
   ]
  },
  {
   "cell_type": "code",
   "execution_count": 7,
   "id": "b639c96a-61d9-4205-b644-f3fa3dffe543",
   "metadata": {},
   "outputs": [
    {
     "name": "stdout",
     "output_type": "stream",
     "text": [
      "Vocabulary (size = 65):\n",
      "        \n",
      " !$&',-.3:;?ABCDEFGHIJKLMNOPQRSTUVWXYZabcdefghijklmnopqrstuvwxyz\n",
      "        \n"
     ]
    }
   ],
   "source": [
    "tm1 = TextManager(bard_text)\n",
    "print(tm1)"
   ]
  },
  {
   "cell_type": "markdown",
   "id": "b6c507a8-891b-4fd3-9b2e-9b6011308c1f",
   "metadata": {},
   "source": [
    "### Creating Dataset"
   ]
  },
  {
   "cell_type": "code",
   "execution_count": 8,
   "id": "d4b47ff3-b475-43ec-920b-0e1d514c0287",
   "metadata": {},
   "outputs": [
    {
     "name": "stdout",
     "output_type": "stream",
     "text": [
      "torch.Size([1115394]) torch.int64\n",
      "tensor([18, 47, 56, 57, 58,  1, 15, 47, 58, 47, 64, 43, 52, 10,  0, 14, 43, 44,\n",
      "        53, 56, 43,  1, 61, 43,  1, 54, 56, 53, 41, 43, 43, 42,  1, 39, 52, 63,\n",
      "         1, 44, 59, 56, 58, 46, 43, 56,  6,  1, 46, 43, 39, 56,  1, 51, 43,  1,\n",
      "        57, 54, 43, 39, 49,  8,  0,  0, 13, 50, 50, 10,  0, 31, 54, 43, 39, 49,\n",
      "         6,  1, 57, 54, 43, 39, 49,  8,  0,  0, 18, 47, 56, 57, 58,  1, 15, 47,\n",
      "        58, 47, 64, 43, 52, 10,  0, 37, 53, 59])\n"
     ]
    }
   ],
   "source": [
    "data = torch.tensor(tm1.encode(bard_text), dtype=torch.long)\n",
    "print(data.shape, data.dtype)\n",
    "print(data[:100])"
   ]
  },
  {
   "cell_type": "code",
   "execution_count": 9,
   "id": "02ca7242-5d0d-467e-9eb6-c74aea6e5e8a",
   "metadata": {},
   "outputs": [
    {
     "name": "stdout",
     "output_type": "stream",
     "text": [
      "Training Data (torch.Size([1003854]))\n",
      "tensor([18, 47, 56, 57, 58,  1, 15, 47, 58, 47, 64, 43, 52, 10,  0, 14, 43, 44,\n",
      "        53, 56, 43,  1, 61, 43,  1, 54, 56, 53, 41, 43, 43, 42,  1, 39, 52, 63,\n",
      "         1, 44, 59, 56, 58, 46, 43, 56,  6,  1, 46, 43, 39, 56,  1, 51, 43,  1,\n",
      "        57, 54, 43, 39, 49,  8,  0,  0, 13, 50, 50, 10,  0, 31, 54, 43, 39, 49,\n",
      "         6,  1, 57, 54, 43, 39, 49,  8,  0,  0, 18, 47, 56, 57, 58,  1, 15, 47,\n",
      "        58, 47, 64, 43, 52, 10,  0, 37, 53, 59])\n",
      "\n",
      "Validation Data (torch.Size([111540]))\n",
      "tensor([12,  0,  0, 19, 30, 17, 25, 21, 27, 10,  0, 19, 53, 53, 42,  1, 51, 53,\n",
      "        56, 56, 53, 61,  6,  1, 52, 43, 47, 45, 46, 40, 53, 59, 56,  1, 14, 39,\n",
      "        54, 58, 47, 57, 58, 39,  8,  0,  0, 14, 13, 28, 32, 21, 31, 32, 13, 10,\n",
      "         0, 19, 53, 53, 42,  1, 51, 53, 56, 56, 53, 61,  6,  1, 52, 43, 47, 45,\n",
      "        46, 40, 53, 59, 56,  1, 19, 56, 43, 51, 47, 53,  8,  0, 19, 53, 42,  1,\n",
      "        57, 39, 60, 43,  1, 63, 53, 59,  6,  1])\n"
     ]
    }
   ],
   "source": [
    "test_size = 0.1\n",
    "n = int((1-test_size)*data.shape[0])\n",
    "train_data = data[:n]\n",
    "val_data = data[n:]\n",
    "\n",
    "print(f\"Training Data ({train_data.shape})\")\n",
    "print(train_data[:100])\n",
    "print(f\"\\nValidation Data ({val_data.shape})\")\n",
    "print(val_data[:100])"
   ]
  },
  {
   "cell_type": "markdown",
   "id": "4d86f391-265f-450e-8cfc-61594d684c9f",
   "metadata": {},
   "source": [
    "### Batching"
   ]
  },
  {
   "cell_type": "code",
   "execution_count": 10,
   "id": "dca2120a-fc8b-4adb-a072-472809c8884b",
   "metadata": {},
   "outputs": [],
   "source": [
    "# Block size (T) = context length for prediction\n",
    "# Batch size (B) = number of independent sequences we process in parallel\n",
    "torch.manual_seed(1337)\n",
    "\n",
    "def create_batch(data, block_size=8, batch_size=4):\n",
    "    ix = torch.randint(len(data) - block_size, (batch_size, ))\n",
    "    x = torch.stack([data[i:i+block_size] for i in ix])\n",
    "    y = torch.stack([data[i+1:i+block_size+1] for i in ix])\n",
    "    return x, y\n",
    "\n",
    "def batch_sanity_check(xb, yb):\n",
    "    batch_size, block_size = xb.shape\n",
    "    print(\"Inputs:\", xb.shape, xb, sep=\"\\n\")\n",
    "    print(\"Targets:\", yb.shape, yb, sep=\"\\n\")\n",
    "    print(\"=\" * (3*block_size + 20))\n",
    "\n",
    "    for b in range(batch_size): # batch dimension\n",
    "        for bl in range(block_size): # block (time) dimension\n",
    "            context = xb[b, :bl+1]\n",
    "            target = yb[b, bl]\n",
    "            print(f\"When input (context) is {context.tolist()} target = {target}.\")"
   ]
  },
  {
   "cell_type": "code",
   "execution_count": 11,
   "id": "2e0bcfee-83fc-4359-aa02-7bc94787b73a",
   "metadata": {},
   "outputs": [
    {
     "name": "stdout",
     "output_type": "stream",
     "text": [
      "Inputs:\n",
      "torch.Size([4, 8])\n",
      "tensor([[24, 43, 58,  5, 57,  1, 46, 43],\n",
      "        [44, 53, 56,  1, 58, 46, 39, 58],\n",
      "        [52, 58,  1, 58, 46, 39, 58,  1],\n",
      "        [25, 17, 27, 10,  0, 21,  1, 54]])\n",
      "Targets:\n",
      "torch.Size([4, 8])\n",
      "tensor([[43, 58,  5, 57,  1, 46, 43, 39],\n",
      "        [53, 56,  1, 58, 46, 39, 58,  1],\n",
      "        [58,  1, 58, 46, 39, 58,  1, 46],\n",
      "        [17, 27, 10,  0, 21,  1, 54, 39]])\n",
      "============================================\n",
      "When input (context) is [24] target = 43.\n",
      "When input (context) is [24, 43] target = 58.\n",
      "When input (context) is [24, 43, 58] target = 5.\n",
      "When input (context) is [24, 43, 58, 5] target = 57.\n",
      "When input (context) is [24, 43, 58, 5, 57] target = 1.\n",
      "When input (context) is [24, 43, 58, 5, 57, 1] target = 46.\n",
      "When input (context) is [24, 43, 58, 5, 57, 1, 46] target = 43.\n",
      "When input (context) is [24, 43, 58, 5, 57, 1, 46, 43] target = 39.\n",
      "When input (context) is [44] target = 53.\n",
      "When input (context) is [44, 53] target = 56.\n",
      "When input (context) is [44, 53, 56] target = 1.\n",
      "When input (context) is [44, 53, 56, 1] target = 58.\n",
      "When input (context) is [44, 53, 56, 1, 58] target = 46.\n",
      "When input (context) is [44, 53, 56, 1, 58, 46] target = 39.\n",
      "When input (context) is [44, 53, 56, 1, 58, 46, 39] target = 58.\n",
      "When input (context) is [44, 53, 56, 1, 58, 46, 39, 58] target = 1.\n",
      "When input (context) is [52] target = 58.\n",
      "When input (context) is [52, 58] target = 1.\n",
      "When input (context) is [52, 58, 1] target = 58.\n",
      "When input (context) is [52, 58, 1, 58] target = 46.\n",
      "When input (context) is [52, 58, 1, 58, 46] target = 39.\n",
      "When input (context) is [52, 58, 1, 58, 46, 39] target = 58.\n",
      "When input (context) is [52, 58, 1, 58, 46, 39, 58] target = 1.\n",
      "When input (context) is [52, 58, 1, 58, 46, 39, 58, 1] target = 46.\n",
      "When input (context) is [25] target = 17.\n",
      "When input (context) is [25, 17] target = 27.\n",
      "When input (context) is [25, 17, 27] target = 10.\n",
      "When input (context) is [25, 17, 27, 10] target = 0.\n",
      "When input (context) is [25, 17, 27, 10, 0] target = 21.\n",
      "When input (context) is [25, 17, 27, 10, 0, 21] target = 1.\n",
      "When input (context) is [25, 17, 27, 10, 0, 21, 1] target = 54.\n",
      "When input (context) is [25, 17, 27, 10, 0, 21, 1, 54] target = 39.\n"
     ]
    }
   ],
   "source": [
    "xb, yb = create_batch(train_data)\n",
    "batch_sanity_check(xb, yb)"
   ]
  },
  {
   "cell_type": "markdown",
   "id": "f41449a5-28b8-414d-9928-8f204f404d6d",
   "metadata": {},
   "source": [
    "## Models"
   ]
  },
  {
   "cell_type": "markdown",
   "id": "d564b5a7-fc61-48c3-b10b-3e51fffca319",
   "metadata": {},
   "source": [
    "### Model Helper Functions"
   ]
  },
  {
   "cell_type": "code",
   "execution_count": 12,
   "id": "f100dc90-98a6-4f0d-9729-009574ee3da3",
   "metadata": {},
   "outputs": [],
   "source": [
    "def get_optimiser(opt_name, model, l_rate, **kwargs):\n",
    "    if opt_name == \"adam\":\n",
    "        return optim.AdamW(model.parameters(), lr=l_rate, **kwargs)\n",
    "    elif opt_name == \"sgd\":\n",
    "        return optim.SGD(model.parameters(), lr=l_rate, **kwargs)\n",
    "    elif opt_name == \"rms\":\n",
    "        return optim.RMSprop(model.parameters(), lr=l_rate, **kwargs)\n",
    "    elif opt_name == \"lbfgs\":\n",
    "        return optim.LBFGS(model.parameters(), lr=l_rate, **kwargs)"
   ]
  },
  {
   "cell_type": "markdown",
   "id": "e4974de4-d09a-434a-be6f-6748f2d52f8e",
   "metadata": {},
   "source": [
    "### Bigram Language Model"
   ]
  },
  {
   "cell_type": "code",
   "execution_count": 13,
   "id": "3e382c53-8edb-4a29-8eb1-136d51d37d8c",
   "metadata": {},
   "outputs": [],
   "source": [
    "class BigramLM(nn.Module):\n",
    "    def __init__(self, vocab_size):\n",
    "        super().__init__()\n",
    "        self.embedding = nn.Embedding(vocab_size, vocab_size)\n",
    "        self.loss = nn.CrossEntropyLoss()\n",
    "        self.softmax = nn.Softmax(dim=-1)\n",
    "\n",
    "    def forward(self, idx, targets=None):\n",
    "        logits = self.embedding(idx) # (B x T x C)\n",
    "\n",
    "        if targets is not None:\n",
    "            # Reshape logits and targets\n",
    "            B, T, C = logits.shape\n",
    "            logits = logits.view(B*T, C)\n",
    "            targets = targets.view(B*T)\n",
    "    \n",
    "            # Calculate loss\n",
    "            loss = self.loss(logits, targets)\n",
    "        else:\n",
    "            loss = None\n",
    "        \n",
    "        return logits, loss\n",
    "\n",
    "    def generate(self, idx, max_new_tokens):\n",
    "        for _ in range(max_new_tokens):\n",
    "            # Get predictions\n",
    "            logits, _ = self(idx)\n",
    "            logits = logits[:, -1, :] # (B x C)\n",
    "            \n",
    "            # Apply softmax to probabilities\n",
    "            probs = self.softmax(logits) # (B x C)\n",
    "\n",
    "            # Sample from distribution\n",
    "            idx_next = torch.multinomial(probs, num_samples=1) # (B x 1)\n",
    "            idx = torch.cat((idx, idx_next), dim=1) # (B x T+1)\n",
    "        return idx"
   ]
  },
  {
   "cell_type": "code",
   "execution_count": 14,
   "id": "0a27615d-dd1c-42ce-8831-d91cd54d2fc1",
   "metadata": {},
   "outputs": [
    {
     "name": "stdout",
     "output_type": "stream",
     "text": [
      "torch.Size([32, 65])\n",
      "tensor(5.0364, grad_fn=<NllLossBackward0>)\n"
     ]
    }
   ],
   "source": [
    "# Foward pass example\n",
    "bi_lm = BigramLM(tm1.vocab_size)\n",
    "logits, loss = bi_lm(xb, yb)\n",
    "print(logits.shape)\n",
    "print(loss)"
   ]
  },
  {
   "cell_type": "code",
   "execution_count": 15,
   "id": "a7d70897-be0f-46ec-a94c-bb903e11402b",
   "metadata": {},
   "outputs": [
    {
     "name": "stdout",
     "output_type": "stream",
     "text": [
      " XAQHukRuaRJKXAYtXzfJ:HEPiu--sDioi;ILCo3pHNTmDwJsfheKRxZCFs\n",
      "lZJ XQc?:s:HEzEnXalEPklcPU cL'DpdLCafBheH\n"
     ]
    }
   ],
   "source": [
    "# Generation example\n",
    "start_char = \" \"\n",
    "start_idx = tm1.encode(start_char)\n",
    "start_idx = torch.tensor(start_idx, dtype=torch.long).view((1,1))\n",
    "\n",
    "gen_idx = bi_lm.generate(start_idx, 100)[0].tolist()\n",
    "print(tm1.decode(gen_idx))"
   ]
  },
  {
   "cell_type": "code",
   "execution_count": 16,
   "id": "ba563f58-16b3-4c3e-b855-6f0e8d0d0267",
   "metadata": {},
   "outputs": [
    {
     "name": "stdout",
     "output_type": "stream",
     "text": [
      "2.5174548625946045\n"
     ]
    }
   ],
   "source": [
    "opt = get_optimiser(\"adam\", bi_lm, 1e-03)\n",
    "\n",
    "for steps in range(100000):\n",
    "    # Sample batch of data\n",
    "    xb, yb = create_batch(train_data, batch_size=32)\n",
    "\n",
    "    # Evaluate loss\n",
    "    logits, loss = bi_lm(xb, yb)\n",
    "    opt.zero_grad()\n",
    "    loss.backward()\n",
    "    opt.step()\n",
    "print(loss.item())"
   ]
  },
  {
   "cell_type": "code",
   "execution_count": 17,
   "id": "70f94c78-5430-46fd-9ccb-36337f47d63b",
   "metadata": {},
   "outputs": [
    {
     "name": "stdout",
     "output_type": "stream",
     "text": [
      " ardauther LLIZARI gatho ftcohanghorad\n",
      "Age cur, aur hayis;\n",
      "Wheano?\n",
      "QUpe.\n",
      "N otord, fane hiler, withy f\n"
     ]
    }
   ],
   "source": [
    "# Generation example with trained model\n",
    "train_gen_idx = bi_lm.generate(start_idx, 100)[0].tolist()\n",
    "print(tm1.decode(train_gen_idx))"
   ]
  },
  {
   "cell_type": "code",
   "execution_count": null,
   "id": "5fbadc19-d0d9-4276-bda3-ef23abb2daff",
   "metadata": {},
   "outputs": [],
   "source": []
  }
 ],
 "metadata": {
  "kernelspec": {
   "display_name": "Python 3 (ipykernel)",
   "language": "python",
   "name": "python3"
  },
  "language_info": {
   "codemirror_mode": {
    "name": "ipython",
    "version": 3
   },
   "file_extension": ".py",
   "mimetype": "text/x-python",
   "name": "python",
   "nbconvert_exporter": "python",
   "pygments_lexer": "ipython3",
   "version": "3.9.6"
  }
 },
 "nbformat": 4,
 "nbformat_minor": 5
}
