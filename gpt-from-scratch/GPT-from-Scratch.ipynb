{
 "cells": [
  {
   "cell_type": "markdown",
   "id": "a7388985-076c-48df-a18c-3883a8b2d726",
   "metadata": {},
   "source": [
    "# GPT from Scratch"
   ]
  },
  {
   "cell_type": "markdown",
   "id": "f6b70392-6567-4cf9-bc14-d93f83df2a64",
   "metadata": {},
   "source": [
    "## Imports"
   ]
  },
  {
   "cell_type": "code",
   "execution_count": null,
   "id": "93a1af7e-570e-4805-af04-ff36493aaec3",
   "metadata": {},
   "outputs": [],
   "source": []
  },
  {
   "cell_type": "markdown",
   "id": "76b58764-fae4-4152-b582-8b7bba0db0b5",
   "metadata": {},
   "source": [
    "## The Data"
   ]
  },
  {
   "cell_type": "markdown",
   "id": "20a9fc3d-0106-42e2-a976-8bc9f5ac9d75",
   "metadata": {},
   "source": [
    "### Download Data"
   ]
  },
  {
   "cell_type": "code",
   "execution_count": 1,
   "id": "3c196918-521e-45ab-a5c4-afdc34862a88",
   "metadata": {},
   "outputs": [],
   "source": [
    "# !curl https://raw.githubusercontent.com/karpathy/char-rnn/master/data/tinyshakespeare/input.txt > \"input.txt\""
   ]
  },
  {
   "cell_type": "code",
   "execution_count": 2,
   "id": "4c0e858d-2e3e-41f8-a316-b728ebfa3e07",
   "metadata": {},
   "outputs": [],
   "source": [
    "with open(\"input.txt\", \"r\", encoding=\"utf-8\") as f:\n",
    "    text = f.read()"
   ]
  },
  {
   "cell_type": "code",
   "execution_count": 3,
   "id": "66583b4b-2b61-4897-8233-1cbe786989b5",
   "metadata": {},
   "outputs": [
    {
     "data": {
      "text/plain": [
       "'Number of characters: 1115394'"
      ]
     },
     "execution_count": 3,
     "metadata": {},
     "output_type": "execute_result"
    }
   ],
   "source": [
    "f\"Number of characters: {len(text)}\""
   ]
  },
  {
   "cell_type": "markdown",
   "id": "3cee4b73-aa48-4deb-9769-6e51c79528c5",
   "metadata": {},
   "source": [
    "### Get Vocabulary"
   ]
  },
  {
   "cell_type": "code",
   "execution_count": 4,
   "id": "c12368b6-fe91-4b57-bc9b-eb2611709ef2",
   "metadata": {},
   "outputs": [
    {
     "name": "stdout",
     "output_type": "stream",
     "text": [
      "\n",
      " !$&',-.3:;?ABCDEFGHIJKLMNOPQRSTUVWXYZabcdefghijklmnopqrstuvwxyz\n",
      "Size of vocabulary: 65\n"
     ]
    }
   ],
   "source": [
    "def get_vocab(text):\n",
    "    return sorted(list(set(text)))\n",
    "    \n",
    "chars = get_vocab(text)\n",
    "vocab_size = len(chars)\n",
    "print(\"\".join(chars))\n",
    "print(f\"Size of vocabulary: {vocab_size}\")"
   ]
  },
  {
   "cell_type": "markdown",
   "id": "ca02d679-3174-47a4-b47d-0fcdc23e6f41",
   "metadata": {},
   "source": [
    "### Tokenisation"
   ]
  },
  {
   "cell_type": "code",
   "execution_count": 5,
   "id": "b639c96a-61d9-4205-b644-f3fa3dffe543",
   "metadata": {},
   "outputs": [],
   "source": [
    "def char_to_idx(chars=None, text=None):\n",
    "    if chars is None:\n",
    "        chars = get_vocab(text)\n",
    "    return {ch:i for i, ch in enumerate(chars)}\n",
    "\n",
    "def idx_to_char(chars=None, text=None):\n",
    "    if chars is None:\n",
    "        chars = get_vocab(text)\n",
    "    return {i:ch for i, ch in enumerate(chars)}\n",
    "\n",
    "def encode(text, c_to_i):\n",
    "    \"\"\"\n",
    "    Take a string, output a list of integers.\n",
    "    \"\"\"\n",
    "    return [c_to_i[c] for c in text]\n",
    "\n",
    "def decode(indices, i_to_c):\n",
    "    \"\"\"\n",
    "    Take a list of integers, output a string.\n",
    "    \"\"\"\n",
    "    return \"\".join([i_to_c[idx] for idx in indices])\n",
    "\n",
    "c_to_i = char_to_idx(chars)\n",
    "i_to_c = idx_to_char(chars)"
   ]
  },
  {
   "cell_type": "code",
   "execution_count": 13,
   "id": "007210b0-b2b0-49a5-8230-98e8c2b187ab",
   "metadata": {},
   "outputs": [
    {
     "data": {
      "text/plain": [
       "[25, 39, 52, 41, 46, 43, 57, 58, 43, 56, 1, 33, 52, 47, 58, 43, 42, 2]"
      ]
     },
     "execution_count": 13,
     "metadata": {},
     "output_type": "execute_result"
    }
   ],
   "source": [
    "l = encode(\"Manchester United!\", c_to_i)\n",
    "l"
   ]
  },
  {
   "cell_type": "code",
   "execution_count": 14,
   "id": "badffdbd-231d-4142-991f-b037ccbb04a5",
   "metadata": {},
   "outputs": [
    {
     "data": {
      "text/plain": [
       "'Manchester United!'"
      ]
     },
     "execution_count": 14,
     "metadata": {},
     "output_type": "execute_result"
    }
   ],
   "source": [
    "decode(l, i_to_c)"
   ]
  },
  {
   "cell_type": "code",
   "execution_count": 16,
   "id": "8c76bc4a-7ec4-4e81-8763-77e1e3ad9950",
   "metadata": {},
   "outputs": [
    {
     "data": {
      "text/plain": [
       "'!$$&!f$!$&$$&&'"
      ]
     },
     "execution_count": 16,
     "metadata": {},
     "output_type": "execute_result"
    }
   ],
   "source": [
    "decode([2,3,3,4,2,44,3,2,3,4,3,3,4,4], i_to_c)"
   ]
  },
  {
   "cell_type": "code",
   "execution_count": null,
   "id": "d4b47ff3-b475-43ec-920b-0e1d514c0287",
   "metadata": {},
   "outputs": [],
   "source": [
    "c"
   ]
  }
 ],
 "metadata": {
  "kernelspec": {
   "display_name": "Python 3 (ipykernel)",
   "language": "python",
   "name": "python3"
  },
  "language_info": {
   "codemirror_mode": {
    "name": "ipython",
    "version": 3
   },
   "file_extension": ".py",
   "mimetype": "text/x-python",
   "name": "python",
   "nbconvert_exporter": "python",
   "pygments_lexer": "ipython3",
   "version": "3.9.6"
  }
 },
 "nbformat": 4,
 "nbformat_minor": 5
}
