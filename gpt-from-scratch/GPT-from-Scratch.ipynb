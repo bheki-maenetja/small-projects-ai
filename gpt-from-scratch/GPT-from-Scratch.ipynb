{
 "cells": [
  {
   "cell_type": "markdown",
   "id": "a7388985-076c-48df-a18c-3883a8b2d726",
   "metadata": {},
   "source": [
    "# GPT from Scratch"
   ]
  },
  {
   "cell_type": "markdown",
   "id": "f6b70392-6567-4cf9-bc14-d93f83df2a64",
   "metadata": {},
   "source": [
    "## Imports"
   ]
  },
  {
   "cell_type": "code",
   "execution_count": 1,
   "id": "93a1af7e-570e-4805-af04-ff36493aaec3",
   "metadata": {},
   "outputs": [],
   "source": [
    "import sys\n",
    "sys.path.append(\".\")\n",
    "from scripts import data_handling as dh\n",
    "from scripts.model_helpers import train, generate_text\n",
    "from scripts.bigram_lm import BigramLM\n",
    "from scripts.attention_lm import AttentionLM\n",
    "\n",
    "import torch\n",
    "import torch.nn as nn\n",
    "import torch.optim as optim"
   ]
  },
  {
   "cell_type": "markdown",
   "id": "9aebdb05-523f-4aca-a0fc-b37fc4730919",
   "metadata": {},
   "source": [
    "## Set Device"
   ]
  },
  {
   "cell_type": "code",
   "execution_count": 2,
   "id": "4775638d-3255-47af-9f30-dc00e2b36f85",
   "metadata": {},
   "outputs": [
    {
     "data": {
      "text/plain": [
       "device(type='mps')"
      ]
     },
     "execution_count": 2,
     "metadata": {},
     "output_type": "execute_result"
    }
   ],
   "source": [
    "if torch.cuda.is_available():\n",
    "    device = torch.device(\"cuda\")\n",
    "elif torch.backends.mps.is_available():\n",
    "    device = torch.device(\"mps\")\n",
    "else:\n",
    "    device = torch.device(\"cpu\")\n",
    "\n",
    "device"
   ]
  },
  {
   "cell_type": "markdown",
   "id": "76b58764-fae4-4152-b582-8b7bba0db0b5",
   "metadata": {},
   "source": [
    "## The Data"
   ]
  },
  {
   "cell_type": "markdown",
   "id": "20a9fc3d-0106-42e2-a976-8bc9f5ac9d75",
   "metadata": {},
   "source": [
    "### Get Data"
   ]
  },
  {
   "cell_type": "code",
   "execution_count": 3,
   "id": "4c0e858d-2e3e-41f8-a316-b728ebfa3e07",
   "metadata": {},
   "outputs": [
    {
     "data": {
      "text/plain": [
       "'Number of characters: 1115394'"
      ]
     },
     "execution_count": 3,
     "metadata": {},
     "output_type": "execute_result"
    }
   ],
   "source": [
    "bard_text = dh.get_text(\"shakespeare\")\n",
    "f\"Number of characters: {len(bard_text)}\""
   ]
  },
  {
   "cell_type": "markdown",
   "id": "3cee4b73-aa48-4deb-9769-6e51c79528c5",
   "metadata": {},
   "source": [
    "### Vocabulary and Tokenisation"
   ]
  },
  {
   "cell_type": "code",
   "execution_count": 4,
   "id": "b639c96a-61d9-4205-b644-f3fa3dffe543",
   "metadata": {},
   "outputs": [
    {
     "name": "stdout",
     "output_type": "stream",
     "text": [
      "Vocabulary (size = 65):\n",
      "        \n",
      " !$&',-.3:;?ABCDEFGHIJKLMNOPQRSTUVWXYZabcdefghijklmnopqrstuvwxyz\n",
      "\n",
      "        First 1000 characters:\n",
      "        First Citizen:\n",
      "Before we proceed any further, hear me speak.\n",
      "\n",
      "All:\n",
      "Speak, speak.\n",
      "\n",
      "First Citizen:\n",
      "You are all resolved rather to die than to famish?\n",
      "\n",
      "All:\n",
      "Resolved. resolved.\n",
      "\n",
      "First Citizen:\n",
      "First, you know Caius Marcius is chief enemy to the people.\n",
      "\n",
      "All:\n",
      "We know't, we know't.\n",
      "\n",
      "First Citizen:\n",
      "Let us kill him, and we'll have corn at our own price.\n",
      "Is't a verdict?\n",
      "\n",
      "All:\n",
      "No more talking on't; let it be done: away, away!\n",
      "\n",
      "Second Citizen:\n",
      "One word, good citizens.\n",
      "\n",
      "First Citizen:\n",
      "We are accounted poor\n",
      "        \n"
     ]
    }
   ],
   "source": [
    "tm1 = dh.TextManager(bard_text)\n",
    "print(tm1)"
   ]
  },
  {
   "cell_type": "markdown",
   "id": "b6c507a8-891b-4fd3-9b2e-9b6011308c1f",
   "metadata": {},
   "source": [
    "### Creating Dataset"
   ]
  },
  {
   "cell_type": "code",
   "execution_count": 5,
   "id": "d4b47ff3-b475-43ec-920b-0e1d514c0287",
   "metadata": {},
   "outputs": [
    {
     "name": "stdout",
     "output_type": "stream",
     "text": [
      "torch.Size([1115394]) torch.int64\n",
      "tensor([18, 47, 56, 57, 58,  1, 15, 47, 58, 47, 64, 43, 52, 10,  0, 14, 43, 44,\n",
      "        53, 56, 43,  1, 61, 43,  1, 54, 56, 53, 41, 43, 43, 42,  1, 39, 52, 63,\n",
      "         1, 44, 59, 56, 58, 46, 43, 56,  6,  1, 46, 43, 39, 56,  1, 51, 43,  1,\n",
      "        57, 54, 43, 39, 49,  8,  0,  0, 13, 50, 50, 10,  0, 31, 54, 43, 39, 49,\n",
      "         6,  1, 57, 54, 43, 39, 49,  8,  0,  0, 18, 47, 56, 57, 58,  1, 15, 47,\n",
      "        58, 47, 64, 43, 52, 10,  0, 37, 53, 59])\n"
     ]
    }
   ],
   "source": [
    "data = tm1.get_text_tensor()\n",
    "print(data.shape, data.dtype)\n",
    "print(data[:100])"
   ]
  },
  {
   "cell_type": "code",
   "execution_count": 6,
   "id": "720ece71-17b9-451a-b0c5-cf88982b5d29",
   "metadata": {},
   "outputs": [
    {
     "name": "stdout",
     "output_type": "stream",
     "text": [
      "Training Data (torch.Size([1003854]))\n",
      "tensor([18, 47, 56, 57, 58,  1, 15, 47, 58, 47, 64, 43, 52, 10,  0, 14, 43, 44,\n",
      "        53, 56, 43,  1, 61, 43,  1, 54, 56, 53, 41, 43, 43, 42,  1, 39, 52, 63,\n",
      "         1, 44, 59, 56, 58, 46, 43, 56,  6,  1, 46, 43, 39, 56,  1, 51, 43,  1,\n",
      "        57, 54, 43, 39, 49,  8,  0,  0, 13, 50, 50, 10,  0, 31, 54, 43, 39, 49,\n",
      "         6,  1, 57, 54, 43, 39, 49,  8,  0,  0, 18, 47, 56, 57, 58,  1, 15, 47,\n",
      "        58, 47, 64, 43, 52, 10,  0, 37, 53, 59])\n",
      "\n",
      "Validation Data (torch.Size([111540]))\n",
      "tensor([12,  0,  0, 19, 30, 17, 25, 21, 27, 10,  0, 19, 53, 53, 42,  1, 51, 53,\n",
      "        56, 56, 53, 61,  6,  1, 52, 43, 47, 45, 46, 40, 53, 59, 56,  1, 14, 39,\n",
      "        54, 58, 47, 57, 58, 39,  8,  0,  0, 14, 13, 28, 32, 21, 31, 32, 13, 10,\n",
      "         0, 19, 53, 53, 42,  1, 51, 53, 56, 56, 53, 61,  6,  1, 52, 43, 47, 45,\n",
      "        46, 40, 53, 59, 56,  1, 19, 56, 43, 51, 47, 53,  8,  0, 19, 53, 42,  1,\n",
      "        57, 39, 60, 43,  1, 63, 53, 59,  6,  1])\n"
     ]
    }
   ],
   "source": [
    "test_size = 0.1\n",
    "train_data, val_data = tm1.get_text_tensor_split(test_size, True)"
   ]
  },
  {
   "cell_type": "markdown",
   "id": "4d86f391-265f-450e-8cfc-61594d684c9f",
   "metadata": {},
   "source": [
    "### Batching"
   ]
  },
  {
   "cell_type": "code",
   "execution_count": 7,
   "id": "dca2120a-fc8b-4adb-a072-472809c8884b",
   "metadata": {},
   "outputs": [
    {
     "name": "stdout",
     "output_type": "stream",
     "text": [
      "Inputs:\n",
      "torch.Size([4, 8])\n",
      "tensor([[24, 43, 58,  5, 57,  1, 46, 43],\n",
      "        [44, 53, 56,  1, 58, 46, 39, 58],\n",
      "        [52, 58,  1, 58, 46, 39, 58,  1],\n",
      "        [25, 17, 27, 10,  0, 21,  1, 54]], device='mps:0')\n",
      "Targets:\n",
      "torch.Size([4, 8])\n",
      "tensor([[43, 58,  5, 57,  1, 46, 43, 39],\n",
      "        [53, 56,  1, 58, 46, 39, 58,  1],\n",
      "        [58,  1, 58, 46, 39, 58,  1, 46],\n",
      "        [17, 27, 10,  0, 21,  1, 54, 39]], device='mps:0')\n",
      "============================================\n",
      "When input (context) is [24] target = 43.\n",
      "When input (context) is [24, 43] target = 58.\n",
      "When input (context) is [24, 43, 58] target = 5.\n",
      "When input (context) is [24, 43, 58, 5] target = 57.\n",
      "When input (context) is [24, 43, 58, 5, 57] target = 1.\n",
      "When input (context) is [24, 43, 58, 5, 57, 1] target = 46.\n",
      "When input (context) is [24, 43, 58, 5, 57, 1, 46] target = 43.\n",
      "When input (context) is [24, 43, 58, 5, 57, 1, 46, 43] target = 39.\n",
      "When input (context) is [44] target = 53.\n",
      "When input (context) is [44, 53] target = 56.\n",
      "When input (context) is [44, 53, 56] target = 1.\n",
      "When input (context) is [44, 53, 56, 1] target = 58.\n",
      "When input (context) is [44, 53, 56, 1, 58] target = 46.\n",
      "When input (context) is [44, 53, 56, 1, 58, 46] target = 39.\n",
      "When input (context) is [44, 53, 56, 1, 58, 46, 39] target = 58.\n",
      "When input (context) is [44, 53, 56, 1, 58, 46, 39, 58] target = 1.\n",
      "When input (context) is [52] target = 58.\n",
      "When input (context) is [52, 58] target = 1.\n",
      "When input (context) is [52, 58, 1] target = 58.\n",
      "When input (context) is [52, 58, 1, 58] target = 46.\n",
      "When input (context) is [52, 58, 1, 58, 46] target = 39.\n",
      "When input (context) is [52, 58, 1, 58, 46, 39] target = 58.\n",
      "When input (context) is [52, 58, 1, 58, 46, 39, 58] target = 1.\n",
      "When input (context) is [52, 58, 1, 58, 46, 39, 58, 1] target = 46.\n",
      "When input (context) is [25] target = 17.\n",
      "When input (context) is [25, 17] target = 27.\n",
      "When input (context) is [25, 17, 27] target = 10.\n",
      "When input (context) is [25, 17, 27, 10] target = 0.\n",
      "When input (context) is [25, 17, 27, 10, 0] target = 21.\n",
      "When input (context) is [25, 17, 27, 10, 0, 21] target = 1.\n",
      "When input (context) is [25, 17, 27, 10, 0, 21, 1] target = 54.\n",
      "When input (context) is [25, 17, 27, 10, 0, 21, 1, 54] target = 39.\n"
     ]
    }
   ],
   "source": [
    "# Block size (T) = context length for prediction\n",
    "# Batch size (B) = number of independent sequences we process in parallel\n",
    "torch.manual_seed(1337)\n",
    "block_size = 8\n",
    "batch_size = 4\n",
    "xb, yb = dh.create_batch(train_data, block_size, batch_size, device)\n",
    "dh.batch_sanity_check(xb, yb)"
   ]
  },
  {
   "cell_type": "markdown",
   "id": "f41449a5-28b8-414d-9928-8f204f404d6d",
   "metadata": {},
   "source": [
    "## Models"
   ]
  },
  {
   "cell_type": "markdown",
   "id": "e4974de4-d09a-434a-be6f-6748f2d52f8e",
   "metadata": {},
   "source": [
    "### Bigram Language Model"
   ]
  },
  {
   "cell_type": "code",
   "execution_count": 8,
   "id": "5fbadc19-d0d9-4276-bda3-ef23abb2daff",
   "metadata": {},
   "outputs": [
    {
     "name": "stdout",
     "output_type": "stream",
     "text": [
      "torch.Size([32, 65])\n",
      "tensor(4.6424, device='mps:0', grad_fn=<NllLossBackward0>)\n"
     ]
    }
   ],
   "source": [
    "# Foward pass example\n",
    "bi_lm = BigramLM(tm1.vocab_size, device=device)\n",
    "\n",
    "# Move model to selected device\n",
    "bi_lm.to(device)\n",
    "\n",
    "logits, loss = bi_lm(xb, yb)\n",
    "print(logits.shape)\n",
    "print(loss)"
   ]
  },
  {
   "cell_type": "code",
   "execution_count": 9,
   "id": "50c8f6d0-7599-4c09-803f-067c2c7e2a09",
   "metadata": {},
   "outputs": [
    {
     "name": "stdout",
     "output_type": "stream",
     "text": [
      " U as&3mK?YMj$fEcqkPuQNRelOOOuUfZW&ewNy:r$c-jk,ECOIiHeg Eggqu\n",
      "pCCrrvMtVcAoyDXPujNnv&?ofyO.vrFoJKyLTDL\n"
     ]
    }
   ],
   "source": [
    "# Generation example with untrained model\n",
    "gen_text = generate_text(\" \", tm1, bi_lm, device=device)\n",
    "print(gen_text)"
   ]
  },
  {
   "cell_type": "code",
   "execution_count": 10,
   "id": "54fb59ce-d8ba-4645-9ec6-83be8a4562fa",
   "metadata": {},
   "outputs": [
    {
     "name": "stdout",
     "output_type": "stream",
     "text": [
      "Step: 0, Train Loss: 4.4588, Val Loss: 4.4506\n",
      "Step: 500, Train Loss: 2.7237, Val Loss: 2.7526\n",
      "Step: 1000, Train Loss: 2.5888, Val Loss: 2.6141\n",
      "Step: 1500, Train Loss: 2.5477, Val Loss: 2.5580\n",
      "Step: 2000, Train Loss: 2.5185, Val Loss: 2.5310\n",
      "Step: 2500, Train Loss: 2.5170, Val Loss: 2.5228\n",
      "Step: 3000, Train Loss: 2.5025, Val Loss: 2.5135\n",
      "Step: 3500, Train Loss: 2.5018, Val Loss: 2.5070\n",
      "Step: 4000, Train Loss: 2.4968, Val Loss: 2.4908\n",
      "Step: 4500, Train Loss: 2.4933, Val Loss: 2.5044\n",
      "Step: 5000, Train Loss: 2.4836, Val Loss: 2.5037\n",
      "Step: 5500, Train Loss: 2.4781, Val Loss: 2.5077\n",
      "Step: 6000, Train Loss: 2.4938, Val Loss: 2.5067\n",
      "Step: 6500, Train Loss: 2.4837, Val Loss: 2.4886\n",
      "Step: 7000, Train Loss: 2.4784, Val Loss: 2.5041\n",
      "Step: 7500, Train Loss: 2.4704, Val Loss: 2.5039\n",
      "Step: 8000, Train Loss: 2.4697, Val Loss: 2.4899\n",
      "Step: 8500, Train Loss: 2.4702, Val Loss: 2.5004\n",
      "Step: 9000, Train Loss: 2.4667, Val Loss: 2.4805\n",
      "Step: 9500, Train Loss: 2.4694, Val Loss: 2.4936\n"
     ]
    }
   ],
   "source": [
    "train(bi_lm, train_data, val_data, device=device)"
   ]
  },
  {
   "cell_type": "code",
   "execution_count": 11,
   "id": "6e30381b-bcd6-4183-8577-a17f6a05d5a7",
   "metadata": {},
   "outputs": [
    {
     "name": "stdout",
     "output_type": "stream",
     "text": [
      " hispo inimppry PYO:\n",
      "HESYNELET:\n",
      "POLAMEYO:\n",
      "HADUTHNGHAhtcany\n",
      "BEThew t!\n",
      "SOMANCHENEENIZEEULOLETHAnthcus;\n",
      "\n"
     ]
    }
   ],
   "source": [
    "# Generation example with trained model\n",
    "gen_text = generate_text(\" \", tm1, bi_lm, device=device)\n",
    "print(gen_text)"
   ]
  },
  {
   "cell_type": "markdown",
   "id": "fae31f1d-10b6-4ea3-a012-76877b6166e1",
   "metadata": {},
   "source": [
    "### Single Attention Head Language Model"
   ]
  },
  {
   "cell_type": "code",
   "execution_count": 12,
   "id": "f967501c-9745-485c-bdde-51be723398de",
   "metadata": {},
   "outputs": [
    {
     "name": "stdout",
     "output_type": "stream",
     "text": [
      "torch.Size([32, 65])\n",
      "tensor(4.3037, device='mps:0', grad_fn=<NllLossBackward0>)\n"
     ]
    }
   ],
   "source": [
    "# Foward pass example\n",
    "att_lm = AttentionLM(tm1.vocab_size, device=device)\n",
    "\n",
    "# Move model to selected device\n",
    "att_lm.to(device)\n",
    "\n",
    "logits, loss = att_lm(xb, yb)\n",
    "print(logits.shape)\n",
    "print(loss)"
   ]
  },
  {
   "cell_type": "code",
   "execution_count": 13,
   "id": "141168b5-7477-47ae-b140-391b5a7a2b97",
   "metadata": {},
   "outputs": [
    {
     "name": "stdout",
     "output_type": "stream",
     "text": [
      " uV.FTVRKKYMlNQR;$RuqgzEUjLukW3SgQrn\n",
      "'u.lLphj'!n BpF&gQ3yFvEQf,:!nPLggMn;&ofB\n",
      "'?ogTB&BdYDPlg$'Qhuqiis\n"
     ]
    }
   ],
   "source": [
    "# Generation example with untrained model\n",
    "gen_text = generate_text(\" \", tm1, att_lm, device=device)\n",
    "print(gen_text)"
   ]
  },
  {
   "cell_type": "code",
   "execution_count": 14,
   "id": "6a073092-1b7e-4a78-92be-4239f37afb77",
   "metadata": {},
   "outputs": [
    {
     "name": "stdout",
     "output_type": "stream",
     "text": [
      "Step: 0, Train Loss: 4.2733, Val Loss: 4.2712\n",
      "Step: 500, Train Loss: 3.0829, Val Loss: 3.1002\n",
      "Step: 1000, Train Loss: 2.7002, Val Loss: 2.7099\n",
      "Step: 1500, Train Loss: 2.5722, Val Loss: 2.5827\n",
      "Step: 2000, Train Loss: 2.5384, Val Loss: 2.5458\n",
      "Step: 2500, Train Loss: 2.5062, Val Loss: 2.5187\n",
      "Step: 3000, Train Loss: 2.5003, Val Loss: 2.5119\n",
      "Step: 3500, Train Loss: 2.5031, Val Loss: 2.5123\n",
      "Step: 4000, Train Loss: 2.4941, Val Loss: 2.4937\n",
      "Step: 4500, Train Loss: 2.4835, Val Loss: 2.4961\n",
      "Step: 5000, Train Loss: 2.4930, Val Loss: 2.5034\n",
      "Step: 5500, Train Loss: 2.4749, Val Loss: 2.5127\n",
      "Step: 6000, Train Loss: 2.4816, Val Loss: 2.5148\n",
      "Step: 6500, Train Loss: 2.4876, Val Loss: 2.4921\n",
      "Step: 7000, Train Loss: 2.4817, Val Loss: 2.5035\n",
      "Step: 7500, Train Loss: 2.4853, Val Loss: 2.4976\n",
      "Step: 8000, Train Loss: 2.4730, Val Loss: 2.4951\n",
      "Step: 8500, Train Loss: 2.4732, Val Loss: 2.4953\n",
      "Step: 9000, Train Loss: 2.4691, Val Loss: 2.4965\n",
      "Step: 9500, Train Loss: 2.4751, Val Loss: 2.5041\n"
     ]
    }
   ],
   "source": [
    "train(att_lm, train_data, val_data, device=device)"
   ]
  },
  {
   "cell_type": "code",
   "execution_count": 15,
   "id": "514b4ac8-3d75-4999-9ecc-630c342378bb",
   "metadata": {},
   "outputs": [
    {
     "name": "stdout",
     "output_type": "stream",
     "text": [
      " cont rray \n",
      "\n",
      "ICoyockield, murs, in mamyot hindyongmyooelod Vofetthendy se\n",
      "Hefil brveseay alsteanerm t\n"
     ]
    }
   ],
   "source": [
    "# Generation example with trained model\n",
    "gen_text = generate_text(\" \", tm1, att_lm, device=device)\n",
    "print(gen_text)"
   ]
  },
  {
   "cell_type": "markdown",
   "id": "097f030f-8188-472e-85a8-e3422782546d",
   "metadata": {},
   "source": [
    "### Multi-Head Attention Language Model"
   ]
  },
  {
   "cell_type": "code",
   "execution_count": 16,
   "id": "c9d2e4c8-a6f7-4cbe-8190-14d224e9dc6c",
   "metadata": {},
   "outputs": [
    {
     "name": "stdout",
     "output_type": "stream",
     "text": [
      "torch.Size([32, 65])\n",
      "tensor(4.1802, device='mps:0', grad_fn=<NllLossBackward0>)\n"
     ]
    }
   ],
   "source": [
    "# Foward pass example\n",
    "mult_att_lm = AttentionLM(tm1.vocab_size, n_heads=4, device=device)\n",
    "\n",
    "# Move model to selected device\n",
    "mult_att_lm.to(device)\n",
    "\n",
    "logits, loss = mult_att_lm(xb, yb)\n",
    "print(logits.shape)\n",
    "print(loss)"
   ]
  },
  {
   "cell_type": "code",
   "execution_count": 17,
   "id": "afb59bf4-29f2-40fc-a63d-b1a1e51f94d7",
   "metadata": {},
   "outputs": [
    {
     "name": "stdout",
     "output_type": "stream",
     "text": [
      " o,tT;p!md!LcHXxZJYBQDW,CgXXEtYgtSSTT'G\n",
      "-U$!Qsn.wgN'UOKQykzyedT,eZQjE.QAUyBsXj,HKVjz-O'rqFe.F nJASWyf\n"
     ]
    }
   ],
   "source": [
    "# Generation example with untrained model\n",
    "gen_text = generate_text(\" \", tm1, mult_att_lm, device=device)\n",
    "print(gen_text)"
   ]
  },
  {
   "cell_type": "code",
   "execution_count": 18,
   "id": "14dfe852-431a-414b-81c1-ddd6a4bad47c",
   "metadata": {},
   "outputs": [
    {
     "name": "stdout",
     "output_type": "stream",
     "text": [
      "Step: 0, Train Loss: 4.3135, Val Loss: 4.3091\n",
      "Step: 500, Train Loss: 2.8094, Val Loss: 2.8234\n",
      "Step: 1000, Train Loss: 2.6415, Val Loss: 2.6467\n",
      "Step: 1500, Train Loss: 2.5317, Val Loss: 2.5298\n",
      "Step: 2000, Train Loss: 2.4562, Val Loss: 2.4657\n",
      "Step: 2500, Train Loss: 2.4004, Val Loss: 2.4191\n",
      "Step: 3000, Train Loss: 2.3717, Val Loss: 2.3883\n",
      "Step: 3500, Train Loss: 2.3395, Val Loss: 2.3495\n",
      "Step: 4000, Train Loss: 2.3146, Val Loss: 2.3250\n",
      "Step: 4500, Train Loss: 2.2995, Val Loss: 2.2915\n",
      "Step: 5000, Train Loss: 2.2676, Val Loss: 2.2836\n",
      "Step: 5500, Train Loss: 2.2560, Val Loss: 2.2780\n",
      "Step: 6000, Train Loss: 2.2577, Val Loss: 2.2701\n",
      "Step: 6500, Train Loss: 2.2336, Val Loss: 2.2724\n",
      "Step: 7000, Train Loss: 2.2420, Val Loss: 2.2685\n",
      "Step: 7500, Train Loss: 2.2214, Val Loss: 2.2546\n",
      "Step: 8000, Train Loss: 2.2087, Val Loss: 2.2683\n",
      "Step: 8500, Train Loss: 2.2193, Val Loss: 2.2507\n",
      "Step: 9000, Train Loss: 2.2075, Val Loss: 2.2503\n",
      "Step: 9500, Train Loss: 2.2133, Val Loss: 2.2490\n"
     ]
    }
   ],
   "source": [
    "train(mult_att_lm, train_data, val_data, device=device)"
   ]
  },
  {
   "cell_type": "code",
   "execution_count": 19,
   "id": "bde0e973-f140-4808-ac27-79476aaa8aa3",
   "metadata": {},
   "outputs": [
    {
     "name": "stdout",
     "output_type": "stream",
     "text": [
      " halut que fillived pilitd thimentherroy-pithe ans I and\n",
      "ovy, wearuthe no you wiler startis ig you ee\n"
     ]
    }
   ],
   "source": [
    "# Generation example with trained model\n",
    "gen_text = generate_text(\" \", tm1, mult_att_lm, device=device)\n",
    "print(gen_text)"
   ]
  },
  {
   "cell_type": "code",
   "execution_count": null,
   "id": "6d6b0107-f740-427b-9bc7-f12e1fa21dc2",
   "metadata": {},
   "outputs": [],
   "source": []
  }
 ],
 "metadata": {
  "kernelspec": {
   "display_name": "Python 3 (ipykernel)",
   "language": "python",
   "name": "python3"
  },
  "language_info": {
   "codemirror_mode": {
    "name": "ipython",
    "version": 3
   },
   "file_extension": ".py",
   "mimetype": "text/x-python",
   "name": "python",
   "nbconvert_exporter": "python",
   "pygments_lexer": "ipython3",
   "version": "3.9.6"
  }
 },
 "nbformat": 4,
 "nbformat_minor": 5
}
