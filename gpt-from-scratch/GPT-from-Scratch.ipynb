{
 "cells": [
  {
   "cell_type": "markdown",
   "id": "a7388985-076c-48df-a18c-3883a8b2d726",
   "metadata": {},
   "source": [
    "# GPT from Scratch"
   ]
  },
  {
   "cell_type": "markdown",
   "id": "f6b70392-6567-4cf9-bc14-d93f83df2a64",
   "metadata": {},
   "source": [
    "## Imports"
   ]
  },
  {
   "cell_type": "code",
   "execution_count": 1,
   "id": "93a1af7e-570e-4805-af04-ff36493aaec3",
   "metadata": {},
   "outputs": [],
   "source": [
    "import sys\n",
    "sys.path.append(\".\")\n",
    "from scripts import data_handling as dh\n",
    "from scripts.bigram_lm import BigramLM, train, generate_text\n",
    "\n",
    "import torch\n",
    "import torch.nn as nn\n",
    "import torch.optim as optim"
   ]
  },
  {
   "cell_type": "markdown",
   "id": "9aebdb05-523f-4aca-a0fc-b37fc4730919",
   "metadata": {},
   "source": [
    "## Set Device"
   ]
  },
  {
   "cell_type": "code",
   "execution_count": 2,
   "id": "4775638d-3255-47af-9f30-dc00e2b36f85",
   "metadata": {},
   "outputs": [
    {
     "data": {
      "text/plain": [
       "device(type='mps')"
      ]
     },
     "execution_count": 2,
     "metadata": {},
     "output_type": "execute_result"
    }
   ],
   "source": [
    "if torch.cuda.is_available():\n",
    "    device = torch.device(\"cuda\")\n",
    "elif torch.backends.mps.is_available():\n",
    "    device = torch.device(\"mps\")\n",
    "else:\n",
    "    device = torch.device(\"cpu\")\n",
    "\n",
    "device"
   ]
  },
  {
   "cell_type": "markdown",
   "id": "76b58764-fae4-4152-b582-8b7bba0db0b5",
   "metadata": {},
   "source": [
    "## The Data"
   ]
  },
  {
   "cell_type": "markdown",
   "id": "20a9fc3d-0106-42e2-a976-8bc9f5ac9d75",
   "metadata": {},
   "source": [
    "### Get Data"
   ]
  },
  {
   "cell_type": "code",
   "execution_count": 3,
   "id": "4c0e858d-2e3e-41f8-a316-b728ebfa3e07",
   "metadata": {},
   "outputs": [
    {
     "data": {
      "text/plain": [
       "'Number of characters: 1115394'"
      ]
     },
     "execution_count": 3,
     "metadata": {},
     "output_type": "execute_result"
    }
   ],
   "source": [
    "bard_text = dh.get_text(\"shakespeare\")\n",
    "f\"Number of characters: {len(bard_text)}\""
   ]
  },
  {
   "cell_type": "markdown",
   "id": "3cee4b73-aa48-4deb-9769-6e51c79528c5",
   "metadata": {},
   "source": [
    "### Vocabulary and Tokenisation"
   ]
  },
  {
   "cell_type": "code",
   "execution_count": 4,
   "id": "b639c96a-61d9-4205-b644-f3fa3dffe543",
   "metadata": {},
   "outputs": [
    {
     "name": "stdout",
     "output_type": "stream",
     "text": [
      "Vocabulary (size = 65):\n",
      "        \n",
      " !$&',-.3:;?ABCDEFGHIJKLMNOPQRSTUVWXYZabcdefghijklmnopqrstuvwxyz\n",
      "\n",
      "        First 1000 characters:\n",
      "        First Citizen:\n",
      "Before we proceed any further, hear me speak.\n",
      "\n",
      "All:\n",
      "Speak, speak.\n",
      "\n",
      "First Citizen:\n",
      "You are all resolved rather to die than to famish?\n",
      "\n",
      "All:\n",
      "Resolved. resolved.\n",
      "\n",
      "First Citizen:\n",
      "First, you know Caius Marcius is chief enemy to the people.\n",
      "\n",
      "All:\n",
      "We know't, we know't.\n",
      "\n",
      "First Citizen:\n",
      "Let us kill him, and we'll have corn at our own price.\n",
      "Is't a verdict?\n",
      "\n",
      "All:\n",
      "No more talking on't; let it be done: away, away!\n",
      "\n",
      "Second Citizen:\n",
      "One word, good citizens.\n",
      "\n",
      "First Citizen:\n",
      "We are accounted poor\n",
      "        \n"
     ]
    }
   ],
   "source": [
    "tm1 = dh.TextManager(bard_text)\n",
    "print(tm1)"
   ]
  },
  {
   "cell_type": "markdown",
   "id": "b6c507a8-891b-4fd3-9b2e-9b6011308c1f",
   "metadata": {},
   "source": [
    "### Creating Dataset"
   ]
  },
  {
   "cell_type": "code",
   "execution_count": 5,
   "id": "d4b47ff3-b475-43ec-920b-0e1d514c0287",
   "metadata": {},
   "outputs": [
    {
     "name": "stdout",
     "output_type": "stream",
     "text": [
      "torch.Size([1115394]) torch.int64\n",
      "tensor([18, 47, 56, 57, 58,  1, 15, 47, 58, 47, 64, 43, 52, 10,  0, 14, 43, 44,\n",
      "        53, 56, 43,  1, 61, 43,  1, 54, 56, 53, 41, 43, 43, 42,  1, 39, 52, 63,\n",
      "         1, 44, 59, 56, 58, 46, 43, 56,  6,  1, 46, 43, 39, 56,  1, 51, 43,  1,\n",
      "        57, 54, 43, 39, 49,  8,  0,  0, 13, 50, 50, 10,  0, 31, 54, 43, 39, 49,\n",
      "         6,  1, 57, 54, 43, 39, 49,  8,  0,  0, 18, 47, 56, 57, 58,  1, 15, 47,\n",
      "        58, 47, 64, 43, 52, 10,  0, 37, 53, 59])\n"
     ]
    }
   ],
   "source": [
    "data = tm1.get_text_tensor()\n",
    "print(data.shape, data.dtype)\n",
    "print(data[:100])"
   ]
  },
  {
   "cell_type": "code",
   "execution_count": 6,
   "id": "720ece71-17b9-451a-b0c5-cf88982b5d29",
   "metadata": {},
   "outputs": [
    {
     "name": "stdout",
     "output_type": "stream",
     "text": [
      "Training Data (torch.Size([1003854]))\n",
      "tensor([18, 47, 56, 57, 58,  1, 15, 47, 58, 47, 64, 43, 52, 10,  0, 14, 43, 44,\n",
      "        53, 56, 43,  1, 61, 43,  1, 54, 56, 53, 41, 43, 43, 42,  1, 39, 52, 63,\n",
      "         1, 44, 59, 56, 58, 46, 43, 56,  6,  1, 46, 43, 39, 56,  1, 51, 43,  1,\n",
      "        57, 54, 43, 39, 49,  8,  0,  0, 13, 50, 50, 10,  0, 31, 54, 43, 39, 49,\n",
      "         6,  1, 57, 54, 43, 39, 49,  8,  0,  0, 18, 47, 56, 57, 58,  1, 15, 47,\n",
      "        58, 47, 64, 43, 52, 10,  0, 37, 53, 59])\n",
      "\n",
      "Validation Data (torch.Size([111540]))\n",
      "tensor([12,  0,  0, 19, 30, 17, 25, 21, 27, 10,  0, 19, 53, 53, 42,  1, 51, 53,\n",
      "        56, 56, 53, 61,  6,  1, 52, 43, 47, 45, 46, 40, 53, 59, 56,  1, 14, 39,\n",
      "        54, 58, 47, 57, 58, 39,  8,  0,  0, 14, 13, 28, 32, 21, 31, 32, 13, 10,\n",
      "         0, 19, 53, 53, 42,  1, 51, 53, 56, 56, 53, 61,  6,  1, 52, 43, 47, 45,\n",
      "        46, 40, 53, 59, 56,  1, 19, 56, 43, 51, 47, 53,  8,  0, 19, 53, 42,  1,\n",
      "        57, 39, 60, 43,  1, 63, 53, 59,  6,  1])\n"
     ]
    }
   ],
   "source": [
    "test_size = 0.1\n",
    "train_data, val_data = tm1.get_text_tensor_split(test_size, True)"
   ]
  },
  {
   "cell_type": "markdown",
   "id": "4d86f391-265f-450e-8cfc-61594d684c9f",
   "metadata": {},
   "source": [
    "### Batching"
   ]
  },
  {
   "cell_type": "code",
   "execution_count": 7,
   "id": "dca2120a-fc8b-4adb-a072-472809c8884b",
   "metadata": {},
   "outputs": [
    {
     "name": "stdout",
     "output_type": "stream",
     "text": [
      "Inputs:\n",
      "torch.Size([4, 8])\n",
      "tensor([[24, 43, 58,  5, 57,  1, 46, 43],\n",
      "        [44, 53, 56,  1, 58, 46, 39, 58],\n",
      "        [52, 58,  1, 58, 46, 39, 58,  1],\n",
      "        [25, 17, 27, 10,  0, 21,  1, 54]], device='mps:0')\n",
      "Targets:\n",
      "torch.Size([4, 8])\n",
      "tensor([[43, 58,  5, 57,  1, 46, 43, 39],\n",
      "        [53, 56,  1, 58, 46, 39, 58,  1],\n",
      "        [58,  1, 58, 46, 39, 58,  1, 46],\n",
      "        [17, 27, 10,  0, 21,  1, 54, 39]], device='mps:0')\n",
      "============================================\n",
      "When input (context) is [24] target = 43.\n",
      "When input (context) is [24, 43] target = 58.\n",
      "When input (context) is [24, 43, 58] target = 5.\n",
      "When input (context) is [24, 43, 58, 5] target = 57.\n",
      "When input (context) is [24, 43, 58, 5, 57] target = 1.\n",
      "When input (context) is [24, 43, 58, 5, 57, 1] target = 46.\n",
      "When input (context) is [24, 43, 58, 5, 57, 1, 46] target = 43.\n",
      "When input (context) is [24, 43, 58, 5, 57, 1, 46, 43] target = 39.\n",
      "When input (context) is [44] target = 53.\n",
      "When input (context) is [44, 53] target = 56.\n",
      "When input (context) is [44, 53, 56] target = 1.\n",
      "When input (context) is [44, 53, 56, 1] target = 58.\n",
      "When input (context) is [44, 53, 56, 1, 58] target = 46.\n",
      "When input (context) is [44, 53, 56, 1, 58, 46] target = 39.\n",
      "When input (context) is [44, 53, 56, 1, 58, 46, 39] target = 58.\n",
      "When input (context) is [44, 53, 56, 1, 58, 46, 39, 58] target = 1.\n",
      "When input (context) is [52] target = 58.\n",
      "When input (context) is [52, 58] target = 1.\n",
      "When input (context) is [52, 58, 1] target = 58.\n",
      "When input (context) is [52, 58, 1, 58] target = 46.\n",
      "When input (context) is [52, 58, 1, 58, 46] target = 39.\n",
      "When input (context) is [52, 58, 1, 58, 46, 39] target = 58.\n",
      "When input (context) is [52, 58, 1, 58, 46, 39, 58] target = 1.\n",
      "When input (context) is [52, 58, 1, 58, 46, 39, 58, 1] target = 46.\n",
      "When input (context) is [25] target = 17.\n",
      "When input (context) is [25, 17] target = 27.\n",
      "When input (context) is [25, 17, 27] target = 10.\n",
      "When input (context) is [25, 17, 27, 10] target = 0.\n",
      "When input (context) is [25, 17, 27, 10, 0] target = 21.\n",
      "When input (context) is [25, 17, 27, 10, 0, 21] target = 1.\n",
      "When input (context) is [25, 17, 27, 10, 0, 21, 1] target = 54.\n",
      "When input (context) is [25, 17, 27, 10, 0, 21, 1, 54] target = 39.\n"
     ]
    }
   ],
   "source": [
    "# Block size (T) = context length for prediction\n",
    "# Batch size (B) = number of independent sequences we process in parallel\n",
    "torch.manual_seed(1337)\n",
    "block_size = 8\n",
    "batch_size = 4\n",
    "xb, yb = dh.create_batch(train_data, block_size, batch_size, device)\n",
    "dh.batch_sanity_check(xb, yb)"
   ]
  },
  {
   "cell_type": "markdown",
   "id": "f41449a5-28b8-414d-9928-8f204f404d6d",
   "metadata": {},
   "source": [
    "## Models"
   ]
  },
  {
   "cell_type": "markdown",
   "id": "e4974de4-d09a-434a-be6f-6748f2d52f8e",
   "metadata": {},
   "source": [
    "### Bigram Language Model"
   ]
  },
  {
   "cell_type": "code",
   "execution_count": 8,
   "id": "3e382c53-8edb-4a29-8eb1-136d51d37d8c",
   "metadata": {},
   "outputs": [],
   "source": [
    "# class BigramLM(nn.Module):\n",
    "#     def __init__(self, vocab_size, n_embd=32, block_size=8):\n",
    "#         super().__init__()\n",
    "#         self.embedding = nn.Embedding(vocab_size, n_embd)\n",
    "#         self.pos_embedding = nn.Embedding(block_size, n_embd)\n",
    "#         self.lm_head = nn.Linear(n_embd, vocab_size)\n",
    "#         self.loss = nn.CrossEntropyLoss()\n",
    "#         self.softmax = nn.Softmax(dim=-1)\n",
    "\n",
    "#     def forward(self, idx, targets=None):\n",
    "#         B, T = idx.shape # (B x T)\n",
    "#         tok_emb = self.embedding(idx) # (B x T x C)\n",
    "#         pos_emb = self.pos_embedding(torch.arange(T, device=device)) # (T x C)\n",
    "#         logits = self.lm_head(tok_emb + pos_emb) # (B x T x vocab_size)\n",
    "\n",
    "#         if targets is not None:\n",
    "#             # Reshape logits and targets\n",
    "#             B, T, C = logits.shape\n",
    "#             logits = logits.view(B*T, C)\n",
    "#             targets = targets.view(B*T)\n",
    "    \n",
    "#             # Calculate loss\n",
    "#             loss = self.loss(logits, targets)\n",
    "#         else:\n",
    "#             loss = None\n",
    "        \n",
    "#         return logits, loss\n",
    "\n",
    "#     def generate(self, idx, max_new_tokens):\n",
    "#         for _ in range(max_new_tokens):\n",
    "#             # Get predictions\n",
    "#             logits, _ = self(idx)\n",
    "#             logits = logits[:, -1, :] # (B x C)\n",
    "            \n",
    "#             # Apply softmax to probabilities\n",
    "#             probs = self.softmax(logits) # (B x C)\n",
    "\n",
    "#             # Sample from distribution\n",
    "#             idx_next = torch.multinomial(probs, num_samples=1) # (B x 1)\n",
    "#             idx = torch.cat((idx, idx_next), dim=1) # (B x T+1)\n",
    "#         return idx"
   ]
  },
  {
   "cell_type": "code",
   "execution_count": 15,
   "id": "0a27615d-dd1c-42ce-8831-d91cd54d2fc1",
   "metadata": {},
   "outputs": [
    {
     "name": "stdout",
     "output_type": "stream",
     "text": [
      "torch.Size([32, 65])\n",
      "tensor(4.6424, device='mps:0', grad_fn=<NllLossBackward0>)\n"
     ]
    }
   ],
   "source": [
    "# # Foward pass example\n",
    "# bi_lm = BigramLM(tm1.vocab_size)\n",
    "\n",
    "# # Move model to selected device\n",
    "# bi_lm.to(device)\n",
    "\n",
    "# logits, loss = bi_lm(xb, yb)\n",
    "# print(logits.shape)\n",
    "# print(loss)"
   ]
  },
  {
   "cell_type": "code",
   "execution_count": 16,
   "id": "a7d70897-be0f-46ec-a94c-bb903e11402b",
   "metadata": {},
   "outputs": [
    {
     "name": "stdout",
     "output_type": "stream",
     "text": [
      " U as&3mK?YMj$fEcqkPuQNRelOOOuUfZW&ewNy:r$c-jk,ECOIiHeg Eggqu\n",
      "pCCrrvMtVcAoyDXPujNnv&?ofyO.vrFoJKyLTDL\n"
     ]
    }
   ],
   "source": [
    "# # Generation example\n",
    "# start_char = \" \"\n",
    "# start_idx = tm1.encode(start_char)\n",
    "# start_idx = torch.tensor(start_idx, dtype=torch.long, device=device).view((1,1))\n",
    "\n",
    "# gen_idx = bi_lm.generate(start_idx, 100)[0].tolist()\n",
    "# print(tm1.decode(gen_idx))"
   ]
  },
  {
   "cell_type": "code",
   "execution_count": 17,
   "id": "ba563f58-16b3-4c3e-b855-6f0e8d0d0267",
   "metadata": {},
   "outputs": [
    {
     "name": "stdout",
     "output_type": "stream",
     "text": [
      "3.3296780586242676\n"
     ]
    }
   ],
   "source": [
    "# opt = get_optimiser(\"adam\", bi_lm, 1e-03)\n",
    "\n",
    "# for steps in range(100):\n",
    "#     # Sample batch of data\n",
    "#     xb, yb = create_batch(train_data, batch_size=32)\n",
    "\n",
    "#     # Evaluate loss\n",
    "#     logits, loss = bi_lm(xb, yb)\n",
    "#     opt.zero_grad()\n",
    "#     loss.backward()\n",
    "#     opt.step()\n",
    "# print(loss.item())"
   ]
  },
  {
   "cell_type": "code",
   "execution_count": 18,
   "id": "70f94c78-5430-46fd-9ccb-36337f47d63b",
   "metadata": {},
   "outputs": [
    {
     "name": "stdout",
     "output_type": "stream",
     "text": [
      " &PaLo oiimp;nytPPDuaV IYcE\n",
      "bTG$eDwPxiY&s\n",
      "vfkFcaNnl-hDN\n",
      "Ly\n",
      "Bn,w?wjelgBOu NwiWeEEce-lbustsBl!qt'3cQs;m\n"
     ]
    }
   ],
   "source": [
    "# # Generation example with trained model\n",
    "# train_gen_idx = bi_lm.generate(start_idx, 100)[0].tolist()\n",
    "# print(tm1.decode(train_gen_idx))"
   ]
  },
  {
   "cell_type": "code",
   "execution_count": 9,
   "id": "5fbadc19-d0d9-4276-bda3-ef23abb2daff",
   "metadata": {},
   "outputs": [
    {
     "name": "stdout",
     "output_type": "stream",
     "text": [
      "torch.Size([32, 65])\n",
      "tensor(4.6424, device='mps:0', grad_fn=<NllLossBackward0>)\n"
     ]
    }
   ],
   "source": [
    "# Foward pass example\n",
    "bi_lm = BigramLM(tm1.vocab_size, device=device)\n",
    "\n",
    "# Move model to selected device\n",
    "bi_lm.to(device)\n",
    "\n",
    "logits, loss = bi_lm(xb, yb)\n",
    "print(logits.shape)\n",
    "print(loss)"
   ]
  },
  {
   "cell_type": "code",
   "execution_count": 10,
   "id": "50c8f6d0-7599-4c09-803f-067c2c7e2a09",
   "metadata": {},
   "outputs": [
    {
     "name": "stdout",
     "output_type": "stream",
     "text": [
      " U as&3mK?YMj$fEcqkPuQNRelOOOuUfZW&ewNy:r$c-jk,ECOIiHeg Eggqu\n",
      "pCCrrvMtVcAoyDXPujNnv&?ofyO.vrFoJKyLTDL\n"
     ]
    }
   ],
   "source": [
    "# Generation example with untrained model\n",
    "gen_text = generate_text(\" \", tm1, bi_lm, device=device)\n",
    "print(gen_text)"
   ]
  },
  {
   "cell_type": "code",
   "execution_count": 11,
   "id": "54fb59ce-d8ba-4645-9ec6-83be8a4562fa",
   "metadata": {},
   "outputs": [
    {
     "name": "stdout",
     "output_type": "stream",
     "text": [
      "Step: 0, Train Loss: 4.4576, Val Loss: 4.4575\n",
      "Step: 4000, Train Loss: 2.4811, Val Loss: 2.5112\n",
      "Step: 8000, Train Loss: 2.4617, Val Loss: 2.4952\n",
      "Step: 12000, Train Loss: 2.4705, Val Loss: 2.5010\n",
      "Step: 16000, Train Loss: 2.4549, Val Loss: 2.4999\n",
      "Step: 20000, Train Loss: 2.4651, Val Loss: 2.4806\n",
      "Step: 24000, Train Loss: 2.4690, Val Loss: 2.4934\n",
      "Step: 28000, Train Loss: 2.4598, Val Loss: 2.4750\n",
      "Step: 32000, Train Loss: 2.4535, Val Loss: 2.4727\n",
      "Step: 36000, Train Loss: 2.4539, Val Loss: 2.4917\n",
      "Step: 40000, Train Loss: 2.4641, Val Loss: 2.5089\n",
      "Step: 44000, Train Loss: 2.4586, Val Loss: 2.5103\n",
      "Step: 48000, Train Loss: 2.4589, Val Loss: 2.4972\n",
      "Step: 52000, Train Loss: 2.4662, Val Loss: 2.4936\n",
      "Step: 56000, Train Loss: 2.4527, Val Loss: 2.4868\n",
      "Step: 60000, Train Loss: 2.4709, Val Loss: 2.5025\n",
      "Step: 64000, Train Loss: 2.4539, Val Loss: 2.4891\n",
      "Step: 68000, Train Loss: 2.4525, Val Loss: 2.4821\n",
      "Step: 72000, Train Loss: 2.4564, Val Loss: 2.4906\n",
      "Step: 76000, Train Loss: 2.4574, Val Loss: 2.4897\n",
      "Step: 80000, Train Loss: 2.4550, Val Loss: 2.5007\n",
      "Step: 84000, Train Loss: 2.4555, Val Loss: 2.4846\n",
      "Step: 88000, Train Loss: 2.4568, Val Loss: 2.4925\n",
      "Step: 92000, Train Loss: 2.4641, Val Loss: 2.4918\n",
      "Step: 96000, Train Loss: 2.4673, Val Loss: 2.4853\n"
     ]
    }
   ],
   "source": [
    "train(bi_lm, train_data, val_data, max_iters=100000, eval_interval=4000, device=device)"
   ]
  },
  {
   "cell_type": "code",
   "execution_count": 12,
   "id": "6e30381b-bcd6-4183-8577-a17f6a05d5a7",
   "metadata": {},
   "outputs": [
    {
     "name": "stdout",
     "output_type": "stream",
     "text": [
      " ouspo onimppry PS:\n",
      "ARThome\n",
      "bur'TRDUMEYCKEESThananl-htcany\n",
      "BORYOFLAMASOf gayovof,\n",
      "YOUKENGBYownthcus;\n",
      "\n"
     ]
    }
   ],
   "source": [
    "# Generation example with trained model\n",
    "gen_text = generate_text(\" \", tm1, bi_lm, device=device)\n",
    "print(gen_text)"
   ]
  },
  {
   "cell_type": "code",
   "execution_count": null,
   "id": "0c697196-618d-483e-9bd2-102811938560",
   "metadata": {},
   "outputs": [],
   "source": []
  }
 ],
 "metadata": {
  "kernelspec": {
   "display_name": "Python 3 (ipykernel)",
   "language": "python",
   "name": "python3"
  },
  "language_info": {
   "codemirror_mode": {
    "name": "ipython",
    "version": 3
   },
   "file_extension": ".py",
   "mimetype": "text/x-python",
   "name": "python",
   "nbconvert_exporter": "python",
   "pygments_lexer": "ipython3",
   "version": "3.9.6"
  }
 },
 "nbformat": 4,
 "nbformat_minor": 5
}
