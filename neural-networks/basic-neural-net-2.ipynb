{
 "cells": [
  {
   "cell_type": "code",
   "execution_count": 56,
   "metadata": {},
   "outputs": [],
   "source": [
    "import numpy as np"
   ]
  },
  {
   "cell_type": "code",
   "execution_count": 57,
   "metadata": {},
   "outputs": [],
   "source": [
    "class BasicAnn:\n",
    "    def __init__(self, layers):\n",
    "        self._layers = layers\n",
    "        self._num_layers = len(layers)\n",
    "        self._parameters = self._set_parameters(layers)\n",
    "        self._activations = {}\n",
    "        self._linear_acts = {}\n",
    "        \n",
    "    def _set_parameters(self, layers):\n",
    "        L = self._num_layers\n",
    "        parameters = {}\n",
    "        \n",
    "        for l in range(1, L):\n",
    "            parameters[f\"W{l}\"] = np.random.randn(layers[l][0], layers[l-1][0]) * 0.01\n",
    "            parameters[f\"b{l}\"] = np.zeros((layers[l][0], 1)) * 0.01\n",
    "        \n",
    "        return parameters\n",
    "    \n",
    "    def _activation(self, x, activ_func):\n",
    "        if activ_func == \"sigmoid\":\n",
    "            return 1/(1+np.exp(-x))\n",
    "        elif activ_func == \"tanh\":\n",
    "            return (np.exp(x)-np.exp(-x))/(np.exp(x)+np.exp(-x))\n",
    "        elif activ_func == \"relu\":\n",
    "            return x * (x > 0)\n",
    "        elif activ_func == \"linear\":\n",
    "            return x\n",
    "    \n",
    "    def forward_pass(self, X):\n",
    "        act = X\n",
    "        L = self._num_layers\n",
    "        \n",
    "        for l in range(1, L):\n",
    "            W, b = self._parameters[f\"W{l}\"], self._parameters[f\"b{l}\"]\n",
    "            Z = np.dot(W, act) + b\n",
    "            act = self._activation(Z, self._layers[l][1])\n",
    "            self._linear_acts[f\"Z{l}\"] = Z\n",
    "            self._activations[f\"A{l}\"] = act\n"
   ]
  },
  {
   "cell_type": "code",
   "execution_count": 58,
   "metadata": {},
   "outputs": [],
   "source": [
    "X = np.random.randn(5,100)"
   ]
  },
  {
   "cell_type": "code",
   "execution_count": 59,
   "metadata": {},
   "outputs": [],
   "source": [
    "myAnn = BasicAnn(((5,\"input\"),(4, \"relu\"),(1, \"sigmoid\")))\n",
    "myAnn.forward_pass(X)"
   ]
  },
  {
   "cell_type": "code",
   "execution_count": null,
   "metadata": {},
   "outputs": [],
   "source": []
  }
 ],
 "metadata": {
  "kernelspec": {
   "display_name": "Python 3",
   "language": "python",
   "name": "python3"
  },
  "language_info": {
   "codemirror_mode": {
    "name": "ipython",
    "version": 3
   },
   "file_extension": ".py",
   "mimetype": "text/x-python",
   "name": "python",
   "nbconvert_exporter": "python",
   "pygments_lexer": "ipython3",
   "version": "3.7.6"
  }
 },
 "nbformat": 4,
 "nbformat_minor": 4
}
