{
 "cells": [
  {
   "cell_type": "code",
   "execution_count": 1,
   "metadata": {},
   "outputs": [],
   "source": [
    "# Imports\n",
    "## Data loading and manipulation\n",
    "import pandas as pd\n",
    "import numpy as np\n",
    "import h5py\n",
    "\n",
    "## Model performace evaluation\n",
    "from sklearn.metrics import *\n",
    "from sklearn.model_selection import train_test_split\n",
    "\n",
    "## Plotting\n",
    "import seaborn as sns\n",
    "import matplotlib.pyplot as plt\n",
    "import plotly.express as px\n",
    "import plotly.graph_objects as go\n",
    "\n",
    "## Image Manipultion\n",
    "from PIL import Image\n",
    "from scipy import ndimage"
   ]
  },
  {
   "cell_type": "code",
   "execution_count": 2,
   "metadata": {},
   "outputs": [],
   "source": [
    "# Basic Neural Network Class\n",
    "class BasicAnn:\n",
    "    def __init__(self, layers, cost_func):\n",
    "        self._layers = layers\n",
    "        self._cost_func = cost_func\n",
    "        self._num_layers = len(layers)\n",
    "        self._parameters = self._set_parameters(layers)\n",
    "        \n",
    "    def _set_parameters(self, layers):\n",
    "        L = self._num_layers\n",
    "        parameters = {}\n",
    "        \n",
    "        for l in range(1, L):\n",
    "            parameters[f\"W{l}\"] = np.random.randn(layers[l][0], layers[l-1][0]) / np.sqrt(layers[l-1][0])\n",
    "            parameters[f\"b{l}\"] = np.zeros((layers[l][0], 1))\n",
    "        \n",
    "        return parameters\n",
    "    \n",
    "    def _activation(self, x, activ_func):\n",
    "        if activ_func == \"sigmoid\":\n",
    "            return 1/(1+np.exp(-x))\n",
    "        elif activ_func == \"tanh\":\n",
    "            return (np.exp(x)-np.exp(-x))/(np.exp(x)+np.exp(-x))\n",
    "        elif activ_func == \"relu\":\n",
    "            return x * (x > 0)\n",
    "        elif activ_func == \"linear\":\n",
    "            return x\n",
    "    \n",
    "    def _activation_deriv(self, a, activ_func):\n",
    "        \"\"\"\n",
    "        Function to return value with the derivative of the selected activation\n",
    "        \"\"\"\n",
    "        if activ_func == \"sigmoid\":\n",
    "            return a * (1 - a)\n",
    "        elif activ_func == \"tanh\":\n",
    "            return 1 - a**2\n",
    "        elif activ_func == \"relu\":\n",
    "            return 1 * (a > 0)\n",
    "        elif activ_func == \"linear\":\n",
    "            return np.ones(a.shape)\n",
    "    \n",
    "    def train(self, X, Y, epochs=1000, l_rate=0.1):\n",
    "        cost_data = []\n",
    "        \n",
    "        for i in range(epochs):\n",
    "            # forward pass\n",
    "            acts = self._forward_pass(X)\n",
    "            output = acts[0][f\"A{self._num_layers - 1}\"]\n",
    "            \n",
    "            # error calculation\n",
    "            cost = self._compute_cost(output, Y)\n",
    "            cost_data.append(cost)\n",
    "            \n",
    "            # backward pass\n",
    "            grads = self._compute_gradients(output, Y, acts[0])\n",
    "            self._update_parameters(l_rate, grads)\n",
    "        \n",
    "        cost_data = pd.DataFrame(data={\"Cost\": cost_data})\n",
    "        return cost_data\n",
    "    \n",
    "    def predict(self, test_inputs, actual_outputs=None):\n",
    "        \"\"\"\n",
    "        Runs a forward pass of the network with the newly configured weights\n",
    "        and biases and returns a dataframe comparing the predicted values\n",
    "        to actual values as well as a dataframe with various error metrics\n",
    "        \"\"\"\n",
    "        # Foward pass\n",
    "        acts = self._forward_pass(test_inputs)\n",
    "        output = acts[0][f\"A{self._num_layers - 1}\"]\n",
    "        \n",
    "        return output\n",
    "            \n",
    "        \n",
    "    def _forward_pass(self, X):\n",
    "        act = X\n",
    "        activations = { \"A0\": act }\n",
    "        linear_acts = {}\n",
    "        L = self._num_layers\n",
    "        \n",
    "        for l in range(1, L):\n",
    "            W, b = self._parameters[f\"W{l}\"], self._parameters[f\"b{l}\"]\n",
    "            Z = W.dot(act) + b\n",
    "            act = self._activation(Z, self._layers[l][1])\n",
    "            linear_acts[f\"Z{l}\"] = Z\n",
    "            activations[f\"A{l}\"] = act\n",
    "        \n",
    "        return activations, linear_acts\n",
    "    \n",
    "    def _compute_cost(self, AL, Y):\n",
    "        m = Y.shape[1]\n",
    "        \n",
    "        if self._cost_func == \"cross_entropy\":\n",
    "            cost = -1/m * np.sum(\n",
    "                np.multiply(np.log(AL), Y) + np.multiply((1 - Y), np.log(1 - AL))\n",
    "            )\n",
    "            cost = np.squeeze(cost)\n",
    "        elif self._cost_func == \"mean_square\":\n",
    "            cost = 1/m * np.sum((AL - Y) ** 2)\n",
    "        \n",
    "        return cost\n",
    "    \n",
    "    def _output_deriv(self, AL, Y):\n",
    "        \"\"\"\n",
    "        Outputs the derivate of the output activation layer with \n",
    "        respect to a given cost function\n",
    "        \"\"\"\n",
    "        if self._cost_func == \"cross_entropy\":\n",
    "            dAL = - (np.divide(Y, AL) - np.divide(1 - Y, 1 - AL))\n",
    "        elif self._cost_func == \"mean_square\":\n",
    "            dAL = 2 * (AL - Y)\n",
    "        \n",
    "        return dAL\n",
    "    \n",
    "    def _compute_gradients(self, AL, Y, acts):\n",
    "        gradients = {}\n",
    "        \n",
    "        dAL = self._output_deriv(AL, Y)\n",
    "        L = self._num_layers\n",
    "        m = Y.shape[1]\n",
    "        \n",
    "        dZL = dAL * self._activation_deriv(AL, self._layers[L-1][1])\n",
    "        dWL = 1/m * np.dot(dZL, acts[f\"A{L-2}\"].T)\n",
    "        dbL = 1/m * np.sum(dZL, axis=1, keepdims=True)\n",
    "        \n",
    "        gradients[f\"dA{L - 1}\"] = dAL\n",
    "        gradients[f\"dW{L - 1}\"] = dWL\n",
    "        gradients[f\"db{L - 1}\"] = dbL\n",
    "        gradients[f\"dA{L - 2}\"] = np.dot(self._parameters[f\"W{L - 1}\"].T, dZL)\n",
    "        \n",
    "        for l in range(L - 2, 0, -1):\n",
    "            A = acts[f\"A{l}\"]\n",
    "            W = self._parameters[f\"W{l}\"]\n",
    "\n",
    "            dZ = gradients[f\"dA{l}\"] * self._activation_deriv(A, self._layers[l][1])\n",
    "            dW = 1/m * np.dot(dZ, acts[f\"A{l-1}\"].T)\n",
    "            db = 1/m * np.sum(dZ, axis=1, keepdims=True)\n",
    "            \n",
    "            gradients[f\"dA{l-1}\"] = np.dot(W.T, dZ)\n",
    "            gradients[f\"dW{l}\"] = dW\n",
    "            gradients[f\"db{l}\"] = db\n",
    "        \n",
    "        return gradients\n",
    "\n",
    "    def _update_parameters(self, l_rate, gradients):\n",
    "        L = self._num_layers\n",
    "        \n",
    "        for l in range(1, L):\n",
    "            self._parameters[f\"W{l}\"] -= l_rate * gradients[f\"dW{l}\"]\n",
    "            self._parameters[f\"b{l}\"] -= l_rate * gradients[f\"db{l}\"]"
   ]
  },
  {
   "cell_type": "markdown",
   "metadata": {},
   "source": [
    "## Loading Data"
   ]
  },
  {
   "cell_type": "code",
   "execution_count": 3,
   "metadata": {},
   "outputs": [],
   "source": [
    "# Loading dataset\n",
    "train_set = h5py.File('../datasets/cat-v-noncat_train.h5', 'r')\n",
    "test_set = h5py.File('../datasets/cat-v-noncat_test.h5', 'r')\n",
    "\n",
    "train_X_orig = np.array(train_set[\"train_set_x\"][:])\n",
    "train_Y_orig = np.array(train_set[\"train_set_y\"][:])\n",
    "test_X_orig = np.array(test_set[\"test_set_x\"][:])\n",
    "test_Y_orig = np.array(test_set[\"test_set_y\"][:])\n",
    "classes = np.array(test_set[\"list_classes\"][:])"
   ]
  },
  {
   "cell_type": "code",
   "execution_count": 4,
   "metadata": {},
   "outputs": [],
   "source": [
    "# Reshaping and standardising image data\n",
    "train_X = train_X_orig.reshape(train_X_orig.shape[0], -1).T / 255\n",
    "test_X = test_X_orig.reshape(test_X_orig.shape[0], -1).T / 255\n",
    "\n",
    "train_Y = train_Y_orig.reshape(1, train_Y_orig.shape[0])\n",
    "test_Y = test_Y_orig.reshape(1, test_Y_orig.shape[0])"
   ]
  },
  {
   "cell_type": "markdown",
   "metadata": {},
   "source": [
    "## Testing Model"
   ]
  },
  {
   "cell_type": "code",
   "execution_count": 5,
   "metadata": {},
   "outputs": [],
   "source": [
    "n_x = train_X.shape[0]\n",
    "\n",
    "# img_classifier = BasicAnn(((n_x, \"input\"), (20, \"relu\"), (7, \"relu\"), (5, \"relu\"), (1, \"sigmoid\")), \"cross_entropy\")\n",
    "img_classifier = BasicAnn(((n_x, \"input\"), (7, \"relu\"), (1, \"sigmoid\")), \"cross_entropy\")\n",
    "cost_data = img_classifier.train(train_X, train_Y, epochs=2500, l_rate=0.0075)\n",
    "preds = img_classifier.predict(test_X)"
   ]
  },
  {
   "cell_type": "code",
   "execution_count": 6,
   "metadata": {},
   "outputs": [
    {
     "data": {
      "text/plain": [
       "<matplotlib.axes._subplots.AxesSubplot at 0x7fecb8a803d0>"
      ]
     },
     "execution_count": 6,
     "metadata": {},
     "output_type": "execute_result"
    },
    {
     "data": {
      "image/png": "[encoded data removed]",
      "text/plain": [
       "<Figure size 432x288 with 1 Axes>"
      ]
     },
     "metadata": {
      "needs_background": "light"
     },
     "output_type": "display_data"
    }
   ],
   "source": [
    "cost_data.plot()"
   ]
  },
  {
   "cell_type": "code",
   "execution_count": 7,
   "metadata": {},
   "outputs": [
    {
     "data": {
      "text/html": [
       "<div>\n",
       "<style scoped>\n",
       "    .dataframe tbody tr th:only-of-type {\n",
       "        vertical-align: middle;\n",
       "    }\n",
       "\n",
       "    .dataframe tbody tr th {\n",
       "        vertical-align: top;\n",
       "    }\n",
       "\n",
       "    .dataframe thead th {\n",
       "        text-align: right;\n",
       "    }\n",
       "</style>\n",
       "<table border=\"1\" class=\"dataframe\">\n",
       "  <thead>\n",
       "    <tr style=\"text-align: right;\">\n",
       "      <th></th>\n",
       "      <th>Cost</th>\n",
       "    </tr>\n",
       "  </thead>\n",
       "  <tbody>\n",
       "    <tr>\n",
       "      <th>2495</th>\n",
       "      <td>0.029619</td>\n",
       "    </tr>\n",
       "    <tr>\n",
       "      <th>2496</th>\n",
       "      <td>0.029601</td>\n",
       "    </tr>\n",
       "    <tr>\n",
       "      <th>2497</th>\n",
       "      <td>0.029580</td>\n",
       "    </tr>\n",
       "    <tr>\n",
       "      <th>2498</th>\n",
       "      <td>0.029569</td>\n",
       "    </tr>\n",
       "    <tr>\n",
       "      <th>2499</th>\n",
       "      <td>0.029549</td>\n",
       "    </tr>\n",
       "  </tbody>\n",
       "</table>\n",
       "</div>"
      ],
      "text/plain": [
       "          Cost\n",
       "2495  0.029619\n",
       "2496  0.029601\n",
       "2497  0.029580\n",
       "2498  0.029569\n",
       "2499  0.029549"
      ]
     },
     "execution_count": 7,
     "metadata": {},
     "output_type": "execute_result"
    }
   ],
   "source": [
    "cost_data.tail(5)"
   ]
  },
  {
   "cell_type": "code",
   "execution_count": 8,
   "metadata": {},
   "outputs": [
    {
     "data": {
      "text/plain": [
       "array([[9.87882033e-01, 9.95063204e-01, 9.71741009e-01, 9.82799781e-01,\n",
       "        6.60120897e-01, 9.43789149e-01, 2.26566858e-03, 6.81436254e-01,\n",
       "        9.94302861e-01, 9.92465190e-01, 9.77560458e-01, 9.97362850e-01,\n",
       "        9.95305231e-01, 9.86084506e-01, 5.43601838e-04, 9.91242525e-01,\n",
       "        9.12994049e-03, 9.69284827e-01, 2.93946454e-02, 4.26249550e-03,\n",
       "        9.89058795e-01, 2.16429245e-02, 1.92433939e-04, 6.61005322e-01,\n",
       "        9.11041426e-01, 9.65362454e-01, 9.65779916e-01, 6.91477992e-04,\n",
       "        5.18085847e-02, 9.99999660e-01, 9.44206698e-01, 9.19122258e-01,\n",
       "        5.87129263e-01, 8.19731252e-01, 8.82872796e-01, 7.91600823e-04,\n",
       "        7.07192941e-03, 9.94003255e-01, 1.75733569e-01, 4.65804698e-02,\n",
       "        8.09383119e-01, 7.65367872e-01, 9.53626182e-01, 6.80375016e-03,\n",
       "        9.87029974e-01, 1.15498749e-01, 1.10523569e-01, 9.98229122e-01,\n",
       "        8.08601311e-01, 9.77783606e-03]])"
      ]
     },
     "execution_count": 8,
     "metadata": {},
     "output_type": "execute_result"
    }
   ],
   "source": [
    "preds"
   ]
  },
  {
   "cell_type": "code",
   "execution_count": 9,
   "metadata": {},
   "outputs": [
    {
     "data": {
      "text/plain": [
       "array([[1, 1, 1, 1, 1, 0, 1, 1, 1, 1, 1, 1, 1, 0, 0, 1, 0, 1, 1, 1, 1, 0,\n",
       "        0, 1, 1, 1, 1, 0, 1, 0, 1, 1, 1, 1, 0, 0, 0, 1, 0, 0, 1, 1, 1, 0,\n",
       "        0, 0, 1, 1, 1, 0]])"
      ]
     },
     "execution_count": 9,
     "metadata": {},
     "output_type": "execute_result"
    }
   ],
   "source": [
    "test_Y"
   ]
  },
  {
   "cell_type": "code",
   "execution_count": 10,
   "metadata": {},
   "outputs": [
    {
     "data": {
      "text/plain": [
       "0.8"
      ]
     },
     "execution_count": 10,
     "metadata": {},
     "output_type": "execute_result"
    }
   ],
   "source": [
    "np.sum((1 * (preds >= 0.5)) == test_Y) / test_Y.shape[1]"
   ]
  },
  {
   "cell_type": "code",
   "execution_count": 11,
   "metadata": {},
   "outputs": [
    {
     "data": {
      "text/plain": [
       "0.009777836061947136"
      ]
     },
     "execution_count": 11,
     "metadata": {},
     "output_type": "execute_result"
    }
   ],
   "source": [
    "preds[-1][-1]"
   ]
  },
  {
   "cell_type": "code",
   "execution_count": 12,
   "metadata": {},
   "outputs": [
    {
     "data": {
      "text/plain": [
       "(12288, 209)"
      ]
     },
     "execution_count": 12,
     "metadata": {},
     "output_type": "execute_result"
    }
   ],
   "source": [
    "train_X.shape"
   ]
  },
  {
   "cell_type": "code",
   "execution_count": 13,
   "metadata": {},
   "outputs": [
    {
     "data": {
      "text/plain": [
       "(1, 209)"
      ]
     },
     "execution_count": 13,
     "metadata": {},
     "output_type": "execute_result"
    }
   ],
   "source": [
    "train_Y.shape"
   ]
  },
  {
   "cell_type": "code",
   "execution_count": null,
   "metadata": {},
   "outputs": [],
   "source": []
  }
 ],
 "metadata": {
  "kernelspec": {
   "display_name": "Python 3",
   "language": "python",
   "name": "python3"
  },
  "language_info": {
   "codemirror_mode": {
    "name": "ipython",
    "version": 3
   },
   "file_extension": ".py",
   "mimetype": "text/x-python",
   "name": "python",
   "nbconvert_exporter": "python",
   "pygments_lexer": "ipython3",
   "version": "3.7.6"
  }
 },
 "nbformat": 4,
 "nbformat_minor": 4
}
