{
 "cells": [
  {
   "cell_type": "markdown",
   "id": "64b55160-307f-4859-9d52-48c79dcd8f3a",
   "metadata": {},
   "source": [
    "# Imports"
   ]
  },
  {
   "cell_type": "code",
   "execution_count": 2,
   "id": "43c525e5-2fe6-4352-bab9-46604f2d26aa",
   "metadata": {},
   "outputs": [
    {
     "name": "stderr",
     "output_type": "stream",
     "text": [
      "2024-02-10 15:41:48.260619: I tensorflow/core/platform/cpu_feature_guard.cc:182] This TensorFlow binary is optimized to use available CPU instructions in performance-critical operations.\n",
      "To enable the following instructions: AVX2 FMA, in other operations, rebuild TensorFlow with the appropriate compiler flags.\n"
     ]
    }
   ],
   "source": [
    "import torch\n",
    "import tensorflow as tf"
   ]
  },
  {
   "cell_type": "markdown",
   "id": "8e06316b-8553-4d4c-81e7-68951d3559e8",
   "metadata": {},
   "source": [
    "## Data Manipulation"
   ]
  },
  {
   "cell_type": "code",
   "execution_count": 7,
   "id": "e31b3352-0909-4a77-b3cc-7fa12407fe70",
   "metadata": {},
   "outputs": [],
   "source": [
    "x_p = torch.arange(1, 13, dtype=torch.float32)\n",
    "x_t = tf.range(1,13, dtype=tf.float32)"
   ]
  },
  {
   "cell_type": "code",
   "execution_count": 5,
   "id": "6f87408b-2822-45c7-b524-18203a25b02b",
   "metadata": {},
   "outputs": [
    {
     "data": {
      "text/plain": [
       "tensor([ 1.,  2.,  3.,  4.,  5.,  6.,  7.,  8.,  9., 10., 11.])"
      ]
     },
     "execution_count": 5,
     "metadata": {},
     "output_type": "execute_result"
    }
   ],
   "source": [
    "x_p"
   ]
  },
  {
   "cell_type": "code",
   "execution_count": 6,
   "id": "451bec6d-3371-4771-a01b-d37c505aecd7",
   "metadata": {},
   "outputs": [
    {
     "data": {
      "text/plain": [
       "<tf.Tensor: shape=(11,), dtype=float32, numpy=\n",
       "array([ 1.,  2.,  3.,  4.,  5.,  6.,  7.,  8.,  9., 10., 11.],\n",
       "      dtype=float32)>"
      ]
     },
     "execution_count": 6,
     "metadata": {},
     "output_type": "execute_result"
    }
   ],
   "source": [
    "x_t"
   ]
  },
  {
   "cell_type": "code",
   "execution_count": 11,
   "id": "fb6a25d9-acde-4f09-a791-1f059ae4c78f",
   "metadata": {},
   "outputs": [
    {
     "data": {
      "text/plain": [
       "<tf.Tensor: shape=(12,), dtype=float32, numpy=\n",
       "array([1.0000000e+00, 4.0000000e+00, 2.7000000e+01, 2.5600000e+02,\n",
       "       3.1250000e+03, 4.6656000e+04, 8.2354300e+05, 1.6777216e+07,\n",
       "       3.8742048e+08, 1.0000000e+10, 2.8531166e+11, 8.9161004e+12],\n",
       "      dtype=float32)>"
      ]
     },
     "execution_count": 11,
     "metadata": {},
     "output_type": "execute_result"
    }
   ],
   "source": [
    "x_p ** x_t"
   ]
  },
  {
   "cell_type": "code",
   "execution_count": 12,
   "id": "566f10b4-0cef-4fee-9b8c-30a25862ed55",
   "metadata": {},
   "outputs": [
    {
     "data": {
      "text/plain": [
       "12"
      ]
     },
     "execution_count": 12,
     "metadata": {},
     "output_type": "execute_result"
    }
   ],
   "source": [
    "x_p.numel()"
   ]
  },
  {
   "cell_type": "code",
   "execution_count": 17,
   "id": "dbcedb59-6f66-4772-9db7-ec5de486d61e",
   "metadata": {},
   "outputs": [
    {
     "data": {
      "text/plain": [
       "<tf.Tensor: shape=(), dtype=int32, numpy=12>"
      ]
     },
     "execution_count": 17,
     "metadata": {},
     "output_type": "execute_result"
    }
   ],
   "source": [
    "tf.size(x_t)"
   ]
  },
  {
   "cell_type": "code",
   "execution_count": 19,
   "id": "91c1dcbf-b012-41f7-85fb-07f68493dafe",
   "metadata": {},
   "outputs": [
    {
     "data": {
      "text/plain": [
       "TensorShape([12])"
      ]
     },
     "execution_count": 19,
     "metadata": {},
     "output_type": "execute_result"
    }
   ],
   "source": [
    "x_t.shape"
   ]
  },
  {
   "cell_type": "code",
   "execution_count": 20,
   "id": "3efb4958-fb8b-4b94-9791-faaf0565fcc5",
   "metadata": {},
   "outputs": [
    {
     "data": {
      "text/plain": [
       "tensor([[ 1.,  2.,  3.,  4.],\n",
       "        [ 5.,  6.,  7.,  8.],\n",
       "        [ 9., 10., 11., 12.]])"
      ]
     },
     "execution_count": 20,
     "metadata": {},
     "output_type": "execute_result"
    }
   ],
   "source": [
    "z_p = x_p.reshape(3,4)\n",
    "z_p"
   ]
  },
  {
   "cell_type": "code",
   "execution_count": 22,
   "id": "c6e790c6-4fa4-42eb-b769-520859ba2d6e",
   "metadata": {},
   "outputs": [
    {
     "data": {
      "text/plain": [
       "tensor(4.)"
      ]
     },
     "execution_count": 22,
     "metadata": {},
     "output_type": "execute_result"
    }
   ],
   "source": [
    "z_p[0, 3]"
   ]
  },
  {
   "cell_type": "code",
   "execution_count": 25,
   "id": "04a267b2-12ed-413f-b37f-df5e281cd637",
   "metadata": {},
   "outputs": [
    {
     "data": {
      "text/plain": [
       "tensor([[ 1.,  2.],\n",
       "        [ 3.,  4.],\n",
       "        [ 5.,  6.],\n",
       "        [ 7.,  8.],\n",
       "        [ 9., 10.],\n",
       "        [11., 12.]])"
      ]
     },
     "execution_count": 25,
     "metadata": {},
     "output_type": "execute_result"
    }
   ],
   "source": [
    "x_p.reshape(6, -1)"
   ]
  },
  {
   "cell_type": "code",
   "execution_count": 26,
   "id": "48b75530-f671-4882-9609-a2003a81b294",
   "metadata": {},
   "outputs": [
    {
     "data": {
      "text/plain": [
       "tensor([ 1.,  2.,  3.,  4.,  5.,  6.,  7.,  8.,  9., 10., 11., 12.])"
      ]
     },
     "execution_count": 26,
     "metadata": {},
     "output_type": "execute_result"
    }
   ],
   "source": [
    "x_p"
   ]
  },
  {
   "cell_type": "markdown",
   "id": "0ab2f973-e85c-43bf-b005-fbbace094abc",
   "metadata": {},
   "source": [
    "### Zeros and Ones"
   ]
  },
  {
   "cell_type": "code",
   "execution_count": 28,
   "id": "9a7c55ab-a514-4574-8255-75d581824b47",
   "metadata": {},
   "outputs": [
    {
     "data": {
      "text/plain": [
       "tensor([[[0., 0., 0., 0.],\n",
       "         [0., 0., 0., 0.],\n",
       "         [0., 0., 0., 0.]],\n",
       "\n",
       "        [[0., 0., 0., 0.],\n",
       "         [0., 0., 0., 0.],\n",
       "         [0., 0., 0., 0.]]])"
      ]
     },
     "execution_count": 28,
     "metadata": {},
     "output_type": "execute_result"
    }
   ],
   "source": [
    "y = torch.zeros(2,3,4)\n",
    "y"
   ]
  },
  {
   "cell_type": "code",
   "execution_count": 35,
   "id": "cebd11f8-c759-4d1e-97cb-9dd2dec554ee",
   "metadata": {},
   "outputs": [
    {
     "data": {
      "text/plain": [
       "tensor([[[0., 0.],\n",
       "         [0., 0.]],\n",
       "\n",
       "        [[0., 0.],\n",
       "         [0., 0.]],\n",
       "\n",
       "        [[0., 0.],\n",
       "         [0., 0.]],\n",
       "\n",
       "        [[0., 0.],\n",
       "         [0., 0.]],\n",
       "\n",
       "        [[0., 0.],\n",
       "         [0., 0.]],\n",
       "\n",
       "        [[0., 0.],\n",
       "         [0., 0.]]])"
      ]
     },
     "execution_count": 35,
     "metadata": {},
     "output_type": "execute_result"
    }
   ],
   "source": [
    "y.reshape(6,2,-1)"
   ]
  },
  {
   "cell_type": "code",
   "execution_count": 37,
   "id": "d6b86a5c-d7bb-4054-b01b-afe142c5b57b",
   "metadata": {},
   "outputs": [
    {
     "data": {
      "text/plain": [
       "tensor([[[1., 1., 1., 1.],\n",
       "         [1., 1., 1., 1.],\n",
       "         [1., 1., 1., 1.]],\n",
       "\n",
       "        [[1., 1., 1., 1.],\n",
       "         [1., 1., 1., 1.],\n",
       "         [1., 1., 1., 1.]]])"
      ]
     },
     "execution_count": 37,
     "metadata": {},
     "output_type": "execute_result"
    }
   ],
   "source": [
    "z = torch.ones(2,3,4)\n",
    "z"
   ]
  },
  {
   "cell_type": "markdown",
   "id": "eb800bd4-0e12-441f-8af9-82692cc4e14a",
   "metadata": {},
   "source": [
    "### Random Numbers"
   ]
  },
  {
   "cell_type": "code",
   "execution_count": 55,
   "id": "fcc596bf-14e4-4844-bb55-52d89ac51ccc",
   "metadata": {},
   "outputs": [
    {
     "data": {
      "text/plain": [
       "tensor([[[4.7817, 7.8731, 6.4300, 1.5912],\n",
       "         [3.1955, 2.1673, 4.2195, 0.4662],\n",
       "         [7.1313, 9.8152, 6.7317, 8.4975]],\n",
       "\n",
       "        [[7.0272, 5.4637, 8.8992, 6.0284],\n",
       "         [1.6086, 4.8453, 4.2232, 4.4114],\n",
       "         [1.7687, 0.7766, 2.2216, 5.7903]]])"
      ]
     },
     "execution_count": 55,
     "metadata": {},
     "output_type": "execute_result"
    }
   ],
   "source": [
    "a = torch.rand(2,3,4) * 10\n",
    "a"
   ]
  },
  {
   "cell_type": "code",
   "execution_count": 58,
   "id": "e4676cd8-697f-4326-8871-939e25675b35",
   "metadata": {},
   "outputs": [
    {
     "data": {
      "text/plain": [
       "tensor([[[ 5.,  8.,  6.,  2.],\n",
       "         [ 3.,  2.,  4.,  0.],\n",
       "         [ 7., 10.,  7.,  8.]],\n",
       "\n",
       "        [[ 7.,  5.,  9.,  6.],\n",
       "         [ 2.,  5.,  4.,  4.],\n",
       "         [ 2.,  1.,  2.,  6.]]])"
      ]
     },
     "execution_count": 58,
     "metadata": {},
     "output_type": "execute_result"
    }
   ],
   "source": [
    "a.round()"
   ]
  },
  {
   "cell_type": "code",
   "execution_count": 48,
   "id": "2bafa260-c391-42e9-b592-fd1a0e95720a",
   "metadata": {},
   "outputs": [
    {
     "data": {
      "text/plain": [
       "tensor([[[ 1.0418e+01,  8.3034e+00,  6.2576e+00, -1.2419e+01],\n",
       "         [ 1.3756e+00,  1.7472e+00,  1.8974e+01, -1.3611e+01],\n",
       "         [ 1.8403e+01,  1.0101e+04,  5.3092e+00, -6.3796e+00]],\n",
       "\n",
       "        [[ 4.5733e-01,  1.1958e+01, -2.7008e+00, -8.7040e+00],\n",
       "         [ 1.5059e+00,  1.3973e+00,  8.8949e+00, -2.7479e+00],\n",
       "         [-7.8090e+00, -4.3775e+00,  1.8147e+00,  2.1252e+01]]])"
      ]
     },
     "execution_count": 48,
     "metadata": {},
     "output_type": "execute_result"
    }
   ],
   "source": [
    "a[0,2,1] = 10101\n",
    "a"
   ]
  },
  {
   "cell_type": "markdown",
   "id": "4e5631df-070c-4342-bd45-1f8c42b962eb",
   "metadata": {},
   "source": [
    "### Operations"
   ]
  },
  {
   "cell_type": "code",
   "execution_count": 90,
   "id": "9bf3c02e-03e6-4d4c-9831-c265bc41addf",
   "metadata": {},
   "outputs": [
    {
     "data": {
      "text/plain": [
       "tensor([[ 1.,  2.,  3.,  4.],\n",
       "        [ 5.,  6.,  7.,  8.],\n",
       "        [ 9., 10., 11., 12.],\n",
       "        [13., 14., 15., 16.],\n",
       "        [17., 18., 19., 20.]])"
      ]
     },
     "execution_count": 90,
     "metadata": {},
     "output_type": "execute_result"
    }
   ],
   "source": [
    "x = torch.arange(1,21, dtype=torch.float32).reshape(5, -1)\n",
    "x"
   ]
  },
  {
   "cell_type": "code",
   "execution_count": 91,
   "id": "0161b49e-7830-44f0-a536-98e329b8bffb",
   "metadata": {},
   "outputs": [
    {
     "data": {
      "text/plain": [
       "tensor([[2.7183e+00, 7.3891e+00, 2.0086e+01, 5.4598e+01],\n",
       "        [1.4841e+02, 4.0343e+02, 1.0966e+03, 2.9810e+03],\n",
       "        [8.1031e+03, 2.2026e+04, 5.9874e+04, 1.6275e+05],\n",
       "        [4.4241e+05, 1.2026e+06, 3.2690e+06, 8.8861e+06],\n",
       "        [2.4155e+07, 6.5660e+07, 1.7848e+08, 4.8517e+08]])"
      ]
     },
     "execution_count": 91,
     "metadata": {},
     "output_type": "execute_result"
    }
   ],
   "source": [
    "torch.exp(x)"
   ]
  },
  {
   "cell_type": "code",
   "execution_count": 92,
   "id": "fee635b1-02e9-42dc-b1de-ae5b8178693e",
   "metadata": {},
   "outputs": [
    {
     "data": {
      "text/plain": [
       "tensor([[8., 1., 1., 9.],\n",
       "        [6., 8., 1., 4.],\n",
       "        [4., 4., 4., 5.],\n",
       "        [5., 9., 1., 6.],\n",
       "        [6., 8., 2., 4.]])"
      ]
     },
     "execution_count": 92,
     "metadata": {},
     "output_type": "execute_result"
    }
   ],
   "source": [
    "y = (torch.rand(20) * 10).round().reshape(5,-1)\n",
    "y"
   ]
  },
  {
   "cell_type": "code",
   "execution_count": 93,
   "id": "b8c2bd35-8350-4257-b475-cfd20dd84b08",
   "metadata": {},
   "outputs": [
    {
     "data": {
      "text/plain": [
       "(tensor([[ 9.,  3.,  4., 13.],\n",
       "         [11., 14.,  8., 12.],\n",
       "         [13., 14., 15., 17.],\n",
       "         [18., 23., 16., 22.],\n",
       "         [23., 26., 21., 24.]]),\n",
       " tensor([[-7.,  1.,  2., -5.],\n",
       "         [-1., -2.,  6.,  4.],\n",
       "         [ 5.,  6.,  7.,  7.],\n",
       "         [ 8.,  5., 14., 10.],\n",
       "         [11., 10., 17., 16.]]),\n",
       " tensor([[  8.,   2.,   3.,  36.],\n",
       "         [ 30.,  48.,   7.,  32.],\n",
       "         [ 36.,  40.,  44.,  60.],\n",
       "         [ 65., 126.,  15.,  96.],\n",
       "         [102., 144.,  38.,  80.]]),\n",
       " tensor([[ 0.1250,  2.0000,  3.0000,  0.4444],\n",
       "         [ 0.8333,  0.7500,  7.0000,  2.0000],\n",
       "         [ 2.2500,  2.5000,  2.7500,  2.4000],\n",
       "         [ 2.6000,  1.5556, 15.0000,  2.6667],\n",
       "         [ 2.8333,  2.2500,  9.5000,  5.0000]]),\n",
       " tensor([[8.0000, 0.5000, 0.3333, 2.2500],\n",
       "         [1.2000, 1.3333, 0.1429, 0.5000],\n",
       "         [0.4444, 0.4000, 0.3636, 0.4167],\n",
       "         [0.3846, 0.6429, 0.0667, 0.3750],\n",
       "         [0.3529, 0.4444, 0.1053, 0.2000]]),\n",
       " tensor([[1.0000e+00, 2.0000e+00, 3.0000e+00, 2.6214e+05],\n",
       "         [1.5625e+04, 1.6796e+06, 7.0000e+00, 4.0960e+03],\n",
       "         [6.5610e+03, 1.0000e+04, 1.4641e+04, 2.4883e+05],\n",
       "         [3.7129e+05, 2.0661e+10, 1.5000e+01, 1.6777e+07],\n",
       "         [2.4138e+07, 1.1020e+10, 3.6100e+02, 1.6000e+05]]))"
      ]
     },
     "execution_count": 93,
     "metadata": {},
     "output_type": "execute_result"
    }
   ],
   "source": [
    "x+y, x-y, x*y, x/y, y/x, x**y"
   ]
  },
  {
   "cell_type": "code",
   "execution_count": 94,
   "id": "7ee5bf24-bee8-4af0-86d8-b7f991c71f07",
   "metadata": {},
   "outputs": [
    {
     "data": {
      "text/plain": [
       "tensor([[ 1.,  2.,  3.,  4.],\n",
       "        [ 5.,  6.,  7.,  8.],\n",
       "        [ 9., 10., 11., 12.],\n",
       "        [13., 14., 15., 16.],\n",
       "        [17., 18., 19., 20.],\n",
       "        [ 8.,  1.,  1.,  9.],\n",
       "        [ 6.,  8.,  1.,  4.],\n",
       "        [ 4.,  4.,  4.,  5.],\n",
       "        [ 5.,  9.,  1.,  6.],\n",
       "        [ 6.,  8.,  2.,  4.]])"
      ]
     },
     "execution_count": 94,
     "metadata": {},
     "output_type": "execute_result"
    }
   ],
   "source": [
    "torch.cat((x,y), dim=0)"
   ]
  },
  {
   "cell_type": "code",
   "execution_count": 95,
   "id": "63da5324-90da-4d4c-9558-f65c1eab8c07",
   "metadata": {},
   "outputs": [
    {
     "data": {
      "text/plain": [
       "tensor([[ 1.,  2.,  3.,  4.,  8.,  1.,  1.,  9.],\n",
       "        [ 5.,  6.,  7.,  8.,  6.,  8.,  1.,  4.],\n",
       "        [ 9., 10., 11., 12.,  4.,  4.,  4.,  5.],\n",
       "        [13., 14., 15., 16.,  5.,  9.,  1.,  6.],\n",
       "        [17., 18., 19., 20.,  6.,  8.,  2.,  4.]])"
      ]
     },
     "execution_count": 95,
     "metadata": {},
     "output_type": "execute_result"
    }
   ],
   "source": [
    "torch.cat((x,y), dim=1)"
   ]
  },
  {
   "cell_type": "code",
   "execution_count": 100,
   "id": "6720922b-f3f7-486a-9113-d2697b7dc86c",
   "metadata": {},
   "outputs": [
    {
     "data": {
      "text/plain": [
       "tensor([[False,  True,  True,  True],\n",
       "        [ True,  True, False,  True],\n",
       "        [ True, False, False, False],\n",
       "        [False,  True, False, False],\n",
       "        [False, False, False, False]])"
      ]
     },
     "execution_count": 100,
     "metadata": {},
     "output_type": "execute_result"
    }
   ],
   "source": [
    "abs(x-y) <= 5"
   ]
  },
  {
   "cell_type": "code",
   "execution_count": 101,
   "id": "21ff7974-c5ee-4f80-ba08-30c7dbdddaa9",
   "metadata": {},
   "outputs": [
    {
     "data": {
      "text/plain": [
       "(tensor(210.), tensor(96.))"
      ]
     },
     "execution_count": 101,
     "metadata": {},
     "output_type": "execute_result"
    }
   ],
   "source": [
    "x.sum(), y.sum()"
   ]
  },
  {
   "cell_type": "code",
   "execution_count": null,
   "id": "c09a6e0e-a00b-48e3-976f-97d6628afa57",
   "metadata": {},
   "outputs": [],
   "source": []
  }
 ],
 "metadata": {
  "kernelspec": {
   "display_name": "Python 3 (ipykernel)",
   "language": "python",
   "name": "python3"
  },
  "language_info": {
   "codemirror_mode": {
    "name": "ipython",
    "version": 3
   },
   "file_extension": ".py",
   "mimetype": "text/x-python",
   "name": "python",
   "nbconvert_exporter": "python",
   "pygments_lexer": "ipython3",
   "version": "3.9.6"
  }
 },
 "nbformat": 4,
 "nbformat_minor": 5
}
