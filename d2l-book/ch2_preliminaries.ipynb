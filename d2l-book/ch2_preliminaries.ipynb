{
 "cells": [
  {
   "cell_type": "markdown",
   "id": "64b55160-307f-4859-9d52-48c79dcd8f3a",
   "metadata": {},
   "source": [
    "# Imports"
   ]
  },
  {
   "cell_type": "code",
   "execution_count": 43,
   "id": "43c525e5-2fe6-4352-bab9-46604f2d26aa",
   "metadata": {},
   "outputs": [],
   "source": [
    "import torch\n",
    "import tensorflow as tf\n",
    "import numpy as np"
   ]
  },
  {
   "cell_type": "markdown",
   "id": "8e06316b-8553-4d4c-81e7-68951d3559e8",
   "metadata": {},
   "source": [
    "## Data Manipulation"
   ]
  },
  {
   "cell_type": "code",
   "execution_count": 2,
   "id": "e31b3352-0909-4a77-b3cc-7fa12407fe70",
   "metadata": {},
   "outputs": [
    {
     "data": {
      "text/plain": [
       "tensor([ 1.,  2.,  3.,  4.,  5.,  6.,  7.,  8.,  9., 10., 11., 12.])"
      ]
     },
     "execution_count": 2,
     "metadata": {},
     "output_type": "execute_result"
    }
   ],
   "source": [
    "x_p = torch.arange(1, 13, dtype=torch.float32)\n",
    "x_p"
   ]
  },
  {
   "cell_type": "code",
   "execution_count": 3,
   "id": "566f10b4-0cef-4fee-9b8c-30a25862ed55",
   "metadata": {},
   "outputs": [
    {
     "data": {
      "text/plain": [
       "12"
      ]
     },
     "execution_count": 3,
     "metadata": {},
     "output_type": "execute_result"
    }
   ],
   "source": [
    "x_p.numel()"
   ]
  },
  {
   "cell_type": "code",
   "execution_count": 4,
   "id": "dbcedb59-6f66-4772-9db7-ec5de486d61e",
   "metadata": {},
   "outputs": [
    {
     "data": {
      "text/plain": [
       "<tf.Tensor: shape=(), dtype=int32, numpy=12>"
      ]
     },
     "execution_count": 4,
     "metadata": {},
     "output_type": "execute_result"
    }
   ],
   "source": [
    "tf.size(x_p)"
   ]
  },
  {
   "cell_type": "code",
   "execution_count": 6,
   "id": "3efb4958-fb8b-4b94-9791-faaf0565fcc5",
   "metadata": {},
   "outputs": [
    {
     "data": {
      "text/plain": [
       "tensor([[ 1.,  2.,  3.,  4.],\n",
       "        [ 5.,  6.,  7.,  8.],\n",
       "        [ 9., 10., 11., 12.]])"
      ]
     },
     "execution_count": 6,
     "metadata": {},
     "output_type": "execute_result"
    }
   ],
   "source": [
    "z_p = x_p.reshape(3,4)\n",
    "z_p"
   ]
  },
  {
   "cell_type": "code",
   "execution_count": 7,
   "id": "c6e790c6-4fa4-42eb-b769-520859ba2d6e",
   "metadata": {},
   "outputs": [
    {
     "data": {
      "text/plain": [
       "tensor(4.)"
      ]
     },
     "execution_count": 7,
     "metadata": {},
     "output_type": "execute_result"
    }
   ],
   "source": [
    "z_p[0, 3]"
   ]
  },
  {
   "cell_type": "code",
   "execution_count": 8,
   "id": "04a267b2-12ed-413f-b37f-df5e281cd637",
   "metadata": {},
   "outputs": [
    {
     "data": {
      "text/plain": [
       "tensor([[ 1.,  2.],\n",
       "        [ 3.,  4.],\n",
       "        [ 5.,  6.],\n",
       "        [ 7.,  8.],\n",
       "        [ 9., 10.],\n",
       "        [11., 12.]])"
      ]
     },
     "execution_count": 8,
     "metadata": {},
     "output_type": "execute_result"
    }
   ],
   "source": [
    "x_p.reshape(6, -1)"
   ]
  },
  {
   "cell_type": "code",
   "execution_count": 9,
   "id": "48b75530-f671-4882-9609-a2003a81b294",
   "metadata": {},
   "outputs": [
    {
     "data": {
      "text/plain": [
       "tensor([ 1.,  2.,  3.,  4.,  5.,  6.,  7.,  8.,  9., 10., 11., 12.])"
      ]
     },
     "execution_count": 9,
     "metadata": {},
     "output_type": "execute_result"
    }
   ],
   "source": [
    "x_p"
   ]
  },
  {
   "cell_type": "markdown",
   "id": "0ab2f973-e85c-43bf-b005-fbbace094abc",
   "metadata": {},
   "source": [
    "### Zeros and Ones"
   ]
  },
  {
   "cell_type": "code",
   "execution_count": 10,
   "id": "9a7c55ab-a514-4574-8255-75d581824b47",
   "metadata": {},
   "outputs": [
    {
     "data": {
      "text/plain": [
       "tensor([[[0., 0., 0., 0.],\n",
       "         [0., 0., 0., 0.],\n",
       "         [0., 0., 0., 0.]],\n",
       "\n",
       "        [[0., 0., 0., 0.],\n",
       "         [0., 0., 0., 0.],\n",
       "         [0., 0., 0., 0.]]])"
      ]
     },
     "execution_count": 10,
     "metadata": {},
     "output_type": "execute_result"
    }
   ],
   "source": [
    "y = torch.zeros(2,3,4)\n",
    "y"
   ]
  },
  {
   "cell_type": "code",
   "execution_count": 11,
   "id": "cebd11f8-c759-4d1e-97cb-9dd2dec554ee",
   "metadata": {},
   "outputs": [
    {
     "data": {
      "text/plain": [
       "tensor([[[0., 0.],\n",
       "         [0., 0.]],\n",
       "\n",
       "        [[0., 0.],\n",
       "         [0., 0.]],\n",
       "\n",
       "        [[0., 0.],\n",
       "         [0., 0.]],\n",
       "\n",
       "        [[0., 0.],\n",
       "         [0., 0.]],\n",
       "\n",
       "        [[0., 0.],\n",
       "         [0., 0.]],\n",
       "\n",
       "        [[0., 0.],\n",
       "         [0., 0.]]])"
      ]
     },
     "execution_count": 11,
     "metadata": {},
     "output_type": "execute_result"
    }
   ],
   "source": [
    "y.reshape(6,2,-1)"
   ]
  },
  {
   "cell_type": "code",
   "execution_count": 12,
   "id": "d6b86a5c-d7bb-4054-b01b-afe142c5b57b",
   "metadata": {},
   "outputs": [
    {
     "data": {
      "text/plain": [
       "tensor([[[1., 1., 1., 1.],\n",
       "         [1., 1., 1., 1.],\n",
       "         [1., 1., 1., 1.]],\n",
       "\n",
       "        [[1., 1., 1., 1.],\n",
       "         [1., 1., 1., 1.],\n",
       "         [1., 1., 1., 1.]]])"
      ]
     },
     "execution_count": 12,
     "metadata": {},
     "output_type": "execute_result"
    }
   ],
   "source": [
    "z = torch.ones(2,3,4)\n",
    "z"
   ]
  },
  {
   "cell_type": "markdown",
   "id": "eb800bd4-0e12-441f-8af9-82692cc4e14a",
   "metadata": {},
   "source": [
    "### Random Numbers"
   ]
  },
  {
   "cell_type": "code",
   "execution_count": 13,
   "id": "fcc596bf-14e4-4844-bb55-52d89ac51ccc",
   "metadata": {},
   "outputs": [
    {
     "data": {
      "text/plain": [
       "tensor([[[4.7216, 9.9772, 0.9173, 7.9551],\n",
       "         [7.1746, 1.5884, 9.5906, 3.1432],\n",
       "         [1.3604, 4.9939, 9.5583, 4.7661]],\n",
       "\n",
       "        [[2.4870, 3.9943, 2.1535, 7.9310],\n",
       "         [7.6543, 0.9194, 5.7744, 4.5147],\n",
       "         [7.2574, 8.4284, 7.3981, 2.8357]]])"
      ]
     },
     "execution_count": 13,
     "metadata": {},
     "output_type": "execute_result"
    }
   ],
   "source": [
    "a = torch.rand(2,3,4) * 10\n",
    "a"
   ]
  },
  {
   "cell_type": "code",
   "execution_count": 14,
   "id": "e4676cd8-697f-4326-8871-939e25675b35",
   "metadata": {},
   "outputs": [
    {
     "data": {
      "text/plain": [
       "tensor([[[ 5., 10.,  1.,  8.],\n",
       "         [ 7.,  2., 10.,  3.],\n",
       "         [ 1.,  5., 10.,  5.]],\n",
       "\n",
       "        [[ 2.,  4.,  2.,  8.],\n",
       "         [ 8.,  1.,  6.,  5.],\n",
       "         [ 7.,  8.,  7.,  3.]]])"
      ]
     },
     "execution_count": 14,
     "metadata": {},
     "output_type": "execute_result"
    }
   ],
   "source": [
    "a.round()"
   ]
  },
  {
   "cell_type": "markdown",
   "id": "4e5631df-070c-4342-bd45-1f8c42b962eb",
   "metadata": {},
   "source": [
    "### Operations"
   ]
  },
  {
   "cell_type": "code",
   "execution_count": 15,
   "id": "9bf3c02e-03e6-4d4c-9831-c265bc41addf",
   "metadata": {},
   "outputs": [
    {
     "data": {
      "text/plain": [
       "tensor([[ 1.,  2.,  3.,  4.],\n",
       "        [ 5.,  6.,  7.,  8.],\n",
       "        [ 9., 10., 11., 12.],\n",
       "        [13., 14., 15., 16.],\n",
       "        [17., 18., 19., 20.]])"
      ]
     },
     "execution_count": 15,
     "metadata": {},
     "output_type": "execute_result"
    }
   ],
   "source": [
    "x = torch.arange(1,21, dtype=torch.float32).reshape(5, -1)\n",
    "x"
   ]
  },
  {
   "cell_type": "code",
   "execution_count": 16,
   "id": "0161b49e-7830-44f0-a536-98e329b8bffb",
   "metadata": {},
   "outputs": [
    {
     "data": {
      "text/plain": [
       "tensor([[2.7183e+00, 7.3891e+00, 2.0086e+01, 5.4598e+01],\n",
       "        [1.4841e+02, 4.0343e+02, 1.0966e+03, 2.9810e+03],\n",
       "        [8.1031e+03, 2.2026e+04, 5.9874e+04, 1.6275e+05],\n",
       "        [4.4241e+05, 1.2026e+06, 3.2690e+06, 8.8861e+06],\n",
       "        [2.4155e+07, 6.5660e+07, 1.7848e+08, 4.8517e+08]])"
      ]
     },
     "execution_count": 16,
     "metadata": {},
     "output_type": "execute_result"
    }
   ],
   "source": [
    "torch.exp(x)"
   ]
  },
  {
   "cell_type": "code",
   "execution_count": 17,
   "id": "fee635b1-02e9-42dc-b1de-ae5b8178693e",
   "metadata": {},
   "outputs": [
    {
     "data": {
      "text/plain": [
       "tensor([[3., 7., 4., 2.],\n",
       "        [9., 6., 7., 6.],\n",
       "        [7., 3., 1., 1.],\n",
       "        [9., 7., 5., 6.],\n",
       "        [9., 4., 9., 1.]])"
      ]
     },
     "execution_count": 17,
     "metadata": {},
     "output_type": "execute_result"
    }
   ],
   "source": [
    "y = (torch.rand(20) * 10).round().reshape(5,-1)\n",
    "y"
   ]
  },
  {
   "cell_type": "code",
   "execution_count": 18,
   "id": "b8c2bd35-8350-4257-b475-cfd20dd84b08",
   "metadata": {},
   "outputs": [
    {
     "data": {
      "text/plain": [
       "(tensor([[ 4.,  9.,  7.,  6.],\n",
       "         [14., 12., 14., 14.],\n",
       "         [16., 13., 12., 13.],\n",
       "         [22., 21., 20., 22.],\n",
       "         [26., 22., 28., 21.]]),\n",
       " tensor([[-2., -5., -1.,  2.],\n",
       "         [-4.,  0.,  0.,  2.],\n",
       "         [ 2.,  7., 10., 11.],\n",
       "         [ 4.,  7., 10., 10.],\n",
       "         [ 8., 14., 10., 19.]]),\n",
       " tensor([[  3.,  14.,  12.,   8.],\n",
       "         [ 45.,  36.,  49.,  48.],\n",
       "         [ 63.,  30.,  11.,  12.],\n",
       "         [117.,  98.,  75.,  96.],\n",
       "         [153.,  72., 171.,  20.]]),\n",
       " tensor([[ 0.3333,  0.2857,  0.7500,  2.0000],\n",
       "         [ 0.5556,  1.0000,  1.0000,  1.3333],\n",
       "         [ 1.2857,  3.3333, 11.0000, 12.0000],\n",
       "         [ 1.4444,  2.0000,  3.0000,  2.6667],\n",
       "         [ 1.8889,  4.5000,  2.1111, 20.0000]]),\n",
       " tensor([[3.0000, 3.5000, 1.3333, 0.5000],\n",
       "         [1.8000, 1.0000, 1.0000, 0.7500],\n",
       "         [0.7778, 0.3000, 0.0909, 0.0833],\n",
       "         [0.6923, 0.5000, 0.3333, 0.3750],\n",
       "         [0.5294, 0.2222, 0.4737, 0.0500]]),\n",
       " tensor([[1.0000e+00, 1.2800e+02, 8.1000e+01, 1.6000e+01],\n",
       "         [1.9531e+06, 4.6656e+04, 8.2354e+05, 2.6214e+05],\n",
       "         [4.7830e+06, 1.0000e+03, 1.1000e+01, 1.2000e+01],\n",
       "         [1.0604e+10, 1.0541e+08, 7.5938e+05, 1.6777e+07],\n",
       "         [1.1859e+11, 1.0498e+05, 3.2269e+11, 2.0000e+01]]))"
      ]
     },
     "execution_count": 18,
     "metadata": {},
     "output_type": "execute_result"
    }
   ],
   "source": [
    "x+y, x-y, x*y, x/y, y/x, x**y"
   ]
  },
  {
   "cell_type": "code",
   "execution_count": 19,
   "id": "7ee5bf24-bee8-4af0-86d8-b7f991c71f07",
   "metadata": {},
   "outputs": [
    {
     "data": {
      "text/plain": [
       "tensor([[ 1.,  2.,  3.,  4.],\n",
       "        [ 5.,  6.,  7.,  8.],\n",
       "        [ 9., 10., 11., 12.],\n",
       "        [13., 14., 15., 16.],\n",
       "        [17., 18., 19., 20.],\n",
       "        [ 3.,  7.,  4.,  2.],\n",
       "        [ 9.,  6.,  7.,  6.],\n",
       "        [ 7.,  3.,  1.,  1.],\n",
       "        [ 9.,  7.,  5.,  6.],\n",
       "        [ 9.,  4.,  9.,  1.]])"
      ]
     },
     "execution_count": 19,
     "metadata": {},
     "output_type": "execute_result"
    }
   ],
   "source": [
    "torch.cat((x,y), dim=0)"
   ]
  },
  {
   "cell_type": "code",
   "execution_count": 20,
   "id": "63da5324-90da-4d4c-9558-f65c1eab8c07",
   "metadata": {},
   "outputs": [
    {
     "data": {
      "text/plain": [
       "tensor([[ 1.,  2.,  3.,  4.,  3.,  7.,  4.,  2.],\n",
       "        [ 5.,  6.,  7.,  8.,  9.,  6.,  7.,  6.],\n",
       "        [ 9., 10., 11., 12.,  7.,  3.,  1.,  1.],\n",
       "        [13., 14., 15., 16.,  9.,  7.,  5.,  6.],\n",
       "        [17., 18., 19., 20.,  9.,  4.,  9.,  1.]])"
      ]
     },
     "execution_count": 20,
     "metadata": {},
     "output_type": "execute_result"
    }
   ],
   "source": [
    "torch.cat((x,y), dim=1)"
   ]
  },
  {
   "cell_type": "code",
   "execution_count": 21,
   "id": "6720922b-f3f7-486a-9113-d2697b7dc86c",
   "metadata": {},
   "outputs": [
    {
     "data": {
      "text/plain": [
       "tensor([[ True,  True,  True,  True],\n",
       "        [ True,  True,  True,  True],\n",
       "        [ True, False, False, False],\n",
       "        [ True, False, False, False],\n",
       "        [False, False, False, False]])"
      ]
     },
     "execution_count": 21,
     "metadata": {},
     "output_type": "execute_result"
    }
   ],
   "source": [
    "abs(x-y) <= 5"
   ]
  },
  {
   "cell_type": "code",
   "execution_count": 22,
   "id": "21ff7974-c5ee-4f80-ba08-30c7dbdddaa9",
   "metadata": {},
   "outputs": [
    {
     "data": {
      "text/plain": [
       "(tensor(210.), tensor(106.))"
      ]
     },
     "execution_count": 22,
     "metadata": {},
     "output_type": "execute_result"
    }
   ],
   "source": [
    "x.sum(), y.sum()"
   ]
  },
  {
   "cell_type": "markdown",
   "id": "99469c6b-85fa-49a5-a5dd-eb1230064d00",
   "metadata": {},
   "source": [
    "## Data Preprocessing"
   ]
  },
  {
   "cell_type": "code",
   "execution_count": 23,
   "id": "89b96677-7fd0-4236-9d7b-28300bcc4aab",
   "metadata": {},
   "outputs": [],
   "source": [
    "import os\n",
    "import pandas as pd"
   ]
  },
  {
   "cell_type": "code",
   "execution_count": 24,
   "id": "e2af91f6-8975-48ea-a244-a42feb6c8f57",
   "metadata": {},
   "outputs": [],
   "source": [
    "os.makedirs(os.path.join('data'), exist_ok=True)\n",
    "data_file = os.path.join('data', 'house_tiny.csv')\n",
    "with open(data_file, 'w') as f:\n",
    "    f.write('''NumRooms,RoofType,Price\n",
    "NA,NA,127500\n",
    "2,NA,106000\n",
    "4,Slate,178100\n",
    "NA,NA,140000''')"
   ]
  },
  {
   "cell_type": "code",
   "execution_count": 25,
   "id": "a3633c8a-f454-473b-bd30-c922a0dad9f0",
   "metadata": {},
   "outputs": [
    {
     "data": {
      "text/html": [
       "<div>\n",
       "<style scoped>\n",
       "    .dataframe tbody tr th:only-of-type {\n",
       "        vertical-align: middle;\n",
       "    }\n",
       "\n",
       "    .dataframe tbody tr th {\n",
       "        vertical-align: top;\n",
       "    }\n",
       "\n",
       "    .dataframe thead th {\n",
       "        text-align: right;\n",
       "    }\n",
       "</style>\n",
       "<table border=\"1\" class=\"dataframe\">\n",
       "  <thead>\n",
       "    <tr style=\"text-align: right;\">\n",
       "      <th></th>\n",
       "      <th>NumRooms</th>\n",
       "      <th>RoofType</th>\n",
       "      <th>Price</th>\n",
       "    </tr>\n",
       "  </thead>\n",
       "  <tbody>\n",
       "    <tr>\n",
       "      <th>0</th>\n",
       "      <td>NaN</td>\n",
       "      <td>NaN</td>\n",
       "      <td>127500</td>\n",
       "    </tr>\n",
       "    <tr>\n",
       "      <th>1</th>\n",
       "      <td>2.0</td>\n",
       "      <td>NaN</td>\n",
       "      <td>106000</td>\n",
       "    </tr>\n",
       "    <tr>\n",
       "      <th>2</th>\n",
       "      <td>4.0</td>\n",
       "      <td>Slate</td>\n",
       "      <td>178100</td>\n",
       "    </tr>\n",
       "    <tr>\n",
       "      <th>3</th>\n",
       "      <td>NaN</td>\n",
       "      <td>NaN</td>\n",
       "      <td>140000</td>\n",
       "    </tr>\n",
       "  </tbody>\n",
       "</table>\n",
       "</div>"
      ],
      "text/plain": [
       "   NumRooms RoofType   Price\n",
       "0       NaN      NaN  127500\n",
       "1       2.0      NaN  106000\n",
       "2       4.0    Slate  178100\n",
       "3       NaN      NaN  140000"
      ]
     },
     "execution_count": 25,
     "metadata": {},
     "output_type": "execute_result"
    }
   ],
   "source": [
    "data = pd.read_csv(data_file)\n",
    "data"
   ]
  },
  {
   "cell_type": "code",
   "execution_count": 26,
   "id": "eb91b294-f9ce-4363-9150-b9f1e18fe9e1",
   "metadata": {},
   "outputs": [
    {
     "data": {
      "text/plain": [
       "(   NumRooms RoofType\n",
       " 0       NaN      NaN\n",
       " 1       2.0      NaN\n",
       " 2       4.0    Slate\n",
       " 3       NaN      NaN,\n",
       " 0    127500\n",
       " 1    106000\n",
       " 2    178100\n",
       " 3    140000\n",
       " Name: Price, dtype: int64)"
      ]
     },
     "execution_count": 26,
     "metadata": {},
     "output_type": "execute_result"
    }
   ],
   "source": [
    "features, targets = data.iloc[:, 0:2], data.iloc[:, 2]\n",
    "features, targets"
   ]
  },
  {
   "cell_type": "code",
   "execution_count": 27,
   "id": "2c5c6d9d-df7c-4923-8389-22ffaa4e9d57",
   "metadata": {},
   "outputs": [
    {
     "data": {
      "text/html": [
       "<div>\n",
       "<style scoped>\n",
       "    .dataframe tbody tr th:only-of-type {\n",
       "        vertical-align: middle;\n",
       "    }\n",
       "\n",
       "    .dataframe tbody tr th {\n",
       "        vertical-align: top;\n",
       "    }\n",
       "\n",
       "    .dataframe thead th {\n",
       "        text-align: right;\n",
       "    }\n",
       "</style>\n",
       "<table border=\"1\" class=\"dataframe\">\n",
       "  <thead>\n",
       "    <tr style=\"text-align: right;\">\n",
       "      <th></th>\n",
       "      <th>NumRooms</th>\n",
       "      <th>RoofType_Slate</th>\n",
       "      <th>RoofType_nan</th>\n",
       "    </tr>\n",
       "  </thead>\n",
       "  <tbody>\n",
       "    <tr>\n",
       "      <th>0</th>\n",
       "      <td>NaN</td>\n",
       "      <td>False</td>\n",
       "      <td>True</td>\n",
       "    </tr>\n",
       "    <tr>\n",
       "      <th>1</th>\n",
       "      <td>2.0</td>\n",
       "      <td>False</td>\n",
       "      <td>True</td>\n",
       "    </tr>\n",
       "    <tr>\n",
       "      <th>2</th>\n",
       "      <td>4.0</td>\n",
       "      <td>True</td>\n",
       "      <td>False</td>\n",
       "    </tr>\n",
       "    <tr>\n",
       "      <th>3</th>\n",
       "      <td>NaN</td>\n",
       "      <td>False</td>\n",
       "      <td>True</td>\n",
       "    </tr>\n",
       "  </tbody>\n",
       "</table>\n",
       "</div>"
      ],
      "text/plain": [
       "   NumRooms  RoofType_Slate  RoofType_nan\n",
       "0       NaN           False          True\n",
       "1       2.0           False          True\n",
       "2       4.0            True         False\n",
       "3       NaN           False          True"
      ]
     },
     "execution_count": 27,
     "metadata": {},
     "output_type": "execute_result"
    }
   ],
   "source": [
    "features = pd.get_dummies(features, dummy_na=True)\n",
    "features"
   ]
  },
  {
   "cell_type": "code",
   "execution_count": 28,
   "id": "fe1b95a3-6053-40ee-8398-7ac0883b7fcd",
   "metadata": {},
   "outputs": [
    {
     "data": {
      "text/html": [
       "<div>\n",
       "<style scoped>\n",
       "    .dataframe tbody tr th:only-of-type {\n",
       "        vertical-align: middle;\n",
       "    }\n",
       "\n",
       "    .dataframe tbody tr th {\n",
       "        vertical-align: top;\n",
       "    }\n",
       "\n",
       "    .dataframe thead th {\n",
       "        text-align: right;\n",
       "    }\n",
       "</style>\n",
       "<table border=\"1\" class=\"dataframe\">\n",
       "  <thead>\n",
       "    <tr style=\"text-align: right;\">\n",
       "      <th></th>\n",
       "      <th>NumRooms</th>\n",
       "      <th>RoofType_Slate</th>\n",
       "      <th>RoofType_nan</th>\n",
       "    </tr>\n",
       "  </thead>\n",
       "  <tbody>\n",
       "    <tr>\n",
       "      <th>0</th>\n",
       "      <td>3.0</td>\n",
       "      <td>False</td>\n",
       "      <td>True</td>\n",
       "    </tr>\n",
       "    <tr>\n",
       "      <th>1</th>\n",
       "      <td>2.0</td>\n",
       "      <td>False</td>\n",
       "      <td>True</td>\n",
       "    </tr>\n",
       "    <tr>\n",
       "      <th>2</th>\n",
       "      <td>4.0</td>\n",
       "      <td>True</td>\n",
       "      <td>False</td>\n",
       "    </tr>\n",
       "    <tr>\n",
       "      <th>3</th>\n",
       "      <td>3.0</td>\n",
       "      <td>False</td>\n",
       "      <td>True</td>\n",
       "    </tr>\n",
       "  </tbody>\n",
       "</table>\n",
       "</div>"
      ],
      "text/plain": [
       "   NumRooms  RoofType_Slate  RoofType_nan\n",
       "0       3.0           False          True\n",
       "1       2.0           False          True\n",
       "2       4.0            True         False\n",
       "3       3.0           False          True"
      ]
     },
     "execution_count": 28,
     "metadata": {},
     "output_type": "execute_result"
    }
   ],
   "source": [
    "features = features.fillna(features.mean())\n",
    "features"
   ]
  },
  {
   "cell_type": "code",
   "execution_count": 29,
   "id": "3e2c9e88-20c2-4144-aee9-8446f43dccec",
   "metadata": {},
   "outputs": [
    {
     "data": {
      "text/plain": [
       "(tensor([[3., 0., 1.],\n",
       "         [2., 0., 1.],\n",
       "         [4., 1., 0.],\n",
       "         [3., 0., 1.]], dtype=torch.float64),\n",
       " tensor([127500., 106000., 178100., 140000.], dtype=torch.float64))"
      ]
     },
     "execution_count": 29,
     "metadata": {},
     "output_type": "execute_result"
    }
   ],
   "source": [
    "X = torch.tensor(features.to_numpy(dtype=float))\n",
    "y = torch.tensor(targets.to_numpy(dtype=float))\n",
    "X, y"
   ]
  },
  {
   "cell_type": "markdown",
   "id": "ffa0e26a-0e3a-4330-a6c6-fb0c27c47af5",
   "metadata": {},
   "source": [
    "## Linear Algebra"
   ]
  },
  {
   "cell_type": "code",
   "execution_count": 30,
   "id": "e6408dcc-ab29-48fc-b094-21994473f702",
   "metadata": {},
   "outputs": [
    {
     "data": {
      "text/plain": [
       "tensor([[1, 2, 3],\n",
       "        [2, 0, 4],\n",
       "        [3, 4, 5]])"
      ]
     },
     "execution_count": 30,
     "metadata": {},
     "output_type": "execute_result"
    }
   ],
   "source": [
    "equal = torch.tensor([[1,2,3], [2,0,4], [3,4,5]])\n",
    "equal"
   ]
  },
  {
   "cell_type": "code",
   "execution_count": 31,
   "id": "05e42252-f68a-4e43-8ef6-3003bc4a4084",
   "metadata": {},
   "outputs": [
    {
     "data": {
      "text/plain": [
       "tensor([[1, 2, 3],\n",
       "        [2, 0, 4],\n",
       "        [3, 4, 5]])"
      ]
     },
     "execution_count": 31,
     "metadata": {},
     "output_type": "execute_result"
    }
   ],
   "source": [
    "equal.T"
   ]
  },
  {
   "cell_type": "code",
   "execution_count": 32,
   "id": "cc599e36-df58-4641-8f2d-56ba3d0d58cb",
   "metadata": {},
   "outputs": [
    {
     "data": {
      "text/plain": [
       "tensor([[[0.4947, 0.2577, 0.0593],\n",
       "         [0.0729, 0.2032, 0.6913],\n",
       "         [0.7213, 0.5609, 0.4829]],\n",
       "\n",
       "        [[0.0767, 0.3047, 0.9098],\n",
       "         [0.4706, 0.5555, 0.0136],\n",
       "         [0.5978, 0.9008, 0.0293]],\n",
       "\n",
       "        [[0.3362, 0.5042, 0.1604],\n",
       "         [0.8592, 0.1586, 0.6206],\n",
       "         [0.1451, 0.4788, 0.4833]]])"
      ]
     },
     "execution_count": 32,
     "metadata": {},
     "output_type": "execute_result"
    }
   ],
   "source": [
    "a = torch.rand(27).reshape(3,3,3)\n",
    "a"
   ]
  },
  {
   "cell_type": "code",
   "execution_count": 33,
   "id": "21ad7b66-b772-4b6f-9d4e-f986dc5a145c",
   "metadata": {},
   "outputs": [
    {
     "name": "stderr",
     "output_type": "stream",
     "text": [
      "/var/folders/d3/5yh4slqx3g375g3c6j08l6lm0000gn/T/ipykernel_41818/2533872927.py:1: UserWarning: The use of `x.T` on tensors of dimension other than 2 to reverse their shape is deprecated and it will throw an error in a future release. Consider `x.mT` to transpose batches of matrices or `x.permute(*torch.arange(x.ndim - 1, -1, -1))` to reverse the dimensions of a tensor. (Triggered internally at /Users/runner/work/pytorch/pytorch/pytorch/aten/src/ATen/native/TensorShape.cpp:3618.)\n",
      "  a.T\n"
     ]
    },
    {
     "data": {
      "text/plain": [
       "tensor([[[0.4947, 0.0767, 0.3362],\n",
       "         [0.0729, 0.4706, 0.8592],\n",
       "         [0.7213, 0.5978, 0.1451]],\n",
       "\n",
       "        [[0.2577, 0.3047, 0.5042],\n",
       "         [0.2032, 0.5555, 0.1586],\n",
       "         [0.5609, 0.9008, 0.4788]],\n",
       "\n",
       "        [[0.0593, 0.9098, 0.1604],\n",
       "         [0.6913, 0.0136, 0.6206],\n",
       "         [0.4829, 0.0293, 0.4833]]])"
      ]
     },
     "execution_count": 33,
     "metadata": {},
     "output_type": "execute_result"
    }
   ],
   "source": [
    "a.T"
   ]
  },
  {
   "cell_type": "code",
   "execution_count": 34,
   "id": "935e13a2-2785-4b82-a236-9f0b68c3f0fc",
   "metadata": {},
   "outputs": [
    {
     "data": {
      "text/plain": [
       "tensor([[[ 0,  1,  2],\n",
       "         [ 3,  4,  5],\n",
       "         [ 6,  7,  8]],\n",
       "\n",
       "        [[ 9, 10, 11],\n",
       "         [12, 13, 14],\n",
       "         [15, 16, 17]],\n",
       "\n",
       "        [[18, 19, 20],\n",
       "         [21, 22, 23],\n",
       "         [24, 25, 26]]])"
      ]
     },
     "execution_count": 34,
     "metadata": {},
     "output_type": "execute_result"
    }
   ],
   "source": [
    "a = torch.arange(27).reshape(3,3,-1)\n",
    "a"
   ]
  },
  {
   "cell_type": "code",
   "execution_count": 35,
   "id": "82459ee9-9e3b-41ed-8c58-b455ddd2e3d9",
   "metadata": {},
   "outputs": [
    {
     "data": {
      "text/plain": [
       "tensor([[[ 3],\n",
       "         [12],\n",
       "         [21]],\n",
       "\n",
       "        [[30],\n",
       "         [39],\n",
       "         [48]],\n",
       "\n",
       "        [[57],\n",
       "         [66],\n",
       "         [75]]])"
      ]
     },
     "execution_count": 35,
     "metadata": {},
     "output_type": "execute_result"
    }
   ],
   "source": [
    "a.sum(axis=2, keepdims=True)"
   ]
  },
  {
   "cell_type": "code",
   "execution_count": 36,
   "id": "a2331167-9202-441a-a8f7-a806d69aac9a",
   "metadata": {},
   "outputs": [
    {
     "data": {
      "text/plain": [
       "tensor([[[ 0,  1,  2],\n",
       "         [ 3,  5,  7],\n",
       "         [ 9, 12, 15]],\n",
       "\n",
       "        [[ 9, 10, 11],\n",
       "         [21, 23, 25],\n",
       "         [36, 39, 42]],\n",
       "\n",
       "        [[18, 19, 20],\n",
       "         [39, 41, 43],\n",
       "         [63, 66, 69]]])"
      ]
     },
     "execution_count": 36,
     "metadata": {},
     "output_type": "execute_result"
    }
   ],
   "source": [
    "a.cumsum(axis=1)"
   ]
  },
  {
   "cell_type": "markdown",
   "id": "709cd6f4-61e2-4f20-8143-ec8a33d6928c",
   "metadata": {},
   "source": [
    "### Matrix-Vector Products"
   ]
  },
  {
   "cell_type": "code",
   "execution_count": 37,
   "id": "88b9cb40-3375-44d9-a266-ec4a233e87d3",
   "metadata": {},
   "outputs": [
    {
     "data": {
      "text/plain": [
       "tensor([[0, 1, 2],\n",
       "        [3, 4, 5],\n",
       "        [6, 7, 8]])"
      ]
     },
     "execution_count": 37,
     "metadata": {},
     "output_type": "execute_result"
    }
   ],
   "source": [
    "a = torch.arange(9).reshape(3,-1)\n",
    "a"
   ]
  },
  {
   "cell_type": "code",
   "execution_count": 38,
   "id": "d0c912cb-f5b5-4c1d-bc69-7ed973d4f105",
   "metadata": {},
   "outputs": [
    {
     "data": {
      "text/plain": [
       "tensor([[0, 1, 2]])"
      ]
     },
     "execution_count": 38,
     "metadata": {},
     "output_type": "execute_result"
    }
   ],
   "source": [
    "x = torch.arange(3).reshape(1,3)\n",
    "x"
   ]
  },
  {
   "cell_type": "code",
   "execution_count": 39,
   "id": "0e72dd3f-1efa-4676-8e7f-c33cffad5e02",
   "metadata": {},
   "outputs": [
    {
     "data": {
      "text/plain": [
       "tensor([[0],\n",
       "        [1],\n",
       "        [2]])"
      ]
     },
     "execution_count": 39,
     "metadata": {},
     "output_type": "execute_result"
    }
   ],
   "source": [
    "x.T"
   ]
  },
  {
   "cell_type": "code",
   "execution_count": 40,
   "id": "8724b7c4-3bc2-4697-bef7-46abc546ba18",
   "metadata": {},
   "outputs": [
    {
     "data": {
      "text/plain": [
       "tensor([[ 5],\n",
       "        [14],\n",
       "        [23]])"
      ]
     },
     "execution_count": 40,
     "metadata": {},
     "output_type": "execute_result"
    }
   ],
   "source": [
    "a@x.T"
   ]
  },
  {
   "cell_type": "code",
   "execution_count": 42,
   "id": "8f6b1088-3c8f-457f-9545-39f83ee2695e",
   "metadata": {},
   "outputs": [
    {
     "data": {
      "text/plain": [
       "(torch.Size([3, 3]), torch.Size([1, 3]))"
      ]
     },
     "execution_count": 42,
     "metadata": {},
     "output_type": "execute_result"
    }
   ],
   "source": [
    "a.shape, x.shape"
   ]
  },
  {
   "cell_type": "markdown",
   "id": "02212589-6163-4cf2-84d8-b45908849135",
   "metadata": {},
   "source": [
    "## Automatic Differentiation"
   ]
  },
  {
   "cell_type": "code",
   "execution_count": 46,
   "id": "116e154a-466b-4ec2-b4aa-8d78b5ed474e",
   "metadata": {},
   "outputs": [
    {
     "data": {
      "text/plain": [
       "(tensor([0., 1., 2., 3.], dtype=torch.float64, requires_grad=True), None)"
      ]
     },
     "execution_count": 46,
     "metadata": {},
     "output_type": "execute_result"
    }
   ],
   "source": [
    "x = torch.arange(4, requires_grad=True, dtype=float)\n",
    "x, x.grad"
   ]
  },
  {
   "cell_type": "code",
   "execution_count": 48,
   "id": "4b58b0a1-108d-41e1-9237-be812be1c3c9",
   "metadata": {},
   "outputs": [
    {
     "data": {
      "text/plain": [
       "tensor(28., dtype=torch.float64, grad_fn=<MulBackward0>)"
      ]
     },
     "execution_count": 48,
     "metadata": {},
     "output_type": "execute_result"
    }
   ],
   "source": [
    "y = 2 * torch.dot(x,x)\n",
    "y"
   ]
  },
  {
   "cell_type": "code",
   "execution_count": 49,
   "id": "f33290c0-5bca-4650-bc06-13381f90f53b",
   "metadata": {},
   "outputs": [
    {
     "data": {
      "text/plain": [
       "tensor([ 0.,  4.,  8., 12.], dtype=torch.float64)"
      ]
     },
     "execution_count": 49,
     "metadata": {},
     "output_type": "execute_result"
    }
   ],
   "source": [
    "y.backward()\n",
    "x.grad"
   ]
  },
  {
   "cell_type": "code",
   "execution_count": 50,
   "id": "bf376630-74c3-4a16-bd21-1a451d5e75ae",
   "metadata": {},
   "outputs": [
    {
     "data": {
      "text/plain": [
       "tensor([1., 1., 1., 1.], dtype=torch.float64)"
      ]
     },
     "execution_count": 50,
     "metadata": {},
     "output_type": "execute_result"
    }
   ],
   "source": [
    "x.grad.zero_()  # Reset the gradient\n",
    "y = x.sum()\n",
    "y.backward()\n",
    "x.grad"
   ]
  },
  {
   "cell_type": "code",
   "execution_count": 51,
   "id": "f546ef4a-4b1d-4f05-a42b-64c6e4efa93f",
   "metadata": {},
   "outputs": [
    {
     "data": {
      "text/plain": [
       "tensor([0., 2., 4., 6.], dtype=torch.float64)"
      ]
     },
     "execution_count": 51,
     "metadata": {},
     "output_type": "execute_result"
    }
   ],
   "source": [
    "x.grad.zero_()\n",
    "y = x * x\n",
    "y.backward(gradient=torch.ones(len(y)))  # Faster: y.sum().backward()\n",
    "x.grad"
   ]
  },
  {
   "cell_type": "code",
   "execution_count": null,
   "id": "bc7b74a7-ec23-48d8-ba15-4fa7c7cdb891",
   "metadata": {},
   "outputs": [],
   "source": []
  }
 ],
 "metadata": {
  "kernelspec": {
   "display_name": "Python 3 (ipykernel)",
   "language": "python",
   "name": "python3"
  },
  "language_info": {
   "codemirror_mode": {
    "name": "ipython",
    "version": 3
   },
   "file_extension": ".py",
   "mimetype": "text/x-python",
   "name": "python",
   "nbconvert_exporter": "python",
   "pygments_lexer": "ipython3",
   "version": "3.9.6"
  }
 },
 "nbformat": 4,
 "nbformat_minor": 5
}
