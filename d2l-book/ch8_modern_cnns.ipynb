{
 "cells": [
  {
   "cell_type": "markdown",
   "id": "3e8cef10-d104-4d9c-a7a1-9b98ad4f1c9b",
   "metadata": {},
   "source": [
    "# Imports"
   ]
  },
  {
   "cell_type": "code",
   "execution_count": 1,
   "id": "40c83e46-3726-4fec-be26-fef3eda07bbd",
   "metadata": {},
   "outputs": [
    {
     "data": {
      "text/plain": [
       "2"
      ]
     },
     "execution_count": 1,
     "metadata": {},
     "output_type": "execute_result"
    }
   ],
   "source": [
    "1+1"
   ]
  },
  {
   "cell_type": "code",
   "execution_count": 7,
   "id": "98392e99-94f6-4bac-b840-48efd4b70c27",
   "metadata": {},
   "outputs": [
    {
     "name": "stdout",
     "output_type": "stream",
     "text": [
      "5\n",
      "     ^     \n",
      "4\n",
      "    ^^    \n",
      "4\n",
      "    ^^^    \n",
      "3\n",
      "   ^^^^   \n",
      "3\n",
      "   ^^^^^   \n",
      "2\n",
      "  ^^^^^^  \n",
      "2\n",
      "  ^^^^^^^  \n",
      "1\n",
      " ^^^^^^^^ \n",
      "1\n",
      " ^^^^^^^^^ \n",
      "0\n",
      "^^^^^^^^^^\n"
     ]
    }
   ],
   "source": [
    "slots = 11\n",
    "for i in range(1, slots):\n",
    "    half = (slots - i) // 2\n",
    "    print(half)\n",
    "    print(half*\" \" + i*\"^\" + half*\" \")"
   ]
  },
  {
   "cell_type": "code",
   "execution_count": null,
   "id": "6abf872a-cf7f-42e2-b15a-2e742102a7d4",
   "metadata": {},
   "outputs": [],
   "source": []
  }
 ],
 "metadata": {
  "kernelspec": {
   "display_name": "Python 3 (ipykernel)",
   "language": "python",
   "name": "python3"
  },
  "language_info": {
   "codemirror_mode": {
    "name": "ipython",
    "version": 3
   },
   "file_extension": ".py",
   "mimetype": "text/x-python",
   "name": "python",
   "nbconvert_exporter": "python",
   "pygments_lexer": "ipython3",
   "version": "3.9.6"
  }
 },
 "nbformat": 4,
 "nbformat_minor": 5
}
