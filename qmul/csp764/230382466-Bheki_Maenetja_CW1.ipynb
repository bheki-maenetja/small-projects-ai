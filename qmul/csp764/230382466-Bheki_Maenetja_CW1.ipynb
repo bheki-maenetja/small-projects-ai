{
 "cells": [
  {
   "cell_type": "markdown",
   "id": "b7b85059-e2f8-4929-ab80-7434b57b1e46",
   "metadata": {},
   "source": [
    "# EECS764P Coursework 1\n",
    "- Name: Bheki Maenetja\n",
    "- Student ID: 230382466"
   ]
  },
  {
   "cell_type": "markdown",
   "id": "73d3436b-4410-4e45-b520-42acece7af42",
   "metadata": {},
   "source": [
    "## Imports"
   ]
  },
  {
   "cell_type": "code",
   "execution_count": 1,
   "id": "38cf6282-51b7-4eb9-ba2f-d6af7c0b055a",
   "metadata": {},
   "outputs": [
    {
     "name": "stdout",
     "output_type": "stream",
     "text": [
      "Requirement already satisfied: plotly in /Users/bhekimaenetja/.local/share/virtualenvs/small-projects-ai-NRjJWIjk/lib/python3.9/site-packages (5.17.0)\n",
      "Requirement already satisfied: tenacity>=6.2.0 in /Users/bhekimaenetja/.local/share/virtualenvs/small-projects-ai-NRjJWIjk/lib/python3.9/site-packages (from plotly) (8.2.3)\n",
      "Requirement already satisfied: packaging in /Users/bhekimaenetja/.local/share/virtualenvs/small-projects-ai-NRjJWIjk/lib/python3.9/site-packages (from plotly) (23.2)\n"
     ]
    }
   ],
   "source": [
    "import numpy as np\n",
    "from scipy.stats import expon\n",
    "from scipy.integrate import quad\n",
    "\n",
    "!pip install plotly\n",
    "import plotly.graph_objects as go\n",
    "import plotly.io as pio\n",
    "pio.renderers.default = \"iframe\""
   ]
  },
  {
   "cell_type": "markdown",
   "id": "2cbd07e0-a41e-4767-ad2f-2db80e840e6a",
   "metadata": {},
   "source": [
    "## Plotting Functions"
   ]
  },
  {
   "cell_type": "code",
   "execution_count": 2,
   "id": "00f3d672-eb88-4f3b-be32-c3c2bdd3df77",
   "metadata": {},
   "outputs": [],
   "source": [
    "# Plotting functions\n",
    "def plot_data(x=None, y=None, z=None, title=\"\", x_label=\"\", y_label=\"\", name=\"\", mode=\"markers\", text=\"\", fill=None, **traces):\n",
    "    \"\"\"\n",
    "    General purpose function for plotting scatter plots in plotly.\n",
    "    \"\"\"\n",
    "    fig = go.Figure(layout={\n",
    "        \"title\": title,\n",
    "        \"xaxis\": {\"title\": x_label},\n",
    "        \"yaxis\": {\"title\": y_label}\n",
    "    })\n",
    "    \n",
    "    if z is None:\n",
    "        data = go.Scatter(\n",
    "            x=x,\n",
    "            y=y,\n",
    "            mode=mode,\n",
    "            name=name,\n",
    "            text=text,\n",
    "            fill=fill,\n",
    "        )\n",
    "    else:\n",
    "        data = go.Scatter3d(\n",
    "            x=x,\n",
    "            y=y,\n",
    "            z=z,\n",
    "            mode=mode,\n",
    "            name=name,\n",
    "            text=text,\n",
    "        )\n",
    "\n",
    "    if x is not None and y is not None:\n",
    "        fig.add_trace(data)\n",
    "    \n",
    "    for t in traces:\n",
    "        fig.add_trace(traces[t])\n",
    "    \n",
    "    return fig"
   ]
  },
  {
   "cell_type": "markdown",
   "id": "c4d8d469-c8f2-467d-8d6a-86f9bc94a7a0",
   "metadata": {},
   "source": [
    "## Question  1"
   ]
  },
  {
   "cell_type": "code",
   "execution_count": 3,
   "id": "f30cbaf7-740f-489d-862f-c9b645e2256a",
   "metadata": {},
   "outputs": [],
   "source": [
    "def count(x):\n",
    "    \"\"\"\n",
    "    PARAMETERS\n",
    "        * x --> an instance of the type \"set\".\n",
    "    RETURNS\n",
    "        * an integer value denoting the number of elements in x.\n",
    "    \"\"\"\n",
    "    # check that x is of the correct data type.\n",
    "    assert type(x) == set, \"Error — Input type is incorrect!\"\n",
    "    \n",
    "    return len(x)"
   ]
  },
  {
   "cell_type": "code",
   "execution_count": 4,
   "id": "5fa6237c-f7ee-4413-9eed-3bd3300abb02",
   "metadata": {},
   "outputs": [],
   "source": [
    "def additivity_test(set_1, set_2):\n",
    "    \"\"\"\n",
    "    PARAMETERS\n",
    "        * set_1 --> instance of the type set.\n",
    "        * set_2 --> instance of the type set.\n",
    "    RETURNS\n",
    "        * a string indicating whether or not the test has been passed.\n",
    "    \"\"\"\n",
    "    # check that both inputs are of the correct data type\n",
    "    assert type(set_1) == set and type(set_2), \"Error — Input type is incorrect!\"\n",
    "\n",
    "    # check that the sets are disjoint\n",
    "    assert not set_1.intersection(set_2), \"Error — Sets are not disjoint.\"\n",
    "\n",
    "    # get the count of the union of both sets\n",
    "    count_1 = count(set_1.union(set_2))\n",
    "\n",
    "    # get the sum of the counts of both sets\n",
    "    count_2 = count(set_1) + count(set_2)\n",
    "\n",
    "    # check that count_1 is equal to count_2\n",
    "    if count_1 == count_2: \n",
    "        print(f\"Count = {count_1}\")\n",
    "        return \"Additivity test passed\" \n",
    "    return \"Additivity test failed\""
   ]
  },
  {
   "cell_type": "markdown",
   "id": "6352b331-c595-4c32-8e65-953c6e41a340",
   "metadata": {},
   "source": [
    "### Tests"
   ]
  },
  {
   "cell_type": "code",
   "execution_count": 5,
   "id": "78534239-46e6-4108-a810-47df5212b804",
   "metadata": {},
   "outputs": [],
   "source": [
    "a = {\"a\", \"b\", \"c\"}\n",
    "b = {\"d\", \"e\", \"f\"}"
   ]
  },
  {
   "cell_type": "code",
   "execution_count": 6,
   "id": "57e0db63-62f2-4835-b004-1b79fe0b45b4",
   "metadata": {},
   "outputs": [
    {
     "data": {
      "text/plain": [
       "3"
      ]
     },
     "execution_count": 6,
     "metadata": {},
     "output_type": "execute_result"
    }
   ],
   "source": [
    "count(a)"
   ]
  },
  {
   "cell_type": "code",
   "execution_count": 7,
   "id": "54cf787f-ac89-43e6-b49c-cb6027c23f9a",
   "metadata": {},
   "outputs": [
    {
     "data": {
      "text/plain": [
       "3"
      ]
     },
     "execution_count": 7,
     "metadata": {},
     "output_type": "execute_result"
    }
   ],
   "source": [
    "count(b)"
   ]
  },
  {
   "cell_type": "code",
   "execution_count": 8,
   "id": "c0a61f7a-718f-406e-8432-45e9a47865de",
   "metadata": {},
   "outputs": [
    {
     "data": {
      "text/plain": [
       "0"
      ]
     },
     "execution_count": 8,
     "metadata": {},
     "output_type": "execute_result"
    }
   ],
   "source": [
    "empty = set() # the empty set\n",
    "count(set())"
   ]
  },
  {
   "cell_type": "code",
   "execution_count": 9,
   "id": "d8e38c65-3a98-41da-8442-bfc07f851450",
   "metadata": {},
   "outputs": [
    {
     "name": "stdout",
     "output_type": "stream",
     "text": [
      "Count = 6\n"
     ]
    },
    {
     "data": {
      "text/plain": [
       "'Additivity test passed'"
      ]
     },
     "execution_count": 9,
     "metadata": {},
     "output_type": "execute_result"
    }
   ],
   "source": [
    "additivity_test(a, b)"
   ]
  },
  {
   "cell_type": "markdown",
   "id": "a8902d7c-6105-458b-abd1-c172eea38a9a",
   "metadata": {},
   "source": [
    "## Question 2"
   ]
  },
  {
   "cell_type": "code",
   "execution_count": 10,
   "id": "45624d58-9049-4632-97ee-917c9b0fc32a",
   "metadata": {},
   "outputs": [],
   "source": [
    "class Interval:\n",
    "    def __init__(self, start, end, incl_start=True, incl_end=True):\n",
    "        \"\"\"\n",
    "        PARAMETERS\n",
    "            * start --> real number indicating start of interval.\n",
    "            * end --> real number indicating end of interval.\n",
    "            * incl_start --> boolean indicating whether interval includes start value.\n",
    "            * incl_end --> boolean indicating whether interval includes end value.\n",
    "        RETURNS\n",
    "            * None\n",
    "        \"\"\"\n",
    "        # check that the end value is greater than or equal to start value\n",
    "        assert start <= end, \"Error – End value < start value\"\n",
    "\n",
    "        # assign inputs to variables\n",
    "        self.start = start\n",
    "        self.end = end\n",
    "        self.incl_start = incl_start\n",
    "        self.incl_end = incl_end\n",
    "\n",
    "    def __str__(self):\n",
    "        \"\"\"\n",
    "        PARAMETERS\n",
    "            * None\n",
    "        RETURNS\n",
    "            * a string representation of the interval.\n",
    "        \"\"\"\n",
    "        # choose appropriate brackets based on incl_start and incl_end\n",
    "        brackets = \"([)]\"\n",
    "        left_b = brackets[self.incl_start]\n",
    "        right_b = brackets[self.incl_end + 2]\n",
    "\n",
    "        return f\"{left_b}{self.start}, {self.end}{right_b}\"\n",
    "\n",
    "    def __repr__(self):\n",
    "        return self.__str__()"
   ]
  },
  {
   "cell_type": "code",
   "execution_count": 11,
   "id": "83bb5434-924b-43e0-b07c-3c7530d76004",
   "metadata": {},
   "outputs": [],
   "source": [
    "def length(inter):\n",
    "    \"\"\"\n",
    "    PARAMETERS\n",
    "        * inter --> an instance of the type Interval\n",
    "    RETURNS\n",
    "        * a real number indicating the length of the interval\n",
    "    \"\"\"\n",
    "    # check that inter is of the correct the data type\n",
    "    assert isinstance(inter, Interval), \"Error — Input type must be Interval!\"\n",
    "\n",
    "    # calculate and return length of interval\n",
    "    return inter.end - inter.start"
   ]
  },
  {
   "cell_type": "markdown",
   "id": "343518fe-0a6b-4f9a-81cd-e1be67ac5a79",
   "metadata": {},
   "source": [
    "### Tests"
   ]
  },
  {
   "cell_type": "code",
   "execution_count": 12,
   "id": "0ada5d79-b390-40af-ad9c-f8b8da87bdf1",
   "metadata": {},
   "outputs": [
    {
     "data": {
      "text/plain": [
       "[1, 3.5]"
      ]
     },
     "execution_count": 12,
     "metadata": {},
     "output_type": "execute_result"
    }
   ],
   "source": [
    "a = Interval(1, 3.5)\n",
    "a"
   ]
  },
  {
   "cell_type": "code",
   "execution_count": 13,
   "id": "a601522a-f3a0-4b3b-93b8-5b62ece2e738",
   "metadata": {},
   "outputs": [
    {
     "data": {
      "text/plain": [
       "2.5"
      ]
     },
     "execution_count": 13,
     "metadata": {},
     "output_type": "execute_result"
    }
   ],
   "source": [
    "length(a)"
   ]
  },
  {
   "cell_type": "markdown",
   "id": "2725ad46-4c9e-4cf9-a04f-127cbafd2db1",
   "metadata": {},
   "source": [
    "## Question 3"
   ]
  },
  {
   "cell_type": "code",
   "execution_count": 14,
   "id": "3a1e1548-6762-4c76-8385-867a20acc4ef",
   "metadata": {},
   "outputs": [],
   "source": [
    "def expon_measure(inter):\n",
    "    \"\"\"\n",
    "    PARAMETERS\n",
    "        * inter --> an instance of the type Interval.\n",
    "    RETURNS\n",
    "        * a real number between 0 and 1 indicating the probability mass of the given interval.\n",
    "    \"\"\"\n",
    "    # check that inter is of the correct the data type\n",
    "    assert isinstance(inter, Interval), \"Error — Input type must be Interval!\"\n",
    "\n",
    "    # calculating the scale parameter based on lambda = 2\n",
    "    lambda_val = 2\n",
    "    scale = 1 / lambda_val\n",
    "\n",
    "    # calculating and return probability mass\n",
    "    pm = expon.cdf(inter.end, scale=scale) - expon.cdf(inter.start, scale=scale)\n",
    "    return pm"
   ]
  },
  {
   "cell_type": "markdown",
   "id": "1d0eb850-7f97-4275-aa40-e0bb2e3e041e",
   "metadata": {},
   "source": [
    "### Tests"
   ]
  },
  {
   "cell_type": "code",
   "execution_count": 15,
   "id": "b732a059-d540-41e5-b39d-9ee4c82b8935",
   "metadata": {},
   "outputs": [
    {
     "name": "stdout",
     "output_type": "stream",
     "text": [
      "a = [0, 1]\n",
      "b = [1, 1]\n",
      "c = [1, 10]\n",
      "d = [0, inf)\n"
     ]
    }
   ],
   "source": [
    "a = Interval(0,1) # [0, 1]\n",
    "b = Interval(1, 1) # [1, 1]\n",
    "c = Interval(1, 10) # [1, 10]\n",
    "d = Interval(0, float(\"inf\"), incl_end=False) # [0, inf); \"inf\" means infinity\n",
    "\n",
    "print(f\"a = {a}\")\n",
    "print(f\"b = {b}\")\n",
    "print(f\"c = {c}\")\n",
    "print(f\"d = {d}\")"
   ]
  },
  {
   "cell_type": "code",
   "execution_count": 16,
   "id": "1e649434-157f-4098-925b-b725714c6ec3",
   "metadata": {},
   "outputs": [
    {
     "data": {
      "text/plain": [
       "0.8646647167633873"
      ]
     },
     "execution_count": 16,
     "metadata": {},
     "output_type": "execute_result"
    }
   ],
   "source": [
    "expon_measure(a)"
   ]
  },
  {
   "cell_type": "code",
   "execution_count": 17,
   "id": "5e3f2c0d-c336-47c5-841a-6e22ddefbbf8",
   "metadata": {},
   "outputs": [
    {
     "data": {
      "text/plain": [
       "0.0"
      ]
     },
     "execution_count": 17,
     "metadata": {},
     "output_type": "execute_result"
    }
   ],
   "source": [
    "expon_measure(b)"
   ]
  },
  {
   "cell_type": "code",
   "execution_count": 18,
   "id": "571b6695-2731-44fb-be8e-78907df581e1",
   "metadata": {},
   "outputs": [
    {
     "data": {
      "text/plain": [
       "0.13533528117545912"
      ]
     },
     "execution_count": 18,
     "metadata": {},
     "output_type": "execute_result"
    }
   ],
   "source": [
    "expon_measure(c)"
   ]
  },
  {
   "cell_type": "code",
   "execution_count": 19,
   "id": "a2b2f4cf-1a1c-40e9-8232-bffc1235e845",
   "metadata": {},
   "outputs": [
    {
     "data": {
      "text/plain": [
       "1.0"
      ]
     },
     "execution_count": 19,
     "metadata": {},
     "output_type": "execute_result"
    }
   ],
   "source": [
    "expon_measure(d)"
   ]
  },
  {
   "cell_type": "markdown",
   "id": "56f5dde0-dbc3-48d9-ba99-755c840112fb",
   "metadata": {},
   "source": [
    "### Plotting Exponential Distribution"
   ]
  },
  {
   "cell_type": "code",
   "execution_count": 20,
   "id": "747a6820-f57c-420e-bbe8-729f6d8b26f6",
   "metadata": {},
   "outputs": [],
   "source": [
    "lambda_val = 2\n",
    "x = np.linspace(0, 5, 1000)\n",
    "y = expon.pdf(x, scale=1/lambda_val)"
   ]
  },
  {
   "cell_type": "code",
   "execution_count": 21,
   "id": "9c0f3a4b-fd1f-44e3-a785-c8ca3faf113c",
   "metadata": {},
   "outputs": [
    {
     "data": {
      "text/html": [
       "<iframe\n",
       "    scrolling=\"no\"\n",
       "    width=\"100%\"\n",
       "    height=\"545px\"\n",
       "    src=\"iframe_figures/figure_21.html\"\n",
       "    frameborder=\"0\"\n",
       "    allowfullscreen\n",
       "></iframe>\n"
      ]
     },
     "metadata": {},
     "output_type": "display_data"
    }
   ],
   "source": [
    "plot_data(\n",
    "    x, \n",
    "    y, \n",
    "    title=\"The Exponential Distribution\", \n",
    "    x_label=\"x\",\n",
    "    y_label=\"P(X)\",\n",
    "    name=\"Exponential Distribution\",\n",
    "    mode=\"lines\",\n",
    "    fill=\"tozeroy\",\n",
    ")"
   ]
  },
  {
   "cell_type": "markdown",
   "id": "4442a823-a17c-4b98-b9cf-28413897ca98",
   "metadata": {},
   "source": [
    "When looking at the plot of the exponential distribution, the results of running 'expon_measure' do appear to make sense. The bulk of the area under the curve is contained in the interval [0, 1] whereas only a much smaller slice of it is contained in [1, 2]; the area from [2, inf) is almost negligible in comparison. This aligns with the results from running the function. The result of running expon_measure on [0, 1] (approx. 0.86) is roughly six times greater than the result for [1, 10] (approx. 0.14); this lines up with what we see in the plot. The result of expon_measure([0, inf)) is of course 1 as the interval represents all values in the support for the exponential distribution. result of expon_measure([1,1]) is 0 because the interval has length 0."
   ]
  },
  {
   "cell_type": "markdown",
   "id": "3d2e2ca7-8ec2-440a-a642-31bf1ecb4dbe",
   "metadata": {},
   "source": [
    "## Question 4"
   ]
  },
  {
   "cell_type": "code",
   "execution_count": 22,
   "id": "95641846-f6f3-4a6a-bfbd-0a14dfa125c5",
   "metadata": {},
   "outputs": [],
   "source": [
    "def expon_pdf(x):\n",
    "    \"\"\"\n",
    "    PARAMETERS\n",
    "        * x --> a real number\n",
    "    RETURNS\n",
    "        * a tuple: 1st value is the pdf of Exp(2) at x, 2nd value is the absolute error\n",
    "    \"\"\"\n",
    "    # check that x is of the correct type\n",
    "    assert type(x) == int or type(x) == float, \"Input type must be real number!\"\n",
    "\n",
    "    # calculating scale parameter based on lambda = 2\n",
    "    lambda_val = 2\n",
    "    scale = 1 / lambda_val\n",
    "\n",
    "    # calculate and return pdf\n",
    "    return expon.pdf(x, scale=scale)"
   ]
  },
  {
   "cell_type": "markdown",
   "id": "2bbe197d-a0f2-409d-8477-d0f5fceecdfa",
   "metadata": {},
   "source": [
    "### Tests"
   ]
  },
  {
   "cell_type": "code",
   "execution_count": 23,
   "id": "afad07f7-b9a1-460d-90eb-49e089b78009",
   "metadata": {},
   "outputs": [
    {
     "data": {
      "text/plain": [
       "(0.8646647167633872, 9.59970677131702e-15)"
      ]
     },
     "execution_count": 23,
     "metadata": {},
     "output_type": "execute_result"
    }
   ],
   "source": [
    "# a) [0, 1]\n",
    "quad(expon_pdf, 0, 1)"
   ]
  },
  {
   "cell_type": "code",
   "execution_count": 24,
   "id": "7a25b914-edff-480d-81c7-bd1a5b1983c9",
   "metadata": {},
   "outputs": [
    {
     "data": {
      "text/plain": [
       "(0.0, 0.0)"
      ]
     },
     "execution_count": 24,
     "metadata": {},
     "output_type": "execute_result"
    }
   ],
   "source": [
    "# b) [1, 1]\n",
    "quad(expon_pdf, 1, 1)"
   ]
  },
  {
   "cell_type": "code",
   "execution_count": 25,
   "id": "370af331-43a2-4598-80d2-389adc69d476",
   "metadata": {},
   "outputs": [
    {
     "data": {
      "text/plain": [
       "(0.13533528117545912, 2.4502060294750603e-09)"
      ]
     },
     "execution_count": 25,
     "metadata": {},
     "output_type": "execute_result"
    }
   ],
   "source": [
    "# c) [1, 10]\n",
    "quad(expon_pdf, 1, 10)"
   ]
  },
  {
   "cell_type": "code",
   "execution_count": 26,
   "id": "e5cf6f65-36d5-41fa-91f7-9a6ad2c81973",
   "metadata": {},
   "outputs": [
    {
     "data": {
      "text/plain": [
       "(1.0, 1.547006336759497e-10)"
      ]
     },
     "execution_count": 26,
     "metadata": {},
     "output_type": "execute_result"
    }
   ],
   "source": [
    "# d) [0, inf)\n",
    "quad(expon_pdf, 0, float(\"inf\"))"
   ]
  },
  {
   "cell_type": "markdown",
   "id": "8a5f8c2f-0016-4653-a22c-938b5d29c450",
   "metadata": {},
   "source": [
    "The answers (i.e. the first value in the tuple) are exactly the same as the answers from question 3. This is because the probability density function (pdf) for the exponential distribution is continuous and integrable. Therefore (according to the fundamental theorem of calculus), integrating the function yields its cumulative distribution function. If the integration is done between a specific interval than we can compute the probability mass for that interval. Given that this was done for the same intervals used in question 3, the answers match up exactly."
   ]
  },
  {
   "cell_type": "code",
   "execution_count": null,
   "id": "bb38b62d-273d-43db-98d6-bdd9b64d869f",
   "metadata": {},
   "outputs": [],
   "source": []
  }
 ],
 "metadata": {
  "kernelspec": {
   "display_name": "Python 3 (ipykernel)",
   "language": "python",
   "name": "python3"
  },
  "language_info": {
   "codemirror_mode": {
    "name": "ipython",
    "version": 3
   },
   "file_extension": ".py",
   "mimetype": "text/x-python",
   "name": "python",
   "nbconvert_exporter": "python",
   "pygments_lexer": "ipython3",
   "version": "3.9.6"
  }
 },
 "nbformat": 4,
 "nbformat_minor": 5
}
