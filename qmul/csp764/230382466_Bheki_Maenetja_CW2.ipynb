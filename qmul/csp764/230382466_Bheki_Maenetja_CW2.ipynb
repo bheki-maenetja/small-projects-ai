{
 "cells": [
  {
   "cell_type": "markdown",
   "id": "d2854424-938d-4634-b8af-1a1b902955d4",
   "metadata": {},
   "source": [
    "# EECS764P Coursework 2\n",
    "- Name: Bheki Maenetja\n",
    "- Student ID: 230382466"
   ]
  },
  {
   "cell_type": "markdown",
   "id": "7b216060-f019-4939-8390-f63005ae8a42",
   "metadata": {},
   "source": [
    "## Imports"
   ]
  },
  {
   "cell_type": "code",
   "execution_count": 147,
   "id": "060ca083-24ec-4b29-8c76-9b0c2d2941c8",
   "metadata": {},
   "outputs": [],
   "source": [
    "import numpy as np\n",
    "from scipy.stats import uniform, norm, cauchy\n",
    "# from scipy.integrate import quad\n",
    "\n",
    "# !pip install plotly\n",
    "import plotly.graph_objects as go\n",
    "# import plotly.io as pio\n",
    "# pio.renderers.default = \"iframe\""
   ]
  },
  {
   "cell_type": "markdown",
   "id": "48b38ff0-d945-4e85-975f-ded07f6a171e",
   "metadata": {},
   "source": [
    "## Plotting Functions"
   ]
  },
  {
   "cell_type": "code",
   "execution_count": 129,
   "id": "60123b67-d1af-4c3f-9581-61acb4520b5b",
   "metadata": {},
   "outputs": [],
   "source": [
    "# Plotting functions\n",
    "def plot_data(x=None, y=None, z=None, size=None, colour=None, title=\"\", colour_title=\"\", x_label=\"\", y_label=\"\", name=\"\", mode=\"markers\", text=\"\", fill=None, **traces):\n",
    "    \"\"\"\n",
    "    General purpose function for plotting scatter plots in plotly.\n",
    "    \"\"\"\n",
    "    fig = go.Figure(layout={\n",
    "        \"title\": title,\n",
    "        \"xaxis\": {\"title\": x_label},\n",
    "        \"yaxis\": {\"title\": y_label}\n",
    "    })\n",
    "\n",
    "    marker = dict()\n",
    "    \n",
    "    if size is not None:\n",
    "        marker[\"size\"] = size\n",
    "        marker[\"sizeref\"] = 0.01\n",
    "    if colour is not None:\n",
    "        marker[\"color\"] = colour\n",
    "        marker[\"showscale\"] = True\n",
    "        marker[\"colorbar\"] = dict(title=colour_title)\n",
    "    \n",
    "    if z is None:\n",
    "        data = go.Scatter(\n",
    "            x=x,\n",
    "            y=y,\n",
    "            mode=mode,\n",
    "            name=name,\n",
    "            text=text,\n",
    "            fill=fill,\n",
    "            marker=marker,\n",
    "        )\n",
    "    else:\n",
    "        data = go.Scatter3d(\n",
    "            x=x,\n",
    "            y=y,\n",
    "            z=z,\n",
    "            mode=mode,\n",
    "            name=name,\n",
    "            text=text,\n",
    "            marker=marker,\n",
    "        )\n",
    "\n",
    "    if x is not None and y is not None:\n",
    "        fig.add_trace(data)\n",
    "    \n",
    "    for t in traces:\n",
    "        fig.add_trace(traces[t])\n",
    "    \n",
    "    return fig\n",
    "\n",
    "def create_trace(x=None, y=None, z=None, size=None, colour=None, colour_title=\"\", name=\"\", mode=\"lines\", text=\"\", fill=None):\n",
    "    marker = dict()\n",
    "    \n",
    "    if size is not None:\n",
    "        marker[\"size\"] = size\n",
    "        marker[\"sizeref\"] = 0.01\n",
    "    if colour is not None:\n",
    "        marker[\"color\"] = colour\n",
    "        marker[\"showscale\"] = True\n",
    "        marker[\"colorbar\"] = dict(title=colour_title)\n",
    "    \n",
    "    if z is None:\n",
    "        trace = go.Scatter(\n",
    "            x=x,\n",
    "            y=y,\n",
    "            mode=mode,\n",
    "            name=name,\n",
    "            text=text,\n",
    "            fill=fill,\n",
    "            marker=marker\n",
    "        )\n",
    "    else:\n",
    "        trace = go.Scatter3d(\n",
    "            x=x,\n",
    "            y=y,\n",
    "            z=z,\n",
    "            mode=mode,\n",
    "            name=name,\n",
    "            text=text,\n",
    "            marker=marker\n",
    "        )\n",
    "    \n",
    "    return trace"
   ]
  },
  {
   "cell_type": "markdown",
   "id": "123820d8-a965-4dae-a076-9b7a0bf34bea",
   "metadata": {},
   "source": [
    "## Question 1"
   ]
  },
  {
   "cell_type": "code",
   "execution_count": 130,
   "id": "48318dca-222f-4464-8b36-86ea54744433",
   "metadata": {},
   "outputs": [
    {
     "data": {
      "application/vnd.plotly.v1+json": {
       "config": {
        "plotlyServerURL": "https://plot.ly"
       },
       "data": [
        {
         "marker": {
          "color": [
           0.7439615084235166,
           0.15601814971174077,
           0.08256794536481249,
           0.9334734831090827,
           0.10718418086392534,
           0.2984447727300029,
           0.84463295268281,
           0.7103660837672624,
           0.7108788371421353,
           0.38506579763991133,
           0.4672381963813411,
           0.3994873792891679,
           0.31851080187279435,
           0.8180086631317749,
           0.35978418418364233,
           0.6391410569810677,
           0.42268443293611235,
           0.3048029739418652,
           0.3999362465316415,
           0.543081880409632,
           0.8477967328250129,
           0.49511061490468733,
           0.18049086360637456,
           0.11448768826094591,
           0.4658598327203508,
           0.1864713708256709,
           0.3662677919570748,
           0.6412680495288351,
           0.46719319219972555,
           0.1187344471865377
          ],
          "colorbar": {
           "title": {
            "text": "x3 ~ Unif(0,1)"
           }
          },
          "showscale": true,
          "size": [
           0.6607296732388283,
           0.14352067072625285,
           0.017156452175723674,
           0.7576655056732142,
           0.10021738863878121,
           0.29161778727221127,
           0.5400288212247122,
           0.3793829901274243,
           0.16285667116787417,
           0.018104475306706027,
           0.22729620740245238,
           0.304565468864352,
           0.036608236640890794,
           0.6062764211586935,
           0.1900559133034459,
           0.18186021218218507,
           0.07697774106453947,
           0.021868429236398264,
           0.20447771963912864,
           0.2003680387760788,
           0.7674995341781952,
           0.4896853371658794,
           0.17593576167913755,
           0.10170325688090613,
           0.440210162463555,
           0.16976170050793632,
           0.02400110781515173,
           0.08094225133030102,
           0.35351367004525636,
           0.04594579922240271
          ],
          "sizeref": 0.01
         },
         "mode": "markers",
         "name": "",
         "text": [
          "Size = 0.6607296732388283",
          "Size = 0.14352067072625285",
          "Size = 0.017156452175723674",
          "Size = 0.7576655056732142",
          "Size = 0.10021738863878121",
          "Size = 0.29161778727221127",
          "Size = 0.5400288212247122",
          "Size = 0.3793829901274243",
          "Size = 0.16285667116787417",
          "Size = 0.018104475306706027",
          "Size = 0.22729620740245238",
          "Size = 0.304565468864352",
          "Size = 0.036608236640890794",
          "Size = 0.6062764211586935",
          "Size = 0.1900559133034459",
          "Size = 0.18186021218218507",
          "Size = 0.07697774106453947",
          "Size = 0.021868429236398264",
          "Size = 0.20447771963912864",
          "Size = 0.2003680387760788",
          "Size = 0.7674995341781952",
          "Size = 0.4896853371658794",
          "Size = 0.17593576167913755",
          "Size = 0.10170325688090613",
          "Size = 0.440210162463555",
          "Size = 0.16976170050793632",
          "Size = 0.02400110781515173",
          "Size = 0.08094225133030102",
          "Size = 0.35351367004525636",
          "Size = 0.04594579922240271"
         ],
         "type": "scatter",
         "x": [
          0.8555629014048287,
          1.775110207203899,
          2.459339697190921,
          -1.072640637384574,
          0.3999790444030688,
          1.6001402128177549,
          -0.642059893237475,
          0.7003040266768422,
          -0.4072344905399176,
          0.8765827726137576,
          1.5126072606351568,
          -0.05177947568595264,
          1.3731591795852658,
          -0.2456341198763468,
          -0.187049927541799,
          0.4174712203723368,
          -1.7711422422074008,
          -0.5664874250122934,
          -1.670413735816924,
          -0.0866541803388467,
          0.1928710939844293,
          -0.14324288659484793,
          0.685419286587172,
          1.8246710520497182,
          -0.43278052501496805,
          -1.6066999618317994,
          -0.8785367450264624,
          0.9250256218187715,
          0.06017641775920339,
          -0.6171958453262386
         ],
         "y": [
          -3.1321112780904663,
          3.1444877992466873,
          1.0856812871966075,
          1.4809631167607424,
          -1.9299295741249334,
          0.598562348668271,
          5.963923045486082,
          -1.8532337533386847,
          1.1746395494374031,
          -1.7651353760294675,
          -0.221903213572626,
          -0.5084351155570634,
          -2.3920200588834772,
          0.24383884795886623,
          -3.3245156969607903,
          6.369359985042788,
          -0.42425014695482766,
          4.995751483510961,
          3.2003287953374953,
          2.389372143894253,
          5.701173500400193,
          5.058021348363655,
          6.257258270451671,
          -2.293173721338122,
          1.6482717104228923,
          -3.5398736685290704,
          -0.08274067884624792,
          -0.9255748613621058,
          6.1089486601405465,
          -1.0837048708225043
         ]
        }
       ],
       "layout": {
        "autosize": true,
        "template": {
         "data": {
          "bar": [
           {
            "error_x": {
             "color": "#2a3f5f"
            },
            "error_y": {
             "color": "#2a3f5f"
            },
            "marker": {
             "line": {
              "color": "#E5ECF6",
              "width": 0.5
             },
             "pattern": {
              "fillmode": "overlay",
              "size": 10,
              "solidity": 0.2
             }
            },
            "type": "bar"
           }
          ],
          "barpolar": [
           {
            "marker": {
             "line": {
              "color": "#E5ECF6",
              "width": 0.5
             },
             "pattern": {
              "fillmode": "overlay",
              "size": 10,
              "solidity": 0.2
             }
            },
            "type": "barpolar"
           }
          ],
          "carpet": [
           {
            "aaxis": {
             "endlinecolor": "#2a3f5f",
             "gridcolor": "white",
             "linecolor": "white",
             "minorgridcolor": "white",
             "startlinecolor": "#2a3f5f"
            },
            "baxis": {
             "endlinecolor": "#2a3f5f",
             "gridcolor": "white",
             "linecolor": "white",
             "minorgridcolor": "white",
             "startlinecolor": "#2a3f5f"
            },
            "type": "carpet"
           }
          ],
          "choropleth": [
           {
            "colorbar": {
             "outlinewidth": 0,
             "ticks": ""
            },
            "type": "choropleth"
           }
          ],
          "contour": [
           {
            "colorbar": {
             "outlinewidth": 0,
             "ticks": ""
            },
            "colorscale": [
             [
              0,
              "#0d0887"
             ],
             [
              0.1111111111111111,
              "#46039f"
             ],
             [
              0.2222222222222222,
              "#7201a8"
             ],
             [
              0.3333333333333333,
              "#9c179e"
             ],
             [
              0.4444444444444444,
              "#bd3786"
             ],
             [
              0.5555555555555556,
              "#d8576b"
             ],
             [
              0.6666666666666666,
              "#ed7953"
             ],
             [
              0.7777777777777778,
              "#fb9f3a"
             ],
             [
              0.8888888888888888,
              "#fdca26"
             ],
             [
              1,
              "#f0f921"
             ]
            ],
            "type": "contour"
           }
          ],
          "contourcarpet": [
           {
            "colorbar": {
             "outlinewidth": 0,
             "ticks": ""
            },
            "type": "contourcarpet"
           }
          ],
          "heatmap": [
           {
            "colorbar": {
             "outlinewidth": 0,
             "ticks": ""
            },
            "colorscale": [
             [
              0,
              "#0d0887"
             ],
             [
              0.1111111111111111,
              "#46039f"
             ],
             [
              0.2222222222222222,
              "#7201a8"
             ],
             [
              0.3333333333333333,
              "#9c179e"
             ],
             [
              0.4444444444444444,
              "#bd3786"
             ],
             [
              0.5555555555555556,
              "#d8576b"
             ],
             [
              0.6666666666666666,
              "#ed7953"
             ],
             [
              0.7777777777777778,
              "#fb9f3a"
             ],
             [
              0.8888888888888888,
              "#fdca26"
             ],
             [
              1,
              "#f0f921"
             ]
            ],
            "type": "heatmap"
           }
          ],
          "heatmapgl": [
           {
            "colorbar": {
             "outlinewidth": 0,
             "ticks": ""
            },
            "colorscale": [
             [
              0,
              "#0d0887"
             ],
             [
              0.1111111111111111,
              "#46039f"
             ],
             [
              0.2222222222222222,
              "#7201a8"
             ],
             [
              0.3333333333333333,
              "#9c179e"
             ],
             [
              0.4444444444444444,
              "#bd3786"
             ],
             [
              0.5555555555555556,
              "#d8576b"
             ],
             [
              0.6666666666666666,
              "#ed7953"
             ],
             [
              0.7777777777777778,
              "#fb9f3a"
             ],
             [
              0.8888888888888888,
              "#fdca26"
             ],
             [
              1,
              "#f0f921"
             ]
            ],
            "type": "heatmapgl"
           }
          ],
          "histogram": [
           {
            "marker": {
             "pattern": {
              "fillmode": "overlay",
              "size": 10,
              "solidity": 0.2
             }
            },
            "type": "histogram"
           }
          ],
          "histogram2d": [
           {
            "colorbar": {
             "outlinewidth": 0,
             "ticks": ""
            },
            "colorscale": [
             [
              0,
              "#0d0887"
             ],
             [
              0.1111111111111111,
              "#46039f"
             ],
             [
              0.2222222222222222,
              "#7201a8"
             ],
             [
              0.3333333333333333,
              "#9c179e"
             ],
             [
              0.4444444444444444,
              "#bd3786"
             ],
             [
              0.5555555555555556,
              "#d8576b"
             ],
             [
              0.6666666666666666,
              "#ed7953"
             ],
             [
              0.7777777777777778,
              "#fb9f3a"
             ],
             [
              0.8888888888888888,
              "#fdca26"
             ],
             [
              1,
              "#f0f921"
             ]
            ],
            "type": "histogram2d"
           }
          ],
          "histogram2dcontour": [
           {
            "colorbar": {
             "outlinewidth": 0,
             "ticks": ""
            },
            "colorscale": [
             [
              0,
              "#0d0887"
             ],
             [
              0.1111111111111111,
              "#46039f"
             ],
             [
              0.2222222222222222,
              "#7201a8"
             ],
             [
              0.3333333333333333,
              "#9c179e"
             ],
             [
              0.4444444444444444,
              "#bd3786"
             ],
             [
              0.5555555555555556,
              "#d8576b"
             ],
             [
              0.6666666666666666,
              "#ed7953"
             ],
             [
              0.7777777777777778,
              "#fb9f3a"
             ],
             [
              0.8888888888888888,
              "#fdca26"
             ],
             [
              1,
              "#f0f921"
             ]
            ],
            "type": "histogram2dcontour"
           }
          ],
          "mesh3d": [
           {
            "colorbar": {
             "outlinewidth": 0,
             "ticks": ""
            },
            "type": "mesh3d"
           }
          ],
          "parcoords": [
           {
            "line": {
             "colorbar": {
              "outlinewidth": 0,
              "ticks": ""
             }
            },
            "type": "parcoords"
           }
          ],
          "pie": [
           {
            "automargin": true,
            "type": "pie"
           }
          ],
          "scatter": [
           {
            "fillpattern": {
             "fillmode": "overlay",
             "size": 10,
             "solidity": 0.2
            },
            "type": "scatter"
           }
          ],
          "scatter3d": [
           {
            "line": {
             "colorbar": {
              "outlinewidth": 0,
              "ticks": ""
             }
            },
            "marker": {
             "colorbar": {
              "outlinewidth": 0,
              "ticks": ""
             }
            },
            "type": "scatter3d"
           }
          ],
          "scattercarpet": [
           {
            "marker": {
             "colorbar": {
              "outlinewidth": 0,
              "ticks": ""
             }
            },
            "type": "scattercarpet"
           }
          ],
          "scattergeo": [
           {
            "marker": {
             "colorbar": {
              "outlinewidth": 0,
              "ticks": ""
             }
            },
            "type": "scattergeo"
           }
          ],
          "scattergl": [
           {
            "marker": {
             "colorbar": {
              "outlinewidth": 0,
              "ticks": ""
             }
            },
            "type": "scattergl"
           }
          ],
          "scattermapbox": [
           {
            "marker": {
             "colorbar": {
              "outlinewidth": 0,
              "ticks": ""
             }
            },
            "type": "scattermapbox"
           }
          ],
          "scatterpolar": [
           {
            "marker": {
             "colorbar": {
              "outlinewidth": 0,
              "ticks": ""
             }
            },
            "type": "scatterpolar"
           }
          ],
          "scatterpolargl": [
           {
            "marker": {
             "colorbar": {
              "outlinewidth": 0,
              "ticks": ""
             }
            },
            "type": "scatterpolargl"
           }
          ],
          "scatterternary": [
           {
            "marker": {
             "colorbar": {
              "outlinewidth": 0,
              "ticks": ""
             }
            },
            "type": "scatterternary"
           }
          ],
          "surface": [
           {
            "colorbar": {
             "outlinewidth": 0,
             "ticks": ""
            },
            "colorscale": [
             [
              0,
              "#0d0887"
             ],
             [
              0.1111111111111111,
              "#46039f"
             ],
             [
              0.2222222222222222,
              "#7201a8"
             ],
             [
              0.3333333333333333,
              "#9c179e"
             ],
             [
              0.4444444444444444,
              "#bd3786"
             ],
             [
              0.5555555555555556,
              "#d8576b"
             ],
             [
              0.6666666666666666,
              "#ed7953"
             ],
             [
              0.7777777777777778,
              "#fb9f3a"
             ],
             [
              0.8888888888888888,
              "#fdca26"
             ],
             [
              1,
              "#f0f921"
             ]
            ],
            "type": "surface"
           }
          ],
          "table": [
           {
            "cells": {
             "fill": {
              "color": "#EBF0F8"
             },
             "line": {
              "color": "white"
             }
            },
            "header": {
             "fill": {
              "color": "#C8D4E3"
             },
             "line": {
              "color": "white"
             }
            },
            "type": "table"
           }
          ]
         },
         "layout": {
          "annotationdefaults": {
           "arrowcolor": "#2a3f5f",
           "arrowhead": 0,
           "arrowwidth": 1
          },
          "autotypenumbers": "strict",
          "coloraxis": {
           "colorbar": {
            "outlinewidth": 0,
            "ticks": ""
           }
          },
          "colorscale": {
           "diverging": [
            [
             0,
             "#8e0152"
            ],
            [
             0.1,
             "#c51b7d"
            ],
            [
             0.2,
             "#de77ae"
            ],
            [
             0.3,
             "#f1b6da"
            ],
            [
             0.4,
             "#fde0ef"
            ],
            [
             0.5,
             "#f7f7f7"
            ],
            [
             0.6,
             "#e6f5d0"
            ],
            [
             0.7,
             "#b8e186"
            ],
            [
             0.8,
             "#7fbc41"
            ],
            [
             0.9,
             "#4d9221"
            ],
            [
             1,
             "#276419"
            ]
           ],
           "sequential": [
            [
             0,
             "#0d0887"
            ],
            [
             0.1111111111111111,
             "#46039f"
            ],
            [
             0.2222222222222222,
             "#7201a8"
            ],
            [
             0.3333333333333333,
             "#9c179e"
            ],
            [
             0.4444444444444444,
             "#bd3786"
            ],
            [
             0.5555555555555556,
             "#d8576b"
            ],
            [
             0.6666666666666666,
             "#ed7953"
            ],
            [
             0.7777777777777778,
             "#fb9f3a"
            ],
            [
             0.8888888888888888,
             "#fdca26"
            ],
            [
             1,
             "#f0f921"
            ]
           ],
           "sequentialminus": [
            [
             0,
             "#0d0887"
            ],
            [
             0.1111111111111111,
             "#46039f"
            ],
            [
             0.2222222222222222,
             "#7201a8"
            ],
            [
             0.3333333333333333,
             "#9c179e"
            ],
            [
             0.4444444444444444,
             "#bd3786"
            ],
            [
             0.5555555555555556,
             "#d8576b"
            ],
            [
             0.6666666666666666,
             "#ed7953"
            ],
            [
             0.7777777777777778,
             "#fb9f3a"
            ],
            [
             0.8888888888888888,
             "#fdca26"
            ],
            [
             1,
             "#f0f921"
            ]
           ]
          },
          "colorway": [
           "#636efa",
           "#EF553B",
           "#00cc96",
           "#ab63fa",
           "#FFA15A",
           "#19d3f3",
           "#FF6692",
           "#B6E880",
           "#FF97FF",
           "#FECB52"
          ],
          "font": {
           "color": "#2a3f5f"
          },
          "geo": {
           "bgcolor": "white",
           "lakecolor": "white",
           "landcolor": "#E5ECF6",
           "showlakes": true,
           "showland": true,
           "subunitcolor": "white"
          },
          "hoverlabel": {
           "align": "left"
          },
          "hovermode": "closest",
          "mapbox": {
           "style": "light"
          },
          "paper_bgcolor": "white",
          "plot_bgcolor": "#E5ECF6",
          "polar": {
           "angularaxis": {
            "gridcolor": "white",
            "linecolor": "white",
            "ticks": ""
           },
           "bgcolor": "#E5ECF6",
           "radialaxis": {
            "gridcolor": "white",
            "linecolor": "white",
            "ticks": ""
           }
          },
          "scene": {
           "xaxis": {
            "backgroundcolor": "#E5ECF6",
            "gridcolor": "white",
            "gridwidth": 2,
            "linecolor": "white",
            "showbackground": true,
            "ticks": "",
            "zerolinecolor": "white"
           },
           "yaxis": {
            "backgroundcolor": "#E5ECF6",
            "gridcolor": "white",
            "gridwidth": 2,
            "linecolor": "white",
            "showbackground": true,
            "ticks": "",
            "zerolinecolor": "white"
           },
           "zaxis": {
            "backgroundcolor": "#E5ECF6",
            "gridcolor": "white",
            "gridwidth": 2,
            "linecolor": "white",
            "showbackground": true,
            "ticks": "",
            "zerolinecolor": "white"
           }
          },
          "shapedefaults": {
           "line": {
            "color": "#2a3f5f"
           }
          },
          "ternary": {
           "aaxis": {
            "gridcolor": "white",
            "linecolor": "white",
            "ticks": ""
           },
           "baxis": {
            "gridcolor": "white",
            "linecolor": "white",
            "ticks": ""
           },
           "bgcolor": "#E5ECF6",
           "caxis": {
            "gridcolor": "white",
            "linecolor": "white",
            "ticks": ""
           }
          },
          "title": {
           "x": 0.05
          },
          "xaxis": {
           "automargin": true,
           "gridcolor": "white",
           "linecolor": "white",
           "ticks": "",
           "title": {
            "standoff": 15
           },
           "zerolinecolor": "white",
           "zerolinewidth": 2
          },
          "yaxis": {
           "automargin": true,
           "gridcolor": "white",
           "linecolor": "white",
           "ticks": "",
           "title": {
            "standoff": 15
           },
           "zerolinecolor": "white",
           "zerolinewidth": 2
          }
         }
        },
        "title": {
         "text": "4D Plot of RVs from Normal and Uniform Distributions"
        },
        "xaxis": {
         "autorange": true,
         "range": [
          -2.0342391500687818,
          2.712744042355867
         ],
         "title": {
          "text": "x1 ~ N(0,1)"
         },
         "type": "linear"
        },
        "yaxis": {
         "autorange": true,
         "range": [
          -9.240192369937832,
          12.619662099849645
         ],
         "title": {
          "text": "x2 ~ N(2,4)"
         },
         "type": "linear"
        }
       }
      },
      "image/png": "[encoded data removed]",
      "text/html": [
       "<div>                            <div id=\"feb53545-affa-489a-a6de-0a516f5f2efb\" class=\"plotly-graph-div\" style=\"height:525px; width:100%;\"></div>            <script type=\"text/javascript\">                require([\"plotly\"], function(Plotly) {                    window.PLOTLYENV=window.PLOTLYENV || {};                                    if (document.getElementById(\"feb53545-affa-489a-a6de-0a516f5f2efb\")) {                    Plotly.newPlot(                        \"feb53545-affa-489a-a6de-0a516f5f2efb\",                        [{\"marker\":{\"color\":[0.7439615084235166,0.15601814971174077,0.08256794536481249,0.9334734831090827,0.10718418086392534,0.2984447727300029,0.84463295268281,0.7103660837672624,0.7108788371421353,0.38506579763991133,0.4672381963813411,0.3994873792891679,0.31851080187279435,0.8180086631317749,0.35978418418364233,0.6391410569810677,0.42268443293611235,0.3048029739418652,0.3999362465316415,0.543081880409632,0.8477967328250129,0.49511061490468733,0.18049086360637456,0.11448768826094591,0.4658598327203508,0.1864713708256709,0.3662677919570748,0.6412680495288351,0.46719319219972555,0.1187344471865377],\"colorbar\":{\"title\":{\"text\":\"x3 ~ Unif(0,1)\"}},\"showscale\":true,\"size\":[0.6607296732388283,0.14352067072625285,0.017156452175723674,0.7576655056732142,0.10021738863878121,0.29161778727221127,0.5400288212247122,0.3793829901274243,0.16285667116787417,0.018104475306706027,0.22729620740245238,0.304565468864352,0.036608236640890794,0.6062764211586935,0.1900559133034459,0.18186021218218507,0.07697774106453947,0.021868429236398264,0.20447771963912864,0.2003680387760788,0.7674995341781952,0.4896853371658794,0.17593576167913755,0.10170325688090613,0.440210162463555,0.16976170050793632,0.02400110781515173,0.08094225133030102,0.35351367004525636,0.04594579922240271],\"sizeref\":0.01},\"mode\":\"markers\",\"name\":\"\",\"text\":[\"Size = 0.6607296732388283\",\"Size = 0.14352067072625285\",\"Size = 0.017156452175723674\",\"Size = 0.7576655056732142\",\"Size = 0.10021738863878121\",\"Size = 0.29161778727221127\",\"Size = 0.5400288212247122\",\"Size = 0.3793829901274243\",\"Size = 0.16285667116787417\",\"Size = 0.018104475306706027\",\"Size = 0.22729620740245238\",\"Size = 0.304565468864352\",\"Size = 0.036608236640890794\",\"Size = 0.6062764211586935\",\"Size = 0.1900559133034459\",\"Size = 0.18186021218218507\",\"Size = 0.07697774106453947\",\"Size = 0.021868429236398264\",\"Size = 0.20447771963912864\",\"Size = 0.2003680387760788\",\"Size = 0.7674995341781952\",\"Size = 0.4896853371658794\",\"Size = 0.17593576167913755\",\"Size = 0.10170325688090613\",\"Size = 0.440210162463555\",\"Size = 0.16976170050793632\",\"Size = 0.02400110781515173\",\"Size = 0.08094225133030102\",\"Size = 0.35351367004525636\",\"Size = 0.04594579922240271\"],\"x\":[0.8555629014048287,1.775110207203899,2.459339697190921,-1.072640637384574,0.3999790444030688,1.6001402128177549,-0.642059893237475,0.7003040266768422,-0.4072344905399176,0.8765827726137576,1.5126072606351568,-0.05177947568595264,1.3731591795852658,-0.2456341198763468,-0.187049927541799,0.4174712203723368,-1.7711422422074008,-0.5664874250122934,-1.670413735816924,-0.0866541803388467,0.1928710939844293,-0.14324288659484793,0.685419286587172,1.8246710520497182,-0.43278052501496805,-1.6066999618317994,-0.8785367450264624,0.9250256218187715,0.06017641775920339,-0.6171958453262386],\"y\":[-3.1321112780904663,3.1444877992466873,1.0856812871966075,1.4809631167607424,-1.9299295741249334,0.598562348668271,5.963923045486082,-1.8532337533386847,1.1746395494374031,-1.7651353760294675,-0.221903213572626,-0.5084351155570634,-2.3920200588834772,0.24383884795886623,-3.3245156969607903,6.369359985042788,-0.42425014695482766,4.995751483510961,3.2003287953374953,2.389372143894253,5.701173500400193,5.058021348363655,6.257258270451671,-2.293173721338122,1.6482717104228923,-3.5398736685290704,-0.08274067884624792,-0.9255748613621058,6.1089486601405465,-1.0837048708225043],\"type\":\"scatter\"}],                        {\"title\":{\"text\":\"4D Plot of RVs from Normal and Uniform Distributions\"},\"xaxis\":{\"title\":{\"text\":\"x1 ~ N(0,1)\"}},\"yaxis\":{\"title\":{\"text\":\"x2 ~ N(2,4)\"}},\"template\":{\"data\":{\"histogram2dcontour\":[{\"type\":\"histogram2dcontour\",\"colorbar\":{\"outlinewidth\":0,\"ticks\":\"\"},\"colorscale\":[[0.0,\"#0d0887\"],[0.1111111111111111,\"#46039f\"],[0.2222222222222222,\"#7201a8\"],[0.3333333333333333,\"#9c179e\"],[0.4444444444444444,\"#bd3786\"],[0.5555555555555556,\"#d8576b\"],[0.6666666666666666,\"#ed7953\"],[0.7777777777777778,\"#fb9f3a\"],[0.8888888888888888,\"#fdca26\"],[1.0,\"#f0f921\"]]}],\"choropleth\":[{\"type\":\"choropleth\",\"colorbar\":{\"outlinewidth\":0,\"ticks\":\"\"}}],\"histogram2d\":[{\"type\":\"histogram2d\",\"colorbar\":{\"outlinewidth\":0,\"ticks\":\"\"},\"colorscale\":[[0.0,\"#0d0887\"],[0.1111111111111111,\"#46039f\"],[0.2222222222222222,\"#7201a8\"],[0.3333333333333333,\"#9c179e\"],[0.4444444444444444,\"#bd3786\"],[0.5555555555555556,\"#d8576b\"],[0.6666666666666666,\"#ed7953\"],[0.7777777777777778,\"#fb9f3a\"],[0.8888888888888888,\"#fdca26\"],[1.0,\"#f0f921\"]]}],\"heatmap\":[{\"type\":\"heatmap\",\"colorbar\":{\"outlinewidth\":0,\"ticks\":\"\"},\"colorscale\":[[0.0,\"#0d0887\"],[0.1111111111111111,\"#46039f\"],[0.2222222222222222,\"#7201a8\"],[0.3333333333333333,\"#9c179e\"],[0.4444444444444444,\"#bd3786\"],[0.5555555555555556,\"#d8576b\"],[0.6666666666666666,\"#ed7953\"],[0.7777777777777778,\"#fb9f3a\"],[0.8888888888888888,\"#fdca26\"],[1.0,\"#f0f921\"]]}],\"heatmapgl\":[{\"type\":\"heatmapgl\",\"colorbar\":{\"outlinewidth\":0,\"ticks\":\"\"},\"colorscale\":[[0.0,\"#0d0887\"],[0.1111111111111111,\"#46039f\"],[0.2222222222222222,\"#7201a8\"],[0.3333333333333333,\"#9c179e\"],[0.4444444444444444,\"#bd3786\"],[0.5555555555555556,\"#d8576b\"],[0.6666666666666666,\"#ed7953\"],[0.7777777777777778,\"#fb9f3a\"],[0.8888888888888888,\"#fdca26\"],[1.0,\"#f0f921\"]]}],\"contourcarpet\":[{\"type\":\"contourcarpet\",\"colorbar\":{\"outlinewidth\":0,\"ticks\":\"\"}}],\"contour\":[{\"type\":\"contour\",\"colorbar\":{\"outlinewidth\":0,\"ticks\":\"\"},\"colorscale\":[[0.0,\"#0d0887\"],[0.1111111111111111,\"#46039f\"],[0.2222222222222222,\"#7201a8\"],[0.3333333333333333,\"#9c179e\"],[0.4444444444444444,\"#bd3786\"],[0.5555555555555556,\"#d8576b\"],[0.6666666666666666,\"#ed7953\"],[0.7777777777777778,\"#fb9f3a\"],[0.8888888888888888,\"#fdca26\"],[1.0,\"#f0f921\"]]}],\"surface\":[{\"type\":\"surface\",\"colorbar\":{\"outlinewidth\":0,\"ticks\":\"\"},\"colorscale\":[[0.0,\"#0d0887\"],[0.1111111111111111,\"#46039f\"],[0.2222222222222222,\"#7201a8\"],[0.3333333333333333,\"#9c179e\"],[0.4444444444444444,\"#bd3786\"],[0.5555555555555556,\"#d8576b\"],[0.6666666666666666,\"#ed7953\"],[0.7777777777777778,\"#fb9f3a\"],[0.8888888888888888,\"#fdca26\"],[1.0,\"#f0f921\"]]}],\"mesh3d\":[{\"type\":\"mesh3d\",\"colorbar\":{\"outlinewidth\":0,\"ticks\":\"\"}}],\"scatter\":[{\"fillpattern\":{\"fillmode\":\"overlay\",\"size\":10,\"solidity\":0.2},\"type\":\"scatter\"}],\"parcoords\":[{\"type\":\"parcoords\",\"line\":{\"colorbar\":{\"outlinewidth\":0,\"ticks\":\"\"}}}],\"scatterpolargl\":[{\"type\":\"scatterpolargl\",\"marker\":{\"colorbar\":{\"outlinewidth\":0,\"ticks\":\"\"}}}],\"bar\":[{\"error_x\":{\"color\":\"#2a3f5f\"},\"error_y\":{\"color\":\"#2a3f5f\"},\"marker\":{\"line\":{\"color\":\"#E5ECF6\",\"width\":0.5},\"pattern\":{\"fillmode\":\"overlay\",\"size\":10,\"solidity\":0.2}},\"type\":\"bar\"}],\"scattergeo\":[{\"type\":\"scattergeo\",\"marker\":{\"colorbar\":{\"outlinewidth\":0,\"ticks\":\"\"}}}],\"scatterpolar\":[{\"type\":\"scatterpolar\",\"marker\":{\"colorbar\":{\"outlinewidth\":0,\"ticks\":\"\"}}}],\"histogram\":[{\"marker\":{\"pattern\":{\"fillmode\":\"overlay\",\"size\":10,\"solidity\":0.2}},\"type\":\"histogram\"}],\"scattergl\":[{\"type\":\"scattergl\",\"marker\":{\"colorbar\":{\"outlinewidth\":0,\"ticks\":\"\"}}}],\"scatter3d\":[{\"type\":\"scatter3d\",\"line\":{\"colorbar\":{\"outlinewidth\":0,\"ticks\":\"\"}},\"marker\":{\"colorbar\":{\"outlinewidth\":0,\"ticks\":\"\"}}}],\"scattermapbox\":[{\"type\":\"scattermapbox\",\"marker\":{\"colorbar\":{\"outlinewidth\":0,\"ticks\":\"\"}}}],\"scatterternary\":[{\"type\":\"scatterternary\",\"marker\":{\"colorbar\":{\"outlinewidth\":0,\"ticks\":\"\"}}}],\"scattercarpet\":[{\"type\":\"scattercarpet\",\"marker\":{\"colorbar\":{\"outlinewidth\":0,\"ticks\":\"\"}}}],\"carpet\":[{\"aaxis\":{\"endlinecolor\":\"#2a3f5f\",\"gridcolor\":\"white\",\"linecolor\":\"white\",\"minorgridcolor\":\"white\",\"startlinecolor\":\"#2a3f5f\"},\"baxis\":{\"endlinecolor\":\"#2a3f5f\",\"gridcolor\":\"white\",\"linecolor\":\"white\",\"minorgridcolor\":\"white\",\"startlinecolor\":\"#2a3f5f\"},\"type\":\"carpet\"}],\"table\":[{\"cells\":{\"fill\":{\"color\":\"#EBF0F8\"},\"line\":{\"color\":\"white\"}},\"header\":{\"fill\":{\"color\":\"#C8D4E3\"},\"line\":{\"color\":\"white\"}},\"type\":\"table\"}],\"barpolar\":[{\"marker\":{\"line\":{\"color\":\"#E5ECF6\",\"width\":0.5},\"pattern\":{\"fillmode\":\"overlay\",\"size\":10,\"solidity\":0.2}},\"type\":\"barpolar\"}],\"pie\":[{\"automargin\":true,\"type\":\"pie\"}]},\"layout\":{\"autotypenumbers\":\"strict\",\"colorway\":[\"#636efa\",\"#EF553B\",\"#00cc96\",\"#ab63fa\",\"#FFA15A\",\"#19d3f3\",\"#FF6692\",\"#B6E880\",\"#FF97FF\",\"#FECB52\"],\"font\":{\"color\":\"#2a3f5f\"},\"hovermode\":\"closest\",\"hoverlabel\":{\"align\":\"left\"},\"paper_bgcolor\":\"white\",\"plot_bgcolor\":\"#E5ECF6\",\"polar\":{\"bgcolor\":\"#E5ECF6\",\"angularaxis\":{\"gridcolor\":\"white\",\"linecolor\":\"white\",\"ticks\":\"\"},\"radialaxis\":{\"gridcolor\":\"white\",\"linecolor\":\"white\",\"ticks\":\"\"}},\"ternary\":{\"bgcolor\":\"#E5ECF6\",\"aaxis\":{\"gridcolor\":\"white\",\"linecolor\":\"white\",\"ticks\":\"\"},\"baxis\":{\"gridcolor\":\"white\",\"linecolor\":\"white\",\"ticks\":\"\"},\"caxis\":{\"gridcolor\":\"white\",\"linecolor\":\"white\",\"ticks\":\"\"}},\"coloraxis\":{\"colorbar\":{\"outlinewidth\":0,\"ticks\":\"\"}},\"colorscale\":{\"sequential\":[[0.0,\"#0d0887\"],[0.1111111111111111,\"#46039f\"],[0.2222222222222222,\"#7201a8\"],[0.3333333333333333,\"#9c179e\"],[0.4444444444444444,\"#bd3786\"],[0.5555555555555556,\"#d8576b\"],[0.6666666666666666,\"#ed7953\"],[0.7777777777777778,\"#fb9f3a\"],[0.8888888888888888,\"#fdca26\"],[1.0,\"#f0f921\"]],\"sequentialminus\":[[0.0,\"#0d0887\"],[0.1111111111111111,\"#46039f\"],[0.2222222222222222,\"#7201a8\"],[0.3333333333333333,\"#9c179e\"],[0.4444444444444444,\"#bd3786\"],[0.5555555555555556,\"#d8576b\"],[0.6666666666666666,\"#ed7953\"],[0.7777777777777778,\"#fb9f3a\"],[0.8888888888888888,\"#fdca26\"],[1.0,\"#f0f921\"]],\"diverging\":[[0,\"#8e0152\"],[0.1,\"#c51b7d\"],[0.2,\"#de77ae\"],[0.3,\"#f1b6da\"],[0.4,\"#fde0ef\"],[0.5,\"#f7f7f7\"],[0.6,\"#e6f5d0\"],[0.7,\"#b8e186\"],[0.8,\"#7fbc41\"],[0.9,\"#4d9221\"],[1,\"#276419\"]]},\"xaxis\":{\"gridcolor\":\"white\",\"linecolor\":\"white\",\"ticks\":\"\",\"title\":{\"standoff\":15},\"zerolinecolor\":\"white\",\"automargin\":true,\"zerolinewidth\":2},\"yaxis\":{\"gridcolor\":\"white\",\"linecolor\":\"white\",\"ticks\":\"\",\"title\":{\"standoff\":15},\"zerolinecolor\":\"white\",\"automargin\":true,\"zerolinewidth\":2},\"scene\":{\"xaxis\":{\"backgroundcolor\":\"#E5ECF6\",\"gridcolor\":\"white\",\"linecolor\":\"white\",\"showbackground\":true,\"ticks\":\"\",\"zerolinecolor\":\"white\",\"gridwidth\":2},\"yaxis\":{\"backgroundcolor\":\"#E5ECF6\",\"gridcolor\":\"white\",\"linecolor\":\"white\",\"showbackground\":true,\"ticks\":\"\",\"zerolinecolor\":\"white\",\"gridwidth\":2},\"zaxis\":{\"backgroundcolor\":\"#E5ECF6\",\"gridcolor\":\"white\",\"linecolor\":\"white\",\"showbackground\":true,\"ticks\":\"\",\"zerolinecolor\":\"white\",\"gridwidth\":2}},\"shapedefaults\":{\"line\":{\"color\":\"#2a3f5f\"}},\"annotationdefaults\":{\"arrowcolor\":\"#2a3f5f\",\"arrowhead\":0,\"arrowwidth\":1},\"geo\":{\"bgcolor\":\"white\",\"landcolor\":\"#E5ECF6\",\"subunitcolor\":\"white\",\"showland\":true,\"showlakes\":true,\"lakecolor\":\"white\"},\"title\":{\"x\":0.05},\"mapbox\":{\"style\":\"light\"}}}},                        {\"responsive\": true}                    ).then(function(){\n",
       "                            \n",
       "var gd = document.getElementById('feb53545-affa-489a-a6de-0a516f5f2efb');\n",
       "var x = new MutationObserver(function (mutations, observer) {{\n",
       "        var display = window.getComputedStyle(gd).display;\n",
       "        if (!display || display === 'none') {{\n",
       "            console.log([gd, 'removed!']);\n",
       "            Plotly.purge(gd);\n",
       "            observer.disconnect();\n",
       "        }}\n",
       "}});\n",
       "\n",
       "// Listen for the removal of the full notebook cells\n",
       "var notebookContainer = gd.closest('#notebook-container');\n",
       "if (notebookContainer) {{\n",
       "    x.observe(notebookContainer, {childList: true});\n",
       "}}\n",
       "\n",
       "// Listen for the clearing of the current output cell\n",
       "var outputEl = gd.closest('.output');\n",
       "if (outputEl) {{\n",
       "    x.observe(outputEl, {childList: true});\n",
       "}}\n",
       "\n",
       "                        })                };                });            </script>        </div>"
      ]
     },
     "metadata": {},
     "output_type": "display_data"
    }
   ],
   "source": [
    "N = 30\n",
    "x1 = norm.rvs(0,1,N) # sampling from N(0, 1)\n",
    "x2 = norm.rvs(2,4,N) # sampling from N(2, 4)\n",
    "x3 = uniform.rvs(0,1,N) # sampling from Unif(0,1)\n",
    "x4 = x3 * uniform.rvs(0,1,N) # sampling from Unif(0,1)\n",
    "\n",
    "plot_data(\n",
    "    x1, \n",
    "    x2, \n",
    "    colour=x3, \n",
    "    size=x4,\n",
    "    title=\"4D Plot of RVs from Normal and Uniform Distributions\",\n",
    "    colour_title=\"x3 ~ Unif(0,1)\",\n",
    "    x_label=\"x1 ~ N(0,1)\",\n",
    "    y_label=\"x2 ~ N(2,4)\",\n",
    "    text=[f\"Size = {x}\" for x in x4],\n",
    ")"
   ]
  },
  {
   "cell_type": "code",
   "execution_count": 184,
   "id": "09e0fa6d-15f3-4dd3-9da7-f3b521d7811f",
   "metadata": {},
   "outputs": [],
   "source": [
    "# Wordy part --> TBD"
   ]
  },
  {
   "cell_type": "markdown",
   "id": "6d64b128-8156-4454-914f-d8a94a9af3d9",
   "metadata": {},
   "source": [
    "## Question 2"
   ]
  },
  {
   "cell_type": "code",
   "execution_count": 185,
   "id": "e752e8f8-c42f-4cbd-8491-1eb49c6a8079",
   "metadata": {},
   "outputs": [],
   "source": [
    "N = 1000\n",
    "\n",
    "x_norm = np.random.normal(size=N)\n",
    "x_cauchy = np.random.standard_cauchy(size=N)\n",
    "\n",
    "p = np.linspace(0,100,100)\n",
    "y_norm = np.percentile(x_norm, p)\n",
    "y_cauchy = np.percentile(x_cauchy, p)\n",
    "\n",
    "curve_trace = create_trace(y_norm, y_cauchy, mode=\"markers\")\n",
    "straight_trace = create_trace(y_norm, y_norm)"
   ]
  },
  {
   "cell_type": "code",
   "execution_count": 186,
   "id": "49731972-c496-48ce-96d0-8ef31bc88060",
   "metadata": {},
   "outputs": [
    {
     "data": {
      "application/vnd.plotly.v1+json": {
       "config": {
        "plotlyServerURL": "https://plot.ly"
       },
       "data": [
        {
         "mode": "markers",
         "name": "",
         "text": "",
         "type": "scatter",
         "x": [
          -3.1742762436133054,
          -2.407918726190579,
          -2.0798331910052177,
          -1.87612488784187,
          -1.755227221518834,
          -1.6806585559566838,
          -1.5658453269081962,
          -1.4762313107879148,
          -1.4185719740801466,
          -1.3383175207280809,
          -1.2693154737149703,
          -1.2026455396461442,
          -1.1539946804403796,
          -1.1030806887285984,
          -1.067138325796865,
          -1.0508171538787663,
          -1.0214680143027712,
          -0.9908812762584384,
          -0.9723277470446545,
          -0.9376589627202266,
          -0.8986859849061912,
          -0.8652999841761061,
          -0.82305820638449,
          -0.7877469358416512,
          -0.7553822374493544,
          -0.7220075074407415,
          -0.6570616900603821,
          -0.6225410021874282,
          -0.5823140568811652,
          -0.5463328425759654,
          -0.5213408068059233,
          -0.48918010907322895,
          -0.46171891690922384,
          -0.4474015233177064,
          -0.4270087716115077,
          -0.3991008336381028,
          -0.3693564508665721,
          -0.3484198946076415,
          -0.32362668705201103,
          -0.29560729330848606,
          -0.2743569993390226,
          -0.25482383615173654,
          -0.23221969740571616,
          -0.21217291460396634,
          -0.18381330331737555,
          -0.1612089169937271,
          -0.1471532056063438,
          -0.12579945376520815,
          -0.08988288183465815,
          -0.06903081529845809,
          -0.03867857808714537,
          -0.017824198573073383,
          0.012552343687241414,
          0.0373855055652968,
          0.08450371178306987,
          0.09760489700720422,
          0.12955439917293246,
          0.15436682123608209,
          0.18404580974152634,
          0.20205856221003926,
          0.2211435559334331,
          0.2617448675105803,
          0.2807580418844608,
          0.31787956834707304,
          0.33645756437315993,
          0.3641293902696265,
          0.3919052643468385,
          0.43353799653602115,
          0.4598247904969572,
          0.48805056852687384,
          0.5066938610502162,
          0.5548313962823678,
          0.5917283012380535,
          0.6214771132140805,
          0.6536157854814034,
          0.676235519056252,
          0.6996730822476336,
          0.7247985410781499,
          0.7576861270705829,
          0.8011548079903634,
          0.8253153795291247,
          0.8684460156283516,
          0.931598110850976,
          0.9650992649330674,
          1.015494365609664,
          1.0728557153924132,
          1.098547870237399,
          1.1720883247890523,
          1.1912232987878786,
          1.2419234596137776,
          1.2740806965623497,
          1.3621146623566864,
          1.5154915612837163,
          1.6513095451552628,
          1.7292043990662023,
          1.8683979292514012,
          2.016976206192194,
          2.1584082217530773,
          2.4479491382171368,
          3.451550789682525
         ],
         "y": [
          -1018.0543127947194,
          -24.37902498888306,
          -14.817522958961652,
          -10.996032331069744,
          -8.315843384566268,
          -5.828581301636146,
          -4.818945174998529,
          -4.2219672785349225,
          -3.6670572177088157,
          -3.22006365995505,
          -2.886316888145186,
          -2.466917953181305,
          -2.209790395824666,
          -2.0905778342805803,
          -1.9307137826115337,
          -1.8050268581062137,
          -1.7016025619920268,
          -1.617041913773547,
          -1.3853875364764805,
          -1.2874162965341867,
          -1.233083131692241,
          -1.1487135972962825,
          -1.1057831118828114,
          -1.0506382290077485,
          -0.9899007529441699,
          -0.92737186676044,
          -0.8822821936634626,
          -0.8390535690738227,
          -0.7675811067077868,
          -0.7201005141232606,
          -0.6831441098521992,
          -0.6313071890077667,
          -0.5956615873507733,
          -0.5550302746789241,
          -0.5308529643049027,
          -0.4891355843366324,
          -0.44665552845556655,
          -0.4033044964450624,
          -0.36632766220818525,
          -0.34630627145050163,
          -0.312293862886321,
          -0.29747601154738296,
          -0.26633002476713535,
          -0.23335349174778036,
          -0.2120325580557668,
          -0.17657855345765108,
          -0.15296217485557748,
          -0.09198591127809143,
          -0.059653750957880496,
          -0.02015881770935653,
          0.008820378040270393,
          0.043427747004349496,
          0.07965417851275576,
          0.10350466664267197,
          0.14037090791703605,
          0.1895613946259627,
          0.2196860223775499,
          0.2436802473116276,
          0.26318177850947216,
          0.2951298652729816,
          0.33839588525540293,
          0.359581901062127,
          0.39875748329659017,
          0.43137399614546024,
          0.4498392049230994,
          0.5132208737379488,
          0.5604633682206659,
          0.611861754410479,
          0.6517403134857653,
          0.7255813569840169,
          0.7655543175484294,
          0.8141124404466532,
          0.867417312075117,
          0.8950776623100298,
          0.9438254291334637,
          0.9764154200417516,
          1.0372803225874476,
          1.118245790834877,
          1.1770854251632967,
          1.2374631686960984,
          1.2854263117527542,
          1.3327532490701106,
          1.4502606380328824,
          1.598678512363987,
          1.7427168776958752,
          1.8672451529095986,
          2.0131971458553313,
          2.1767869789893672,
          2.4391923008838217,
          2.6438902343335506,
          2.9504522183266007,
          3.2772249383900913,
          3.7319277311772705,
          4.437772357200474,
          5.413289876899925,
          6.455996621379098,
          7.253632167418929,
          12.566921473087207,
          23.099269562477687,
          415.44947377381055
         ]
        },
        {
         "mode": "lines",
         "name": "",
         "text": "",
         "type": "scatter",
         "x": [
          -3.1742762436133054,
          -2.407918726190579,
          -2.0798331910052177,
          -1.87612488784187,
          -1.755227221518834,
          -1.6806585559566838,
          -1.5658453269081962,
          -1.4762313107879148,
          -1.4185719740801466,
          -1.3383175207280809,
          -1.2693154737149703,
          -1.2026455396461442,
          -1.1539946804403796,
          -1.1030806887285984,
          -1.067138325796865,
          -1.0508171538787663,
          -1.0214680143027712,
          -0.9908812762584384,
          -0.9723277470446545,
          -0.9376589627202266,
          -0.8986859849061912,
          -0.8652999841761061,
          -0.82305820638449,
          -0.7877469358416512,
          -0.7553822374493544,
          -0.7220075074407415,
          -0.6570616900603821,
          -0.6225410021874282,
          -0.5823140568811652,
          -0.5463328425759654,
          -0.5213408068059233,
          -0.48918010907322895,
          -0.46171891690922384,
          -0.4474015233177064,
          -0.4270087716115077,
          -0.3991008336381028,
          -0.3693564508665721,
          -0.3484198946076415,
          -0.32362668705201103,
          -0.29560729330848606,
          -0.2743569993390226,
          -0.25482383615173654,
          -0.23221969740571616,
          -0.21217291460396634,
          -0.18381330331737555,
          -0.1612089169937271,
          -0.1471532056063438,
          -0.12579945376520815,
          -0.08988288183465815,
          -0.06903081529845809,
          -0.03867857808714537,
          -0.017824198573073383,
          0.012552343687241414,
          0.0373855055652968,
          0.08450371178306987,
          0.09760489700720422,
          0.12955439917293246,
          0.15436682123608209,
          0.18404580974152634,
          0.20205856221003926,
          0.2211435559334331,
          0.2617448675105803,
          0.2807580418844608,
          0.31787956834707304,
          0.33645756437315993,
          0.3641293902696265,
          0.3919052643468385,
          0.43353799653602115,
          0.4598247904969572,
          0.48805056852687384,
          0.5066938610502162,
          0.5548313962823678,
          0.5917283012380535,
          0.6214771132140805,
          0.6536157854814034,
          0.676235519056252,
          0.6996730822476336,
          0.7247985410781499,
          0.7576861270705829,
          0.8011548079903634,
          0.8253153795291247,
          0.8684460156283516,
          0.931598110850976,
          0.9650992649330674,
          1.015494365609664,
          1.0728557153924132,
          1.098547870237399,
          1.1720883247890523,
          1.1912232987878786,
          1.2419234596137776,
          1.2740806965623497,
          1.3621146623566864,
          1.5154915612837163,
          1.6513095451552628,
          1.7292043990662023,
          1.8683979292514012,
          2.016976206192194,
          2.1584082217530773,
          2.4479491382171368,
          3.451550789682525
         ],
         "y": [
          -3.1742762436133054,
          -2.407918726190579,
          -2.0798331910052177,
          -1.87612488784187,
          -1.755227221518834,
          -1.6806585559566838,
          -1.5658453269081962,
          -1.4762313107879148,
          -1.4185719740801466,
          -1.3383175207280809,
          -1.2693154737149703,
          -1.2026455396461442,
          -1.1539946804403796,
          -1.1030806887285984,
          -1.067138325796865,
          -1.0508171538787663,
          -1.0214680143027712,
          -0.9908812762584384,
          -0.9723277470446545,
          -0.9376589627202266,
          -0.8986859849061912,
          -0.8652999841761061,
          -0.82305820638449,
          -0.7877469358416512,
          -0.7553822374493544,
          -0.7220075074407415,
          -0.6570616900603821,
          -0.6225410021874282,
          -0.5823140568811652,
          -0.5463328425759654,
          -0.5213408068059233,
          -0.48918010907322895,
          -0.46171891690922384,
          -0.4474015233177064,
          -0.4270087716115077,
          -0.3991008336381028,
          -0.3693564508665721,
          -0.3484198946076415,
          -0.32362668705201103,
          -0.29560729330848606,
          -0.2743569993390226,
          -0.25482383615173654,
          -0.23221969740571616,
          -0.21217291460396634,
          -0.18381330331737555,
          -0.1612089169937271,
          -0.1471532056063438,
          -0.12579945376520815,
          -0.08988288183465815,
          -0.06903081529845809,
          -0.03867857808714537,
          -0.017824198573073383,
          0.012552343687241414,
          0.0373855055652968,
          0.08450371178306987,
          0.09760489700720422,
          0.12955439917293246,
          0.15436682123608209,
          0.18404580974152634,
          0.20205856221003926,
          0.2211435559334331,
          0.2617448675105803,
          0.2807580418844608,
          0.31787956834707304,
          0.33645756437315993,
          0.3641293902696265,
          0.3919052643468385,
          0.43353799653602115,
          0.4598247904969572,
          0.48805056852687384,
          0.5066938610502162,
          0.5548313962823678,
          0.5917283012380535,
          0.6214771132140805,
          0.6536157854814034,
          0.676235519056252,
          0.6996730822476336,
          0.7247985410781499,
          0.7576861270705829,
          0.8011548079903634,
          0.8253153795291247,
          0.8684460156283516,
          0.931598110850976,
          0.9650992649330674,
          1.015494365609664,
          1.0728557153924132,
          1.098547870237399,
          1.1720883247890523,
          1.1912232987878786,
          1.2419234596137776,
          1.2740806965623497,
          1.3621146623566864,
          1.5154915612837163,
          1.6513095451552628,
          1.7292043990662023,
          1.8683979292514012,
          2.016976206192194,
          2.1584082217530773,
          2.4479491382171368,
          3.451550789682525
         ]
        }
       ],
       "layout": {
        "autosize": true,
        "template": {
         "data": {
          "bar": [
           {
            "error_x": {
             "color": "#2a3f5f"
            },
            "error_y": {
             "color": "#2a3f5f"
            },
            "marker": {
             "line": {
              "color": "#E5ECF6",
              "width": 0.5
             },
             "pattern": {
              "fillmode": "overlay",
              "size": 10,
              "solidity": 0.2
             }
            },
            "type": "bar"
           }
          ],
          "barpolar": [
           {
            "marker": {
             "line": {
              "color": "#E5ECF6",
              "width": 0.5
             },
             "pattern": {
              "fillmode": "overlay",
              "size": 10,
              "solidity": 0.2
             }
            },
            "type": "barpolar"
           }
          ],
          "carpet": [
           {
            "aaxis": {
             "endlinecolor": "#2a3f5f",
             "gridcolor": "white",
             "linecolor": "white",
             "minorgridcolor": "white",
             "startlinecolor": "#2a3f5f"
            },
            "baxis": {
             "endlinecolor": "#2a3f5f",
             "gridcolor": "white",
             "linecolor": "white",
             "minorgridcolor": "white",
             "startlinecolor": "#2a3f5f"
            },
            "type": "carpet"
           }
          ],
          "choropleth": [
           {
            "colorbar": {
             "outlinewidth": 0,
             "ticks": ""
            },
            "type": "choropleth"
           }
          ],
          "contour": [
           {
            "colorbar": {
             "outlinewidth": 0,
             "ticks": ""
            },
            "colorscale": [
             [
              0,
              "#0d0887"
             ],
             [
              0.1111111111111111,
              "#46039f"
             ],
             [
              0.2222222222222222,
              "#7201a8"
             ],
             [
              0.3333333333333333,
              "#9c179e"
             ],
             [
              0.4444444444444444,
              "#bd3786"
             ],
             [
              0.5555555555555556,
              "#d8576b"
             ],
             [
              0.6666666666666666,
              "#ed7953"
             ],
             [
              0.7777777777777778,
              "#fb9f3a"
             ],
             [
              0.8888888888888888,
              "#fdca26"
             ],
             [
              1,
              "#f0f921"
             ]
            ],
            "type": "contour"
           }
          ],
          "contourcarpet": [
           {
            "colorbar": {
             "outlinewidth": 0,
             "ticks": ""
            },
            "type": "contourcarpet"
           }
          ],
          "heatmap": [
           {
            "colorbar": {
             "outlinewidth": 0,
             "ticks": ""
            },
            "colorscale": [
             [
              0,
              "#0d0887"
             ],
             [
              0.1111111111111111,
              "#46039f"
             ],
             [
              0.2222222222222222,
              "#7201a8"
             ],
             [
              0.3333333333333333,
              "#9c179e"
             ],
             [
              0.4444444444444444,
              "#bd3786"
             ],
             [
              0.5555555555555556,
              "#d8576b"
             ],
             [
              0.6666666666666666,
              "#ed7953"
             ],
             [
              0.7777777777777778,
              "#fb9f3a"
             ],
             [
              0.8888888888888888,
              "#fdca26"
             ],
             [
              1,
              "#f0f921"
             ]
            ],
            "type": "heatmap"
           }
          ],
          "heatmapgl": [
           {
            "colorbar": {
             "outlinewidth": 0,
             "ticks": ""
            },
            "colorscale": [
             [
              0,
              "#0d0887"
             ],
             [
              0.1111111111111111,
              "#46039f"
             ],
             [
              0.2222222222222222,
              "#7201a8"
             ],
             [
              0.3333333333333333,
              "#9c179e"
             ],
             [
              0.4444444444444444,
              "#bd3786"
             ],
             [
              0.5555555555555556,
              "#d8576b"
             ],
             [
              0.6666666666666666,
              "#ed7953"
             ],
             [
              0.7777777777777778,
              "#fb9f3a"
             ],
             [
              0.8888888888888888,
              "#fdca26"
             ],
             [
              1,
              "#f0f921"
             ]
            ],
            "type": "heatmapgl"
           }
          ],
          "histogram": [
           {
            "marker": {
             "pattern": {
              "fillmode": "overlay",
              "size": 10,
              "solidity": 0.2
             }
            },
            "type": "histogram"
           }
          ],
          "histogram2d": [
           {
            "colorbar": {
             "outlinewidth": 0,
             "ticks": ""
            },
            "colorscale": [
             [
              0,
              "#0d0887"
             ],
             [
              0.1111111111111111,
              "#46039f"
             ],
             [
              0.2222222222222222,
              "#7201a8"
             ],
             [
              0.3333333333333333,
              "#9c179e"
             ],
             [
              0.4444444444444444,
              "#bd3786"
             ],
             [
              0.5555555555555556,
              "#d8576b"
             ],
             [
              0.6666666666666666,
              "#ed7953"
             ],
             [
              0.7777777777777778,
              "#fb9f3a"
             ],
             [
              0.8888888888888888,
              "#fdca26"
             ],
             [
              1,
              "#f0f921"
             ]
            ],
            "type": "histogram2d"
           }
          ],
          "histogram2dcontour": [
           {
            "colorbar": {
             "outlinewidth": 0,
             "ticks": ""
            },
            "colorscale": [
             [
              0,
              "#0d0887"
             ],
             [
              0.1111111111111111,
              "#46039f"
             ],
             [
              0.2222222222222222,
              "#7201a8"
             ],
             [
              0.3333333333333333,
              "#9c179e"
             ],
             [
              0.4444444444444444,
              "#bd3786"
             ],
             [
              0.5555555555555556,
              "#d8576b"
             ],
             [
              0.6666666666666666,
              "#ed7953"
             ],
             [
              0.7777777777777778,
              "#fb9f3a"
             ],
             [
              0.8888888888888888,
              "#fdca26"
             ],
             [
              1,
              "#f0f921"
             ]
            ],
            "type": "histogram2dcontour"
           }
          ],
          "mesh3d": [
           {
            "colorbar": {
             "outlinewidth": 0,
             "ticks": ""
            },
            "type": "mesh3d"
           }
          ],
          "parcoords": [
           {
            "line": {
             "colorbar": {
              "outlinewidth": 0,
              "ticks": ""
             }
            },
            "type": "parcoords"
           }
          ],
          "pie": [
           {
            "automargin": true,
            "type": "pie"
           }
          ],
          "scatter": [
           {
            "fillpattern": {
             "fillmode": "overlay",
             "size": 10,
             "solidity": 0.2
            },
            "type": "scatter"
           }
          ],
          "scatter3d": [
           {
            "line": {
             "colorbar": {
              "outlinewidth": 0,
              "ticks": ""
             }
            },
            "marker": {
             "colorbar": {
              "outlinewidth": 0,
              "ticks": ""
             }
            },
            "type": "scatter3d"
           }
          ],
          "scattercarpet": [
           {
            "marker": {
             "colorbar": {
              "outlinewidth": 0,
              "ticks": ""
             }
            },
            "type": "scattercarpet"
           }
          ],
          "scattergeo": [
           {
            "marker": {
             "colorbar": {
              "outlinewidth": 0,
              "ticks": ""
             }
            },
            "type": "scattergeo"
           }
          ],
          "scattergl": [
           {
            "marker": {
             "colorbar": {
              "outlinewidth": 0,
              "ticks": ""
             }
            },
            "type": "scattergl"
           }
          ],
          "scattermapbox": [
           {
            "marker": {
             "colorbar": {
              "outlinewidth": 0,
              "ticks": ""
             }
            },
            "type": "scattermapbox"
           }
          ],
          "scatterpolar": [
           {
            "marker": {
             "colorbar": {
              "outlinewidth": 0,
              "ticks": ""
             }
            },
            "type": "scatterpolar"
           }
          ],
          "scatterpolargl": [
           {
            "marker": {
             "colorbar": {
              "outlinewidth": 0,
              "ticks": ""
             }
            },
            "type": "scatterpolargl"
           }
          ],
          "scatterternary": [
           {
            "marker": {
             "colorbar": {
              "outlinewidth": 0,
              "ticks": ""
             }
            },
            "type": "scatterternary"
           }
          ],
          "surface": [
           {
            "colorbar": {
             "outlinewidth": 0,
             "ticks": ""
            },
            "colorscale": [
             [
              0,
              "#0d0887"
             ],
             [
              0.1111111111111111,
              "#46039f"
             ],
             [
              0.2222222222222222,
              "#7201a8"
             ],
             [
              0.3333333333333333,
              "#9c179e"
             ],
             [
              0.4444444444444444,
              "#bd3786"
             ],
             [
              0.5555555555555556,
              "#d8576b"
             ],
             [
              0.6666666666666666,
              "#ed7953"
             ],
             [
              0.7777777777777778,
              "#fb9f3a"
             ],
             [
              0.8888888888888888,
              "#fdca26"
             ],
             [
              1,
              "#f0f921"
             ]
            ],
            "type": "surface"
           }
          ],
          "table": [
           {
            "cells": {
             "fill": {
              "color": "#EBF0F8"
             },
             "line": {
              "color": "white"
             }
            },
            "header": {
             "fill": {
              "color": "#C8D4E3"
             },
             "line": {
              "color": "white"
             }
            },
            "type": "table"
           }
          ]
         },
         "layout": {
          "annotationdefaults": {
           "arrowcolor": "#2a3f5f",
           "arrowhead": 0,
           "arrowwidth": 1
          },
          "autotypenumbers": "strict",
          "coloraxis": {
           "colorbar": {
            "outlinewidth": 0,
            "ticks": ""
           }
          },
          "colorscale": {
           "diverging": [
            [
             0,
             "#8e0152"
            ],
            [
             0.1,
             "#c51b7d"
            ],
            [
             0.2,
             "#de77ae"
            ],
            [
             0.3,
             "#f1b6da"
            ],
            [
             0.4,
             "#fde0ef"
            ],
            [
             0.5,
             "#f7f7f7"
            ],
            [
             0.6,
             "#e6f5d0"
            ],
            [
             0.7,
             "#b8e186"
            ],
            [
             0.8,
             "#7fbc41"
            ],
            [
             0.9,
             "#4d9221"
            ],
            [
             1,
             "#276419"
            ]
           ],
           "sequential": [
            [
             0,
             "#0d0887"
            ],
            [
             0.1111111111111111,
             "#46039f"
            ],
            [
             0.2222222222222222,
             "#7201a8"
            ],
            [
             0.3333333333333333,
             "#9c179e"
            ],
            [
             0.4444444444444444,
             "#bd3786"
            ],
            [
             0.5555555555555556,
             "#d8576b"
            ],
            [
             0.6666666666666666,
             "#ed7953"
            ],
            [
             0.7777777777777778,
             "#fb9f3a"
            ],
            [
             0.8888888888888888,
             "#fdca26"
            ],
            [
             1,
             "#f0f921"
            ]
           ],
           "sequentialminus": [
            [
             0,
             "#0d0887"
            ],
            [
             0.1111111111111111,
             "#46039f"
            ],
            [
             0.2222222222222222,
             "#7201a8"
            ],
            [
             0.3333333333333333,
             "#9c179e"
            ],
            [
             0.4444444444444444,
             "#bd3786"
            ],
            [
             0.5555555555555556,
             "#d8576b"
            ],
            [
             0.6666666666666666,
             "#ed7953"
            ],
            [
             0.7777777777777778,
             "#fb9f3a"
            ],
            [
             0.8888888888888888,
             "#fdca26"
            ],
            [
             1,
             "#f0f921"
            ]
           ]
          },
          "colorway": [
           "#636efa",
           "#EF553B",
           "#00cc96",
           "#ab63fa",
           "#FFA15A",
           "#19d3f3",
           "#FF6692",
           "#B6E880",
           "#FF97FF",
           "#FECB52"
          ],
          "font": {
           "color": "#2a3f5f"
          },
          "geo": {
           "bgcolor": "white",
           "lakecolor": "white",
           "landcolor": "#E5ECF6",
           "showlakes": true,
           "showland": true,
           "subunitcolor": "white"
          },
          "hoverlabel": {
           "align": "left"
          },
          "hovermode": "closest",
          "mapbox": {
           "style": "light"
          },
          "paper_bgcolor": "white",
          "plot_bgcolor": "#E5ECF6",
          "polar": {
           "angularaxis": {
            "gridcolor": "white",
            "linecolor": "white",
            "ticks": ""
           },
           "bgcolor": "#E5ECF6",
           "radialaxis": {
            "gridcolor": "white",
            "linecolor": "white",
            "ticks": ""
           }
          },
          "scene": {
           "xaxis": {
            "backgroundcolor": "#E5ECF6",
            "gridcolor": "white",
            "gridwidth": 2,
            "linecolor": "white",
            "showbackground": true,
            "ticks": "",
            "zerolinecolor": "white"
           },
           "yaxis": {
            "backgroundcolor": "#E5ECF6",
            "gridcolor": "white",
            "gridwidth": 2,
            "linecolor": "white",
            "showbackground": true,
            "ticks": "",
            "zerolinecolor": "white"
           },
           "zaxis": {
            "backgroundcolor": "#E5ECF6",
            "gridcolor": "white",
            "gridwidth": 2,
            "linecolor": "white",
            "showbackground": true,
            "ticks": "",
            "zerolinecolor": "white"
           }
          },
          "shapedefaults": {
           "line": {
            "color": "#2a3f5f"
           }
          },
          "ternary": {
           "aaxis": {
            "gridcolor": "white",
            "linecolor": "white",
            "ticks": ""
           },
           "baxis": {
            "gridcolor": "white",
            "linecolor": "white",
            "ticks": ""
           },
           "bgcolor": "#E5ECF6",
           "caxis": {
            "gridcolor": "white",
            "linecolor": "white",
            "ticks": ""
           }
          },
          "title": {
           "x": 0.05
          },
          "xaxis": {
           "automargin": true,
           "gridcolor": "white",
           "linecolor": "white",
           "ticks": "",
           "title": {
            "standoff": 15
           },
           "zerolinecolor": "white",
           "zerolinewidth": 2
          },
          "yaxis": {
           "automargin": true,
           "gridcolor": "white",
           "linecolor": "white",
           "ticks": "",
           "title": {
            "standoff": 15
           },
           "zerolinecolor": "white",
           "zerolinewidth": 2
          }
         }
        },
        "title": {
         "text": "QQ Plot of Normal and Cauchy Distributions"
        },
        "xaxis": {
         "autorange": true,
         "range": [
          -3.57467868455133,
          3.8519532306205493
         ],
         "title": {
          "text": "Normal Distribution"
         },
         "type": "linear"
        },
        "yaxis": {
         "autorange": true,
         "range": [
          -1136.3531689678505,
          533.7483299469417
         ],
         "title": {
          "text": "Cauchy Distribution"
         },
         "type": "linear"
        }
       }
      },
      "image/png": "[encoded data removed]",
      "text/html": [
       "<div>                            <div id=\"b598e5e4-a0ef-420b-8690-ed0c3b608882\" class=\"plotly-graph-div\" style=\"height:525px; width:100%;\"></div>            <script type=\"text/javascript\">                require([\"plotly\"], function(Plotly) {                    window.PLOTLYENV=window.PLOTLYENV || {};                                    if (document.getElementById(\"b598e5e4-a0ef-420b-8690-ed0c3b608882\")) {                    Plotly.newPlot(                        \"b598e5e4-a0ef-420b-8690-ed0c3b608882\",                        [{\"mode\":\"markers\",\"name\":\"\",\"text\":\"\",\"x\":[-3.1742762436133054,-2.407918726190579,-2.0798331910052177,-1.87612488784187,-1.755227221518834,-1.6806585559566838,-1.5658453269081962,-1.4762313107879148,-1.4185719740801466,-1.3383175207280809,-1.2693154737149703,-1.2026455396461442,-1.1539946804403796,-1.1030806887285984,-1.067138325796865,-1.0508171538787663,-1.0214680143027712,-0.9908812762584384,-0.9723277470446545,-0.9376589627202266,-0.8986859849061912,-0.8652999841761061,-0.82305820638449,-0.7877469358416512,-0.7553822374493544,-0.7220075074407415,-0.6570616900603821,-0.6225410021874282,-0.5823140568811652,-0.5463328425759654,-0.5213408068059233,-0.48918010907322895,-0.46171891690922384,-0.4474015233177064,-0.4270087716115077,-0.3991008336381028,-0.3693564508665721,-0.3484198946076415,-0.32362668705201103,-0.29560729330848606,-0.2743569993390226,-0.25482383615173654,-0.23221969740571616,-0.21217291460396634,-0.18381330331737555,-0.1612089169937271,-0.1471532056063438,-0.12579945376520815,-0.08988288183465815,-0.06903081529845809,-0.03867857808714537,-0.017824198573073383,0.012552343687241414,0.0373855055652968,0.08450371178306987,0.09760489700720422,0.12955439917293246,0.15436682123608209,0.18404580974152634,0.20205856221003926,0.2211435559334331,0.2617448675105803,0.2807580418844608,0.31787956834707304,0.33645756437315993,0.3641293902696265,0.3919052643468385,0.43353799653602115,0.4598247904969572,0.48805056852687384,0.5066938610502162,0.5548313962823678,0.5917283012380535,0.6214771132140805,0.6536157854814034,0.676235519056252,0.6996730822476336,0.7247985410781499,0.7576861270705829,0.8011548079903634,0.8253153795291247,0.8684460156283516,0.931598110850976,0.9650992649330674,1.015494365609664,1.0728557153924132,1.098547870237399,1.1720883247890523,1.1912232987878786,1.2419234596137776,1.2740806965623497,1.3621146623566864,1.5154915612837163,1.6513095451552628,1.7292043990662023,1.8683979292514012,2.016976206192194,2.1584082217530773,2.4479491382171368,3.451550789682525],\"y\":[-1018.0543127947194,-24.37902498888306,-14.817522958961652,-10.996032331069744,-8.315843384566268,-5.828581301636146,-4.818945174998529,-4.2219672785349225,-3.6670572177088157,-3.22006365995505,-2.886316888145186,-2.466917953181305,-2.209790395824666,-2.0905778342805803,-1.9307137826115337,-1.8050268581062137,-1.7016025619920268,-1.617041913773547,-1.3853875364764805,-1.2874162965341867,-1.233083131692241,-1.1487135972962825,-1.1057831118828114,-1.0506382290077485,-0.9899007529441699,-0.92737186676044,-0.8822821936634626,-0.8390535690738227,-0.7675811067077868,-0.7201005141232606,-0.6831441098521992,-0.6313071890077667,-0.5956615873507733,-0.5550302746789241,-0.5308529643049027,-0.4891355843366324,-0.44665552845556655,-0.4033044964450624,-0.36632766220818525,-0.34630627145050163,-0.312293862886321,-0.29747601154738296,-0.26633002476713535,-0.23335349174778036,-0.2120325580557668,-0.17657855345765108,-0.15296217485557748,-0.09198591127809143,-0.059653750957880496,-0.02015881770935653,0.008820378040270393,0.043427747004349496,0.07965417851275576,0.10350466664267197,0.14037090791703605,0.1895613946259627,0.2196860223775499,0.2436802473116276,0.26318177850947216,0.2951298652729816,0.33839588525540293,0.359581901062127,0.39875748329659017,0.43137399614546024,0.4498392049230994,0.5132208737379488,0.5604633682206659,0.611861754410479,0.6517403134857653,0.7255813569840169,0.7655543175484294,0.8141124404466532,0.867417312075117,0.8950776623100298,0.9438254291334637,0.9764154200417516,1.0372803225874476,1.118245790834877,1.1770854251632967,1.2374631686960984,1.2854263117527542,1.3327532490701106,1.4502606380328824,1.598678512363987,1.7427168776958752,1.8672451529095986,2.0131971458553313,2.1767869789893672,2.4391923008838217,2.6438902343335506,2.9504522183266007,3.2772249383900913,3.7319277311772705,4.437772357200474,5.413289876899925,6.455996621379098,7.253632167418929,12.566921473087207,23.099269562477687,415.44947377381055],\"type\":\"scatter\"},{\"mode\":\"lines\",\"name\":\"\",\"text\":\"\",\"x\":[-3.1742762436133054,-2.407918726190579,-2.0798331910052177,-1.87612488784187,-1.755227221518834,-1.6806585559566838,-1.5658453269081962,-1.4762313107879148,-1.4185719740801466,-1.3383175207280809,-1.2693154737149703,-1.2026455396461442,-1.1539946804403796,-1.1030806887285984,-1.067138325796865,-1.0508171538787663,-1.0214680143027712,-0.9908812762584384,-0.9723277470446545,-0.9376589627202266,-0.8986859849061912,-0.8652999841761061,-0.82305820638449,-0.7877469358416512,-0.7553822374493544,-0.7220075074407415,-0.6570616900603821,-0.6225410021874282,-0.5823140568811652,-0.5463328425759654,-0.5213408068059233,-0.48918010907322895,-0.46171891690922384,-0.4474015233177064,-0.4270087716115077,-0.3991008336381028,-0.3693564508665721,-0.3484198946076415,-0.32362668705201103,-0.29560729330848606,-0.2743569993390226,-0.25482383615173654,-0.23221969740571616,-0.21217291460396634,-0.18381330331737555,-0.1612089169937271,-0.1471532056063438,-0.12579945376520815,-0.08988288183465815,-0.06903081529845809,-0.03867857808714537,-0.017824198573073383,0.012552343687241414,0.0373855055652968,0.08450371178306987,0.09760489700720422,0.12955439917293246,0.15436682123608209,0.18404580974152634,0.20205856221003926,0.2211435559334331,0.2617448675105803,0.2807580418844608,0.31787956834707304,0.33645756437315993,0.3641293902696265,0.3919052643468385,0.43353799653602115,0.4598247904969572,0.48805056852687384,0.5066938610502162,0.5548313962823678,0.5917283012380535,0.6214771132140805,0.6536157854814034,0.676235519056252,0.6996730822476336,0.7247985410781499,0.7576861270705829,0.8011548079903634,0.8253153795291247,0.8684460156283516,0.931598110850976,0.9650992649330674,1.015494365609664,1.0728557153924132,1.098547870237399,1.1720883247890523,1.1912232987878786,1.2419234596137776,1.2740806965623497,1.3621146623566864,1.5154915612837163,1.6513095451552628,1.7292043990662023,1.8683979292514012,2.016976206192194,2.1584082217530773,2.4479491382171368,3.451550789682525],\"y\":[-3.1742762436133054,-2.407918726190579,-2.0798331910052177,-1.87612488784187,-1.755227221518834,-1.6806585559566838,-1.5658453269081962,-1.4762313107879148,-1.4185719740801466,-1.3383175207280809,-1.2693154737149703,-1.2026455396461442,-1.1539946804403796,-1.1030806887285984,-1.067138325796865,-1.0508171538787663,-1.0214680143027712,-0.9908812762584384,-0.9723277470446545,-0.9376589627202266,-0.8986859849061912,-0.8652999841761061,-0.82305820638449,-0.7877469358416512,-0.7553822374493544,-0.7220075074407415,-0.6570616900603821,-0.6225410021874282,-0.5823140568811652,-0.5463328425759654,-0.5213408068059233,-0.48918010907322895,-0.46171891690922384,-0.4474015233177064,-0.4270087716115077,-0.3991008336381028,-0.3693564508665721,-0.3484198946076415,-0.32362668705201103,-0.29560729330848606,-0.2743569993390226,-0.25482383615173654,-0.23221969740571616,-0.21217291460396634,-0.18381330331737555,-0.1612089169937271,-0.1471532056063438,-0.12579945376520815,-0.08988288183465815,-0.06903081529845809,-0.03867857808714537,-0.017824198573073383,0.012552343687241414,0.0373855055652968,0.08450371178306987,0.09760489700720422,0.12955439917293246,0.15436682123608209,0.18404580974152634,0.20205856221003926,0.2211435559334331,0.2617448675105803,0.2807580418844608,0.31787956834707304,0.33645756437315993,0.3641293902696265,0.3919052643468385,0.43353799653602115,0.4598247904969572,0.48805056852687384,0.5066938610502162,0.5548313962823678,0.5917283012380535,0.6214771132140805,0.6536157854814034,0.676235519056252,0.6996730822476336,0.7247985410781499,0.7576861270705829,0.8011548079903634,0.8253153795291247,0.8684460156283516,0.931598110850976,0.9650992649330674,1.015494365609664,1.0728557153924132,1.098547870237399,1.1720883247890523,1.1912232987878786,1.2419234596137776,1.2740806965623497,1.3621146623566864,1.5154915612837163,1.6513095451552628,1.7292043990662023,1.8683979292514012,2.016976206192194,2.1584082217530773,2.4479491382171368,3.451550789682525],\"type\":\"scatter\"}],                        {\"title\":{\"text\":\"QQ Plot of Normal and Cauchy Distributions\"},\"xaxis\":{\"title\":{\"text\":\"Normal Distribution\"}},\"yaxis\":{\"title\":{\"text\":\"Cauchy Distribution\"}},\"template\":{\"data\":{\"histogram2dcontour\":[{\"type\":\"histogram2dcontour\",\"colorbar\":{\"outlinewidth\":0,\"ticks\":\"\"},\"colorscale\":[[0.0,\"#0d0887\"],[0.1111111111111111,\"#46039f\"],[0.2222222222222222,\"#7201a8\"],[0.3333333333333333,\"#9c179e\"],[0.4444444444444444,\"#bd3786\"],[0.5555555555555556,\"#d8576b\"],[0.6666666666666666,\"#ed7953\"],[0.7777777777777778,\"#fb9f3a\"],[0.8888888888888888,\"#fdca26\"],[1.0,\"#f0f921\"]]}],\"choropleth\":[{\"type\":\"choropleth\",\"colorbar\":{\"outlinewidth\":0,\"ticks\":\"\"}}],\"histogram2d\":[{\"type\":\"histogram2d\",\"colorbar\":{\"outlinewidth\":0,\"ticks\":\"\"},\"colorscale\":[[0.0,\"#0d0887\"],[0.1111111111111111,\"#46039f\"],[0.2222222222222222,\"#7201a8\"],[0.3333333333333333,\"#9c179e\"],[0.4444444444444444,\"#bd3786\"],[0.5555555555555556,\"#d8576b\"],[0.6666666666666666,\"#ed7953\"],[0.7777777777777778,\"#fb9f3a\"],[0.8888888888888888,\"#fdca26\"],[1.0,\"#f0f921\"]]}],\"heatmap\":[{\"type\":\"heatmap\",\"colorbar\":{\"outlinewidth\":0,\"ticks\":\"\"},\"colorscale\":[[0.0,\"#0d0887\"],[0.1111111111111111,\"#46039f\"],[0.2222222222222222,\"#7201a8\"],[0.3333333333333333,\"#9c179e\"],[0.4444444444444444,\"#bd3786\"],[0.5555555555555556,\"#d8576b\"],[0.6666666666666666,\"#ed7953\"],[0.7777777777777778,\"#fb9f3a\"],[0.8888888888888888,\"#fdca26\"],[1.0,\"#f0f921\"]]}],\"heatmapgl\":[{\"type\":\"heatmapgl\",\"colorbar\":{\"outlinewidth\":0,\"ticks\":\"\"},\"colorscale\":[[0.0,\"#0d0887\"],[0.1111111111111111,\"#46039f\"],[0.2222222222222222,\"#7201a8\"],[0.3333333333333333,\"#9c179e\"],[0.4444444444444444,\"#bd3786\"],[0.5555555555555556,\"#d8576b\"],[0.6666666666666666,\"#ed7953\"],[0.7777777777777778,\"#fb9f3a\"],[0.8888888888888888,\"#fdca26\"],[1.0,\"#f0f921\"]]}],\"contourcarpet\":[{\"type\":\"contourcarpet\",\"colorbar\":{\"outlinewidth\":0,\"ticks\":\"\"}}],\"contour\":[{\"type\":\"contour\",\"colorbar\":{\"outlinewidth\":0,\"ticks\":\"\"},\"colorscale\":[[0.0,\"#0d0887\"],[0.1111111111111111,\"#46039f\"],[0.2222222222222222,\"#7201a8\"],[0.3333333333333333,\"#9c179e\"],[0.4444444444444444,\"#bd3786\"],[0.5555555555555556,\"#d8576b\"],[0.6666666666666666,\"#ed7953\"],[0.7777777777777778,\"#fb9f3a\"],[0.8888888888888888,\"#fdca26\"],[1.0,\"#f0f921\"]]}],\"surface\":[{\"type\":\"surface\",\"colorbar\":{\"outlinewidth\":0,\"ticks\":\"\"},\"colorscale\":[[0.0,\"#0d0887\"],[0.1111111111111111,\"#46039f\"],[0.2222222222222222,\"#7201a8\"],[0.3333333333333333,\"#9c179e\"],[0.4444444444444444,\"#bd3786\"],[0.5555555555555556,\"#d8576b\"],[0.6666666666666666,\"#ed7953\"],[0.7777777777777778,\"#fb9f3a\"],[0.8888888888888888,\"#fdca26\"],[1.0,\"#f0f921\"]]}],\"mesh3d\":[{\"type\":\"mesh3d\",\"colorbar\":{\"outlinewidth\":0,\"ticks\":\"\"}}],\"scatter\":[{\"fillpattern\":{\"fillmode\":\"overlay\",\"size\":10,\"solidity\":0.2},\"type\":\"scatter\"}],\"parcoords\":[{\"type\":\"parcoords\",\"line\":{\"colorbar\":{\"outlinewidth\":0,\"ticks\":\"\"}}}],\"scatterpolargl\":[{\"type\":\"scatterpolargl\",\"marker\":{\"colorbar\":{\"outlinewidth\":0,\"ticks\":\"\"}}}],\"bar\":[{\"error_x\":{\"color\":\"#2a3f5f\"},\"error_y\":{\"color\":\"#2a3f5f\"},\"marker\":{\"line\":{\"color\":\"#E5ECF6\",\"width\":0.5},\"pattern\":{\"fillmode\":\"overlay\",\"size\":10,\"solidity\":0.2}},\"type\":\"bar\"}],\"scattergeo\":[{\"type\":\"scattergeo\",\"marker\":{\"colorbar\":{\"outlinewidth\":0,\"ticks\":\"\"}}}],\"scatterpolar\":[{\"type\":\"scatterpolar\",\"marker\":{\"colorbar\":{\"outlinewidth\":0,\"ticks\":\"\"}}}],\"histogram\":[{\"marker\":{\"pattern\":{\"fillmode\":\"overlay\",\"size\":10,\"solidity\":0.2}},\"type\":\"histogram\"}],\"scattergl\":[{\"type\":\"scattergl\",\"marker\":{\"colorbar\":{\"outlinewidth\":0,\"ticks\":\"\"}}}],\"scatter3d\":[{\"type\":\"scatter3d\",\"line\":{\"colorbar\":{\"outlinewidth\":0,\"ticks\":\"\"}},\"marker\":{\"colorbar\":{\"outlinewidth\":0,\"ticks\":\"\"}}}],\"scattermapbox\":[{\"type\":\"scattermapbox\",\"marker\":{\"colorbar\":{\"outlinewidth\":0,\"ticks\":\"\"}}}],\"scatterternary\":[{\"type\":\"scatterternary\",\"marker\":{\"colorbar\":{\"outlinewidth\":0,\"ticks\":\"\"}}}],\"scattercarpet\":[{\"type\":\"scattercarpet\",\"marker\":{\"colorbar\":{\"outlinewidth\":0,\"ticks\":\"\"}}}],\"carpet\":[{\"aaxis\":{\"endlinecolor\":\"#2a3f5f\",\"gridcolor\":\"white\",\"linecolor\":\"white\",\"minorgridcolor\":\"white\",\"startlinecolor\":\"#2a3f5f\"},\"baxis\":{\"endlinecolor\":\"#2a3f5f\",\"gridcolor\":\"white\",\"linecolor\":\"white\",\"minorgridcolor\":\"white\",\"startlinecolor\":\"#2a3f5f\"},\"type\":\"carpet\"}],\"table\":[{\"cells\":{\"fill\":{\"color\":\"#EBF0F8\"},\"line\":{\"color\":\"white\"}},\"header\":{\"fill\":{\"color\":\"#C8D4E3\"},\"line\":{\"color\":\"white\"}},\"type\":\"table\"}],\"barpolar\":[{\"marker\":{\"line\":{\"color\":\"#E5ECF6\",\"width\":0.5},\"pattern\":{\"fillmode\":\"overlay\",\"size\":10,\"solidity\":0.2}},\"type\":\"barpolar\"}],\"pie\":[{\"automargin\":true,\"type\":\"pie\"}]},\"layout\":{\"autotypenumbers\":\"strict\",\"colorway\":[\"#636efa\",\"#EF553B\",\"#00cc96\",\"#ab63fa\",\"#FFA15A\",\"#19d3f3\",\"#FF6692\",\"#B6E880\",\"#FF97FF\",\"#FECB52\"],\"font\":{\"color\":\"#2a3f5f\"},\"hovermode\":\"closest\",\"hoverlabel\":{\"align\":\"left\"},\"paper_bgcolor\":\"white\",\"plot_bgcolor\":\"#E5ECF6\",\"polar\":{\"bgcolor\":\"#E5ECF6\",\"angularaxis\":{\"gridcolor\":\"white\",\"linecolor\":\"white\",\"ticks\":\"\"},\"radialaxis\":{\"gridcolor\":\"white\",\"linecolor\":\"white\",\"ticks\":\"\"}},\"ternary\":{\"bgcolor\":\"#E5ECF6\",\"aaxis\":{\"gridcolor\":\"white\",\"linecolor\":\"white\",\"ticks\":\"\"},\"baxis\":{\"gridcolor\":\"white\",\"linecolor\":\"white\",\"ticks\":\"\"},\"caxis\":{\"gridcolor\":\"white\",\"linecolor\":\"white\",\"ticks\":\"\"}},\"coloraxis\":{\"colorbar\":{\"outlinewidth\":0,\"ticks\":\"\"}},\"colorscale\":{\"sequential\":[[0.0,\"#0d0887\"],[0.1111111111111111,\"#46039f\"],[0.2222222222222222,\"#7201a8\"],[0.3333333333333333,\"#9c179e\"],[0.4444444444444444,\"#bd3786\"],[0.5555555555555556,\"#d8576b\"],[0.6666666666666666,\"#ed7953\"],[0.7777777777777778,\"#fb9f3a\"],[0.8888888888888888,\"#fdca26\"],[1.0,\"#f0f921\"]],\"sequentialminus\":[[0.0,\"#0d0887\"],[0.1111111111111111,\"#46039f\"],[0.2222222222222222,\"#7201a8\"],[0.3333333333333333,\"#9c179e\"],[0.4444444444444444,\"#bd3786\"],[0.5555555555555556,\"#d8576b\"],[0.6666666666666666,\"#ed7953\"],[0.7777777777777778,\"#fb9f3a\"],[0.8888888888888888,\"#fdca26\"],[1.0,\"#f0f921\"]],\"diverging\":[[0,\"#8e0152\"],[0.1,\"#c51b7d\"],[0.2,\"#de77ae\"],[0.3,\"#f1b6da\"],[0.4,\"#fde0ef\"],[0.5,\"#f7f7f7\"],[0.6,\"#e6f5d0\"],[0.7,\"#b8e186\"],[0.8,\"#7fbc41\"],[0.9,\"#4d9221\"],[1,\"#276419\"]]},\"xaxis\":{\"gridcolor\":\"white\",\"linecolor\":\"white\",\"ticks\":\"\",\"title\":{\"standoff\":15},\"zerolinecolor\":\"white\",\"automargin\":true,\"zerolinewidth\":2},\"yaxis\":{\"gridcolor\":\"white\",\"linecolor\":\"white\",\"ticks\":\"\",\"title\":{\"standoff\":15},\"zerolinecolor\":\"white\",\"automargin\":true,\"zerolinewidth\":2},\"scene\":{\"xaxis\":{\"backgroundcolor\":\"#E5ECF6\",\"gridcolor\":\"white\",\"linecolor\":\"white\",\"showbackground\":true,\"ticks\":\"\",\"zerolinecolor\":\"white\",\"gridwidth\":2},\"yaxis\":{\"backgroundcolor\":\"#E5ECF6\",\"gridcolor\":\"white\",\"linecolor\":\"white\",\"showbackground\":true,\"ticks\":\"\",\"zerolinecolor\":\"white\",\"gridwidth\":2},\"zaxis\":{\"backgroundcolor\":\"#E5ECF6\",\"gridcolor\":\"white\",\"linecolor\":\"white\",\"showbackground\":true,\"ticks\":\"\",\"zerolinecolor\":\"white\",\"gridwidth\":2}},\"shapedefaults\":{\"line\":{\"color\":\"#2a3f5f\"}},\"annotationdefaults\":{\"arrowcolor\":\"#2a3f5f\",\"arrowhead\":0,\"arrowwidth\":1},\"geo\":{\"bgcolor\":\"white\",\"landcolor\":\"#E5ECF6\",\"subunitcolor\":\"white\",\"showland\":true,\"showlakes\":true,\"lakecolor\":\"white\"},\"title\":{\"x\":0.05},\"mapbox\":{\"style\":\"light\"}}}},                        {\"responsive\": true}                    ).then(function(){\n",
       "                            \n",
       "var gd = document.getElementById('b598e5e4-a0ef-420b-8690-ed0c3b608882');\n",
       "var x = new MutationObserver(function (mutations, observer) {{\n",
       "        var display = window.getComputedStyle(gd).display;\n",
       "        if (!display || display === 'none') {{\n",
       "            console.log([gd, 'removed!']);\n",
       "            Plotly.purge(gd);\n",
       "            observer.disconnect();\n",
       "        }}\n",
       "}});\n",
       "\n",
       "// Listen for the removal of the full notebook cells\n",
       "var notebookContainer = gd.closest('#notebook-container');\n",
       "if (notebookContainer) {{\n",
       "    x.observe(notebookContainer, {childList: true});\n",
       "}}\n",
       "\n",
       "// Listen for the clearing of the current output cell\n",
       "var outputEl = gd.closest('.output');\n",
       "if (outputEl) {{\n",
       "    x.observe(outputEl, {childList: true});\n",
       "}}\n",
       "\n",
       "                        })                };                });            </script>        </div>"
      ]
     },
     "metadata": {},
     "output_type": "display_data"
    }
   ],
   "source": [
    "plot_data(\n",
    "    x_label=\"Normal Distribution\",\n",
    "    y_label=\"Cauchy Distribution\",\n",
    "    title=\"QQ Plot of Normal and Cauchy Distributions\", \n",
    "    t1=curve_trace, \n",
    "    t2=straight_trace\n",
    ")"
   ]
  },
  {
   "cell_type": "code",
   "execution_count": 183,
   "id": "6c297f2a-0ce7-42c7-bb0c-e4ca5d747712",
   "metadata": {},
   "outputs": [],
   "source": [
    "# Wordy part --> TBD"
   ]
  },
  {
   "cell_type": "markdown",
   "id": "49a6a83b-7c33-457a-b09e-7dd72de4abbf",
   "metadata": {},
   "source": [
    "## Question 3"
   ]
  },
  {
   "cell_type": "code",
   "execution_count": null,
   "id": "ae5369ad-8ca7-475b-9ecb-c8e2f3e62e8f",
   "metadata": {},
   "outputs": [],
   "source": []
  },
  {
   "cell_type": "markdown",
   "id": "70ade2aa-501a-4c5a-9f86-22658ea6553a",
   "metadata": {},
   "source": [
    "## Question 4"
   ]
  },
  {
   "cell_type": "code",
   "execution_count": null,
   "id": "a5d3808d-adcc-4522-b32f-719d45b142c2",
   "metadata": {},
   "outputs": [],
   "source": []
  },
  {
   "cell_type": "code",
   "execution_count": null,
   "id": "c0450b96-5ba9-49a9-a6bc-d7c9d4140880",
   "metadata": {},
   "outputs": [],
   "source": []
  }
 ],
 "metadata": {
  "kernelspec": {
   "display_name": "Python 3 (ipykernel)",
   "language": "python",
   "name": "python3"
  },
  "language_info": {
   "codemirror_mode": {
    "name": "ipython",
    "version": 3
   },
   "file_extension": ".py",
   "mimetype": "text/x-python",
   "name": "python",
   "nbconvert_exporter": "python",
   "pygments_lexer": "ipython3",
   "version": "3.9.6"
  }
 },
 "nbformat": 4,
 "nbformat_minor": 5
}
