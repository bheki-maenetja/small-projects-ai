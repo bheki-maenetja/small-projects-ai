{
 "cells": [
  {
   "cell_type": "markdown",
   "id": "d2854424-938d-4634-b8af-1a1b902955d4",
   "metadata": {},
   "source": [
    "# EECS764P Coursework 2\n",
    "- Name: Bheki Maenetja\n",
    "- Student ID: 230382466"
   ]
  },
  {
   "cell_type": "markdown",
   "id": "7b216060-f019-4939-8390-f63005ae8a42",
   "metadata": {},
   "source": [
    "## Imports"
   ]
  },
  {
   "cell_type": "code",
   "execution_count": 1,
   "id": "060ca083-24ec-4b29-8c76-9b0c2d2941c8",
   "metadata": {},
   "outputs": [],
   "source": [
    "import numpy as np\n",
    "from scipy.stats import uniform, norm\n",
    "# from scipy.integrate import quad\n",
    "\n",
    "# !pip install plotly\n",
    "import plotly.graph_objects as go\n",
    "# import plotly.io as pio\n",
    "# pio.renderers.default = \"iframe\""
   ]
  },
  {
   "cell_type": "markdown",
   "id": "48b38ff0-d945-4e85-975f-ded07f6a171e",
   "metadata": {},
   "source": [
    "## Plotting Functions"
   ]
  },
  {
   "cell_type": "code",
   "execution_count": 102,
   "id": "60123b67-d1af-4c3f-9581-61acb4520b5b",
   "metadata": {},
   "outputs": [],
   "source": [
    "# Plotting functions\n",
    "def plot_data(x=None, y=None, z=None, size=None, colour=None, title=\"\", colour_title=\"\", x_label=\"\", y_label=\"\", name=\"\", mode=\"markers\", text=\"\", fill=None, **traces):\n",
    "    \"\"\"\n",
    "    General purpose function for plotting scatter plots in plotly.\n",
    "    \"\"\"\n",
    "    fig = go.Figure(layout={\n",
    "        \"title\": title,\n",
    "        \"xaxis\": {\"title\": x_label},\n",
    "        \"yaxis\": {\"title\": y_label}\n",
    "    })\n",
    "\n",
    "    marker = dict()\n",
    "    \n",
    "    if size is not None:\n",
    "        marker[\"size\"] = size\n",
    "        marker[\"sizeref\"] = 0.01\n",
    "    if colour is not None:\n",
    "        marker[\"color\"] = colour\n",
    "        marker[\"showscale\"] = True\n",
    "        marker[\"colorbar\"] = dict(title=colour_title)\n",
    "    \n",
    "    if z is None:\n",
    "        data = go.Scatter(\n",
    "            x=x,\n",
    "            y=y,\n",
    "            mode=mode,\n",
    "            name=name,\n",
    "            text=text,\n",
    "            fill=fill,\n",
    "            marker=marker,\n",
    "        )\n",
    "    else:\n",
    "        data = go.Scatter3d(\n",
    "            x=x,\n",
    "            y=y,\n",
    "            z=z,\n",
    "            mode=mode,\n",
    "            name=name,\n",
    "            text=text,\n",
    "            marker=marker,\n",
    "        )\n",
    "\n",
    "    if x is not None and y is not None:\n",
    "        fig.add_trace(data)\n",
    "    \n",
    "    for t in traces:\n",
    "        fig.add_trace(traces[t])\n",
    "    \n",
    "    return fig"
   ]
  },
  {
   "cell_type": "markdown",
   "id": "123820d8-a965-4dae-a076-9b7a0bf34bea",
   "metadata": {},
   "source": [
    "## Question 1"
   ]
  },
  {
   "cell_type": "code",
   "execution_count": 103,
   "id": "48318dca-222f-4464-8b36-86ea54744433",
   "metadata": {},
   "outputs": [
    {
     "data": {
      "application/vnd.plotly.v1+json": {
       "config": {
        "plotlyServerURL": "https://plot.ly"
       },
       "data": [
        {
         "marker": {
          "color": [
           0.46247507683009625,
           0.7545220459489529,
           0.9448810929277098,
           0.6861253429466063,
           0.8021207834554048,
           0.2944915276455652,
           0.8220613699169701,
           0.20244791666665873,
           0.38394054341768735,
           0.6081403825334285,
           0.9580251038190697,
           0.9247294429121072,
           0.7737899826641664,
           0.3661239331439835,
           0.7789819512430397,
           0.2673334999168153,
           0.37899427320224466,
           0.8524819898907586,
           0.2759658812732203,
           0.4624647442371326,
           0.549796301554211,
           0.9904675835327843,
           0.6191913031877735,
           0.26570514343731333,
           0.23741575217411426,
           0.8726206667724504,
           0.12535171315895888,
           0.4961721534043543,
           0.11381789139289233,
           0.29250897766128603
          ],
          "colorbar": {
           "title": {
            "text": "x3 ~ Unif(0,1)"
           }
          },
          "showscale": true,
          "size": [
           0.357089754992679,
           0.2645251775016664,
           0.635849172246377,
           0.12607429558261976,
           0.5911313757802966,
           0.2293815968549816,
           0.5251355750577453,
           0.12667062100393092,
           0.02929738709379231,
           0.38223479213925876,
           0.13712863909274753,
           0.025202351609667665,
           0.7565428964352305,
           0.13235311254308565,
           0.4151882519934324,
           0.197874793710736,
           0.24473886841932935,
           0.18888192564668094,
           0.13921270227365623,
           0.06542751613609418,
           0.51690152915292,
           0.4008621081079483,
           0.5697578504298474,
           0.15894896945114384,
           0.23391563376814964,
           0.3004890025396388,
           0.007377345338528044,
           0.18890508565347694,
           0.008716486453197978,
           0.22546745794036052
          ],
          "sizeref": 0.01
         },
         "mode": "markers",
         "name": "",
         "text": [
          "Size = 0.357089754992679",
          "Size = 0.2645251775016664",
          "Size = 0.635849172246377",
          "Size = 0.12607429558261976",
          "Size = 0.5911313757802966",
          "Size = 0.2293815968549816",
          "Size = 0.5251355750577453",
          "Size = 0.12667062100393092",
          "Size = 0.02929738709379231",
          "Size = 0.38223479213925876",
          "Size = 0.13712863909274753",
          "Size = 0.025202351609667665",
          "Size = 0.7565428964352305",
          "Size = 0.13235311254308565",
          "Size = 0.4151882519934324",
          "Size = 0.197874793710736",
          "Size = 0.24473886841932935",
          "Size = 0.18888192564668094",
          "Size = 0.13921270227365623",
          "Size = 0.06542751613609418",
          "Size = 0.51690152915292",
          "Size = 0.4008621081079483",
          "Size = 0.5697578504298474",
          "Size = 0.15894896945114384",
          "Size = 0.23391563376814964",
          "Size = 0.3004890025396388",
          "Size = 0.007377345338528044",
          "Size = 0.18890508565347694",
          "Size = 0.008716486453197978",
          "Size = 0.22546745794036052"
         ],
         "type": "scatter",
         "x": [
          -0.25798751153887867,
          -1.1024717333415193,
          1.805173823848742,
          0.5372770828914969,
          0.09915020340074758,
          0.8380364370101299,
          0.15409515500969556,
          0.0936300531625384,
          1.7885415473513868,
          -0.0018352761243168871,
          1.1884575931466659,
          1.428948460398773,
          -1.145453967816526,
          1.2415675084816613,
          0.4960209696089544,
          -0.7491276868070861,
          1.7845500719898235,
          -1.4127549514458488,
          -1.2496317811388677,
          -1.342573202506963,
          1.4424098486947667,
          -1.9563475778490234,
          -0.2732984238684225,
          -0.11256764873455348,
          0.0278209410731077,
          -1.0117714063543661,
          0.4483694059257172,
          2.1285303422017816,
          1.3429767998620172,
          -0.7322703832544443
         ],
         "y": [
          -0.127764610137044,
          3.2507407736559593,
          -3.0707690210042555,
          5.779773310379223,
          0.9455548840855583,
          -1.2557977599876504,
          -0.3583509391166322,
          -3.541896472892982,
          1.547824561390214,
          -1.9376167795389696,
          0.31105066454286034,
          1.1810869113603375,
          1.7797625412925298,
          -3.2155331700348775,
          -2.7726600404825374,
          7.755266030723026,
          -1.7184437465401938,
          2.40792920088458,
          2.1869879054225803,
          3.3925320084991153,
          4.34081570191146,
          -4.454634509578802,
          0.07579288848278831,
          3.341728507058676,
          1.4249397691857613,
          2.6662628151392918,
          3.4902799520687475,
          5.5049154139124195,
          2.5513570822204956,
          5.31260200267711
         ]
        }
       ],
       "layout": {
        "autosize": true,
        "template": {
         "data": {
          "bar": [
           {
            "error_x": {
             "color": "#2a3f5f"
            },
            "error_y": {
             "color": "#2a3f5f"
            },
            "marker": {
             "line": {
              "color": "#E5ECF6",
              "width": 0.5
             },
             "pattern": {
              "fillmode": "overlay",
              "size": 10,
              "solidity": 0.2
             }
            },
            "type": "bar"
           }
          ],
          "barpolar": [
           {
            "marker": {
             "line": {
              "color": "#E5ECF6",
              "width": 0.5
             },
             "pattern": {
              "fillmode": "overlay",
              "size": 10,
              "solidity": 0.2
             }
            },
            "type": "barpolar"
           }
          ],
          "carpet": [
           {
            "aaxis": {
             "endlinecolor": "#2a3f5f",
             "gridcolor": "white",
             "linecolor": "white",
             "minorgridcolor": "white",
             "startlinecolor": "#2a3f5f"
            },
            "baxis": {
             "endlinecolor": "#2a3f5f",
             "gridcolor": "white",
             "linecolor": "white",
             "minorgridcolor": "white",
             "startlinecolor": "#2a3f5f"
            },
            "type": "carpet"
           }
          ],
          "choropleth": [
           {
            "colorbar": {
             "outlinewidth": 0,
             "ticks": ""
            },
            "type": "choropleth"
           }
          ],
          "contour": [
           {
            "colorbar": {
             "outlinewidth": 0,
             "ticks": ""
            },
            "colorscale": [
             [
              0,
              "#0d0887"
             ],
             [
              0.1111111111111111,
              "#46039f"
             ],
             [
              0.2222222222222222,
              "#7201a8"
             ],
             [
              0.3333333333333333,
              "#9c179e"
             ],
             [
              0.4444444444444444,
              "#bd3786"
             ],
             [
              0.5555555555555556,
              "#d8576b"
             ],
             [
              0.6666666666666666,
              "#ed7953"
             ],
             [
              0.7777777777777778,
              "#fb9f3a"
             ],
             [
              0.8888888888888888,
              "#fdca26"
             ],
             [
              1,
              "#f0f921"
             ]
            ],
            "type": "contour"
           }
          ],
          "contourcarpet": [
           {
            "colorbar": {
             "outlinewidth": 0,
             "ticks": ""
            },
            "type": "contourcarpet"
           }
          ],
          "heatmap": [
           {
            "colorbar": {
             "outlinewidth": 0,
             "ticks": ""
            },
            "colorscale": [
             [
              0,
              "#0d0887"
             ],
             [
              0.1111111111111111,
              "#46039f"
             ],
             [
              0.2222222222222222,
              "#7201a8"
             ],
             [
              0.3333333333333333,
              "#9c179e"
             ],
             [
              0.4444444444444444,
              "#bd3786"
             ],
             [
              0.5555555555555556,
              "#d8576b"
             ],
             [
              0.6666666666666666,
              "#ed7953"
             ],
             [
              0.7777777777777778,
              "#fb9f3a"
             ],
             [
              0.8888888888888888,
              "#fdca26"
             ],
             [
              1,
              "#f0f921"
             ]
            ],
            "type": "heatmap"
           }
          ],
          "heatmapgl": [
           {
            "colorbar": {
             "outlinewidth": 0,
             "ticks": ""
            },
            "colorscale": [
             [
              0,
              "#0d0887"
             ],
             [
              0.1111111111111111,
              "#46039f"
             ],
             [
              0.2222222222222222,
              "#7201a8"
             ],
             [
              0.3333333333333333,
              "#9c179e"
             ],
             [
              0.4444444444444444,
              "#bd3786"
             ],
             [
              0.5555555555555556,
              "#d8576b"
             ],
             [
              0.6666666666666666,
              "#ed7953"
             ],
             [
              0.7777777777777778,
              "#fb9f3a"
             ],
             [
              0.8888888888888888,
              "#fdca26"
             ],
             [
              1,
              "#f0f921"
             ]
            ],
            "type": "heatmapgl"
           }
          ],
          "histogram": [
           {
            "marker": {
             "pattern": {
              "fillmode": "overlay",
              "size": 10,
              "solidity": 0.2
             }
            },
            "type": "histogram"
           }
          ],
          "histogram2d": [
           {
            "colorbar": {
             "outlinewidth": 0,
             "ticks": ""
            },
            "colorscale": [
             [
              0,
              "#0d0887"
             ],
             [
              0.1111111111111111,
              "#46039f"
             ],
             [
              0.2222222222222222,
              "#7201a8"
             ],
             [
              0.3333333333333333,
              "#9c179e"
             ],
             [
              0.4444444444444444,
              "#bd3786"
             ],
             [
              0.5555555555555556,
              "#d8576b"
             ],
             [
              0.6666666666666666,
              "#ed7953"
             ],
             [
              0.7777777777777778,
              "#fb9f3a"
             ],
             [
              0.8888888888888888,
              "#fdca26"
             ],
             [
              1,
              "#f0f921"
             ]
            ],
            "type": "histogram2d"
           }
          ],
          "histogram2dcontour": [
           {
            "colorbar": {
             "outlinewidth": 0,
             "ticks": ""
            },
            "colorscale": [
             [
              0,
              "#0d0887"
             ],
             [
              0.1111111111111111,
              "#46039f"
             ],
             [
              0.2222222222222222,
              "#7201a8"
             ],
             [
              0.3333333333333333,
              "#9c179e"
             ],
             [
              0.4444444444444444,
              "#bd3786"
             ],
             [
              0.5555555555555556,
              "#d8576b"
             ],
             [
              0.6666666666666666,
              "#ed7953"
             ],
             [
              0.7777777777777778,
              "#fb9f3a"
             ],
             [
              0.8888888888888888,
              "#fdca26"
             ],
             [
              1,
              "#f0f921"
             ]
            ],
            "type": "histogram2dcontour"
           }
          ],
          "mesh3d": [
           {
            "colorbar": {
             "outlinewidth": 0,
             "ticks": ""
            },
            "type": "mesh3d"
           }
          ],
          "parcoords": [
           {
            "line": {
             "colorbar": {
              "outlinewidth": 0,
              "ticks": ""
             }
            },
            "type": "parcoords"
           }
          ],
          "pie": [
           {
            "automargin": true,
            "type": "pie"
           }
          ],
          "scatter": [
           {
            "fillpattern": {
             "fillmode": "overlay",
             "size": 10,
             "solidity": 0.2
            },
            "type": "scatter"
           }
          ],
          "scatter3d": [
           {
            "line": {
             "colorbar": {
              "outlinewidth": 0,
              "ticks": ""
             }
            },
            "marker": {
             "colorbar": {
              "outlinewidth": 0,
              "ticks": ""
             }
            },
            "type": "scatter3d"
           }
          ],
          "scattercarpet": [
           {
            "marker": {
             "colorbar": {
              "outlinewidth": 0,
              "ticks": ""
             }
            },
            "type": "scattercarpet"
           }
          ],
          "scattergeo": [
           {
            "marker": {
             "colorbar": {
              "outlinewidth": 0,
              "ticks": ""
             }
            },
            "type": "scattergeo"
           }
          ],
          "scattergl": [
           {
            "marker": {
             "colorbar": {
              "outlinewidth": 0,
              "ticks": ""
             }
            },
            "type": "scattergl"
           }
          ],
          "scattermapbox": [
           {
            "marker": {
             "colorbar": {
              "outlinewidth": 0,
              "ticks": ""
             }
            },
            "type": "scattermapbox"
           }
          ],
          "scatterpolar": [
           {
            "marker": {
             "colorbar": {
              "outlinewidth": 0,
              "ticks": ""
             }
            },
            "type": "scatterpolar"
           }
          ],
          "scatterpolargl": [
           {
            "marker": {
             "colorbar": {
              "outlinewidth": 0,
              "ticks": ""
             }
            },
            "type": "scatterpolargl"
           }
          ],
          "scatterternary": [
           {
            "marker": {
             "colorbar": {
              "outlinewidth": 0,
              "ticks": ""
             }
            },
            "type": "scatterternary"
           }
          ],
          "surface": [
           {
            "colorbar": {
             "outlinewidth": 0,
             "ticks": ""
            },
            "colorscale": [
             [
              0,
              "#0d0887"
             ],
             [
              0.1111111111111111,
              "#46039f"
             ],
             [
              0.2222222222222222,
              "#7201a8"
             ],
             [
              0.3333333333333333,
              "#9c179e"
             ],
             [
              0.4444444444444444,
              "#bd3786"
             ],
             [
              0.5555555555555556,
              "#d8576b"
             ],
             [
              0.6666666666666666,
              "#ed7953"
             ],
             [
              0.7777777777777778,
              "#fb9f3a"
             ],
             [
              0.8888888888888888,
              "#fdca26"
             ],
             [
              1,
              "#f0f921"
             ]
            ],
            "type": "surface"
           }
          ],
          "table": [
           {
            "cells": {
             "fill": {
              "color": "#EBF0F8"
             },
             "line": {
              "color": "white"
             }
            },
            "header": {
             "fill": {
              "color": "#C8D4E3"
             },
             "line": {
              "color": "white"
             }
            },
            "type": "table"
           }
          ]
         },
         "layout": {
          "annotationdefaults": {
           "arrowcolor": "#2a3f5f",
           "arrowhead": 0,
           "arrowwidth": 1
          },
          "autotypenumbers": "strict",
          "coloraxis": {
           "colorbar": {
            "outlinewidth": 0,
            "ticks": ""
           }
          },
          "colorscale": {
           "diverging": [
            [
             0,
             "#8e0152"
            ],
            [
             0.1,
             "#c51b7d"
            ],
            [
             0.2,
             "#de77ae"
            ],
            [
             0.3,
             "#f1b6da"
            ],
            [
             0.4,
             "#fde0ef"
            ],
            [
             0.5,
             "#f7f7f7"
            ],
            [
             0.6,
             "#e6f5d0"
            ],
            [
             0.7,
             "#b8e186"
            ],
            [
             0.8,
             "#7fbc41"
            ],
            [
             0.9,
             "#4d9221"
            ],
            [
             1,
             "#276419"
            ]
           ],
           "sequential": [
            [
             0,
             "#0d0887"
            ],
            [
             0.1111111111111111,
             "#46039f"
            ],
            [
             0.2222222222222222,
             "#7201a8"
            ],
            [
             0.3333333333333333,
             "#9c179e"
            ],
            [
             0.4444444444444444,
             "#bd3786"
            ],
            [
             0.5555555555555556,
             "#d8576b"
            ],
            [
             0.6666666666666666,
             "#ed7953"
            ],
            [
             0.7777777777777778,
             "#fb9f3a"
            ],
            [
             0.8888888888888888,
             "#fdca26"
            ],
            [
             1,
             "#f0f921"
            ]
           ],
           "sequentialminus": [
            [
             0,
             "#0d0887"
            ],
            [
             0.1111111111111111,
             "#46039f"
            ],
            [
             0.2222222222222222,
             "#7201a8"
            ],
            [
             0.3333333333333333,
             "#9c179e"
            ],
            [
             0.4444444444444444,
             "#bd3786"
            ],
            [
             0.5555555555555556,
             "#d8576b"
            ],
            [
             0.6666666666666666,
             "#ed7953"
            ],
            [
             0.7777777777777778,
             "#fb9f3a"
            ],
            [
             0.8888888888888888,
             "#fdca26"
            ],
            [
             1,
             "#f0f921"
            ]
           ]
          },
          "colorway": [
           "#636efa",
           "#EF553B",
           "#00cc96",
           "#ab63fa",
           "#FFA15A",
           "#19d3f3",
           "#FF6692",
           "#B6E880",
           "#FF97FF",
           "#FECB52"
          ],
          "font": {
           "color": "#2a3f5f"
          },
          "geo": {
           "bgcolor": "white",
           "lakecolor": "white",
           "landcolor": "#E5ECF6",
           "showlakes": true,
           "showland": true,
           "subunitcolor": "white"
          },
          "hoverlabel": {
           "align": "left"
          },
          "hovermode": "closest",
          "mapbox": {
           "style": "light"
          },
          "paper_bgcolor": "white",
          "plot_bgcolor": "#E5ECF6",
          "polar": {
           "angularaxis": {
            "gridcolor": "white",
            "linecolor": "white",
            "ticks": ""
           },
           "bgcolor": "#E5ECF6",
           "radialaxis": {
            "gridcolor": "white",
            "linecolor": "white",
            "ticks": ""
           }
          },
          "scene": {
           "xaxis": {
            "backgroundcolor": "#E5ECF6",
            "gridcolor": "white",
            "gridwidth": 2,
            "linecolor": "white",
            "showbackground": true,
            "ticks": "",
            "zerolinecolor": "white"
           },
           "yaxis": {
            "backgroundcolor": "#E5ECF6",
            "gridcolor": "white",
            "gridwidth": 2,
            "linecolor": "white",
            "showbackground": true,
            "ticks": "",
            "zerolinecolor": "white"
           },
           "zaxis": {
            "backgroundcolor": "#E5ECF6",
            "gridcolor": "white",
            "gridwidth": 2,
            "linecolor": "white",
            "showbackground": true,
            "ticks": "",
            "zerolinecolor": "white"
           }
          },
          "shapedefaults": {
           "line": {
            "color": "#2a3f5f"
           }
          },
          "ternary": {
           "aaxis": {
            "gridcolor": "white",
            "linecolor": "white",
            "ticks": ""
           },
           "baxis": {
            "gridcolor": "white",
            "linecolor": "white",
            "ticks": ""
           },
           "bgcolor": "#E5ECF6",
           "caxis": {
            "gridcolor": "white",
            "linecolor": "white",
            "ticks": ""
           }
          },
          "title": {
           "x": 0.05
          },
          "xaxis": {
           "automargin": true,
           "gridcolor": "white",
           "linecolor": "white",
           "ticks": "",
           "title": {
            "standoff": 15
           },
           "zerolinecolor": "white",
           "zerolinewidth": 2
          },
          "yaxis": {
           "automargin": true,
           "gridcolor": "white",
           "linecolor": "white",
           "ticks": "",
           "title": {
            "standoff": 15
           },
           "zerolinecolor": "white",
           "zerolinewidth": 2
          }
         }
        },
        "title": {
         "text": "4D Plot of RVs from Normal and Uniform Distributions"
        },
        "xaxis": {
         "autorange": true,
         "range": [
          -2.3286770477442715,
          2.4297922401062015
         ],
         "showspikes": false,
         "title": {
          "text": "x1 ~ N(0,1)"
         },
         "type": "linear"
        },
        "yaxis": {
         "autorange": true,
         "range": [
          -7.872446522338983,
          9.860253204724502
         ],
         "showspikes": false,
         "title": {
          "text": "x2 ~ N(2,4)"
         },
         "type": "linear"
        }
       }
      },
      "image/png": "[encoded data removed]",
      "text/html": [
       "<div>                            <div id=\"631fca08-3226-4ce3-96e0-88960694098b\" class=\"plotly-graph-div\" style=\"height:525px; width:100%;\"></div>            <script type=\"text/javascript\">                require([\"plotly\"], function(Plotly) {                    window.PLOTLYENV=window.PLOTLYENV || {};                                    if (document.getElementById(\"631fca08-3226-4ce3-96e0-88960694098b\")) {                    Plotly.newPlot(                        \"631fca08-3226-4ce3-96e0-88960694098b\",                        [{\"marker\":{\"color\":[0.46247507683009625,0.7545220459489529,0.9448810929277098,0.6861253429466063,0.8021207834554048,0.2944915276455652,0.8220613699169701,0.20244791666665873,0.38394054341768735,0.6081403825334285,0.9580251038190697,0.9247294429121072,0.7737899826641664,0.3661239331439835,0.7789819512430397,0.2673334999168153,0.37899427320224466,0.8524819898907586,0.2759658812732203,0.4624647442371326,0.549796301554211,0.9904675835327843,0.6191913031877735,0.26570514343731333,0.23741575217411426,0.8726206667724504,0.12535171315895888,0.4961721534043543,0.11381789139289233,0.29250897766128603],\"colorbar\":{\"title\":{\"text\":\"x3 ~ Unif(0,1)\"}},\"showscale\":true,\"size\":[0.357089754992679,0.2645251775016664,0.635849172246377,0.12607429558261976,0.5911313757802966,0.2293815968549816,0.5251355750577453,0.12667062100393092,0.02929738709379231,0.38223479213925876,0.13712863909274753,0.025202351609667665,0.7565428964352305,0.13235311254308565,0.4151882519934324,0.197874793710736,0.24473886841932935,0.18888192564668094,0.13921270227365623,0.06542751613609418,0.51690152915292,0.4008621081079483,0.5697578504298474,0.15894896945114384,0.23391563376814964,0.3004890025396388,0.007377345338528044,0.18890508565347694,0.008716486453197978,0.22546745794036052],\"sizeref\":0.01},\"mode\":\"markers\",\"name\":\"\",\"text\":[\"Size = 0.357089754992679\",\"Size = 0.2645251775016664\",\"Size = 0.635849172246377\",\"Size = 0.12607429558261976\",\"Size = 0.5911313757802966\",\"Size = 0.2293815968549816\",\"Size = 0.5251355750577453\",\"Size = 0.12667062100393092\",\"Size = 0.02929738709379231\",\"Size = 0.38223479213925876\",\"Size = 0.13712863909274753\",\"Size = 0.025202351609667665\",\"Size = 0.7565428964352305\",\"Size = 0.13235311254308565\",\"Size = 0.4151882519934324\",\"Size = 0.197874793710736\",\"Size = 0.24473886841932935\",\"Size = 0.18888192564668094\",\"Size = 0.13921270227365623\",\"Size = 0.06542751613609418\",\"Size = 0.51690152915292\",\"Size = 0.4008621081079483\",\"Size = 0.5697578504298474\",\"Size = 0.15894896945114384\",\"Size = 0.23391563376814964\",\"Size = 0.3004890025396388\",\"Size = 0.007377345338528044\",\"Size = 0.18890508565347694\",\"Size = 0.008716486453197978\",\"Size = 0.22546745794036052\"],\"x\":[-0.25798751153887867,-1.1024717333415193,1.805173823848742,0.5372770828914969,0.09915020340074758,0.8380364370101299,0.15409515500969556,0.0936300531625384,1.7885415473513868,-0.0018352761243168871,1.1884575931466659,1.428948460398773,-1.145453967816526,1.2415675084816613,0.4960209696089544,-0.7491276868070861,1.7845500719898235,-1.4127549514458488,-1.2496317811388677,-1.342573202506963,1.4424098486947667,-1.9563475778490234,-0.2732984238684225,-0.11256764873455348,0.0278209410731077,-1.0117714063543661,0.4483694059257172,2.1285303422017816,1.3429767998620172,-0.7322703832544443],\"y\":[-0.127764610137044,3.2507407736559593,-3.0707690210042555,5.779773310379223,0.9455548840855583,-1.2557977599876504,-0.3583509391166322,-3.541896472892982,1.547824561390214,-1.9376167795389696,0.31105066454286034,1.1810869113603375,1.7797625412925298,-3.2155331700348775,-2.7726600404825374,7.755266030723026,-1.7184437465401938,2.40792920088458,2.1869879054225803,3.3925320084991153,4.34081570191146,-4.454634509578802,0.07579288848278831,3.341728507058676,1.4249397691857613,2.6662628151392918,3.4902799520687475,5.5049154139124195,2.5513570822204956,5.31260200267711],\"type\":\"scatter\"}],                        {\"title\":{\"text\":\"4D Plot of RVs from Normal and Uniform Distributions\"},\"xaxis\":{\"title\":{\"text\":\"x1 ~ N(0,1)\"}},\"yaxis\":{\"title\":{\"text\":\"x2 ~ N(2,4)\"}},\"template\":{\"data\":{\"histogram2dcontour\":[{\"type\":\"histogram2dcontour\",\"colorbar\":{\"outlinewidth\":0,\"ticks\":\"\"},\"colorscale\":[[0.0,\"#0d0887\"],[0.1111111111111111,\"#46039f\"],[0.2222222222222222,\"#7201a8\"],[0.3333333333333333,\"#9c179e\"],[0.4444444444444444,\"#bd3786\"],[0.5555555555555556,\"#d8576b\"],[0.6666666666666666,\"#ed7953\"],[0.7777777777777778,\"#fb9f3a\"],[0.8888888888888888,\"#fdca26\"],[1.0,\"#f0f921\"]]}],\"choropleth\":[{\"type\":\"choropleth\",\"colorbar\":{\"outlinewidth\":0,\"ticks\":\"\"}}],\"histogram2d\":[{\"type\":\"histogram2d\",\"colorbar\":{\"outlinewidth\":0,\"ticks\":\"\"},\"colorscale\":[[0.0,\"#0d0887\"],[0.1111111111111111,\"#46039f\"],[0.2222222222222222,\"#7201a8\"],[0.3333333333333333,\"#9c179e\"],[0.4444444444444444,\"#bd3786\"],[0.5555555555555556,\"#d8576b\"],[0.6666666666666666,\"#ed7953\"],[0.7777777777777778,\"#fb9f3a\"],[0.8888888888888888,\"#fdca26\"],[1.0,\"#f0f921\"]]}],\"heatmap\":[{\"type\":\"heatmap\",\"colorbar\":{\"outlinewidth\":0,\"ticks\":\"\"},\"colorscale\":[[0.0,\"#0d0887\"],[0.1111111111111111,\"#46039f\"],[0.2222222222222222,\"#7201a8\"],[0.3333333333333333,\"#9c179e\"],[0.4444444444444444,\"#bd3786\"],[0.5555555555555556,\"#d8576b\"],[0.6666666666666666,\"#ed7953\"],[0.7777777777777778,\"#fb9f3a\"],[0.8888888888888888,\"#fdca26\"],[1.0,\"#f0f921\"]]}],\"heatmapgl\":[{\"type\":\"heatmapgl\",\"colorbar\":{\"outlinewidth\":0,\"ticks\":\"\"},\"colorscale\":[[0.0,\"#0d0887\"],[0.1111111111111111,\"#46039f\"],[0.2222222222222222,\"#7201a8\"],[0.3333333333333333,\"#9c179e\"],[0.4444444444444444,\"#bd3786\"],[0.5555555555555556,\"#d8576b\"],[0.6666666666666666,\"#ed7953\"],[0.7777777777777778,\"#fb9f3a\"],[0.8888888888888888,\"#fdca26\"],[1.0,\"#f0f921\"]]}],\"contourcarpet\":[{\"type\":\"contourcarpet\",\"colorbar\":{\"outlinewidth\":0,\"ticks\":\"\"}}],\"contour\":[{\"type\":\"contour\",\"colorbar\":{\"outlinewidth\":0,\"ticks\":\"\"},\"colorscale\":[[0.0,\"#0d0887\"],[0.1111111111111111,\"#46039f\"],[0.2222222222222222,\"#7201a8\"],[0.3333333333333333,\"#9c179e\"],[0.4444444444444444,\"#bd3786\"],[0.5555555555555556,\"#d8576b\"],[0.6666666666666666,\"#ed7953\"],[0.7777777777777778,\"#fb9f3a\"],[0.8888888888888888,\"#fdca26\"],[1.0,\"#f0f921\"]]}],\"surface\":[{\"type\":\"surface\",\"colorbar\":{\"outlinewidth\":0,\"ticks\":\"\"},\"colorscale\":[[0.0,\"#0d0887\"],[0.1111111111111111,\"#46039f\"],[0.2222222222222222,\"#7201a8\"],[0.3333333333333333,\"#9c179e\"],[0.4444444444444444,\"#bd3786\"],[0.5555555555555556,\"#d8576b\"],[0.6666666666666666,\"#ed7953\"],[0.7777777777777778,\"#fb9f3a\"],[0.8888888888888888,\"#fdca26\"],[1.0,\"#f0f921\"]]}],\"mesh3d\":[{\"type\":\"mesh3d\",\"colorbar\":{\"outlinewidth\":0,\"ticks\":\"\"}}],\"scatter\":[{\"fillpattern\":{\"fillmode\":\"overlay\",\"size\":10,\"solidity\":0.2},\"type\":\"scatter\"}],\"parcoords\":[{\"type\":\"parcoords\",\"line\":{\"colorbar\":{\"outlinewidth\":0,\"ticks\":\"\"}}}],\"scatterpolargl\":[{\"type\":\"scatterpolargl\",\"marker\":{\"colorbar\":{\"outlinewidth\":0,\"ticks\":\"\"}}}],\"bar\":[{\"error_x\":{\"color\":\"#2a3f5f\"},\"error_y\":{\"color\":\"#2a3f5f\"},\"marker\":{\"line\":{\"color\":\"#E5ECF6\",\"width\":0.5},\"pattern\":{\"fillmode\":\"overlay\",\"size\":10,\"solidity\":0.2}},\"type\":\"bar\"}],\"scattergeo\":[{\"type\":\"scattergeo\",\"marker\":{\"colorbar\":{\"outlinewidth\":0,\"ticks\":\"\"}}}],\"scatterpolar\":[{\"type\":\"scatterpolar\",\"marker\":{\"colorbar\":{\"outlinewidth\":0,\"ticks\":\"\"}}}],\"histogram\":[{\"marker\":{\"pattern\":{\"fillmode\":\"overlay\",\"size\":10,\"solidity\":0.2}},\"type\":\"histogram\"}],\"scattergl\":[{\"type\":\"scattergl\",\"marker\":{\"colorbar\":{\"outlinewidth\":0,\"ticks\":\"\"}}}],\"scatter3d\":[{\"type\":\"scatter3d\",\"line\":{\"colorbar\":{\"outlinewidth\":0,\"ticks\":\"\"}},\"marker\":{\"colorbar\":{\"outlinewidth\":0,\"ticks\":\"\"}}}],\"scattermapbox\":[{\"type\":\"scattermapbox\",\"marker\":{\"colorbar\":{\"outlinewidth\":0,\"ticks\":\"\"}}}],\"scatterternary\":[{\"type\":\"scatterternary\",\"marker\":{\"colorbar\":{\"outlinewidth\":0,\"ticks\":\"\"}}}],\"scattercarpet\":[{\"type\":\"scattercarpet\",\"marker\":{\"colorbar\":{\"outlinewidth\":0,\"ticks\":\"\"}}}],\"carpet\":[{\"aaxis\":{\"endlinecolor\":\"#2a3f5f\",\"gridcolor\":\"white\",\"linecolor\":\"white\",\"minorgridcolor\":\"white\",\"startlinecolor\":\"#2a3f5f\"},\"baxis\":{\"endlinecolor\":\"#2a3f5f\",\"gridcolor\":\"white\",\"linecolor\":\"white\",\"minorgridcolor\":\"white\",\"startlinecolor\":\"#2a3f5f\"},\"type\":\"carpet\"}],\"table\":[{\"cells\":{\"fill\":{\"color\":\"#EBF0F8\"},\"line\":{\"color\":\"white\"}},\"header\":{\"fill\":{\"color\":\"#C8D4E3\"},\"line\":{\"color\":\"white\"}},\"type\":\"table\"}],\"barpolar\":[{\"marker\":{\"line\":{\"color\":\"#E5ECF6\",\"width\":0.5},\"pattern\":{\"fillmode\":\"overlay\",\"size\":10,\"solidity\":0.2}},\"type\":\"barpolar\"}],\"pie\":[{\"automargin\":true,\"type\":\"pie\"}]},\"layout\":{\"autotypenumbers\":\"strict\",\"colorway\":[\"#636efa\",\"#EF553B\",\"#00cc96\",\"#ab63fa\",\"#FFA15A\",\"#19d3f3\",\"#FF6692\",\"#B6E880\",\"#FF97FF\",\"#FECB52\"],\"font\":{\"color\":\"#2a3f5f\"},\"hovermode\":\"closest\",\"hoverlabel\":{\"align\":\"left\"},\"paper_bgcolor\":\"white\",\"plot_bgcolor\":\"#E5ECF6\",\"polar\":{\"bgcolor\":\"#E5ECF6\",\"angularaxis\":{\"gridcolor\":\"white\",\"linecolor\":\"white\",\"ticks\":\"\"},\"radialaxis\":{\"gridcolor\":\"white\",\"linecolor\":\"white\",\"ticks\":\"\"}},\"ternary\":{\"bgcolor\":\"#E5ECF6\",\"aaxis\":{\"gridcolor\":\"white\",\"linecolor\":\"white\",\"ticks\":\"\"},\"baxis\":{\"gridcolor\":\"white\",\"linecolor\":\"white\",\"ticks\":\"\"},\"caxis\":{\"gridcolor\":\"white\",\"linecolor\":\"white\",\"ticks\":\"\"}},\"coloraxis\":{\"colorbar\":{\"outlinewidth\":0,\"ticks\":\"\"}},\"colorscale\":{\"sequential\":[[0.0,\"#0d0887\"],[0.1111111111111111,\"#46039f\"],[0.2222222222222222,\"#7201a8\"],[0.3333333333333333,\"#9c179e\"],[0.4444444444444444,\"#bd3786\"],[0.5555555555555556,\"#d8576b\"],[0.6666666666666666,\"#ed7953\"],[0.7777777777777778,\"#fb9f3a\"],[0.8888888888888888,\"#fdca26\"],[1.0,\"#f0f921\"]],\"sequentialminus\":[[0.0,\"#0d0887\"],[0.1111111111111111,\"#46039f\"],[0.2222222222222222,\"#7201a8\"],[0.3333333333333333,\"#9c179e\"],[0.4444444444444444,\"#bd3786\"],[0.5555555555555556,\"#d8576b\"],[0.6666666666666666,\"#ed7953\"],[0.7777777777777778,\"#fb9f3a\"],[0.8888888888888888,\"#fdca26\"],[1.0,\"#f0f921\"]],\"diverging\":[[0,\"#8e0152\"],[0.1,\"#c51b7d\"],[0.2,\"#de77ae\"],[0.3,\"#f1b6da\"],[0.4,\"#fde0ef\"],[0.5,\"#f7f7f7\"],[0.6,\"#e6f5d0\"],[0.7,\"#b8e186\"],[0.8,\"#7fbc41\"],[0.9,\"#4d9221\"],[1,\"#276419\"]]},\"xaxis\":{\"gridcolor\":\"white\",\"linecolor\":\"white\",\"ticks\":\"\",\"title\":{\"standoff\":15},\"zerolinecolor\":\"white\",\"automargin\":true,\"zerolinewidth\":2},\"yaxis\":{\"gridcolor\":\"white\",\"linecolor\":\"white\",\"ticks\":\"\",\"title\":{\"standoff\":15},\"zerolinecolor\":\"white\",\"automargin\":true,\"zerolinewidth\":2},\"scene\":{\"xaxis\":{\"backgroundcolor\":\"#E5ECF6\",\"gridcolor\":\"white\",\"linecolor\":\"white\",\"showbackground\":true,\"ticks\":\"\",\"zerolinecolor\":\"white\",\"gridwidth\":2},\"yaxis\":{\"backgroundcolor\":\"#E5ECF6\",\"gridcolor\":\"white\",\"linecolor\":\"white\",\"showbackground\":true,\"ticks\":\"\",\"zerolinecolor\":\"white\",\"gridwidth\":2},\"zaxis\":{\"backgroundcolor\":\"#E5ECF6\",\"gridcolor\":\"white\",\"linecolor\":\"white\",\"showbackground\":true,\"ticks\":\"\",\"zerolinecolor\":\"white\",\"gridwidth\":2}},\"shapedefaults\":{\"line\":{\"color\":\"#2a3f5f\"}},\"annotationdefaults\":{\"arrowcolor\":\"#2a3f5f\",\"arrowhead\":0,\"arrowwidth\":1},\"geo\":{\"bgcolor\":\"white\",\"landcolor\":\"#E5ECF6\",\"subunitcolor\":\"white\",\"showland\":true,\"showlakes\":true,\"lakecolor\":\"white\"},\"title\":{\"x\":0.05},\"mapbox\":{\"style\":\"light\"}}}},                        {\"responsive\": true}                    ).then(function(){\n",
       "                            \n",
       "var gd = document.getElementById('631fca08-3226-4ce3-96e0-88960694098b');\n",
       "var x = new MutationObserver(function (mutations, observer) {{\n",
       "        var display = window.getComputedStyle(gd).display;\n",
       "        if (!display || display === 'none') {{\n",
       "            console.log([gd, 'removed!']);\n",
       "            Plotly.purge(gd);\n",
       "            observer.disconnect();\n",
       "        }}\n",
       "}});\n",
       "\n",
       "// Listen for the removal of the full notebook cells\n",
       "var notebookContainer = gd.closest('#notebook-container');\n",
       "if (notebookContainer) {{\n",
       "    x.observe(notebookContainer, {childList: true});\n",
       "}}\n",
       "\n",
       "// Listen for the clearing of the current output cell\n",
       "var outputEl = gd.closest('.output');\n",
       "if (outputEl) {{\n",
       "    x.observe(outputEl, {childList: true});\n",
       "}}\n",
       "\n",
       "                        })                };                });            </script>        </div>"
      ]
     },
     "metadata": {},
     "output_type": "display_data"
    }
   ],
   "source": [
    "N = 30\n",
    "x1 = norm.rvs(0,1,N) # sampling from N(0, 1)\n",
    "x2 = norm.rvs(2,4,N) # sampling from N(2, 4)\n",
    "x3 = uniform.rvs(0,1,N) # sampling from Unif(0,1)\n",
    "x4 = x3 * uniform.rvs(0,1,N) # sampling from Unif(0,1)\n",
    "\n",
    "plot_data(\n",
    "    x1, \n",
    "    x2, \n",
    "    colour=x3, \n",
    "    size=x4,\n",
    "    title=\"4D Plot of RVs from Normal and Uniform Distributions\",\n",
    "    colour_title=\"x3 ~ Unif(0,1)\",\n",
    "    x_label=\"x1 ~ N(0,1)\",\n",
    "    y_label=\"x2 ~ N(2,4)\",\n",
    "    text=[f\"Size = {x}\" for x in x4],\n",
    ")"
   ]
  },
  {
   "cell_type": "code",
   "execution_count": 104,
   "id": "09e0fa6d-15f3-4dd3-9da7-f3b521d7811f",
   "metadata": {},
   "outputs": [],
   "source": [
    "# TBD"
   ]
  },
  {
   "cell_type": "markdown",
   "id": "6d64b128-8156-4454-914f-d8a94a9af3d9",
   "metadata": {},
   "source": [
    "## Question 2"
   ]
  },
  {
   "cell_type": "code",
   "execution_count": null,
   "id": "e752e8f8-c42f-4cbd-8491-1eb49c6a8079",
   "metadata": {},
   "outputs": [],
   "source": []
  },
  {
   "cell_type": "markdown",
   "id": "49a6a83b-7c33-457a-b09e-7dd72de4abbf",
   "metadata": {},
   "source": [
    "## Question 3"
   ]
  },
  {
   "cell_type": "code",
   "execution_count": null,
   "id": "ae5369ad-8ca7-475b-9ecb-c8e2f3e62e8f",
   "metadata": {},
   "outputs": [],
   "source": []
  },
  {
   "cell_type": "markdown",
   "id": "70ade2aa-501a-4c5a-9f86-22658ea6553a",
   "metadata": {},
   "source": [
    "## Question 4"
   ]
  },
  {
   "cell_type": "code",
   "execution_count": null,
   "id": "a5d3808d-adcc-4522-b32f-719d45b142c2",
   "metadata": {},
   "outputs": [],
   "source": []
  },
  {
   "cell_type": "code",
   "execution_count": null,
   "id": "c0450b96-5ba9-49a9-a6bc-d7c9d4140880",
   "metadata": {},
   "outputs": [],
   "source": []
  }
 ],
 "metadata": {
  "kernelspec": {
   "display_name": "Python 3 (ipykernel)",
   "language": "python",
   "name": "python3"
  },
  "language_info": {
   "codemirror_mode": {
    "name": "ipython",
    "version": 3
   },
   "file_extension": ".py",
   "mimetype": "text/x-python",
   "name": "python",
   "nbconvert_exporter": "python",
   "pygments_lexer": "ipython3",
   "version": "3.9.6"
  }
 },
 "nbformat": 4,
 "nbformat_minor": 5
}
