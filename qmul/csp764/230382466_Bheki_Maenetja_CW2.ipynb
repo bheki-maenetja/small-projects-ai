{
 "cells": [
  {
   "cell_type": "markdown",
   "id": "d2854424-938d-4634-b8af-1a1b902955d4",
   "metadata": {},
   "source": [
    "# EECS764P Coursework 2\n",
    "- Name: Bheki Maenetja\n",
    "- Student ID: 230382466"
   ]
  },
  {
   "cell_type": "markdown",
   "id": "7b216060-f019-4939-8390-f63005ae8a42",
   "metadata": {},
   "source": [
    "## Imports"
   ]
  },
  {
   "cell_type": "code",
   "execution_count": null,
   "id": "060ca083-24ec-4b29-8c76-9b0c2d2941c8",
   "metadata": {},
   "outputs": [],
   "source": [
    "import numpy as np\n",
    "from scipy.stats import uniform, norm, cauchy, beta\n",
    "from scipy.integrate import quad\n",
    "\n",
    "!pip install plotly\n",
    "import plotly.graph_objects as go\n",
    "import plotly.io as pio\n",
    "pio.renderers.default = \"iframe\""
   ]
  },
  {
   "cell_type": "markdown",
   "id": "48b38ff0-d945-4e85-975f-ded07f6a171e",
   "metadata": {},
   "source": [
    "## Plotting Functions"
   ]
  },
  {
   "cell_type": "code",
   "execution_count": null,
   "id": "60123b67-d1af-4c3f-9581-61acb4520b5b",
   "metadata": {},
   "outputs": [],
   "source": [
    "# Plotting functions\n",
    "def plot_data(x=None, y=None, z=None, size=None, colour=None, title=\"\", colour_title=\"\", x_label=\"\", y_label=\"\", name=\"\", mode=\"markers\", text=\"\", fill=None, **traces):\n",
    "    \"\"\"\n",
    "    General purpose function for plotting scatter plots in plotly.\n",
    "    \"\"\"\n",
    "    fig = go.Figure(layout={\n",
    "        \"title\": title,\n",
    "        \"xaxis\": {\"title\": x_label},\n",
    "        \"yaxis\": {\"title\": y_label}\n",
    "    })\n",
    "\n",
    "    marker = dict()\n",
    "    \n",
    "    if size is not None:\n",
    "        marker[\"size\"] = size\n",
    "        marker[\"sizeref\"] = 0.01\n",
    "    if colour is not None:\n",
    "        marker[\"color\"] = colour\n",
    "        marker[\"showscale\"] = True\n",
    "        marker[\"colorbar\"] = dict(title=colour_title)\n",
    "    \n",
    "    if z is None:\n",
    "        data = go.Scatter(\n",
    "            x=x,\n",
    "            y=y,\n",
    "            mode=mode,\n",
    "            name=name,\n",
    "            text=text,\n",
    "            fill=fill,\n",
    "            marker=marker,\n",
    "        )\n",
    "    else:\n",
    "        data = go.Scatter3d(\n",
    "            x=x,\n",
    "            y=y,\n",
    "            z=z,\n",
    "            mode=mode,\n",
    "            name=name,\n",
    "            text=text,\n",
    "            marker=marker,\n",
    "        )\n",
    "\n",
    "    if x is not None and y is not None:\n",
    "        fig.add_trace(data)\n",
    "    \n",
    "    for t in traces:\n",
    "        fig.add_trace(traces[t])\n",
    "    \n",
    "    return fig\n",
    "\n",
    "def create_trace(x=None, y=None, z=None, size=None, colour=None, colour_title=\"\", name=\"\", mode=\"lines\", text=\"\", fill=None):\n",
    "    marker = dict()\n",
    "    \n",
    "    if size is not None:\n",
    "        marker[\"size\"] = size\n",
    "        marker[\"sizeref\"] = 0.01\n",
    "    if colour is not None:\n",
    "        marker[\"color\"] = colour\n",
    "        marker[\"showscale\"] = True\n",
    "        marker[\"colorbar\"] = dict(title=colour_title)\n",
    "    \n",
    "    if z is None:\n",
    "        trace = go.Scatter(\n",
    "            x=x,\n",
    "            y=y,\n",
    "            mode=mode,\n",
    "            name=name,\n",
    "            text=text,\n",
    "            fill=fill,\n",
    "            marker=marker\n",
    "        )\n",
    "    else:\n",
    "        trace = go.Scatter3d(\n",
    "            x=x,\n",
    "            y=y,\n",
    "            z=z,\n",
    "            mode=mode,\n",
    "            name=name,\n",
    "            text=text,\n",
    "            marker=marker\n",
    "        )\n",
    "    \n",
    "    return trace\n",
    "\n",
    "def create_histogram(x=None, y=None, histnorm=\"\", name=\"\"):\n",
    "    return go.Histogram(\n",
    "        x=x,\n",
    "        y=None,\n",
    "        histnorm=histnorm,\n",
    "        name=name,\n",
    "    )    "
   ]
  },
  {
   "cell_type": "markdown",
   "id": "123820d8-a965-4dae-a076-9b7a0bf34bea",
   "metadata": {},
   "source": [
    "## Question 1"
   ]
  },
  {
   "cell_type": "code",
   "execution_count": null,
   "id": "48318dca-222f-4464-8b36-86ea54744433",
   "metadata": {},
   "outputs": [],
   "source": [
    "N = 30\n",
    "\n",
    "x1 = norm.rvs(0,1,N) # sampling from N(0, 1)\n",
    "x2 = norm.rvs(2,4,N) # sampling from N(2, 4)\n",
    "x3 = uniform.rvs(0,1,N) # sampling from Unif(0,1)\n",
    "x4 = x3 * uniform.rvs(0,1,N) # sampling from Unif(0,1)"
   ]
  },
  {
   "cell_type": "code",
   "execution_count": null,
   "id": "5fee3ad4-1c40-4ff2-ae7e-022acf9ecc98",
   "metadata": {},
   "outputs": [],
   "source": [
    "plot_data(\n",
    "    x1, \n",
    "    x2, \n",
    "    colour=x3, \n",
    "    size=x4,\n",
    "    title=\"Bubble Plot of RVs from Normal and Uniform Distributions\",\n",
    "    colour_title=\"x3 ~ Unif(0,1)\",\n",
    "    x_label=\"x1 ~ N(0,1)\",\n",
    "    y_label=\"x2 ~ N(2,4)\",\n",
    "    text=[f\"Size = {x}\" for x in x4],\n",
    ")"
   ]
  },
  {
   "cell_type": "markdown",
   "id": "dd4ff0f1-7d7c-4ea4-a16c-cdbe45d0f8ad",
   "metadata": {},
   "source": [
    "x1 and x2 are represented by values on the x and y axis respectively; each (x,y) pairing represents the location of the centre of a circle. x3 is represented by the colour of the circles and x4 is represented by the size of the circles. In order for the plot to be legible x4 has had to be scaled (see plot_data function above). Given that x4 is essentially a multiple of x3 we observe that tuples with high values for x3 also have high values for x4; these tuples are represented by circles that are bigger and brighter."
   ]
  },
  {
   "cell_type": "markdown",
   "id": "6d64b128-8156-4454-914f-d8a94a9af3d9",
   "metadata": {},
   "source": [
    "## Question 2"
   ]
  },
  {
   "cell_type": "code",
   "execution_count": null,
   "id": "e752e8f8-c42f-4cbd-8491-1eb49c6a8079",
   "metadata": {},
   "outputs": [],
   "source": [
    "N = 1000\n",
    "\n",
    "x_norm = norm.rvs(size=N, random_state=456) # sampling from standard normal distribution\n",
    "x_cauchy = cauchy.rvs(size=N, random_state=456) # sampling from standard cauchy distribution\n",
    "\n",
    "p = np.linspace(0,100,100)\n",
    "y_norm = np.percentile(x_norm, p)\n",
    "y_cauchy = np.percentile(x_cauchy, p)\n",
    "\n",
    "curve_trace = create_trace(y_norm, y_cauchy, mode=\"markers\")\n",
    "straight_trace = create_trace(y_norm, y_norm)"
   ]
  },
  {
   "cell_type": "code",
   "execution_count": null,
   "id": "49731972-c496-48ce-96d0-8ef31bc88060",
   "metadata": {},
   "outputs": [],
   "source": [
    "plot_data(\n",
    "    x_label=\"Normal Distribution\",\n",
    "    y_label=\"Cauchy Distribution\",\n",
    "    title=\"QQ Plot of Normal and Cauchy Distributions\", \n",
    "    t1=curve_trace, \n",
    "    t2=straight_trace\n",
    ")"
   ]
  },
  {
   "cell_type": "markdown",
   "id": "70bdcd9a-497e-454e-a44c-dffbd3282dc1",
   "metadata": {},
   "source": [
    "From the QQ plot we observe that the central quantiles of both distributions are actually quite similar. However, as we look at the extreme ends of the distributions we see a big divergence of the points from the line. This indicates that the Cauchy distribution has far more extreme values at both ends (i.e. heavier tails) than the normal distribution."
   ]
  },
  {
   "cell_type": "markdown",
   "id": "49a6a83b-7c33-457a-b09e-7dd72de4abbf",
   "metadata": {},
   "source": [
    "## Question 3"
   ]
  },
  {
   "cell_type": "markdown",
   "id": "d2889f47-ab6e-4974-a8b8-439b853b718a",
   "metadata": {},
   "source": [
    "### 3.1) The Support fo Beta(2, 8) and Beta(8,2)"
   ]
  },
  {
   "cell_type": "markdown",
   "id": "d3375776-3e2f-4cf0-a97d-791e464a0e5e",
   "metadata": {},
   "source": [
    "The support of Beta(2,8) is [0,1] and the support of Beta(8,2) is also [0,1]. However, the support of Beta(2,8) + Beta(8,2) is [0, 2]."
   ]
  },
  {
   "cell_type": "markdown",
   "id": "5889c079-84b5-415e-97fc-dde425dc9ad2",
   "metadata": {},
   "source": [
    "### 3.2) Integrand of the Integral"
   ]
  },
  {
   "cell_type": "code",
   "execution_count": null,
   "id": "be59c5c3-b4fc-47c3-a8f8-16642a174a91",
   "metadata": {},
   "outputs": [],
   "source": [
    "def beta_sum(x, t):\n",
    "    f1 = beta.pdf(x, 2, 8)\n",
    "    f2 = beta.pdf(t - x, 8, 2) if t - x >= 0 else 0\n",
    "    return f1 * f2"
   ]
  },
  {
   "cell_type": "markdown",
   "id": "1494e603-9384-44d8-9cd5-c34f6a0e9de3",
   "metadata": {},
   "source": [
    "###  3.3) PDF of Beta(2,8) + Beta(8,2)"
   ]
  },
  {
   "cell_type": "code",
   "execution_count": null,
   "id": "b02c8ad1-de0b-405d-8343-d2e16a97f343",
   "metadata": {},
   "outputs": [],
   "source": [
    "t_vals = np.linspace(0, 2, 100)\n",
    "pdf_vals = []\n",
    "\n",
    "for t in t_vals:\n",
    "    pdf = quad(beta_sum, -np.inf, np.inf, args=(t))[0]\n",
    "    pdf_vals.append(pdf)"
   ]
  },
  {
   "cell_type": "code",
   "execution_count": null,
   "id": "7656ef11-58b7-4e1e-adb6-138fe0064bd2",
   "metadata": {},
   "outputs": [],
   "source": [
    "plot_data(\n",
    "    t_vals, \n",
    "    pdf_vals,\n",
    "    x_label=\"t\",\n",
    "    y_label=\"f(t)\",\n",
    "    title=\"PDFs of Beta(2,8) + Beta(8,2)\",\n",
    ")"
   ]
  },
  {
   "cell_type": "markdown",
   "id": "4f7bd46f-85f5-4e07-8366-5c5296dc3fb4",
   "metadata": {},
   "source": [
    "### 3.4) Histogram"
   ]
  },
  {
   "cell_type": "code",
   "execution_count": null,
   "id": "a067715f-7230-423a-bb67-cb1a30a95995",
   "metadata": {},
   "outputs": [],
   "source": [
    "N = 10000\n",
    "\n",
    "b1 = beta.rvs(2,8,size=N) # sampling from Beta(2,8)\n",
    "b2 = beta.rvs(8,2,size=N) # sampling from Beta(8,2)\n",
    "b_12 = b1 + b2 # adding both distributions"
   ]
  },
  {
   "cell_type": "code",
   "execution_count": null,
   "id": "3ac59bbc-4477-4739-a937-9c434c6f6b11",
   "metadata": {},
   "outputs": [],
   "source": [
    "hist = create_histogram(b_12, histnorm=\"probability density\", name=\"Sum of Beta Samples\")\n",
    "trace = create_trace(t_vals, pdf_vals, name=\"Beta Distribution PDF\")"
   ]
  },
  {
   "cell_type": "code",
   "execution_count": null,
   "id": "241fc466-36d5-4ea8-b7d5-fb1927a5c4df",
   "metadata": {},
   "outputs": [],
   "source": [
    "plot_data(t1=hist, t2=trace)"
   ]
  },
  {
   "cell_type": "markdown",
   "id": "44c6f22b-5a68-4a48-b4e4-ffb88d8ba797",
   "metadata": {},
   "source": [
    "Looking at the above plot we observe that the sum of Beta(2,8) and Beta(8,2) appears to form a normal distribution with an approximate mean of 1 and a standard deviation roughly equal to 0.25."
   ]
  },
  {
   "cell_type": "markdown",
   "id": "70ade2aa-501a-4c5a-9f86-22658ea6553a",
   "metadata": {},
   "source": [
    "## Question 4"
   ]
  },
  {
   "cell_type": "markdown",
   "id": "cd6ecc2c-bc31-46e0-b9f8-5b56b0003b5c",
   "metadata": {},
   "source": [
    "### 4.1) Sample Mean Function"
   ]
  },
  {
   "cell_type": "code",
   "execution_count": null,
   "id": "8eaae6a7-8ccd-4a24-bb7e-1d379d802f84",
   "metadata": {},
   "outputs": [],
   "source": [
    "def sample_mean(m, n):\n",
    "    return norm.rvs(size=[n, m]).mean(axis=1)"
   ]
  },
  {
   "cell_type": "code",
   "execution_count": null,
   "id": "deec7e54-a336-4bc9-bd17-b416324211e9",
   "metadata": {},
   "outputs": [],
   "source": [
    "# Plotting\n",
    "N = 10000\n",
    "\n",
    "sm1 = sample_mean(10, N)\n",
    "sm2 = sample_mean(100, N)\n",
    "sm3 = sample_mean(1000, N)\n",
    "\n",
    "hist1 = create_histogram(sm1, histnorm=\"probability density\", name=\"Sample Mean Histogram for m = 10\")\n",
    "hist2 = create_histogram(sm2, histnorm=\"probability density\", name=\"Sample Mean Histogram for m = 100\")\n",
    "hist3 = create_histogram(sm3, histnorm=\"probability density\", name=\"Sample Mean Histogram for m = 1000\")"
   ]
  },
  {
   "cell_type": "code",
   "execution_count": null,
   "id": "0d3811a1-d861-4ffb-a4e9-a23e0bce0d72",
   "metadata": {},
   "outputs": [],
   "source": [
    "plot_data(t=hist1, title=\"Sample Mean Histogram for m=10\")"
   ]
  },
  {
   "cell_type": "code",
   "execution_count": null,
   "id": "1891dc5a-c08f-4756-94ea-6020984f2b64",
   "metadata": {},
   "outputs": [],
   "source": [
    "plot_data(t=hist2, title=\"Sample Mean Histogram for m=100\")"
   ]
  },
  {
   "cell_type": "code",
   "execution_count": null,
   "id": "2650abc7-0b52-4fe7-9b05-6d749f6905b7",
   "metadata": {},
   "outputs": [],
   "source": [
    "plot_data(t=hist3, title=\"Sample Mean Histogram for m=1000\")"
   ]
  },
  {
   "cell_type": "markdown",
   "id": "e0cb5905-3e21-41a8-b955-7c219509e81e",
   "metadata": {},
   "source": [
    "### 4.2) Sample Mean Distribution Class"
   ]
  },
  {
   "cell_type": "code",
   "execution_count": null,
   "id": "a11aa27d-04c9-4542-ad1d-1f992eb3bbf9",
   "metadata": {},
   "outputs": [],
   "source": [
    "class sample_mean_distribution:\n",
    "    def __init__(self, m):\n",
    "        self._m = m\n",
    "\n",
    "    def norm_pdf(self, x, mu=0, std=1):\n",
    "        new_std = (np.sqrt(self._m) * std) / self._m\n",
    "        return norm.pdf(x, mu, new_std)"
   ]
  },
  {
   "cell_type": "code",
   "execution_count": null,
   "id": "086e2ee2-2191-4a61-aad8-55283d446894",
   "metadata": {},
   "outputs": [],
   "source": [
    "x = np.linspace(-2, 2, 1000)\n",
    "\n",
    "smd1 = sample_mean_distribution(10)\n",
    "smd2 = sample_mean_distribution(100)\n",
    "smd3 = sample_mean_distribution(1000)"
   ]
  },
  {
   "cell_type": "code",
   "execution_count": null,
   "id": "11d9c737-f7eb-4495-b08e-f7471ac8841e",
   "metadata": {},
   "outputs": [],
   "source": [
    "plot_data(x, smd1.norm_pdf(x), title=\"Sample Mean PDF for m = 10\", mode=\"lines\", fill=\"tozeroy\")"
   ]
  },
  {
   "cell_type": "code",
   "execution_count": null,
   "id": "1c64c218-0d59-4228-8538-eb48f5a8f5d9",
   "metadata": {},
   "outputs": [],
   "source": [
    "plot_data(x, smd2.norm_pdf(x), title=\"Sample Mean PDF for m = 100\", mode=\"lines\", fill=\"tozeroy\")"
   ]
  },
  {
   "cell_type": "code",
   "execution_count": null,
   "id": "727e2d9c-a66e-4fb2-9496-0fcd5391ab07",
   "metadata": {},
   "outputs": [],
   "source": [
    "plot_data(x, smd3.norm_pdf(x), title=\"Sample Mean PDF for m = 1000\", mode=\"lines\", fill=\"tozeroy\")"
   ]
  },
  {
   "cell_type": "markdown",
   "id": "e2ad73d9-3a50-4f21-849d-0b488f4dd25f",
   "metadata": {},
   "source": [
    "### 4.3) Plotting Sample Mean Distributions with Histograms"
   ]
  },
  {
   "cell_type": "code",
   "execution_count": null,
   "id": "5f62a455-e041-46e2-83a8-cd7455f6ea06",
   "metadata": {},
   "outputs": [],
   "source": [
    "smd1_trace = create_trace(x, smd1.norm_pdf(x), name=\"Sample Mean PDF for m = 10\", mode=\"lines\")\n",
    "smd2_trace = create_trace(x, smd2.norm_pdf(x), name=\"Sample Mean PDF for m = 100\", mode=\"lines\")\n",
    "smd3_trace = create_trace(x, smd3.norm_pdf(x), name=\"Sample Mean PDF for m = 1000\", mode=\"lines\")"
   ]
  },
  {
   "cell_type": "code",
   "execution_count": null,
   "id": "0840f695-87dc-43d0-8c19-c29a74d9099d",
   "metadata": {},
   "outputs": [],
   "source": [
    "plot_data(t1=hist1, t2=smd1_trace, title=\"Sample Mean Histogram and PDF for m = 10\")"
   ]
  },
  {
   "cell_type": "code",
   "execution_count": null,
   "id": "797fa674-c71d-41d9-a863-8d8e55772d4b",
   "metadata": {},
   "outputs": [],
   "source": [
    "plot_data(t1=hist2, t2=smd2_trace, title=\"Sample Mean Histogram and PDF for m = 100\")"
   ]
  },
  {
   "cell_type": "code",
   "execution_count": null,
   "id": "a115b62f-d947-4bfb-b0de-b8f9a156b12d",
   "metadata": {},
   "outputs": [],
   "source": [
    "plot_data(t1=hist3, t2=smd3_trace, title=\"Sample Mean Histogram and PDF for m = 1000\")"
   ]
  },
  {
   "cell_type": "markdown",
   "id": "ea51d444-4706-4c2a-88c2-3934052349cd",
   "metadata": {},
   "source": [
    "Conclusion: as m increases the distribution of the sample mean becomes focused around the true mean with the standard deviation decreasing as m increases; the plots become thinner with much lighter tails and a higher concentration of values at the mean. This results is consistent with the law of large numbers which states that the sample mean should converge as the number of samples increases."
   ]
  },
  {
   "cell_type": "code",
   "execution_count": null,
   "id": "66004f3e-3497-4640-b319-31839c1cd737",
   "metadata": {},
   "outputs": [],
   "source": []
  }
 ],
 "metadata": {
  "kernelspec": {
   "display_name": "Python 3 (ipykernel)",
   "language": "python",
   "name": "python3"
  },
  "language_info": {
   "codemirror_mode": {
    "name": "ipython",
    "version": 3
   },
   "file_extension": ".py",
   "mimetype": "text/x-python",
   "name": "python",
   "nbconvert_exporter": "python",
   "pygments_lexer": "ipython3",
   "version": "3.9.6"
  }
 },
 "nbformat": 4,
 "nbformat_minor": 5
}
