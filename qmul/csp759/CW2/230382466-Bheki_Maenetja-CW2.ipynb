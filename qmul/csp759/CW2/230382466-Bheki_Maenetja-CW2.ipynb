{
 "cells": [
  {
   "cell_type": "markdown",
   "id": "fedfc3c8-f897-47a0-ae8b-70a577edf0e8",
   "metadata": {},
   "source": [
    "# EECS759P Coursework 2\n",
    "- Name: Bheki Maenetja\n",
    "- Student ID: 230382466"
   ]
  },
  {
   "cell_type": "markdown",
   "id": "c4e4e3ac-ab5d-47e4-a156-1c06db7821e1",
   "metadata": {},
   "source": [
    "## Imports"
   ]
  },
  {
   "cell_type": "code",
   "execution_count": null,
   "id": "b31e06bb-26a6-472a-a5e2-e17ccec62055",
   "metadata": {},
   "outputs": [],
   "source": [
    "import torchvision\n",
    "import torchvision.transforms as transforms\n",
    "import torch\n",
    "import torch.nn as nn\n",
    "\n",
    "# !pip install plotly\n",
    "import plotly.graph_objects as go\n",
    "from plotly.subplots import make_subplots\n",
    "import plotly.io as pio\n",
    "# pio.renderers.default = \"iframe\""
   ]
  },
  {
   "cell_type": "markdown",
   "id": "8a0ae888-5617-48d4-9f64-0e8c14d487d1",
   "metadata": {},
   "source": [
    "## Plotting Functions"
   ]
  },
  {
   "cell_type": "code",
   "execution_count": null,
   "id": "7b5eb9ec-25d0-4688-bb83-b7f054025b5e",
   "metadata": {},
   "outputs": [],
   "source": [
    "# Plotting functions\n",
    "def plot_data(x=None, y=None, z=None, size=None, colour=None, title=\"\", colour_title=\"\", x_label=\"\", y_label=\"\", name=\"\", mode=\"markers\", text=\"\", fill=None, **traces):\n",
    "    \"\"\"\n",
    "    General purpose function for plotting scatter plots in plotly.\n",
    "    \"\"\"\n",
    "    fig = go.Figure(layout={\n",
    "        \"title\": title,\n",
    "        \"xaxis\": {\"title\": x_label},\n",
    "        \"yaxis\": {\"title\": y_label}\n",
    "    })\n",
    "\n",
    "    marker = dict()\n",
    "    \n",
    "    if size is not None:\n",
    "        marker[\"size\"] = size\n",
    "        marker[\"sizeref\"] = 0.01\n",
    "    if colour is not None:\n",
    "        marker[\"color\"] = colour\n",
    "        marker[\"showscale\"] = True\n",
    "        marker[\"colorbar\"] = dict(title=colour_title)\n",
    "    \n",
    "    if z is None:\n",
    "        data = go.Scatter(\n",
    "            x=x,\n",
    "            y=y,\n",
    "            mode=mode,\n",
    "            name=name,\n",
    "            text=text,\n",
    "            fill=fill,\n",
    "            marker=marker,\n",
    "        )\n",
    "    else:\n",
    "        data = go.Scatter3d(\n",
    "            x=x,\n",
    "            y=y,\n",
    "            z=z,\n",
    "            mode=mode,\n",
    "            name=name,\n",
    "            text=text,\n",
    "            marker=marker,\n",
    "        )\n",
    "\n",
    "    if x is not None and y is not None:\n",
    "        fig.add_trace(data)\n",
    "    \n",
    "    for t in traces:\n",
    "        fig.add_trace(traces[t])\n",
    "    \n",
    "    return fig\n",
    "\n",
    "def create_trace(x=None, y=None, z=None, size=None, colour=None, colour_title=\"\", name=\"\", mode=\"lines\", text=\"\", fill=None):\n",
    "    marker = dict()\n",
    "    \n",
    "    if size is not None:\n",
    "        marker[\"size\"] = size\n",
    "        marker[\"sizeref\"] = 0.01\n",
    "    if colour is not None:\n",
    "        marker[\"color\"] = colour\n",
    "        marker[\"showscale\"] = True\n",
    "        marker[\"colorbar\"] = dict(title=colour_title)\n",
    "    \n",
    "    if z is None:\n",
    "        trace = go.Scatter(\n",
    "            x=x,\n",
    "            y=y,\n",
    "            mode=mode,\n",
    "            name=name,\n",
    "            text=text,\n",
    "            fill=fill,\n",
    "            marker=marker\n",
    "        )\n",
    "    else:\n",
    "        trace = go.Scatter3d(\n",
    "            x=x,\n",
    "            y=y,\n",
    "            z=z,\n",
    "            mode=mode,\n",
    "            name=name,\n",
    "            text=text,\n",
    "            marker=marker\n",
    "        )\n",
    "    \n",
    "    return trace\n",
    "\n",
    "def plot_collection(plots, rows=1, cols=1, title=\"\", subplot_titles=[], x_labels={}, height=1000):\n",
    "    specs = [\n",
    "        [{\"type\": \"xy\"} for c in range(cols)] \n",
    "        for r in range(rows)\n",
    "    ]\n",
    "    \n",
    "    fig = make_subplots(\n",
    "        rows=rows, \n",
    "        cols=cols, \n",
    "        subplot_titles=subplot_titles,\n",
    "        specs=specs,\n",
    "    )\n",
    "    \n",
    "    fig.update_layout({\n",
    "        \"title\": title,\n",
    "        \"height\": height,\n",
    "    })\n",
    "\n",
    "    # Add traces\n",
    "    for k in plots:\n",
    "        for i in range(len(plots[k].data)):\n",
    "            fig.add_trace(plots[k].data[i], row=k[0], col=k[1])\n",
    "\n",
    "    # Update axes\n",
    "    for k in plots:\n",
    "        fig.update_xaxes(title_text=x_labels.get(k, \"\"), row=k[0], col=k[1])\n",
    "\n",
    "    return fig"
   ]
  },
  {
   "cell_type": "markdown",
   "id": "ff31406c-6a59-479a-8928-61cbc9ef9ef1",
   "metadata": {},
   "source": [
    "## Classification Task"
   ]
  },
  {
   "cell_type": "markdown",
   "id": "440baee7-df44-4e21-9ade-481167d90708",
   "metadata": {},
   "source": [
    "### Loading Data"
   ]
  },
  {
   "cell_type": "code",
   "execution_count": null,
   "id": "7836cc92-e1c2-4337-ae07-4b92b3bd33f2",
   "metadata": {},
   "outputs": [],
   "source": [
    "train_set = torchvision.datasets.FashionMNIST(root = \".\", train=True, download=True, transform=transforms.ToTensor())\n",
    "test_set = torchvision.datasets.FashionMNIST(root = \".\", train=False, download=True, transform=transforms.ToTensor())\n",
    "train_loader = torch.utils.data.DataLoader(train_set, batch_size=32, shuffle=True) \n",
    "test_loader = torch.utils.data.DataLoader(test_set, batch_size=32, shuffle=False) # Fix the seed to be able to get the same randomness across runs and\n",
    "# hence reproducible outcomes\n",
    "torch.manual_seed(0)"
   ]
  },
  {
   "cell_type": "code",
   "execution_count": null,
   "id": "40c65586-c0d5-4f76-8a0b-effb428302fd",
   "metadata": {},
   "outputs": [],
   "source": []
  }
 ],
 "metadata": {
  "kernelspec": {
   "display_name": "Python 3 (ipykernel)",
   "language": "python",
   "name": "python3"
  },
  "language_info": {
   "codemirror_mode": {
    "name": "ipython",
    "version": 3
   },
   "file_extension": ".py",
   "mimetype": "text/x-python",
   "name": "python",
   "nbconvert_exporter": "python",
   "pygments_lexer": "ipython3",
   "version": "3.9.6"
  }
 },
 "nbformat": 4,
 "nbformat_minor": 5
}
