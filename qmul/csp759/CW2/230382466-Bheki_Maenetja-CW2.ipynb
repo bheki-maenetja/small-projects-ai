{
 "cells": [
  {
   "cell_type": "markdown",
   "id": "fedfc3c8-f897-47a0-ae8b-70a577edf0e8",
   "metadata": {},
   "source": [
    "# EECS759P Coursework 2 (CNN Classification Task)\n",
    "- Name: Bheki Maenetja\n",
    "- Student ID: 230382466"
   ]
  },
  {
   "cell_type": "markdown",
   "id": "c4e4e3ac-ab5d-47e4-a156-1c06db7821e1",
   "metadata": {},
   "source": [
    "## Imports"
   ]
  },
  {
   "cell_type": "code",
   "execution_count": 1,
   "id": "b31e06bb-26a6-472a-a5e2-e17ccec62055",
   "metadata": {},
   "outputs": [
    {
     "name": "stdout",
     "output_type": "stream",
     "text": [
      "Collecting plotly\n",
      "  Using cached plotly-5.18.0-py3-none-any.whl.metadata (7.0 kB)\n",
      "Collecting tenacity>=6.2.0 (from plotly)\n",
      "  Using cached tenacity-8.2.3-py3-none-any.whl.metadata (1.0 kB)\n",
      "Requirement already satisfied: packaging in /opt/conda/lib/python3.10/site-packages (from plotly) (23.2)\n",
      "Using cached plotly-5.18.0-py3-none-any.whl (15.6 MB)\n",
      "Using cached tenacity-8.2.3-py3-none-any.whl (24 kB)\n",
      "Installing collected packages: tenacity, plotly\n",
      "Successfully installed plotly-5.18.0 tenacity-8.2.3\n"
     ]
    }
   ],
   "source": [
    "import torchvision\n",
    "import torchvision.transforms as transforms\n",
    "import torch\n",
    "import torch.nn as nn\n",
    "\n",
    "!pip install plotly\n",
    "import plotly.graph_objects as go\n",
    "from plotly.subplots import make_subplots\n",
    "import plotly.io as pio\n",
    "pio.renderers.default = \"iframe\""
   ]
  },
  {
   "cell_type": "code",
   "execution_count": 2,
   "id": "e75cb345-776c-4a95-b092-58a7526744ab",
   "metadata": {},
   "outputs": [],
   "source": [
    "device = torch.device(\"cuda:0\")"
   ]
  },
  {
   "cell_type": "markdown",
   "id": "8a0ae888-5617-48d4-9f64-0e8c14d487d1",
   "metadata": {},
   "source": [
    "## Plotting Functions"
   ]
  },
  {
   "cell_type": "code",
   "execution_count": 3,
   "id": "7b5eb9ec-25d0-4688-bb83-b7f054025b5e",
   "metadata": {},
   "outputs": [],
   "source": [
    "# Plotting functions\n",
    "def plot_data(x=None, y=None, z=None, size=None, colour=None, title=\"\", colour_title=\"\", x_label=\"\", y_label=\"\", name=\"\", mode=\"markers\", text=\"\", fill=None, **traces):\n",
    "    \"\"\"\n",
    "    General purpose function for plotting scatter plots in plotly.\n",
    "    \"\"\"\n",
    "    fig = go.Figure(layout={\n",
    "        \"title\": title,\n",
    "        \"xaxis\": {\"title\": x_label},\n",
    "        \"yaxis\": {\"title\": y_label}\n",
    "    })\n",
    "\n",
    "    marker = dict()\n",
    "    \n",
    "    if size is not None:\n",
    "        marker[\"size\"] = size\n",
    "        marker[\"sizeref\"] = 0.01\n",
    "    if colour is not None:\n",
    "        marker[\"color\"] = colour\n",
    "        marker[\"showscale\"] = True\n",
    "        marker[\"colorbar\"] = dict(title=colour_title)\n",
    "    \n",
    "    if z is None:\n",
    "        data = go.Scatter(\n",
    "            x=x,\n",
    "            y=y,\n",
    "            mode=mode,\n",
    "            name=name,\n",
    "            text=text,\n",
    "            fill=fill,\n",
    "            marker=marker,\n",
    "        )\n",
    "    else:\n",
    "        data = go.Scatter3d(\n",
    "            x=x,\n",
    "            y=y,\n",
    "            z=z,\n",
    "            mode=mode,\n",
    "            name=name,\n",
    "            text=text,\n",
    "            marker=marker,\n",
    "        )\n",
    "\n",
    "    if x is not None and y is not None:\n",
    "        fig.add_trace(data)\n",
    "    \n",
    "    for t in traces:\n",
    "        fig.add_trace(traces[t])\n",
    "    \n",
    "    return fig\n",
    "\n",
    "def create_trace(x=None, y=None, z=None, size=None, colour=None, colour_title=\"\", name=\"\", mode=\"lines\", text=\"\", fill=None):\n",
    "    marker = dict()\n",
    "    \n",
    "    if size is not None:\n",
    "        marker[\"size\"] = size\n",
    "        marker[\"sizeref\"] = 0.01\n",
    "    if colour is not None:\n",
    "        marker[\"color\"] = colour\n",
    "        marker[\"showscale\"] = True\n",
    "        marker[\"colorbar\"] = dict(title=colour_title)\n",
    "    \n",
    "    if z is None:\n",
    "        trace = go.Scatter(\n",
    "            x=x,\n",
    "            y=y,\n",
    "            mode=mode,\n",
    "            name=name,\n",
    "            text=text,\n",
    "            fill=fill,\n",
    "            marker=marker\n",
    "        )\n",
    "    else:\n",
    "        trace = go.Scatter3d(\n",
    "            x=x,\n",
    "            y=y,\n",
    "            z=z,\n",
    "            mode=mode,\n",
    "            name=name,\n",
    "            text=text,\n",
    "            marker=marker\n",
    "        )\n",
    "    \n",
    "    return trace\n",
    "\n",
    "def plot_collection(plots, rows=1, cols=1, title=\"\", subplot_titles=[], x_labels={}, y_labels={}, height=1000):\n",
    "    specs = [\n",
    "        [{\"type\": \"xy\"} for c in range(cols)] \n",
    "        for r in range(rows)\n",
    "    ]\n",
    "    \n",
    "    fig = make_subplots(\n",
    "        rows=rows, \n",
    "        cols=cols, \n",
    "        subplot_titles=subplot_titles,\n",
    "        specs=specs,\n",
    "    )\n",
    "    \n",
    "    fig.update_layout({\n",
    "        \"title\": title,\n",
    "        \"height\": height,\n",
    "    })\n",
    "\n",
    "    # Add traces\n",
    "    for k in plots:\n",
    "        for i in range(len(plots[k].data)):\n",
    "            fig.add_trace(plots[k].data[i], row=k[0], col=k[1])\n",
    "\n",
    "    # Update axes\n",
    "    for k in plots:\n",
    "        fig.update_xaxes(title_text=x_labels.get(k, \"\"), row=k[0], col=k[1])\n",
    "        fig.update_yaxes(title_text=y_labels.get(k, \"\"), row=k[0], col=k[1])\n",
    "\n",
    "    return fig\n",
    "\n",
    "def plot_model_results(loss_per_epoch, train_acc, test_acc, num_epochs, title=\"\"):\n",
    "    x = [i for i in range(1, num_epochs + 1)]\n",
    "\n",
    "    loss_plot = plot_data(\n",
    "        x,\n",
    "        loss_per_epoch,\n",
    "        name=\"Train Loss per Epoch\", \n",
    "        mode=\"lines\",\n",
    "    )\n",
    "\n",
    "    train_trace = create_trace(x, train_acc, name=\"Training Set Accuracy (%)\")\n",
    "    test_trace = create_trace(x, test_acc, name=\"Test Set Accuracy (%)\")\n",
    "\n",
    "    train_test_plot = plot_data(t1=train_trace, t2=test_trace)\n",
    "\n",
    "    plots = {\n",
    "        (1,1): train_test_plot,\n",
    "        (2,1): loss_plot,\n",
    "    }\n",
    "\n",
    "    subplot_titles = [\"Train and Test Set Accuracy\", \"Train Loss per Epoch\"]\n",
    "    x_labels = {(1,1): \"Epochs\", (2,1): \"Epochs\"}\n",
    "    y_labels = {(1,1): \"Accuracy (%)\", (2,1): \"Loss\"}\n",
    "    \n",
    "    return plot_collection(plots, 2, 1, title, subplot_titles, x_labels, y_labels, 800)"
   ]
  },
  {
   "cell_type": "markdown",
   "id": "440baee7-df44-4e21-9ade-481167d90708",
   "metadata": {},
   "source": [
    "## Loading Data"
   ]
  },
  {
   "cell_type": "code",
   "execution_count": 4,
   "id": "7836cc92-e1c2-4337-ae07-4b92b3bd33f2",
   "metadata": {},
   "outputs": [
    {
     "name": "stdout",
     "output_type": "stream",
     "text": [
      "Downloading http://fashion-mnist.s3-website.eu-central-1.amazonaws.com/train-images-idx3-ubyte.gz\n",
      "Downloading http://fashion-mnist.s3-website.eu-central-1.amazonaws.com/train-images-idx3-ubyte.gz to ./FashionMNIST/raw/train-images-idx3-ubyte.gz\n"
     ]
    },
    {
     "name": "stderr",
     "output_type": "stream",
     "text": [
      "100%|██████████| 26421880/26421880 [00:02<00:00, 9495661.54it/s] \n"
     ]
    },
    {
     "name": "stdout",
     "output_type": "stream",
     "text": [
      "Extracting ./FashionMNIST/raw/train-images-idx3-ubyte.gz to ./FashionMNIST/raw\n",
      "\n",
      "Downloading http://fashion-mnist.s3-website.eu-central-1.amazonaws.com/train-labels-idx1-ubyte.gz\n",
      "Downloading http://fashion-mnist.s3-website.eu-central-1.amazonaws.com/train-labels-idx1-ubyte.gz to ./FashionMNIST/raw/train-labels-idx1-ubyte.gz\n"
     ]
    },
    {
     "name": "stderr",
     "output_type": "stream",
     "text": [
      "100%|██████████| 29515/29515 [00:00<00:00, 1851110.75it/s]"
     ]
    },
    {
     "name": "stdout",
     "output_type": "stream",
     "text": [
      "Extracting ./FashionMNIST/raw/train-labels-idx1-ubyte.gz to ./FashionMNIST/raw\n",
      "\n",
      "Downloading http://fashion-mnist.s3-website.eu-central-1.amazonaws.com/t10k-images-idx3-ubyte.gz\n"
     ]
    },
    {
     "name": "stderr",
     "output_type": "stream",
     "text": [
      "\n"
     ]
    },
    {
     "name": "stdout",
     "output_type": "stream",
     "text": [
      "Downloading http://fashion-mnist.s3-website.eu-central-1.amazonaws.com/t10k-images-idx3-ubyte.gz to ./FashionMNIST/raw/t10k-images-idx3-ubyte.gz\n"
     ]
    },
    {
     "name": "stderr",
     "output_type": "stream",
     "text": [
      "100%|██████████| 4422102/4422102 [00:01<00:00, 2868008.45it/s]\n"
     ]
    },
    {
     "name": "stdout",
     "output_type": "stream",
     "text": [
      "Extracting ./FashionMNIST/raw/t10k-images-idx3-ubyte.gz to ./FashionMNIST/raw\n",
      "\n",
      "Downloading http://fashion-mnist.s3-website.eu-central-1.amazonaws.com/t10k-labels-idx1-ubyte.gz\n",
      "Downloading http://fashion-mnist.s3-website.eu-central-1.amazonaws.com/t10k-labels-idx1-ubyte.gz to ./FashionMNIST/raw/t10k-labels-idx1-ubyte.gz\n"
     ]
    },
    {
     "name": "stderr",
     "output_type": "stream",
     "text": [
      "100%|██████████| 5148/5148 [00:00<00:00, 20682257.66it/s]"
     ]
    },
    {
     "name": "stdout",
     "output_type": "stream",
     "text": [
      "Extracting ./FashionMNIST/raw/t10k-labels-idx1-ubyte.gz to ./FashionMNIST/raw\n",
      "\n"
     ]
    },
    {
     "name": "stderr",
     "output_type": "stream",
     "text": [
      "\n"
     ]
    },
    {
     "data": {
      "text/plain": [
       "<torch._C.Generator at 0x7f88c831b670>"
      ]
     },
     "execution_count": 4,
     "metadata": {},
     "output_type": "execute_result"
    }
   ],
   "source": [
    "train_set = torchvision.datasets.FashionMNIST(root = \".\", train=True, download=True, transform=transforms.ToTensor())\n",
    "test_set = torchvision.datasets.FashionMNIST(root = \".\", train=False, download=True, transform=transforms.ToTensor())\n",
    "train_loader = torch.utils.data.DataLoader(train_set, batch_size=32, shuffle=True) \n",
    "test_loader = torch.utils.data.DataLoader(test_set, batch_size=32, shuffle=False) \n",
    "torch.manual_seed(0)"
   ]
  },
  {
   "cell_type": "markdown",
   "id": "2bf46294-6c42-4a0f-b7c3-75bd7a52576f",
   "metadata": {},
   "source": [
    "## CNN Setup"
   ]
  },
  {
   "cell_type": "markdown",
   "id": "c55a034c-acfb-423d-a3cb-59f413be85a7",
   "metadata": {},
   "source": [
    "### FashionCNN Class"
   ]
  },
  {
   "cell_type": "code",
   "execution_count": 5,
   "id": "4d2b5d92-fb49-435b-9747-aab5b52e2920",
   "metadata": {},
   "outputs": [],
   "source": [
    "def initialise_weights(m):\n",
    "    if isinstance(m, nn.Linear) or isinstance(m, nn.Conv2d):\n",
    "        torch.nn.init.xavier_normal_(m.weight)\n",
    "\n",
    "class FashionCNN(nn.Module):\n",
    "    def __init__(self, activ=\"relu\"):\n",
    "        super(FashionCNN, self).__init__()\n",
    "\n",
    "        activ_funcs = {\n",
    "            \"relu\": nn.ReLU,\n",
    "            \"sigmoid\": nn.Sigmoid,\n",
    "            \"elu\": nn.ELU,\n",
    "            \"tanh\": nn.Tanh, \n",
    "        }\n",
    "        \n",
    "        self.network = nn.Sequential(\n",
    "            nn.Conv2d(1, 32, kernel_size=5, stride=1),\n",
    "            activ_funcs[activ](),\n",
    "            nn.MaxPool2d(kernel_size=2, stride=2),\n",
    "            nn.Conv2d(32, 64, kernel_size=5, stride=1),\n",
    "            activ_funcs[activ](),\n",
    "            nn.MaxPool2d(kernel_size=2, stride=2),\n",
    "            nn.Flatten(),\n",
    "            nn.Linear(1024, 1024),\n",
    "            activ_funcs[activ](),\n",
    "            nn.Linear(1024, 256),\n",
    "            activ_funcs[activ](),\n",
    "            nn.Linear(256, 10)\n",
    "        )\n",
    "\n",
    "        self.network.apply(initialise_weights)\n",
    "\n",
    "    def forward(self, x):\n",
    "        return self.network(x)"
   ]
  },
  {
   "cell_type": "markdown",
   "id": "eafa1b51-2fcd-45b3-a068-01306d64e394",
   "metadata": {},
   "source": [
    "### Evaluation"
   ]
  },
  {
   "cell_type": "code",
   "execution_count": 6,
   "id": "353b3306-1823-4bc4-8331-f3623766286a",
   "metadata": {},
   "outputs": [],
   "source": [
    "def evaluation(model, dataloader, device):\n",
    "    total, correct = 0,0\n",
    "    model.eval()\n",
    "    \n",
    "    for data in dataloader:\n",
    "        inputs, labels = data\n",
    "        inputs, labels = inputs.to(device), labels.to(device)\n",
    "        outputs = model(inputs)\n",
    "        _, pred = torch.max(outputs.data, 1)\n",
    "        total += labels.size(0)\n",
    "        correct += (pred == labels).sum().item()\n",
    "    \n",
    "    return 100 * correct / total"
   ]
  },
  {
   "cell_type": "markdown",
   "id": "61f4c470-f44e-4186-b326-417b642a8024",
   "metadata": {},
   "source": [
    "### Training Function"
   ]
  },
  {
   "cell_type": "code",
   "execution_count": 7,
   "id": "53987e99-7eb0-4656-b8c6-dc1e03d69de1",
   "metadata": {},
   "outputs": [],
   "source": [
    "def train_model(model, train_loader, test_loader, device, alpha=0.1, max_epochs=30):\n",
    "    loss_fn = nn.CrossEntropyLoss()\n",
    "    loss_fn.to(device)\n",
    "    opt = torch.optim.SGD(list(model.parameters()), lr=alpha)\n",
    "\n",
    "    loss_per_epoch = []\n",
    "    epoch_sum = 0\n",
    "    train_acc = []\n",
    "    test_acc = []\n",
    "    \n",
    "    for e in range(max_epochs):\n",
    "        epoch_sum = 0\n",
    "        \n",
    "        for i, data in enumerate(train_loader, 0):\n",
    "            model.train()\n",
    "            inputs, labels = data\n",
    "            inputs, labels = inputs.to(device), labels.to(device)\n",
    "            \n",
    "            # zero the gradients\n",
    "            opt.zero_grad()\n",
    "            outputs = model(inputs)\n",
    "            \n",
    "            # calculate loss\n",
    "            loss = loss_fn(outputs, labels)\n",
    "            \n",
    "            # calculate gradients\n",
    "            loss.backward()\n",
    "            \n",
    "            # update the parameters and sum loss\n",
    "            opt.step()\n",
    "            epoch_sum += loss.item()\n",
    "\n",
    "        loss_per_epoch.append(epoch_sum)\n",
    "        train_acc.append(evaluation(model, train_loader, device))\n",
    "        test_acc.append(evaluation(model, test_loader, device))\n",
    "        print(f\"Epoch {e+1} | Avg Loss: {loss_per_epoch[-1]} | Train accuracy: {train_acc[-1]}% | Test accuracy: {test_acc[-1]}%\")\n",
    "    \n",
    "    return loss_per_epoch, train_acc, test_acc"
   ]
  },
  {
   "cell_type": "markdown",
   "id": "2c4b4cd7-520f-4a63-b8af-272ca1f06e26",
   "metadata": {},
   "source": [
    "## Training Model with ReLU Activation Function"
   ]
  },
  {
   "cell_type": "code",
   "execution_count": 8,
   "id": "e4efb0ed-44ba-453e-9af4-a2421c646e94",
   "metadata": {},
   "outputs": [],
   "source": [
    "cnn = FashionCNN().to(device)"
   ]
  },
  {
   "cell_type": "code",
   "execution_count": 9,
   "id": "bfa51fd7-7ef0-4d00-8c62-dd3f2c6a1dea",
   "metadata": {},
   "outputs": [
    {
     "name": "stdout",
     "output_type": "stream",
     "text": [
      "Epoch 1 | Avg Loss: 982.2783040106297 | Train accuracy: 85.25666666666666% | Test accuracy: 84.05%\n",
      "Epoch 2 | Avg Loss: 603.7103692032397 | Train accuracy: 89.63666666666667% | Test accuracy: 88.3%\n",
      "Epoch 3 | Avg Loss: 516.7858955785632 | Train accuracy: 89.715% | Test accuracy: 87.77%\n",
      "Epoch 4 | Avg Loss: 457.7700344948098 | Train accuracy: 91.665% | Test accuracy: 89.47%\n",
      "Epoch 5 | Avg Loss: 412.69372685533017 | Train accuracy: 90.005% | Test accuracy: 87.67%\n",
      "Epoch 6 | Avg Loss: 372.7990749385208 | Train accuracy: 93.43833333333333% | Test accuracy: 90.03%\n",
      "Epoch 7 | Avg Loss: 335.88684516586363 | Train accuracy: 94.53333333333333% | Test accuracy: 90.76%\n",
      "Epoch 8 | Avg Loss: 302.2919168684166 | Train accuracy: 94.76333333333334% | Test accuracy: 90.7%\n",
      "Epoch 9 | Avg Loss: 272.27950173430145 | Train accuracy: 95.435% | Test accuracy: 90.88%\n",
      "Epoch 10 | Avg Loss: 242.6769332191907 | Train accuracy: 95.61166666666666% | Test accuracy: 90.58%\n",
      "Epoch 11 | Avg Loss: 221.1347940431442 | Train accuracy: 96.40333333333334% | Test accuracy: 90.62%\n",
      "Epoch 12 | Avg Loss: 196.52999950479716 | Train accuracy: 96.225% | Test accuracy: 90.47%\n",
      "Epoch 13 | Avg Loss: 181.78043989487924 | Train accuracy: 96.76833333333333% | Test accuracy: 90.54%\n",
      "Epoch 14 | Avg Loss: 160.06346117210342 | Train accuracy: 96.73% | Test accuracy: 90.37%\n",
      "Epoch 15 | Avg Loss: 148.41255495810765 | Train accuracy: 97.575% | Test accuracy: 91.23%\n",
      "Epoch 16 | Avg Loss: 139.7046418794489 | Train accuracy: 98.165% | Test accuracy: 91.22%\n",
      "Epoch 17 | Avg Loss: 115.14531959501619 | Train accuracy: 97.33166666666666% | Test accuracy: 90.76%\n",
      "Epoch 18 | Avg Loss: 105.16221906803548 | Train accuracy: 98.50333333333333% | Test accuracy: 91.72%\n",
      "Epoch 19 | Avg Loss: 103.85782346295309 | Train accuracy: 97.515% | Test accuracy: 90.65%\n",
      "Epoch 20 | Avg Loss: 89.43566138781898 | Train accuracy: 98.535% | Test accuracy: 90.7%\n",
      "Epoch 21 | Avg Loss: 80.1201929527233 | Train accuracy: 99.05% | Test accuracy: 90.88%\n",
      "Epoch 22 | Avg Loss: 84.83301755384309 | Train accuracy: 98.35166666666667% | Test accuracy: 90.95%\n",
      "Epoch 23 | Avg Loss: 74.75823355109424 | Train accuracy: 98.84833333333333% | Test accuracy: 90.96%\n",
      "Epoch 24 | Avg Loss: 68.98963241692218 | Train accuracy: 98.64333333333333% | Test accuracy: 90.61%\n",
      "Epoch 25 | Avg Loss: 82.80663135741634 | Train accuracy: 98.49666666666667% | Test accuracy: 90.6%\n",
      "Epoch 26 | Avg Loss: 73.61903461373004 | Train accuracy: 98.67333333333333% | Test accuracy: 90.54%\n",
      "Epoch 27 | Avg Loss: 59.704476069620796 | Train accuracy: 99.215% | Test accuracy: 91.24%\n",
      "Epoch 28 | Avg Loss: 46.34573150861934 | Train accuracy: 99.18833333333333% | Test accuracy: 91.06%\n",
      "Epoch 29 | Avg Loss: 41.96078770112945 | Train accuracy: 99.17166666666667% | Test accuracy: 91.22%\n",
      "Epoch 30 | Avg Loss: 35.03617688754957 | Train accuracy: 99.635% | Test accuracy: 91.38%\n"
     ]
    }
   ],
   "source": [
    "loss_per_epoch, train_acc, test_acc = train_model(cnn, train_loader, test_loader, device)\n",
    "final_train_acc, final_test_acc = train_acc[-1], test_acc[-1]"
   ]
  },
  {
   "cell_type": "code",
   "execution_count": 10,
   "id": "b31bcf3e-dd93-45aa-950a-5d6ba5d1d115",
   "metadata": {},
   "outputs": [
    {
     "name": "stdout",
     "output_type": "stream",
     "text": [
      "Final training set accuracy: 99.635%\n",
      "Final test set accuracy: 91.38%\n"
     ]
    },
    {
     "data": {
      "text/html": [
       "<iframe\n",
       "    scrolling=\"no\"\n",
       "    width=\"100%\"\n",
       "    height=\"820\"\n",
       "    src=\"iframe_figures/figure_10.html\"\n",
       "    frameborder=\"0\"\n",
       "    allowfullscreen\n",
       "></iframe>\n"
      ]
     },
     "metadata": {},
     "output_type": "display_data"
    }
   ],
   "source": [
    "model_results = plot_model_results(loss_per_epoch, train_acc, test_acc, 30, \"CNN Model | Activation = ReLU | lr = 0.1\")\n",
    "print(f\"Final training set accuracy: {final_train_acc}%\")\n",
    "print(f\"Final test set accuracy: {final_test_acc}%\")\n",
    "model_results"
   ]
  },
  {
   "cell_type": "markdown",
   "id": "fdea8d45-9f98-4301-9d16-60de7a8ffaee",
   "metadata": {},
   "source": [
    "## Activation Function Experiments"
   ]
  },
  {
   "cell_type": "markdown",
   "id": "37c54992-925c-4ad7-9ddc-e7b386fbfbf7",
   "metadata": {},
   "source": [
    "### Tanh"
   ]
  },
  {
   "cell_type": "code",
   "execution_count": 11,
   "id": "54d3a3ea-feb7-4a5d-9782-5d651374f42c",
   "metadata": {},
   "outputs": [],
   "source": [
    "cnn = FashionCNN(\"tanh\").to(device)"
   ]
  },
  {
   "cell_type": "code",
   "execution_count": 12,
   "id": "930d7062-482e-41c7-af09-53416bab37a4",
   "metadata": {},
   "outputs": [
    {
     "name": "stdout",
     "output_type": "stream",
     "text": [
      "Epoch 1 | Avg Loss: 854.605089019984 | Train accuracy: 87.97333333333333% | Test accuracy: 86.76%\n",
      "Epoch 2 | Avg Loss: 592.2816543094814 | Train accuracy: 90.08166666666666% | Test accuracy: 88.24%\n",
      "Epoch 3 | Avg Loss: 498.939854292199 | Train accuracy: 92.06333333333333% | Test accuracy: 89.45%\n",
      "Epoch 4 | Avg Loss: 435.2393306400627 | Train accuracy: 92.72166666666666% | Test accuracy: 89.92%\n",
      "Epoch 5 | Avg Loss: 382.2737003536895 | Train accuracy: 93.795% | Test accuracy: 90.11%\n",
      "Epoch 6 | Avg Loss: 334.7989274971187 | Train accuracy: 94.29166666666667% | Test accuracy: 90.23%\n",
      "Epoch 7 | Avg Loss: 292.9974843636155 | Train accuracy: 95.27666666666667% | Test accuracy: 90.38%\n",
      "Epoch 8 | Avg Loss: 255.68627816345543 | Train accuracy: 96.37166666666667% | Test accuracy: 90.69%\n",
      "Epoch 9 | Avg Loss: 214.91074083698913 | Train accuracy: 96.15333333333334% | Test accuracy: 90.44%\n",
      "Epoch 10 | Avg Loss: 185.854549651267 | Train accuracy: 97.35% | Test accuracy: 90.8%\n",
      "Epoch 11 | Avg Loss: 149.7803594477009 | Train accuracy: 97.87333333333333% | Test accuracy: 91.23%\n",
      "Epoch 12 | Avg Loss: 123.80280748405494 | Train accuracy: 98.305% | Test accuracy: 91.37%\n",
      "Epoch 13 | Avg Loss: 101.66867149993777 | Train accuracy: 97.92333333333333% | Test accuracy: 90.86%\n",
      "Epoch 14 | Avg Loss: 83.65068887922098 | Train accuracy: 99.19666666666667% | Test accuracy: 91.78%\n",
      "Epoch 15 | Avg Loss: 59.482368652301375 | Train accuracy: 98.86166666666666% | Test accuracy: 91.2%\n",
      "Epoch 16 | Avg Loss: 43.91580454973155 | Train accuracy: 99.13333333333334% | Test accuracy: 91.06%\n",
      "Epoch 17 | Avg Loss: 30.9389816957555 | Train accuracy: 99.43833333333333% | Test accuracy: 91.2%\n",
      "Epoch 18 | Avg Loss: 18.729978428120376 | Train accuracy: 99.91666666666667% | Test accuracy: 91.62%\n",
      "Epoch 19 | Avg Loss: 7.987591139295546 | Train accuracy: 99.99666666666667% | Test accuracy: 91.83%\n",
      "Epoch 20 | Avg Loss: 3.592602693832305 | Train accuracy: 100.0% | Test accuracy: 91.79%\n",
      "Epoch 21 | Avg Loss: 2.34745044043666 | Train accuracy: 100.0% | Test accuracy: 91.81%\n",
      "Epoch 22 | Avg Loss: 1.8960805186979997 | Train accuracy: 100.0% | Test accuracy: 91.9%\n",
      "Epoch 23 | Avg Loss: 1.6167602694422385 | Train accuracy: 100.0% | Test accuracy: 91.83%\n",
      "Epoch 24 | Avg Loss: 1.4337902321803995 | Train accuracy: 100.0% | Test accuracy: 91.95%\n",
      "Epoch 25 | Avg Loss: 1.2832476139501523 | Train accuracy: 100.0% | Test accuracy: 91.9%\n",
      "Epoch 26 | Avg Loss: 1.1661017869128045 | Train accuracy: 100.0% | Test accuracy: 91.92%\n",
      "Epoch 27 | Avg Loss: 1.0715397653866603 | Train accuracy: 100.0% | Test accuracy: 91.93%\n",
      "Epoch 28 | Avg Loss: 0.9889903007428984 | Train accuracy: 100.0% | Test accuracy: 91.92%\n",
      "Epoch 29 | Avg Loss: 0.9227572657446217 | Train accuracy: 100.0% | Test accuracy: 91.96%\n",
      "Epoch 30 | Avg Loss: 0.8621206880570753 | Train accuracy: 100.0% | Test accuracy: 91.97%\n"
     ]
    }
   ],
   "source": [
    "loss_per_epoch, train_acc, test_acc = train_model(cnn, train_loader, test_loader, device)\n",
    "final_train_acc, final_test_acc = train_acc[-1], test_acc[-1]"
   ]
  },
  {
   "cell_type": "code",
   "execution_count": 13,
   "id": "0090bdbd-5879-4635-abe1-58ec935b7d32",
   "metadata": {},
   "outputs": [
    {
     "name": "stdout",
     "output_type": "stream",
     "text": [
      "Final training set accuracy: 100.0%\n",
      "Final test set accuracy: 91.97%\n"
     ]
    },
    {
     "data": {
      "text/html": [
       "<iframe\n",
       "    scrolling=\"no\"\n",
       "    width=\"100%\"\n",
       "    height=\"820\"\n",
       "    src=\"iframe_figures/figure_13.html\"\n",
       "    frameborder=\"0\"\n",
       "    allowfullscreen\n",
       "></iframe>\n"
      ]
     },
     "metadata": {},
     "output_type": "display_data"
    }
   ],
   "source": [
    "model_results = plot_model_results(loss_per_epoch, train_acc, test_acc, 30, \"CNN Model | Activation = Tanh | lr = 0.1\")\n",
    "print(f\"Final training set accuracy: {final_train_acc}%\")\n",
    "print(f\"Final test set accuracy: {final_test_acc}%\")\n",
    "model_results"
   ]
  },
  {
   "cell_type": "markdown",
   "id": "22474ba0-79e5-4c9a-8d42-079f417a3fb1",
   "metadata": {},
   "source": [
    "### Sigmoid"
   ]
  },
  {
   "cell_type": "code",
   "execution_count": 14,
   "id": "13504ad1-8010-493f-a5a1-357b2c2270db",
   "metadata": {},
   "outputs": [],
   "source": [
    "cnn = FashionCNN(\"sigmoid\").to(device)"
   ]
  },
  {
   "cell_type": "code",
   "execution_count": 15,
   "id": "a06702ba-5760-42ef-bdb7-03bfb23beba2",
   "metadata": {},
   "outputs": [
    {
     "name": "stdout",
     "output_type": "stream",
     "text": [
      "Epoch 1 | Avg Loss: 4341.392775774002 | Train accuracy: 11.193333333333333% | Test accuracy: 11.29%\n",
      "Epoch 2 | Avg Loss: 4319.921472787857 | Train accuracy: 10.0% | Test accuracy: 10.0%\n",
      "Epoch 3 | Avg Loss: 4318.466068029404 | Train accuracy: 10.0% | Test accuracy: 10.0%\n",
      "Epoch 4 | Avg Loss: 3682.38457685709 | Train accuracy: 58.2% | Test accuracy: 58.43%\n",
      "Epoch 5 | Avg Loss: 1626.8939182162285 | Train accuracy: 71.35666666666667% | Test accuracy: 70.68%\n",
      "Epoch 6 | Avg Loss: 1312.1370842456818 | Train accuracy: 72.37333333333333% | Test accuracy: 71.53%\n",
      "Epoch 7 | Avg Loss: 1185.5659764707088 | Train accuracy: 76.79% | Test accuracy: 76.07%\n",
      "Epoch 8 | Avg Loss: 1091.5741476267576 | Train accuracy: 79.43666666666667% | Test accuracy: 78.47%\n",
      "Epoch 9 | Avg Loss: 1004.1939530521631 | Train accuracy: 80.75166666666667% | Test accuracy: 79.91%\n",
      "Epoch 10 | Avg Loss: 932.3501322865486 | Train accuracy: 81.0% | Test accuracy: 80.28%\n",
      "Epoch 11 | Avg Loss: 873.5508016645908 | Train accuracy: 83.27166666666666% | Test accuracy: 82.1%\n",
      "Epoch 12 | Avg Loss: 826.2713508605957 | Train accuracy: 84.15666666666667% | Test accuracy: 82.72%\n",
      "Epoch 13 | Avg Loss: 785.7199033051729 | Train accuracy: 85.59333333333333% | Test accuracy: 84.36%\n",
      "Epoch 14 | Avg Loss: 750.2725905068219 | Train accuracy: 86.14333333333333% | Test accuracy: 84.66%\n",
      "Epoch 15 | Avg Loss: 721.0613189712167 | Train accuracy: 85.67333333333333% | Test accuracy: 84.52%\n",
      "Epoch 16 | Avg Loss: 695.1768039017916 | Train accuracy: 86.67166666666667% | Test accuracy: 85.42%\n",
      "Epoch 17 | Avg Loss: 672.4259309917688 | Train accuracy: 87.25833333333334% | Test accuracy: 85.65%\n",
      "Epoch 18 | Avg Loss: 653.0091058909893 | Train accuracy: 87.87833333333333% | Test accuracy: 86.58%\n",
      "Epoch 19 | Avg Loss: 634.8535062894225 | Train accuracy: 87.705% | Test accuracy: 86.35%\n",
      "Epoch 20 | Avg Loss: 618.7882820107043 | Train accuracy: 88.44666666666667% | Test accuracy: 87.24%\n",
      "Epoch 21 | Avg Loss: 605.408085566014 | Train accuracy: 85.86166666666666% | Test accuracy: 84.43%\n",
      "Epoch 22 | Avg Loss: 593.2220705393702 | Train accuracy: 88.8% | Test accuracy: 87.43%\n",
      "Epoch 23 | Avg Loss: 581.6225578188896 | Train accuracy: 89.11% | Test accuracy: 87.47%\n",
      "Epoch 24 | Avg Loss: 570.0169647037983 | Train accuracy: 89.4% | Test accuracy: 87.98%\n",
      "Epoch 25 | Avg Loss: 559.2320234403014 | Train accuracy: 89.33666666666667% | Test accuracy: 88.01%\n",
      "Epoch 26 | Avg Loss: 550.9423589408398 | Train accuracy: 89.05166666666666% | Test accuracy: 88.04%\n",
      "Epoch 27 | Avg Loss: 541.7164897583425 | Train accuracy: 89.85333333333334% | Test accuracy: 88.54%\n",
      "Epoch 28 | Avg Loss: 532.7000040635467 | Train accuracy: 89.14833333333333% | Test accuracy: 88.05%\n",
      "Epoch 29 | Avg Loss: 525.1427706070244 | Train accuracy: 89.47166666666666% | Test accuracy: 88.19%\n",
      "Epoch 30 | Avg Loss: 516.0346263833344 | Train accuracy: 90.49833333333333% | Test accuracy: 88.95%\n"
     ]
    }
   ],
   "source": [
    "loss_per_epoch, train_acc, test_acc = train_model(cnn, train_loader, test_loader, device)\n",
    "final_train_acc, final_test_acc = train_acc[-1], test_acc[-1]"
   ]
  },
  {
   "cell_type": "code",
   "execution_count": 16,
   "id": "4d4ba014-9f82-4fce-abf3-82bbe9459e40",
   "metadata": {},
   "outputs": [
    {
     "name": "stdout",
     "output_type": "stream",
     "text": [
      "Final training set accuracy: 90.49833333333333%\n",
      "Final test set accuracy: 88.95%\n"
     ]
    },
    {
     "data": {
      "text/html": [
       "<iframe\n",
       "    scrolling=\"no\"\n",
       "    width=\"100%\"\n",
       "    height=\"820\"\n",
       "    src=\"iframe_figures/figure_16.html\"\n",
       "    frameborder=\"0\"\n",
       "    allowfullscreen\n",
       "></iframe>\n"
      ]
     },
     "metadata": {},
     "output_type": "display_data"
    }
   ],
   "source": [
    "model_results = plot_model_results(loss_per_epoch, train_acc, test_acc, 30, \"CNN Model | Activation = Sigmoid | lr = 0.1\")\n",
    "print(f\"Final training set accuracy: {final_train_acc}%\")\n",
    "print(f\"Final test set accuracy: {final_test_acc}%\")\n",
    "model_results"
   ]
  },
  {
   "cell_type": "markdown",
   "id": "7d94d562-6645-46ae-9bd4-c058dd364eed",
   "metadata": {},
   "source": [
    "### ELU"
   ]
  },
  {
   "cell_type": "code",
   "execution_count": 17,
   "id": "3e7d70ef-8df4-4af3-9da2-c4f63e1c10c0",
   "metadata": {},
   "outputs": [],
   "source": [
    "cnn = FashionCNN(\"elu\").to(device)"
   ]
  },
  {
   "cell_type": "code",
   "execution_count": 18,
   "id": "2a2d7e72-af15-4a0f-bf0d-40eb14d0d3fb",
   "metadata": {},
   "outputs": [
    {
     "name": "stdout",
     "output_type": "stream",
     "text": [
      "Epoch 1 | Avg Loss: 856.5697724595666 | Train accuracy: 86.53833333333333% | Test accuracy: 85.57%\n",
      "Epoch 2 | Avg Loss: 596.8349646981806 | Train accuracy: 89.63666666666667% | Test accuracy: 87.78%\n",
      "Epoch 3 | Avg Loss: 516.8152543641627 | Train accuracy: 90.58166666666666% | Test accuracy: 88.86%\n",
      "Epoch 4 | Avg Loss: 456.6759979929775 | Train accuracy: 91.63% | Test accuracy: 89.16%\n",
      "Epoch 5 | Avg Loss: 405.77933490276337 | Train accuracy: 91.28333333333333% | Test accuracy: 88.1%\n",
      "Epoch 6 | Avg Loss: 365.34776903968304 | Train accuracy: 94.04666666666667% | Test accuracy: 90.61%\n",
      "Epoch 7 | Avg Loss: 329.3324193779845 | Train accuracy: 94.40333333333334% | Test accuracy: 90.45%\n",
      "Epoch 8 | Avg Loss: 292.1662284345366 | Train accuracy: 95.235% | Test accuracy: 90.42%\n",
      "Epoch 9 | Avg Loss: 262.38768375176005 | Train accuracy: 95.48% | Test accuracy: 90.22%\n",
      "Epoch 10 | Avg Loss: 238.4174714521505 | Train accuracy: 95.98166666666667% | Test accuracy: 90.42%\n",
      "Epoch 11 | Avg Loss: 210.08732732664794 | Train accuracy: 95.78166666666667% | Test accuracy: 89.98%\n",
      "Epoch 12 | Avg Loss: 186.6321435988648 | Train accuracy: 96.365% | Test accuracy: 90.39%\n",
      "Epoch 13 | Avg Loss: 177.44278601102997 | Train accuracy: 96.95333333333333% | Test accuracy: 90.71%\n",
      "Epoch 14 | Avg Loss: 169.45604305382585 | Train accuracy: 97.64% | Test accuracy: 90.99%\n",
      "Epoch 15 | Avg Loss: 154.22179650797625 | Train accuracy: 96.86833333333334% | Test accuracy: 89.7%\n",
      "Epoch 16 | Avg Loss: 133.82616568601225 | Train accuracy: 98.11333333333333% | Test accuracy: 90.81%\n",
      "Epoch 17 | Avg Loss: 122.8836528604952 | Train accuracy: 97.695% | Test accuracy: 90.61%\n",
      "Epoch 18 | Avg Loss: 112.45852105445374 | Train accuracy: 97.85666666666667% | Test accuracy: 90.38%\n",
      "Epoch 19 | Avg Loss: 101.53596773162644 | Train accuracy: 98.64333333333333% | Test accuracy: 91.11%\n",
      "Epoch 20 | Avg Loss: 119.46585655740637 | Train accuracy: 98.45666666666666% | Test accuracy: 90.68%\n",
      "Epoch 21 | Avg Loss: 111.41727773359071 | Train accuracy: 98.70333333333333% | Test accuracy: 90.72%\n",
      "Epoch 22 | Avg Loss: 101.26531560521926 | Train accuracy: 98.07833333333333% | Test accuracy: 90.13%\n",
      "Epoch 23 | Avg Loss: 72.32829326459114 | Train accuracy: 98.68% | Test accuracy: 90.9%\n",
      "Epoch 24 | Avg Loss: 71.41825348569114 | Train accuracy: 98.75833333333334% | Test accuracy: 91.05%\n",
      "Epoch 25 | Avg Loss: 102.56174921729144 | Train accuracy: 98.13333333333334% | Test accuracy: 90.65%\n",
      "Epoch 26 | Avg Loss: 106.91612073922079 | Train accuracy: 98.82166666666667% | Test accuracy: 90.73%\n",
      "Epoch 27 | Avg Loss: 83.74958948792738 | Train accuracy: 99.00833333333334% | Test accuracy: 90.54%\n",
      "Epoch 28 | Avg Loss: 87.09383811422072 | Train accuracy: 98.56666666666666% | Test accuracy: 90.52%\n",
      "Epoch 29 | Avg Loss: 83.67010594257454 | Train accuracy: 98.68166666666667% | Test accuracy: 90.22%\n",
      "Epoch 30 | Avg Loss: 83.5947647546302 | Train accuracy: 98.62166666666667% | Test accuracy: 90.53%\n"
     ]
    }
   ],
   "source": [
    "loss_per_epoch, train_acc, test_acc = train_model(cnn, train_loader, test_loader, device)\n",
    "final_train_acc, final_test_acc = train_acc[-1], test_acc[-1]"
   ]
  },
  {
   "cell_type": "code",
   "execution_count": 19,
   "id": "d8b46800-802d-4f59-b431-7babb11d97e4",
   "metadata": {},
   "outputs": [
    {
     "name": "stdout",
     "output_type": "stream",
     "text": [
      "Final training set accuracy: 98.62166666666667%\n",
      "Final test set accuracy: 90.53%\n"
     ]
    },
    {
     "data": {
      "text/html": [
       "<iframe\n",
       "    scrolling=\"no\"\n",
       "    width=\"100%\"\n",
       "    height=\"820\"\n",
       "    src=\"iframe_figures/figure_19.html\"\n",
       "    frameborder=\"0\"\n",
       "    allowfullscreen\n",
       "></iframe>\n"
      ]
     },
     "metadata": {},
     "output_type": "display_data"
    }
   ],
   "source": [
    "model_results = plot_model_results(loss_per_epoch, train_acc, test_acc, 30, \"CNN Model | Activation = ELU | lr = 0.1\")\n",
    "print(f\"Final training set accuracy: {final_train_acc}%\")\n",
    "print(f\"Final test set accuracy: {final_test_acc}%\")\n",
    "model_results"
   ]
  },
  {
   "cell_type": "markdown",
   "id": "840a1884-2615-4ffb-a017-a78dd4042133",
   "metadata": {},
   "source": [
    "## Learning Rate Experiments"
   ]
  },
  {
   "cell_type": "markdown",
   "id": "d8be0278-8350-4a3f-806d-b9df386e0a98",
   "metadata": {},
   "source": [
    "### lr = 0.001"
   ]
  },
  {
   "cell_type": "code",
   "execution_count": 20,
   "id": "66bfc659-7b74-44e9-a098-95da92f3909f",
   "metadata": {},
   "outputs": [],
   "source": [
    "cnn = FashionCNN().to(device)"
   ]
  },
  {
   "cell_type": "code",
   "execution_count": 21,
   "id": "cee385d8-b648-4e27-bff0-349c5602d429",
   "metadata": {},
   "outputs": [
    {
     "name": "stdout",
     "output_type": "stream",
     "text": [
      "Epoch 1 | Avg Loss: 3606.914854168892 | Train accuracy: 67.44833333333334% | Test accuracy: 67.19%\n",
      "Epoch 2 | Avg Loss: 1583.604014903307 | Train accuracy: 70.95% | Test accuracy: 69.98%\n",
      "Epoch 3 | Avg Loss: 1351.965988844633 | Train accuracy: 73.86833333333334% | Test accuracy: 73.11%\n",
      "Epoch 4 | Avg Loss: 1250.568005681038 | Train accuracy: 74.89833333333333% | Test accuracy: 73.82%\n",
      "Epoch 5 | Avg Loss: 1172.6147165447474 | Train accuracy: 77.46166666666667% | Test accuracy: 76.3%\n",
      "Epoch 6 | Avg Loss: 1116.0748551934958 | Train accuracy: 78.32833333333333% | Test accuracy: 77.58%\n",
      "Epoch 7 | Avg Loss: 1071.1296445727348 | Train accuracy: 79.76333333333334% | Test accuracy: 78.72%\n",
      "Epoch 8 | Avg Loss: 1031.647823497653 | Train accuracy: 77.845% | Test accuracy: 76.83%\n",
      "Epoch 9 | Avg Loss: 997.8552373498678 | Train accuracy: 80.535% | Test accuracy: 79.47%\n",
      "Epoch 10 | Avg Loss: 964.8437369987369 | Train accuracy: 79.62% | Test accuracy: 78.61%\n",
      "Epoch 11 | Avg Loss: 938.1885995864868 | Train accuracy: 82.49833333333333% | Test accuracy: 81.77%\n",
      "Epoch 12 | Avg Loss: 912.5291863977909 | Train accuracy: 82.38833333333334% | Test accuracy: 81.03%\n",
      "Epoch 13 | Avg Loss: 891.9808880984783 | Train accuracy: 83.51666666666667% | Test accuracy: 82.84%\n",
      "Epoch 14 | Avg Loss: 873.098023109138 | Train accuracy: 82.575% | Test accuracy: 81.43%\n",
      "Epoch 15 | Avg Loss: 854.9915619790554 | Train accuracy: 84.18333333333334% | Test accuracy: 83.29%\n",
      "Epoch 16 | Avg Loss: 836.2942323535681 | Train accuracy: 84.48166666666667% | Test accuracy: 83.37%\n",
      "Epoch 17 | Avg Loss: 822.6950475946069 | Train accuracy: 84.065% | Test accuracy: 83.36%\n",
      "Epoch 18 | Avg Loss: 808.5308044850826 | Train accuracy: 85.28333333333333% | Test accuracy: 84.37%\n",
      "Epoch 19 | Avg Loss: 794.748878762126 | Train accuracy: 85.47166666666666% | Test accuracy: 84.58%\n",
      "Epoch 20 | Avg Loss: 780.4475382268429 | Train accuracy: 85.465% | Test accuracy: 84.4%\n",
      "Epoch 21 | Avg Loss: 767.6259039789438 | Train accuracy: 85.25666666666666% | Test accuracy: 84.11%\n",
      "Epoch 22 | Avg Loss: 757.1821846663952 | Train accuracy: 84.32% | Test accuracy: 83.4%\n",
      "Epoch 23 | Avg Loss: 745.0459176301956 | Train accuracy: 85.11666666666666% | Test accuracy: 83.68%\n",
      "Epoch 24 | Avg Loss: 735.839156717062 | Train accuracy: 86.57% | Test accuracy: 85.44%\n",
      "Epoch 25 | Avg Loss: 722.4589763432741 | Train accuracy: 86.02166666666666% | Test accuracy: 85.3%\n",
      "Epoch 26 | Avg Loss: 714.0863319188356 | Train accuracy: 86.84666666666666% | Test accuracy: 85.59%\n",
      "Epoch 27 | Avg Loss: 703.6672135293484 | Train accuracy: 86.55333333333333% | Test accuracy: 85.35%\n",
      "Epoch 28 | Avg Loss: 697.4825933948159 | Train accuracy: 86.65333333333334% | Test accuracy: 85.27%\n",
      "Epoch 29 | Avg Loss: 687.0508706532419 | Train accuracy: 86.87% | Test accuracy: 85.69%\n",
      "Epoch 30 | Avg Loss: 680.106339816004 | Train accuracy: 86.86833333333334% | Test accuracy: 85.48%\n"
     ]
    }
   ],
   "source": [
    "loss_per_epoch, train_acc, test_acc = train_model(cnn, train_loader, test_loader, device, alpha=0.001)\n",
    "final_train_acc, final_test_acc = train_acc[-1], test_acc[-1]"
   ]
  },
  {
   "cell_type": "code",
   "execution_count": 22,
   "id": "a406da8e-4d0f-4f06-8a54-c74edf12cf06",
   "metadata": {},
   "outputs": [
    {
     "name": "stdout",
     "output_type": "stream",
     "text": [
      "Final training set accuracy: 86.86833333333334%\n",
      "Final test set accuracy: 85.48%\n"
     ]
    },
    {
     "data": {
      "text/html": [
       "<iframe\n",
       "    scrolling=\"no\"\n",
       "    width=\"100%\"\n",
       "    height=\"820\"\n",
       "    src=\"iframe_figures/figure_22.html\"\n",
       "    frameborder=\"0\"\n",
       "    allowfullscreen\n",
       "></iframe>\n"
      ]
     },
     "metadata": {},
     "output_type": "display_data"
    }
   ],
   "source": [
    "model_results = plot_model_results(loss_per_epoch, train_acc, test_acc, 30, \"CNN Model | Activation = ReLU | lr = 0.001\")\n",
    "print(f\"Final training set accuracy: {final_train_acc}%\")\n",
    "print(f\"Final test set accuracy: {final_test_acc}%\")\n",
    "model_results"
   ]
  },
  {
   "cell_type": "markdown",
   "id": "93071a31-938b-4191-8e66-a3abc9e7ab33",
   "metadata": {},
   "source": [
    "### lr = 0.1"
   ]
  },
  {
   "cell_type": "code",
   "execution_count": 23,
   "id": "d989693c-7c7f-4a1b-825b-da525fe70623",
   "metadata": {},
   "outputs": [],
   "source": [
    "cnn = FashionCNN().to(device)"
   ]
  },
  {
   "cell_type": "code",
   "execution_count": 24,
   "id": "fcb1a23a-5d15-4d5a-aebd-d0b42d643cc5",
   "metadata": {},
   "outputs": [
    {
     "name": "stdout",
     "output_type": "stream",
     "text": [
      "Epoch 1 | Avg Loss: 997.6922113858163 | Train accuracy: 86.195% | Test accuracy: 85.21%\n",
      "Epoch 2 | Avg Loss: 612.14652569592 | Train accuracy: 89.00666666666666% | Test accuracy: 87.35%\n",
      "Epoch 3 | Avg Loss: 520.9164001438767 | Train accuracy: 90.03666666666666% | Test accuracy: 87.98%\n",
      "Epoch 4 | Avg Loss: 462.8098816052079 | Train accuracy: 91.89166666666667% | Test accuracy: 89.56%\n",
      "Epoch 5 | Avg Loss: 418.964551160112 | Train accuracy: 92.04833333333333% | Test accuracy: 90.06%\n",
      "Epoch 6 | Avg Loss: 378.8220222881064 | Train accuracy: 93.78833333333333% | Test accuracy: 90.8%\n",
      "Epoch 7 | Avg Loss: 340.0107369525358 | Train accuracy: 94.12% | Test accuracy: 90.09%\n",
      "Epoch 8 | Avg Loss: 311.6823110561818 | Train accuracy: 94.49333333333334% | Test accuracy: 89.91%\n",
      "Epoch 9 | Avg Loss: 278.4380419428926 | Train accuracy: 95.095% | Test accuracy: 90.03%\n",
      "Epoch 10 | Avg Loss: 252.5084051070735 | Train accuracy: 96.32% | Test accuracy: 90.6%\n",
      "Epoch 11 | Avg Loss: 228.2504089246504 | Train accuracy: 96.54833333333333% | Test accuracy: 90.99%\n",
      "Epoch 12 | Avg Loss: 203.45621252723504 | Train accuracy: 96.77833333333334% | Test accuracy: 90.67%\n",
      "Epoch 13 | Avg Loss: 185.24645657720976 | Train accuracy: 96.555% | Test accuracy: 90.02%\n",
      "Epoch 14 | Avg Loss: 167.23673213028815 | Train accuracy: 97.23166666666667% | Test accuracy: 90.65%\n",
      "Epoch 15 | Avg Loss: 154.49753860291094 | Train accuracy: 97.46% | Test accuracy: 90.61%\n",
      "Epoch 16 | Avg Loss: 143.55256864172406 | Train accuracy: 97.465% | Test accuracy: 90.54%\n",
      "Epoch 17 | Avg Loss: 118.12250414205482 | Train accuracy: 97.83333333333333% | Test accuracy: 90.43%\n",
      "Epoch 18 | Avg Loss: 113.75026255512785 | Train accuracy: 98.27666666666667% | Test accuracy: 90.75%\n",
      "Epoch 19 | Avg Loss: 122.10794614895713 | Train accuracy: 98.42166666666667% | Test accuracy: 91.19%\n",
      "Epoch 20 | Avg Loss: 103.35660708714568 | Train accuracy: 98.785% | Test accuracy: 90.8%\n",
      "Epoch 21 | Avg Loss: 91.48326816102053 | Train accuracy: 98.13833333333334% | Test accuracy: 90.64%\n",
      "Epoch 22 | Avg Loss: 82.48556935305533 | Train accuracy: 98.27% | Test accuracy: 90.33%\n",
      "Epoch 23 | Avg Loss: 74.84317735306104 | Train accuracy: 98.52% | Test accuracy: 90.3%\n",
      "Epoch 24 | Avg Loss: 81.84233020838928 | Train accuracy: 98.80333333333333% | Test accuracy: 90.85%\n",
      "Epoch 25 | Avg Loss: 69.4199629931918 | Train accuracy: 98.62% | Test accuracy: 90.91%\n",
      "Epoch 26 | Avg Loss: 64.95933109581892 | Train accuracy: 98.41333333333333% | Test accuracy: 90.19%\n",
      "Epoch 27 | Avg Loss: 64.0349609854793 | Train accuracy: 99.14% | Test accuracy: 91.04%\n",
      "Epoch 28 | Avg Loss: 51.868260016788554 | Train accuracy: 99.26333333333334% | Test accuracy: 90.76%\n",
      "Epoch 29 | Avg Loss: 50.08645143032436 | Train accuracy: 99.02333333333333% | Test accuracy: 90.23%\n",
      "Epoch 30 | Avg Loss: 47.26818146806272 | Train accuracy: 99.56666666666666% | Test accuracy: 91.06%\n"
     ]
    }
   ],
   "source": [
    "loss_per_epoch, train_acc, test_acc = train_model(cnn, train_loader, test_loader, device, alpha=0.1)\n",
    "final_train_acc, final_test_acc = train_acc[-1], test_acc[-1]"
   ]
  },
  {
   "cell_type": "code",
   "execution_count": 25,
   "id": "c9627d26-1152-4699-942c-ea63ef0f34fa",
   "metadata": {},
   "outputs": [
    {
     "name": "stdout",
     "output_type": "stream",
     "text": [
      "Final training set accuracy: 99.56666666666666%\n",
      "Final test set accuracy: 91.06%\n"
     ]
    },
    {
     "data": {
      "text/html": [
       "<iframe\n",
       "    scrolling=\"no\"\n",
       "    width=\"100%\"\n",
       "    height=\"820\"\n",
       "    src=\"iframe_figures/figure_25.html\"\n",
       "    frameborder=\"0\"\n",
       "    allowfullscreen\n",
       "></iframe>\n"
      ]
     },
     "metadata": {},
     "output_type": "display_data"
    }
   ],
   "source": [
    "model_results = plot_model_results(loss_per_epoch, train_acc, test_acc, 30, \"CNN Model | Activation = ReLU | lr = 0.1\")\n",
    "print(f\"Final training set accuracy: {final_train_acc}%\")\n",
    "print(f\"Final test set accuracy: {final_test_acc}%\")\n",
    "model_results"
   ]
  },
  {
   "cell_type": "markdown",
   "id": "de248fb9-8b8e-4897-9bff-a9f03f7c4f55",
   "metadata": {},
   "source": [
    "### lr = 0.5"
   ]
  },
  {
   "cell_type": "code",
   "execution_count": 26,
   "id": "eb59bdf1-0ea4-4205-9192-928cc82cffe8",
   "metadata": {},
   "outputs": [],
   "source": [
    "cnn = FashionCNN().to(device)"
   ]
  },
  {
   "cell_type": "code",
   "execution_count": 27,
   "id": "cb86e936-6310-43b6-bdf0-a6f6bbc31183",
   "metadata": {},
   "outputs": [
    {
     "name": "stdout",
     "output_type": "stream",
     "text": [
      "Epoch 1 | Avg Loss: 1149.90151168406 | Train accuracy: 84.15% | Test accuracy: 83.46%\n",
      "Epoch 2 | Avg Loss: 711.9535855576396 | Train accuracy: 85.13% | Test accuracy: 84.16%\n",
      "Epoch 3 | Avg Loss: 638.5614688396454 | Train accuracy: 88.96% | Test accuracy: 87.46%\n",
      "Epoch 4 | Avg Loss: 586.2202471606433 | Train accuracy: 88.85333333333334% | Test accuracy: 86.59%\n",
      "Epoch 5 | Avg Loss: 564.6088122678921 | Train accuracy: 89.695% | Test accuracy: 87.14%\n",
      "Epoch 6 | Avg Loss: 533.4464479908347 | Train accuracy: 90.71666666666667% | Test accuracy: 88.06%\n",
      "Epoch 7 | Avg Loss: 515.7896665986627 | Train accuracy: 90.86333333333333% | Test accuracy: 87.3%\n",
      "Epoch 8 | Avg Loss: 492.42503734119236 | Train accuracy: 89.41333333333333% | Test accuracy: 86.21%\n",
      "Epoch 9 | Avg Loss: 477.77959649451077 | Train accuracy: 90.90833333333333% | Test accuracy: 86.84%\n",
      "Epoch 10 | Avg Loss: 463.16335840150714 | Train accuracy: 91.51333333333334% | Test accuracy: 87.54%\n",
      "Epoch 11 | Avg Loss: 450.58173263818026 | Train accuracy: 91.62833333333333% | Test accuracy: 87.98%\n",
      "Epoch 12 | Avg Loss: 468.12750506028533 | Train accuracy: 91.62% | Test accuracy: 87.41%\n",
      "Epoch 13 | Avg Loss: 473.01299381256104 | Train accuracy: 89.55166666666666% | Test accuracy: 86.53%\n",
      "Epoch 14 | Avg Loss: 454.52041601762176 | Train accuracy: 92.63833333333334% | Test accuracy: 88.31%\n",
      "Epoch 15 | Avg Loss: 429.171343809925 | Train accuracy: 93.49166666666666% | Test accuracy: 87.92%\n",
      "Epoch 16 | Avg Loss: 440.9992537749931 | Train accuracy: 92.055% | Test accuracy: 86.84%\n",
      "Epoch 17 | Avg Loss: 416.4396690055728 | Train accuracy: 92.81833333333333% | Test accuracy: 87.22%\n",
      "Epoch 18 | Avg Loss: 471.7174583002925 | Train accuracy: 92.89666666666666% | Test accuracy: 87.67%\n",
      "Epoch 19 | Avg Loss: 471.52259260509163 | Train accuracy: 91.84166666666667% | Test accuracy: 86.76%\n",
      "Epoch 20 | Avg Loss: 480.5106949363835 | Train accuracy: 91.505% | Test accuracy: 86.24%\n",
      "Epoch 21 | Avg Loss: 458.97722965781577 | Train accuracy: 92.01666666666667% | Test accuracy: 86.64%\n",
      "Epoch 22 | Avg Loss: nan | Train accuracy: 10.0% | Test accuracy: 10.0%\n",
      "Epoch 23 | Avg Loss: nan | Train accuracy: 10.0% | Test accuracy: 10.0%\n",
      "Epoch 24 | Avg Loss: nan | Train accuracy: 10.0% | Test accuracy: 10.0%\n",
      "Epoch 25 | Avg Loss: nan | Train accuracy: 10.0% | Test accuracy: 10.0%\n",
      "Epoch 26 | Avg Loss: nan | Train accuracy: 10.0% | Test accuracy: 10.0%\n",
      "Epoch 27 | Avg Loss: nan | Train accuracy: 10.0% | Test accuracy: 10.0%\n",
      "Epoch 28 | Avg Loss: nan | Train accuracy: 10.0% | Test accuracy: 10.0%\n",
      "Epoch 29 | Avg Loss: nan | Train accuracy: 10.0% | Test accuracy: 10.0%\n",
      "Epoch 30 | Avg Loss: nan | Train accuracy: 10.0% | Test accuracy: 10.0%\n"
     ]
    }
   ],
   "source": [
    "loss_per_epoch, train_acc, test_acc = train_model(cnn, train_loader, test_loader, device, alpha=0.5)\n",
    "final_train_acc, final_test_acc = train_acc[-1], test_acc[-1]"
   ]
  },
  {
   "cell_type": "code",
   "execution_count": 28,
   "id": "d06eea37-49d2-402f-8efa-a792640dabc9",
   "metadata": {},
   "outputs": [
    {
     "name": "stdout",
     "output_type": "stream",
     "text": [
      "Final training set accuracy: 10.0%\n",
      "Final test set accuracy: 10.0%\n"
     ]
    },
    {
     "data": {
      "text/html": [
       "<iframe\n",
       "    scrolling=\"no\"\n",
       "    width=\"100%\"\n",
       "    height=\"820\"\n",
       "    src=\"iframe_figures/figure_28.html\"\n",
       "    frameborder=\"0\"\n",
       "    allowfullscreen\n",
       "></iframe>\n"
      ]
     },
     "metadata": {},
     "output_type": "display_data"
    }
   ],
   "source": [
    "model_results = plot_model_results(loss_per_epoch, train_acc, test_acc, 30, \"CNN Model | Activation = ReLU | lr = 0.5\")\n",
    "print(f\"Final training set accuracy: {final_train_acc}%\")\n",
    "print(f\"Final test set accuracy: {final_test_acc}%\")\n",
    "model_results"
   ]
  },
  {
   "cell_type": "markdown",
   "id": "92ac4a38-c301-467f-8822-96a0413caca2",
   "metadata": {},
   "source": [
    "### lr = 1"
   ]
  },
  {
   "cell_type": "code",
   "execution_count": 29,
   "id": "ff94e12d-3f4e-41e6-9726-fdeef1fd1012",
   "metadata": {},
   "outputs": [],
   "source": [
    "cnn = FashionCNN().to(device)"
   ]
  },
  {
   "cell_type": "code",
   "execution_count": 30,
   "id": "e9790f1e-1c16-45fa-9360-92301bd593a5",
   "metadata": {},
   "outputs": [
    {
     "name": "stdout",
     "output_type": "stream",
     "text": [
      "Epoch 1 | Avg Loss: 4333.013733386993 | Train accuracy: 10.0% | Test accuracy: 10.0%\n",
      "Epoch 2 | Avg Loss: 4331.067921876907 | Train accuracy: 10.0% | Test accuracy: 10.0%\n",
      "Epoch 3 | Avg Loss: 4330.993051528931 | Train accuracy: 10.0% | Test accuracy: 10.0%\n",
      "Epoch 4 | Avg Loss: 4330.398996829987 | Train accuracy: 10.0% | Test accuracy: 10.0%\n",
      "Epoch 5 | Avg Loss: 4331.08846116066 | Train accuracy: 10.0% | Test accuracy: 10.0%\n",
      "Epoch 6 | Avg Loss: 4331.778178453445 | Train accuracy: 10.0% | Test accuracy: 10.0%\n",
      "Epoch 7 | Avg Loss: 4330.7222599983215 | Train accuracy: 10.0% | Test accuracy: 10.0%\n",
      "Epoch 8 | Avg Loss: 4331.675181388855 | Train accuracy: 10.0% | Test accuracy: 10.0%\n",
      "Epoch 9 | Avg Loss: 4331.741482496262 | Train accuracy: 10.0% | Test accuracy: 10.0%\n",
      "Epoch 10 | Avg Loss: 4330.807212591171 | Train accuracy: 10.0% | Test accuracy: 10.0%\n",
      "Epoch 11 | Avg Loss: 4330.450536489487 | Train accuracy: 10.0% | Test accuracy: 10.0%\n",
      "Epoch 12 | Avg Loss: 4331.752215623856 | Train accuracy: 10.0% | Test accuracy: 10.0%\n",
      "Epoch 13 | Avg Loss: 4332.013449430466 | Train accuracy: 10.0% | Test accuracy: 10.0%\n",
      "Epoch 14 | Avg Loss: 4331.8823828697205 | Train accuracy: 10.0% | Test accuracy: 10.0%\n",
      "Epoch 15 | Avg Loss: 4331.080216884613 | Train accuracy: 10.0% | Test accuracy: 10.0%\n",
      "Epoch 16 | Avg Loss: 4330.566724538803 | Train accuracy: 10.0% | Test accuracy: 10.0%\n",
      "Epoch 17 | Avg Loss: 4330.328475475311 | Train accuracy: 10.0% | Test accuracy: 10.0%\n",
      "Epoch 18 | Avg Loss: 4330.810750722885 | Train accuracy: 10.0% | Test accuracy: 10.0%\n",
      "Epoch 19 | Avg Loss: 4331.862137079239 | Train accuracy: 10.0% | Test accuracy: 10.0%\n",
      "Epoch 20 | Avg Loss: 4331.138395786285 | Train accuracy: 10.0% | Test accuracy: 10.0%\n",
      "Epoch 21 | Avg Loss: 4331.980331659317 | Train accuracy: 10.0% | Test accuracy: 10.0%\n",
      "Epoch 22 | Avg Loss: 4331.044138908386 | Train accuracy: 10.0% | Test accuracy: 10.0%\n",
      "Epoch 23 | Avg Loss: 4330.93141245842 | Train accuracy: 10.0% | Test accuracy: 10.0%\n",
      "Epoch 24 | Avg Loss: 4330.676852941513 | Train accuracy: 10.0% | Test accuracy: 10.0%\n",
      "Epoch 25 | Avg Loss: 4330.170110464096 | Train accuracy: 10.0% | Test accuracy: 10.0%\n",
      "Epoch 26 | Avg Loss: 4330.720058441162 | Train accuracy: 10.0% | Test accuracy: 10.0%\n",
      "Epoch 27 | Avg Loss: 4330.382456302643 | Train accuracy: 10.0% | Test accuracy: 10.0%\n",
      "Epoch 28 | Avg Loss: 4331.7445776462555 | Train accuracy: 10.0% | Test accuracy: 10.0%\n",
      "Epoch 29 | Avg Loss: 4332.68287229538 | Train accuracy: 10.0% | Test accuracy: 10.0%\n",
      "Epoch 30 | Avg Loss: 4330.823005437851 | Train accuracy: 10.0% | Test accuracy: 10.0%\n"
     ]
    }
   ],
   "source": [
    "loss_per_epoch, train_acc, test_acc = train_model(cnn, train_loader, test_loader, device, alpha=1)\n",
    "final_train_acc, final_test_acc = train_acc[-1], test_acc[-1]"
   ]
  },
  {
   "cell_type": "code",
   "execution_count": 31,
   "id": "608a33d0-6ffd-458b-8a1c-4d51525c8752",
   "metadata": {},
   "outputs": [
    {
     "name": "stdout",
     "output_type": "stream",
     "text": [
      "Final training set accuracy: 10.0%\n",
      "Final test set accuracy: 10.0%\n"
     ]
    },
    {
     "data": {
      "text/html": [
       "<iframe\n",
       "    scrolling=\"no\"\n",
       "    width=\"100%\"\n",
       "    height=\"820\"\n",
       "    src=\"iframe_figures/figure_31.html\"\n",
       "    frameborder=\"0\"\n",
       "    allowfullscreen\n",
       "></iframe>\n"
      ]
     },
     "metadata": {},
     "output_type": "display_data"
    }
   ],
   "source": [
    "model_results = plot_model_results(loss_per_epoch, train_acc, test_acc, 30, \"CNN Model | Activation = ReLU | lr = 1\")\n",
    "print(f\"Final training set accuracy: {final_train_acc}%\")\n",
    "print(f\"Final test set accuracy: {final_test_acc}%\")\n",
    "model_results"
   ]
  },
  {
   "cell_type": "markdown",
   "id": "5ba395a9-8f96-4f82-875c-c5018c8eaeb7",
   "metadata": {},
   "source": [
    "### lr = 10"
   ]
  },
  {
   "cell_type": "code",
   "execution_count": 32,
   "id": "d366ba12-bf5c-4ae3-b2e8-190991d8378a",
   "metadata": {},
   "outputs": [],
   "source": [
    "cnn = FashionCNN().to(device)"
   ]
  },
  {
   "cell_type": "code",
   "execution_count": 33,
   "id": "97a3e3c7-3426-41b1-b9bc-fe4b69953f1a",
   "metadata": {},
   "outputs": [
    {
     "name": "stdout",
     "output_type": "stream",
     "text": [
      "Epoch 1 | Avg Loss: nan | Train accuracy: 10.0% | Test accuracy: 10.0%\n",
      "Epoch 2 | Avg Loss: nan | Train accuracy: 10.0% | Test accuracy: 10.0%\n",
      "Epoch 3 | Avg Loss: nan | Train accuracy: 10.0% | Test accuracy: 10.0%\n",
      "Epoch 4 | Avg Loss: nan | Train accuracy: 10.0% | Test accuracy: 10.0%\n",
      "Epoch 5 | Avg Loss: nan | Train accuracy: 10.0% | Test accuracy: 10.0%\n",
      "Epoch 6 | Avg Loss: nan | Train accuracy: 10.0% | Test accuracy: 10.0%\n",
      "Epoch 7 | Avg Loss: nan | Train accuracy: 10.0% | Test accuracy: 10.0%\n",
      "Epoch 8 | Avg Loss: nan | Train accuracy: 10.0% | Test accuracy: 10.0%\n",
      "Epoch 9 | Avg Loss: nan | Train accuracy: 10.0% | Test accuracy: 10.0%\n",
      "Epoch 10 | Avg Loss: nan | Train accuracy: 10.0% | Test accuracy: 10.0%\n",
      "Epoch 11 | Avg Loss: nan | Train accuracy: 10.0% | Test accuracy: 10.0%\n",
      "Epoch 12 | Avg Loss: nan | Train accuracy: 10.0% | Test accuracy: 10.0%\n",
      "Epoch 13 | Avg Loss: nan | Train accuracy: 10.0% | Test accuracy: 10.0%\n",
      "Epoch 14 | Avg Loss: nan | Train accuracy: 10.0% | Test accuracy: 10.0%\n",
      "Epoch 15 | Avg Loss: nan | Train accuracy: 10.0% | Test accuracy: 10.0%\n",
      "Epoch 16 | Avg Loss: nan | Train accuracy: 10.0% | Test accuracy: 10.0%\n",
      "Epoch 17 | Avg Loss: nan | Train accuracy: 10.0% | Test accuracy: 10.0%\n",
      "Epoch 18 | Avg Loss: nan | Train accuracy: 10.0% | Test accuracy: 10.0%\n",
      "Epoch 19 | Avg Loss: nan | Train accuracy: 10.0% | Test accuracy: 10.0%\n",
      "Epoch 20 | Avg Loss: nan | Train accuracy: 10.0% | Test accuracy: 10.0%\n",
      "Epoch 21 | Avg Loss: nan | Train accuracy: 10.0% | Test accuracy: 10.0%\n",
      "Epoch 22 | Avg Loss: nan | Train accuracy: 10.0% | Test accuracy: 10.0%\n",
      "Epoch 23 | Avg Loss: nan | Train accuracy: 10.0% | Test accuracy: 10.0%\n",
      "Epoch 24 | Avg Loss: nan | Train accuracy: 10.0% | Test accuracy: 10.0%\n",
      "Epoch 25 | Avg Loss: nan | Train accuracy: 10.0% | Test accuracy: 10.0%\n",
      "Epoch 26 | Avg Loss: nan | Train accuracy: 10.0% | Test accuracy: 10.0%\n",
      "Epoch 27 | Avg Loss: nan | Train accuracy: 10.0% | Test accuracy: 10.0%\n",
      "Epoch 28 | Avg Loss: nan | Train accuracy: 10.0% | Test accuracy: 10.0%\n",
      "Epoch 29 | Avg Loss: nan | Train accuracy: 10.0% | Test accuracy: 10.0%\n",
      "Epoch 30 | Avg Loss: nan | Train accuracy: 10.0% | Test accuracy: 10.0%\n"
     ]
    }
   ],
   "source": [
    "loss_per_epoch, train_acc, test_acc = train_model(cnn, train_loader, test_loader, device, alpha=10)\n",
    "final_train_acc, final_test_acc = train_acc[-1], test_acc[-1]"
   ]
  },
  {
   "cell_type": "code",
   "execution_count": 34,
   "id": "9f2ec49c-4698-4c4c-a56d-1a5d770d15d7",
   "metadata": {},
   "outputs": [
    {
     "name": "stdout",
     "output_type": "stream",
     "text": [
      "Final training set accuracy: 10.0%\n",
      "Final test set accuracy: 10.0%\n"
     ]
    },
    {
     "data": {
      "text/html": [
       "<iframe\n",
       "    scrolling=\"no\"\n",
       "    width=\"100%\"\n",
       "    height=\"820\"\n",
       "    src=\"iframe_figures/figure_34.html\"\n",
       "    frameborder=\"0\"\n",
       "    allowfullscreen\n",
       "></iframe>\n"
      ]
     },
     "metadata": {},
     "output_type": "display_data"
    }
   ],
   "source": [
    "model_results = plot_model_results(loss_per_epoch, train_acc, test_acc, 30, \"CNN Model | Activation = ReLU | lr = 10\")\n",
    "print(f\"Final training set accuracy: {final_train_acc}%\")\n",
    "print(f\"Final test set accuracy: {final_test_acc}%\")\n",
    "model_results"
   ]
  },
  {
   "cell_type": "markdown",
   "id": "6113d30a-7ca8-4c30-9133-4076ed964a50",
   "metadata": {},
   "source": [
    "## CNN with Dropout Layer"
   ]
  },
  {
   "cell_type": "markdown",
   "id": "27d6b933-2a2e-4ef1-b7b4-56ec12323179",
   "metadata": {},
   "source": [
    "### Modified FashionCNN Class"
   ]
  },
  {
   "cell_type": "code",
   "execution_count": 36,
   "id": "1ae8c9d1-fc42-40f3-9bfd-2d09382c49ea",
   "metadata": {},
   "outputs": [],
   "source": [
    "class FashionCNN2(nn.Module):\n",
    "    def __init__(self, activ=\"relu\"):\n",
    "        super(FashionCNN2, self).__init__()\n",
    "\n",
    "        activ_funcs = {\n",
    "            \"relu\": nn.ReLU,\n",
    "            \"sigmoid\": nn.Sigmoid,\n",
    "            \"elu\": nn.ELU,\n",
    "            \"tanh\": nn.Tanh, \n",
    "        }\n",
    "        \n",
    "        self.network = nn.Sequential(\n",
    "            nn.Conv2d(1, 32, kernel_size=5, stride=1),\n",
    "            activ_funcs[activ](),\n",
    "            nn.MaxPool2d(kernel_size=2, stride=2),\n",
    "            nn.Conv2d(32, 64, kernel_size=5, stride=1),\n",
    "            activ_funcs[activ](),\n",
    "            nn.MaxPool2d(kernel_size=2, stride=2),\n",
    "            nn.Flatten(),\n",
    "            nn.Linear(1024, 1024),\n",
    "            activ_funcs[activ](),\n",
    "            nn.Linear(1024, 256),\n",
    "            activ_funcs[activ](),\n",
    "            nn.Dropout(0.3), # dropout rate of 0.3 applied\n",
    "            nn.Linear(256, 10)\n",
    "        )\n",
    "\n",
    "        self.network.apply(initialise_weights)\n",
    "\n",
    "    def forward(self, x):\n",
    "        return self.network(x)"
   ]
  },
  {
   "cell_type": "markdown",
   "id": "3adaa2f3-c3e1-4069-80e7-78e5336a8322",
   "metadata": {},
   "source": [
    "### Training Model"
   ]
  },
  {
   "cell_type": "code",
   "execution_count": 37,
   "id": "6063ea70-1337-4f0b-aa84-8115cb94d15a",
   "metadata": {},
   "outputs": [],
   "source": [
    "cnn = FashionCNN2().to(device)"
   ]
  },
  {
   "cell_type": "code",
   "execution_count": 38,
   "id": "6b0bf29c-de98-44bb-969a-4ef954a69b43",
   "metadata": {},
   "outputs": [
    {
     "name": "stdout",
     "output_type": "stream",
     "text": [
      "Epoch 1 | Avg Loss: 1047.8374092504382 | Train accuracy: 86.47% | Test accuracy: 85.63%\n",
      "Epoch 2 | Avg Loss: 646.5738175623119 | Train accuracy: 89.54333333333334% | Test accuracy: 88.45%\n",
      "Epoch 3 | Avg Loss: 560.1411247551441 | Train accuracy: 89.68666666666667% | Test accuracy: 87.96%\n",
      "Epoch 4 | Avg Loss: 501.02068066224456 | Train accuracy: 91.585% | Test accuracy: 89.94%\n",
      "Epoch 5 | Avg Loss: 451.736057844013 | Train accuracy: 92.45666666666666% | Test accuracy: 90.22%\n",
      "Epoch 6 | Avg Loss: 414.911652139388 | Train accuracy: 93.095% | Test accuracy: 90.14%\n",
      "Epoch 7 | Avg Loss: 379.3673264347017 | Train accuracy: 93.78% | Test accuracy: 90.99%\n",
      "Epoch 8 | Avg Loss: 346.2843298036605 | Train accuracy: 94.25% | Test accuracy: 90.67%\n",
      "Epoch 9 | Avg Loss: 315.8637291570194 | Train accuracy: 93.90833333333333% | Test accuracy: 89.81%\n",
      "Epoch 10 | Avg Loss: 291.00613226974383 | Train accuracy: 94.955% | Test accuracy: 90.83%\n",
      "Epoch 11 | Avg Loss: 267.1432970596943 | Train accuracy: 95.43% | Test accuracy: 90.88%\n",
      "Epoch 12 | Avg Loss: 245.33883535733912 | Train accuracy: 95.80666666666667% | Test accuracy: 90.6%\n",
      "Epoch 13 | Avg Loss: 229.48358934698626 | Train accuracy: 96.46% | Test accuracy: 90.7%\n",
      "Epoch 14 | Avg Loss: 207.82451446400955 | Train accuracy: 95.52333333333333% | Test accuracy: 89.89%\n",
      "Epoch 15 | Avg Loss: 192.95856358413585 | Train accuracy: 95.61% | Test accuracy: 89.52%\n",
      "Epoch 16 | Avg Loss: 178.16473939234857 | Train accuracy: 97.09166666666667% | Test accuracy: 90.42%\n",
      "Epoch 17 | Avg Loss: 167.69662884209538 | Train accuracy: 97.74666666666667% | Test accuracy: 90.88%\n",
      "Epoch 18 | Avg Loss: 148.0409497005894 | Train accuracy: 97.56% | Test accuracy: 91.14%\n",
      "Epoch 19 | Avg Loss: 139.4253882894991 | Train accuracy: 97.77666666666667% | Test accuracy: 90.94%\n",
      "Epoch 20 | Avg Loss: 134.24295338691445 | Train accuracy: 97.96166666666667% | Test accuracy: 91.13%\n",
      "Epoch 21 | Avg Loss: 124.36870745007764 | Train accuracy: 97.585% | Test accuracy: 90.4%\n",
      "Epoch 22 | Avg Loss: 121.50494038307806 | Train accuracy: 98.39% | Test accuracy: 91.14%\n",
      "Epoch 23 | Avg Loss: 104.65763678328949 | Train accuracy: 98.56666666666666% | Test accuracy: 91.01%\n",
      "Epoch 24 | Avg Loss: 101.82590296458511 | Train accuracy: 98.78166666666667% | Test accuracy: 90.93%\n",
      "Epoch 25 | Avg Loss: 91.78089728688064 | Train accuracy: 98.86333333333333% | Test accuracy: 91.31%\n",
      "Epoch 26 | Avg Loss: 91.09113611094654 | Train accuracy: 98.92166666666667% | Test accuracy: 91.16%\n",
      "Epoch 27 | Avg Loss: 91.00802310072322 | Train accuracy: 99.035% | Test accuracy: 91.06%\n",
      "Epoch 28 | Avg Loss: 74.82295572759449 | Train accuracy: 98.635% | Test accuracy: 90.89%\n",
      "Epoch 29 | Avg Loss: 74.23849979532133 | Train accuracy: 98.65833333333333% | Test accuracy: 90.83%\n",
      "Epoch 30 | Avg Loss: 68.24617311379166 | Train accuracy: 97.63333333333334% | Test accuracy: 89.47%\n"
     ]
    }
   ],
   "source": [
    "loss_per_epoch, train_acc, test_acc = train_model(cnn, train_loader, test_loader, device)\n",
    "final_train_acc, final_test_acc = train_acc[-1], test_acc[-1]"
   ]
  },
  {
   "cell_type": "code",
   "execution_count": 39,
   "id": "b7072ff4-59e0-4f16-9bc7-5357df0feb8a",
   "metadata": {},
   "outputs": [
    {
     "name": "stdout",
     "output_type": "stream",
     "text": [
      "Final training set accuracy: 97.63333333333334%\n",
      "Final test set accuracy: 89.47%\n"
     ]
    },
    {
     "data": {
      "text/html": [
       "<iframe\n",
       "    scrolling=\"no\"\n",
       "    width=\"100%\"\n",
       "    height=\"820\"\n",
       "    src=\"iframe_figures/figure_39.html\"\n",
       "    frameborder=\"0\"\n",
       "    allowfullscreen\n",
       "></iframe>\n"
      ]
     },
     "metadata": {},
     "output_type": "display_data"
    }
   ],
   "source": [
    "model_results = plot_model_results(loss_per_epoch, train_acc, test_acc, 30, \"CNN Model (with dropout) | Activation = ReLU | lr = 0.1 | \")\n",
    "print(f\"Final training set accuracy: {final_train_acc}%\")\n",
    "print(f\"Final test set accuracy: {final_test_acc}%\")\n",
    "model_results"
   ]
  },
  {
   "cell_type": "code",
   "execution_count": null,
   "id": "8f7f640a-ef22-440d-9d6f-5a139a8386d3",
   "metadata": {},
   "outputs": [],
   "source": []
  }
 ],
 "metadata": {
  "kernelspec": {
   "display_name": "Python 3 (ipykernel)",
   "language": "python",
   "name": "python3"
  },
  "language_info": {
   "codemirror_mode": {
    "name": "ipython",
    "version": 3
   },
   "file_extension": ".py",
   "mimetype": "text/x-python",
   "name": "python",
   "nbconvert_exporter": "python",
   "pygments_lexer": "ipython3",
   "version": "3.10.13"
  }
 },
 "nbformat": 4,
 "nbformat_minor": 5
}
