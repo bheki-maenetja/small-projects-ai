{
 "cells": [
  {
   "cell_type": "markdown",
   "id": "fedfc3c8-f897-47a0-ae8b-70a577edf0e8",
   "metadata": {},
   "source": [
    "# EECS759P Coursework 2 (CNN Classification Task)\n",
    "- Name: Bheki Maenetja\n",
    "- Student ID: 230382466"
   ]
  },
  {
   "cell_type": "markdown",
   "id": "c4e4e3ac-ab5d-47e4-a156-1c06db7821e1",
   "metadata": {},
   "source": [
    "## Imports"
   ]
  },
  {
   "cell_type": "code",
   "execution_count": null,
   "id": "b31e06bb-26a6-472a-a5e2-e17ccec62055",
   "metadata": {},
   "outputs": [],
   "source": [
    "import torchvision\n",
    "import torchvision.transforms as transforms\n",
    "import torch\n",
    "import torch.nn as nn\n",
    "\n",
    "# !pip install plotly\n",
    "import plotly.graph_objects as go\n",
    "from plotly.subplots import make_subplots\n",
    "import plotly.io as pio\n",
    "# pio.renderers.default = \"iframe\""
   ]
  },
  {
   "cell_type": "markdown",
   "id": "8a0ae888-5617-48d4-9f64-0e8c14d487d1",
   "metadata": {},
   "source": [
    "## Plotting Functions"
   ]
  },
  {
   "cell_type": "code",
   "execution_count": null,
   "id": "7b5eb9ec-25d0-4688-bb83-b7f054025b5e",
   "metadata": {},
   "outputs": [],
   "source": [
    "# Plotting functions\n",
    "def plot_data(x=None, y=None, z=None, size=None, colour=None, title=\"\", colour_title=\"\", x_label=\"\", y_label=\"\", name=\"\", mode=\"markers\", text=\"\", fill=None, **traces):\n",
    "    \"\"\"\n",
    "    General purpose function for plotting scatter plots in plotly.\n",
    "    \"\"\"\n",
    "    fig = go.Figure(layout={\n",
    "        \"title\": title,\n",
    "        \"xaxis\": {\"title\": x_label},\n",
    "        \"yaxis\": {\"title\": y_label}\n",
    "    })\n",
    "\n",
    "    marker = dict()\n",
    "    \n",
    "    if size is not None:\n",
    "        marker[\"size\"] = size\n",
    "        marker[\"sizeref\"] = 0.01\n",
    "    if colour is not None:\n",
    "        marker[\"color\"] = colour\n",
    "        marker[\"showscale\"] = True\n",
    "        marker[\"colorbar\"] = dict(title=colour_title)\n",
    "    \n",
    "    if z is None:\n",
    "        data = go.Scatter(\n",
    "            x=x,\n",
    "            y=y,\n",
    "            mode=mode,\n",
    "            name=name,\n",
    "            text=text,\n",
    "            fill=fill,\n",
    "            marker=marker,\n",
    "        )\n",
    "    else:\n",
    "        data = go.Scatter3d(\n",
    "            x=x,\n",
    "            y=y,\n",
    "            z=z,\n",
    "            mode=mode,\n",
    "            name=name,\n",
    "            text=text,\n",
    "            marker=marker,\n",
    "        )\n",
    "\n",
    "    if x is not None and y is not None:\n",
    "        fig.add_trace(data)\n",
    "    \n",
    "    for t in traces:\n",
    "        fig.add_trace(traces[t])\n",
    "    \n",
    "    return fig\n",
    "\n",
    "def create_trace(x=None, y=None, z=None, size=None, colour=None, colour_title=\"\", name=\"\", mode=\"lines\", text=\"\", fill=None):\n",
    "    marker = dict()\n",
    "    \n",
    "    if size is not None:\n",
    "        marker[\"size\"] = size\n",
    "        marker[\"sizeref\"] = 0.01\n",
    "    if colour is not None:\n",
    "        marker[\"color\"] = colour\n",
    "        marker[\"showscale\"] = True\n",
    "        marker[\"colorbar\"] = dict(title=colour_title)\n",
    "    \n",
    "    if z is None:\n",
    "        trace = go.Scatter(\n",
    "            x=x,\n",
    "            y=y,\n",
    "            mode=mode,\n",
    "            name=name,\n",
    "            text=text,\n",
    "            fill=fill,\n",
    "            marker=marker\n",
    "        )\n",
    "    else:\n",
    "        trace = go.Scatter3d(\n",
    "            x=x,\n",
    "            y=y,\n",
    "            z=z,\n",
    "            mode=mode,\n",
    "            name=name,\n",
    "            text=text,\n",
    "            marker=marker\n",
    "        )\n",
    "    \n",
    "    return trace\n",
    "\n",
    "def plot_collection(plots, rows=1, cols=1, title=\"\", subplot_titles=[], x_labels={}, height=1000):\n",
    "    specs = [\n",
    "        [{\"type\": \"xy\"} for c in range(cols)] \n",
    "        for r in range(rows)\n",
    "    ]\n",
    "    \n",
    "    fig = make_subplots(\n",
    "        rows=rows, \n",
    "        cols=cols, \n",
    "        subplot_titles=subplot_titles,\n",
    "        specs=specs,\n",
    "    )\n",
    "    \n",
    "    fig.update_layout({\n",
    "        \"title\": title,\n",
    "        \"height\": height,\n",
    "    })\n",
    "\n",
    "    # Add traces\n",
    "    for k in plots:\n",
    "        for i in range(len(plots[k].data)):\n",
    "            fig.add_trace(plots[k].data[i], row=k[0], col=k[1])\n",
    "\n",
    "    # Update axes\n",
    "    for k in plots:\n",
    "        fig.update_xaxes(title_text=x_labels.get(k, \"\"), row=k[0], col=k[1])\n",
    "\n",
    "    return fig"
   ]
  },
  {
   "cell_type": "markdown",
   "id": "440baee7-df44-4e21-9ade-481167d90708",
   "metadata": {},
   "source": [
    "## Loading Data"
   ]
  },
  {
   "cell_type": "code",
   "execution_count": null,
   "id": "7836cc92-e1c2-4337-ae07-4b92b3bd33f2",
   "metadata": {},
   "outputs": [],
   "source": [
    "train_set = torchvision.datasets.FashionMNIST(root = \".\", train=True, download=True, transform=transforms.ToTensor())\n",
    "test_set = torchvision.datasets.FashionMNIST(root = \".\", train=False, download=True, transform=transforms.ToTensor())\n",
    "train_loader = torch.utils.data.DataLoader(train_set, batch_size=32, shuffle=True) \n",
    "test_loader = torch.utils.data.DataLoader(test_set, batch_size=32, shuffle=False) \n",
    "# Fix the seed to be able to get the same randomness across runs and hence reproducible outcomes\n",
    "torch.manual_seed(0)"
   ]
  },
  {
   "cell_type": "markdown",
   "id": "2bf46294-6c42-4a0f-b7c3-75bd7a52576f",
   "metadata": {},
   "source": [
    "## CNN Setup"
   ]
  },
  {
   "cell_type": "markdown",
   "id": "c55a034c-acfb-423d-a3cb-59f413be85a7",
   "metadata": {},
   "source": [
    "### FashionCNN Class"
   ]
  },
  {
   "cell_type": "code",
   "execution_count": null,
   "id": "4d2b5d92-fb49-435b-9747-aab5b52e2920",
   "metadata": {},
   "outputs": [],
   "source": [
    "def initialise_weights(m):\n",
    "    if isinstance(m, nn.Linear) or isinstance(m, nn.Conv2d):\n",
    "        torch.nn.init.xavier_normal_(m.weight)\n",
    "\n",
    "class FashionCNN(nn.Module):\n",
    "    def __init__(self):\n",
    "        super(FashionCNN, self).__init__()\n",
    "        self.network = nn.Sequential(\n",
    "            nn.Conv2d(1, 32, kernel_size=5, stride=1),\n",
    "            nn.ReLU(),\n",
    "            nn.MaxPool2d(kernel_size=2, stride=2),\n",
    "            nn.Conv2d(32, 64, kernel_size=5, stride=1),\n",
    "            nn.ReLU(),\n",
    "            nn.MaxPool2d(kernel_size=2, stride=2),\n",
    "            nn.Flatten(),\n",
    "            nn.Linear(1024, 1024),\n",
    "            nn.ReLU(),\n",
    "            nn.Linear(1024, 256),\n",
    "            nn.ReLU(),\n",
    "            nn.Linear(256, 10)\n",
    "        )\n",
    "\n",
    "        self.network.apply(initialise_weights)\n",
    "\n",
    "    def forward(self, x):\n",
    "        return self.network(x)"
   ]
  },
  {
   "cell_type": "markdown",
   "id": "eafa1b51-2fcd-45b3-a068-01306d64e394",
   "metadata": {},
   "source": [
    "### Evaluation"
   ]
  },
  {
   "cell_type": "code",
   "execution_count": null,
   "id": "353b3306-1823-4bc4-8331-f3623766286a",
   "metadata": {},
   "outputs": [],
   "source": [
    "def evaluation(model, dataloader):\n",
    "    total, correct = 0,0\n",
    "    # turn on evaluate mode, this de-activates certain modes such as dropout\n",
    "    # good practice to include in your projects\n",
    "    model.eval()\n",
    "    for data in dataloader:\n",
    "        inputs, labels = data\n",
    "        # inputs, labels = inputs.to(device), labels.to(device)\n",
    "        outputs = model(inputs)\n",
    "        # we take the index of the class that received the highest value\n",
    "        # we take outputs.data so that no backpropagation is performed for these outputs\n",
    "        _, pred = torch.max(outputs.data, 1)\n",
    "        total += labels.size(0)\n",
    "        # .item() takes Python float values from the tensor\n",
    "        correct += (pred == labels).sum().item()\n",
    "    return 100 * correct / total"
   ]
  },
  {
   "cell_type": "markdown",
   "id": "61f4c470-f44e-4186-b326-417b642a8024",
   "metadata": {},
   "source": [
    "### Training Function"
   ]
  },
  {
   "cell_type": "code",
   "execution_count": null,
   "id": "53987e99-7eb0-4656-b8c6-dc1e03d69de1",
   "metadata": {},
   "outputs": [],
   "source": [
    "def train_model(model, train_loader, test_loader, alpha=0.1, max_epochs=30):\n",
    "    loss_fn = nn.CrossEntropyLoss()\n",
    "    opt = torch.optim.SGD(list(model.parameters()), lr=alpha)\n",
    "\n",
    "    loss_per_epoch = []\n",
    "    epoch_sum = 0\n",
    "    train_acc = []\n",
    "    test_acc = []\n",
    "    \n",
    "    for e in range(max_epochs):\n",
    "        epoch_sum = 0\n",
    "        \n",
    "        for i, data in enumerate(train_loader, 0):\n",
    "            model.train()\n",
    "            inputs, labels = data\n",
    "            # inputs, labels = inputs.to(device), labels.to(device)\n",
    "            # zero the gradients\n",
    "            opt.zero_grad()\n",
    "            outputs = model(inputs)\n",
    "            # compute the loss\n",
    "            loss = loss_fn(outputs, labels)\n",
    "            # calculate the gradients\n",
    "            loss.backward()\n",
    "            # update the parameters using the gradients and optimizer algorithm\n",
    "            opt.step()\n",
    "            # we sum the loss over batches\n",
    "            epoch_sum += loss.item()\n",
    "\n",
    "        loss_per_epoch.append(epoch_sum)\n",
    "        train_acc.append(evaluation(model, train_loader))\n",
    "        test_acc.append(evaluation(model, test_loader))\n",
    "        print(f\"Epoch {e+1} | Avg Loss: {loss_per_epoch[-1]} | Train accuracy: {train_acc[-1]} | Test accuracy: {test_acc[-1]}\")\n",
    "    \n",
    "    return loss_per_epoch, train_acc, test_acc"
   ]
  },
  {
   "cell_type": "code",
   "execution_count": null,
   "id": "e4efb0ed-44ba-453e-9af4-a2421c646e94",
   "metadata": {},
   "outputs": [],
   "source": [
    "my_cnn = FashionCNN()"
   ]
  },
  {
   "cell_type": "code",
   "execution_count": null,
   "id": "bfa51fd7-7ef0-4d00-8c62-dd3f2c6a1dea",
   "metadata": {},
   "outputs": [],
   "source": [
    "train_model(my_cnn, train_loader, test_loader)"
   ]
  },
  {
   "cell_type": "code",
   "execution_count": null,
   "id": "b31bcf3e-dd93-45aa-950a-5d6ba5d1d115",
   "metadata": {},
   "outputs": [],
   "source": []
  }
 ],
 "metadata": {
  "kernelspec": {
   "display_name": "Python 3 (ipykernel)",
   "language": "python",
   "name": "python3"
  },
  "language_info": {
   "codemirror_mode": {
    "name": "ipython",
    "version": 3
   },
   "file_extension": ".py",
   "mimetype": "text/x-python",
   "name": "python",
   "nbconvert_exporter": "python",
   "pygments_lexer": "ipython3",
   "version": "3.9.6"
  }
 },
 "nbformat": 4,
 "nbformat_minor": 5
}
