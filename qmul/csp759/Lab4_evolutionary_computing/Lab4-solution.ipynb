{
 "cells": [
  {
   "cell_type": "markdown",
   "metadata": {
    "id": "c07R-sKwROm3"
   },
   "source": [
    "# ECS759P Lab4 - Evolutionary Algorithms"
   ]
  },
  {
   "cell_type": "markdown",
   "metadata": {
    "id": "Hohe3h_xNkad"
   },
   "source": [
    "## Recap\n",
    "\n",
    "Last time we went through examples of **informed** and **local** search algorithms. In this lab, we will deal with the features and problems shared by most evolutionary algorithms. You will then practice implementing a Genetic Algorithm to solve the Traveling Salesperson Problem (TSP) problem from scratch.\n",
    "\n",
    "We will then use the Distributed Evolutionary Algorithms in Python (DEAP) library to build such algorithms. You will need to refer to the [DEAP API documentation](https://deap.readthedocs.io/en/master/api/)."
   ]
  },
  {
   "cell_type": "markdown",
   "metadata": {
    "id": "8CEI_-msROm7"
   },
   "source": [
    "# 0. Elements to take into account using evolutionary algorithms\n"
   ]
  },
  {
   "cell_type": "markdown",
   "metadata": {
    "id": "vn1KxXakROm8"
   },
   "source": [
    "- **Individual representation** (binary, Gray, floating-point, etc.);\n",
    "- **Evaluation and fitness assignment**;\n",
    "- **Mating selection**: that establishes a partial order of individuals in the population using their fitness function value as reference and determines the degree at which individuals in the population will take part in the generation of new (offspring) individuals.\n",
    "- **Variation**: this applies a range of evolution-inspired operators, like crossover, mutation, etc., to synthesise offspring individuals from the current (parent) population. This process is supposed to prime the fittest individuals so that they play a bigger role in the generation of the offspring.\n",
    "- **Environmental selection**: that merges the parent and offspring individuals to produce the population that will be used in the next iteration. This process often involves the deletion of some individuals using a given criterion in order to keep the amount of individuals bellow a certain threshold.\n",
    "- **Stopping criterion**: that determines when the algorithm should be stopped, either because the optimum was reach or because the optimisation process is not progressing."
   ]
  },
  {
   "cell_type": "markdown",
   "metadata": {
    "id": "p1XVz1NBROm9"
   },
   "source": [
    "## Hence a 'general' evolutionary algorithm can be described as"
   ]
  },
  {
   "cell_type": "code",
   "execution_count": 1,
   "metadata": {
    "id": "C1DnADknVW-y"
   },
   "outputs": [],
   "source": [
    "def evolutionary_algorithm():\n",
    "    'Pseudocode of an evolutionary algorithm'\n",
    "    populations = [] # a list with all the populations\n",
    "\n",
    "    populations[0] =  initialize_population(pop_size)\n",
    "    t = 0\n",
    "\n",
    "    while not stop_criterion(populations[t]):\n",
    "        fitnesses = evaluate(populations[t])\n",
    "        offspring = mating_and_variation(populations[t], fitnesses)\n",
    "        populations[t+1] = environmental_selection(populations[t], offspring)\n",
    "        t = t+1"
   ]
  },
  {
   "cell_type": "markdown",
   "metadata": {
    "id": "G8Qa4olwxCZx"
   },
   "source": [
    "# 1. Using Genetic Algorithms to solve the Traveling Salesperson Problem"
   ]
  },
  {
   "cell_type": "markdown",
   "metadata": {
    "id": "nWFbj7LqxCZy"
   },
   "source": [
    "### Traveling Salesperson Problem (TSP)\n",
    "\n",
    "_Given a set of cities, and the distances between each pair of cities, find a tour of the cities with the minimum total distance. A tour means you start at one city, visit every other city exactly once, and then return to the starting city._\n",
    "\n",
    "- This is a well-known intractable problem, meaning that there are no efficient solutions that work for a large number of cities\n",
    "- We can create an inefficient algorithm that works fine for a small number of cites (about a dozen)\n",
    "- We can also find a nearly-shortest tour over thousands of cities\n",
    "- Actually, the fact there is no efficient algorithm is liberating. This means that we can use a very simple, inefficient algorithm and not feel too bad about it :)"
   ]
  },
  {
   "cell_type": "markdown",
   "metadata": {
    "id": "NeSbOk9RkPxN"
   },
   "source": [
    "The vocabulary of the problem:\n",
    "\n",
    "- City: For the purpose of this lab, a city is \"atomic\" in the sense that we do not have to know anything about the components or attributes of a city, just how far it is from other cities\n",
    "- Cities: We will need to represent a set of cities; Python's `set` datatype might be appropriate for that.\n",
    "- Distance: We will need the distance between two cities. If A and B are cities. This could be done with a function, `distance(A, B)`, or with a `dict`, `distance[A][B]` or `distance[A, B]`, or with an array if `A` and `B` are integer indexes. The resulting distance will be a real number (which Python calls a `float`).\n",
    "- Tour: A tour is an ordered list of cities; Python's `list` or `tuple` datatypes would work.\n",
    "- Total distance: The sum of the distances of adjacent cities in the tour. We will probably have a function, `total_distance(tour)`."
   ]
  },
  {
   "cell_type": "code",
   "execution_count": 2,
   "metadata": {
    "id": "Z6t_DVA-kPxN"
   },
   "outputs": [],
   "source": [
    "import random, operator, time, itertools, math, copy\n",
    "import numpy as np\n",
    "\n",
    "# useful for visualization\n",
    "import matplotlib.pyplot as plt\n",
    "import matplotlib.colors as colors\n",
    "import matplotlib.cm as cmx\n",
    "\n",
    "from matplotlib import rc\n",
    "rc(\"text\", usetex=False)\n",
    "\n",
    "import seaborn\n",
    "seaborn.set(style='whitegrid')\n",
    "seaborn.set_context('notebook')"
   ]
  },
  {
   "cell_type": "markdown",
   "metadata": {
    "id": "ksJm9XsykPxO"
   },
   "source": [
    "### Representing Tours\n",
    "- A tour starts in one city, and then visits each of the other cities in order, before finally returning to the starting city\n",
    "- A natural representation of the set of available cities is a Python set, and a natural representation of a tour is a sequence that is a _permutation_ of the set\n",
    "- The tuple `(1, 2, 3)`, for example, represents a tour that starts in city 1, moves to 2, then 3, and then returns to 1 to finish the tour"
   ]
  },
  {
   "cell_type": "code",
   "execution_count": 3,
   "metadata": {
    "colab": {
     "base_uri": "https://localhost:8080/"
    },
    "executionInfo": {
     "elapsed": 26,
     "status": "ok",
     "timestamp": 1699288912048,
     "user": {
      "displayName": "julia ive",
      "userId": "11396706016758891847"
     },
     "user_tz": 0
    },
    "id": "7KYL_w4AkPxO",
    "outputId": "00638b59-1f32-4b06-b11a-35e87bcef96d"
   },
   "outputs": [
    {
     "data": {
      "text/plain": [
       "[(1, 2, 3), (1, 3, 2), (2, 1, 3), (2, 3, 1), (3, 1, 2), (3, 2, 1)]"
      ]
     },
     "execution_count": 3,
     "metadata": {},
     "output_type": "execute_result"
    }
   ],
   "source": [
    "# Permutation function is already defined in the itertools module\n",
    "alltours = itertools.permutations\n",
    "cities = {1, 2, 3}\n",
    "list(alltours(cities))"
   ]
  },
  {
   "cell_type": "markdown",
   "metadata": {
    "id": "mQ3ayi-MkPxO"
   },
   "source": [
    "### Representing Cities and Distance\n",
    "Now for the notion of _distance_. We define `total_distance(tour)` as the sum of the distances between consecutive cities in the tour; that part is shown below and is easy (with one Python-specific trick: when `i` is 0, then `distance(tour[0], tour[-1])` gives us the wrap-around distance between the first and last cities, because `tour[-1]` is the last element of `tour`)."
   ]
  },
  {
   "cell_type": "code",
   "execution_count": 4,
   "metadata": {
    "id": "yLmfUgfekPxO"
   },
   "outputs": [],
   "source": [
    "def total_distance(tour):\n",
    "    \"The total distance between each pair of consecutive cities in the tour\"\n",
    "    return sum(distance(tour[i], tour[i-1]) for i in range(len(tour)))"
   ]
  },
  {
   "cell_type": "markdown",
   "metadata": {
    "id": "hhDbOjMckPxO"
   },
   "source": [
    "### Distance between cities\n",
    "Before we can define `distance(A, B)`, the distance between two cities, we have to make a choice. In the fully general version of the TSP problem, the distance between two cities could be anything: it could be the amount of time or money it takes to travel between cities.\n",
    "\n",
    "We will we represent a two-dimensional point with the `complex`, built-in numeric data type for two-dimensional points. We will define `City = complex`, meaning that we construct the representation of a city using the same constructor that makes complex numbers."
   ]
  },
  {
   "cell_type": "code",
   "execution_count": 5,
   "metadata": {
    "id": "QezEEOn8kPxO"
   },
   "outputs": [],
   "source": [
    "City = complex # Constructor for new cities, e.g. City(300, 400)"
   ]
  },
  {
   "cell_type": "markdown",
   "metadata": {
    "id": "Oa8F-FbpiCSq"
   },
   "source": [
    "**Q. By filling the gaps below, implement the necessary functions.**"
   ]
  },
  {
   "cell_type": "code",
   "execution_count": 6,
   "metadata": {
    "id": "miocClwqkPxO"
   },
   "outputs": [],
   "source": [
    "def distance(A, B):\n",
    "    # TO DO\n",
    "    \"The Euclidean distance between two cities.\"\n",
    "    return abs(A - B)\n",
    "    # TO DO"
   ]
  },
  {
   "cell_type": "code",
   "execution_count": 7,
   "metadata": {
    "colab": {
     "base_uri": "https://localhost:8080/"
    },
    "executionInfo": {
     "elapsed": 15,
     "status": "ok",
     "timestamp": 1699288912049,
     "user": {
      "displayName": "julia ive",
      "userId": "11396706016758891847"
     },
     "user_tz": 0
    },
    "id": "K0i_EcqRkPxO",
    "outputId": "e485757a-671c-485f-a5b0-d2c1a2c8fcc2"
   },
   "outputs": [
    {
     "data": {
      "text/plain": [
       "500.0"
      ]
     },
     "execution_count": 7,
     "metadata": {},
     "output_type": "execute_result"
    }
   ],
   "source": [
    "A = City(300, 0)\n",
    "B = City(0, 400)\n",
    "distance(A, B)"
   ]
  },
  {
   "cell_type": "code",
   "execution_count": 8,
   "metadata": {
    "id": "OsdMEq0qkPxO"
   },
   "outputs": [],
   "source": [
    "def generate_cities(n):\n",
    "    \"Make a set of n cities, each with random coordinates.\"\n",
    "    \"E.g., x coordinate between (10, 890) and y coordinate between (10, 590)\"\n",
    "    # TO DO\n",
    "    return set(City(random.randrange(10, 890), random.randrange(10, 590))\n",
    "               for c in range(n))\n",
    "    # TO DO"
   ]
  },
  {
   "cell_type": "code",
   "execution_count": 9,
   "metadata": {
    "colab": {
     "base_uri": "https://localhost:8080/"
    },
    "executionInfo": {
     "elapsed": 11,
     "status": "ok",
     "timestamp": 1699288912049,
     "user": {
      "displayName": "julia ive",
      "userId": "11396706016758891847"
     },
     "user_tz": 0
    },
    "id": "QU4u4ixJkPxO",
    "outputId": "b8da824e-22d0-4a05-985f-54acbb7623ea"
   },
   "outputs": [
    {
     "data": {
      "text/plain": [
       "{(374+63j),\n",
       " (456+246j),\n",
       " (50+354j),\n",
       " (691+440j),\n",
       " (709+259j),\n",
       " (781+349j),\n",
       " (863+276j),\n",
       " (91+475j)}"
      ]
     },
     "execution_count": 9,
     "metadata": {},
     "output_type": "execute_result"
    }
   ],
   "source": [
    "# Let's try some examples\n",
    "cities8, cities10, cities100, cities1000 = generate_cities(8), generate_cities(10), generate_cities(100), generate_cities(1000)\n",
    "# print out one for sanity check\n",
    "cities8"
   ]
  },
  {
   "cell_type": "markdown",
   "metadata": {
    "id": "HnpfNeozZdiJ"
   },
   "source": [
    "### Genetic Algorithm from Scratch\n",
    "\n",
    "We will follow the basic steps for a genetic algorithm and attempt to solve the TSP problem from scratch: initialise a population, take the best half of it for mating, perform crossing over and mutation with pre-set probabilities (hyperparameters), combine the best parents with the offspring to form the next population.  \n",
    "\n",
    "**Q. By filling the gaps below, implement a genetic algorithm to solve our TSP problem with 30 cities. Think about a suitable mutation operation. When implementing cross-over, pay attention to the fact that in the TSP problem permutations of cities contain no repetitions.**"
   ]
  },
  {
   "cell_type": "code",
   "execution_count": 10,
   "metadata": {
    "id": "y1EiG9gSYPqY"
   },
   "outputs": [],
   "source": [
    "def create_init_population(pop_size, city_dict):\n",
    "    '''\n",
    "    Method to create initial population\n",
    "    '''\n",
    "    population = []\n",
    "    cities_list = copy.deepcopy(list(city_dict.keys()))\n",
    "\n",
    "    for i in range(0, pop_size):\n",
    "\n",
    "        # We create permutations by random shuffling\n",
    "        random.shuffle(cities_list)\n",
    "        population.append(copy.deepcopy(cities_list))\n",
    "\n",
    "    return population"
   ]
  },
  {
   "cell_type": "code",
   "execution_count": 11,
   "metadata": {
    "id": "e35foEabYPqZ"
   },
   "outputs": [],
   "source": [
    "def mutation(pool_to_mutate, pMuta = 0.5):\n",
    "  \"\"\"\n",
    "  Mutate provided individuals with pMuta probability\n",
    "  \"\"\"\n",
    "  for index, indiv in enumerate(pool_to_mutate):\n",
    "    for pos in range(len(indiv)):\n",
    "      # TO DO\n",
    "      if np.random.rand() <= pMuta:\n",
    "        # pick a random position to swap with\n",
    "        pos2 = random.sample(range(len(indiv)), 1)[0]\n",
    "        # swap the positions\n",
    "        temp_val = indiv[pos]\n",
    "        indiv[pos] = indiv[pos2]\n",
    "        indiv[pos2] = temp_val\n",
    "      # TO DO\n",
    "  return pool_to_mutate\n",
    "\n",
    "def crossing_over(pool_to_cross, pCO = 0.1):\n",
    "  \"\"\"\n",
    "  Applies crossing over on the selected individuals with a probability pCO\n",
    "  \"\"\"\n",
    "  for index, indiv in enumerate(pool_to_cross):\n",
    "    # TO DO\n",
    "    # If crossing over should be applied on this individual for the given crossover rate\n",
    "    if np.random.rand() <= pCO:\n",
    "      # We get the list of all the other selected individuals\n",
    "      others = pool_to_cross[:]\n",
    "      others.remove(indiv)\n",
    "      # We pick randomly one of them\n",
    "      other = others[np.random.choice(len(others))]\n",
    "      # We get its index in order to modify it directly\n",
    "      otherIdx = pool_to_cross.index(other)\n",
    "      # Randomly choose a starting point and\n",
    "      # then we swap the genome starting from that position\n",
    "      # between the two individuals\n",
    "      startingIdx = np.random.choice(len(indiv))\n",
    "      tempChange = indiv[startingIdx:]\n",
    "\n",
    "      # we check if the permutation property is preserved\n",
    "      # (i.e., cities will not be repeated after cross-over)\n",
    "      if not any(city in indiv[:startingIdx] for city in other[startingIdx:]):\n",
    "\n",
    "        indiv[startingIdx:] = other[startingIdx:]\n",
    "        other[startingIdx:] = tempChange\n",
    "        # Modification of the new one\n",
    "        pool_to_cross[otherIdx] = other\n",
    "        pool_to_cross[index] = indiv\n",
    "\n",
    "    # TO DO\n",
    "  return pool_to_cross"
   ]
  },
  {
   "cell_type": "code",
   "execution_count": 12,
   "metadata": {
    "id": "3W-3hQAJYPqZ"
   },
   "outputs": [],
   "source": [
    "def sort_individuals(pool_to_sort, city_dict):\n",
    "\n",
    "  # We get fitness values for each individual by using the total distance method above\n",
    "  fitness_values = [total_distance([city_dict[city] for city in i]) for i in pool_to_sort]\n",
    "  sorted_pairs = sorted(zip(fitness_values, pool_to_sort))\n",
    "  pool_to_sort = [item[1] for item in sorted_pairs]\n",
    "  return pool_to_sort\n"
   ]
  },
  {
   "cell_type": "code",
   "execution_count": 13,
   "metadata": {
    "colab": {
     "base_uri": "https://localhost:8080/"
    },
    "executionInfo": {
     "elapsed": 22359,
     "status": "ok",
     "timestamp": 1699288934400,
     "user": {
      "displayName": "julia ive",
      "userId": "11396706016758891847"
     },
     "user_tz": 0
    },
    "id": "FeQhNqNJYPqa",
    "outputId": "f056b8b0-1349-4044-c8a8-17346e11cd83"
   },
   "outputs": [
    {
     "name": "stdout",
     "output_type": "stream",
     "text": [
      "[(624+178j), (45+395j), (171+141j), (499+331j), (416+82j), (53+332j), (252+117j), (355+318j), (254+375j), (719+158j), (13+308j), (484+557j), (25+306j), (622+471j), (376+513j), (764+385j), (769+236j), (505+582j), (508+454j), (241+248j), (174+165j), (210+516j), (456+499j), (157+429j), (809+341j), (488+365j), (841+35j), (748+409j), (446+574j), (782+187j)]\n",
      "Best initial population result has a fitness of 8615.776426423134\n",
      "Best result has a fitness of 5212.656891536009\n"
     ]
    }
   ],
   "source": [
    "# Number of cities in our problem\n",
    "num_cities = 30\n",
    "# Population size\n",
    "pop_size = 300\n",
    "half = int(pop_size / 2)\n",
    "# Mutation rate (per gene)\n",
    "pMuta = 0.2\n",
    "# Crossover rate\n",
    "pCO = 0.8\n",
    "# Number of generations\n",
    "n_gen = 400\n",
    "\n",
    "# Get the list of city coordinates\n",
    "cities = list(generate_cities(num_cities))\n",
    "print(cities)\n",
    "# City position in the list will be its name\n",
    "# E.g., for two cities we will get the following dictionary {'0': (116+327j), '1': (779+536j)}\n",
    "city_dict = {str(i): cities[i] for i in range(len(cities))}\n",
    "\n",
    "# Create initial population via permutations\n",
    "population = create_init_population(pop_size, city_dict)\n",
    "population = sort_individuals(population, city_dict)\n",
    "\n",
    "print(\"Best initial population result has a fitness of \" + str(total_distance([city_dict[city] for city in population[0]])))\n",
    "\n",
    "for i in range(n_gen):\n",
    "\n",
    "  mating_pool = copy.deepcopy(population)[:half]\n",
    "  # perform cross over and mutation over the best parents\n",
    "  mating_pool = crossing_over(mating_pool, pCO)\n",
    "  mating_pool = mutation(mating_pool, pMuta)\n",
    "  # combine the best of parents and offsprings to form a new population\n",
    "  population = copy.deepcopy(population)[:half] + mating_pool\n",
    "  # Sort population according to fitness (coordinates for distance computation are provided by city_dict)\n",
    "  population = sort_individuals(population, city_dict)\n",
    "\n",
    "population = sort_individuals(population, city_dict)\n",
    "print(\"Best result has a fitness of \" + str(total_distance([city_dict[city] for city in population[0]])))"
   ]
  },
  {
   "cell_type": "markdown",
   "metadata": {
    "id": "0EfyZBDnkPxP"
   },
   "source": [
    "Next you will try to solve the same TSP problem with DEAP\n",
    "\n",
    "# Some preliminaries for the experiment with DEAP"
   ]
  },
  {
   "cell_type": "markdown",
   "metadata": {
    "id": "lei4BzZJSm9r"
   },
   "source": [
    "# 1. The One Max problem"
   ]
  },
  {
   "cell_type": "markdown",
   "metadata": {
    "id": "n78ondcpROnA"
   },
   "source": [
    "Let us start with the simple One Max problem, and analyse it:\n",
    "- Maximise the number of ones in a binary string (list, vector, etc.)\n",
    "- More formally, from the set of binary strings of length $n$,\n",
    "\n",
    "$$\\mathcal{S}=\\{s_1,\\ldots,s_n\\}, \\text{ with } s_i=\\{0,1\\}.$$\n",
    "\n",
    "- Find $s^∗\\in\\mathcal{S}$ such that\n",
    "\n",
    "$$s^∗=argmax_{s\\in\\mathcal{S}}\\sum_{i=1}^{n}s_i.$$\n",
    "\n",
    "- It is clear that the optimum is an all-ones string"
   ]
  },
  {
   "cell_type": "code",
   "execution_count": null,
   "metadata": {
    "id": "1c91wz1AxjEy"
   },
   "outputs": [],
   "source": [
    "import random\n",
    "from deap import algorithms, base, creator, tools"
   ]
  },
  {
   "cell_type": "markdown",
   "metadata": {
    "id": "ywG3H0evkPxC"
   },
   "source": [
    "### Essential features\n",
    "\n",
    "- `deap.creator`: meta-factory allowing to create classes that will fulfill the needs of your evolutionary algorithms.\n",
    "- `deap.base.Toolbox`: A toolbox for evolution that contains the evolutionary operators. You may populate the toolbox with any other function by using the register() method\n",
    "- `deap.base.Fitness([values])`: The fitness is a measure of quality of a solution. If values are provided as a tuple, the fitness is initalised using those values, otherwise it is empty (or invalid). You should inherit from this class to define your custom fitness functions."
   ]
  },
  {
   "cell_type": "code",
   "execution_count": null,
   "metadata": {
    "id": "04JQKa7rkPxC"
   },
   "outputs": [],
   "source": [
    "# Create a max fitness function\n",
    "# Here the fitness has only one value with the weight of 1.0\n",
    "# In general the fitness can have multiple values when there are\n",
    "# multiple objectives (you will learn about it later in the module)\n",
    "# Then, each objective will have a weight value\n",
    "creator.create(\"FitnessMax\", base.Fitness, weights=(1.0,))\n",
    "# specify that an individual is a list\n",
    "creator.create(\"Individual\", list, fitness=creator.FitnessMax)"
   ]
  },
  {
   "cell_type": "code",
   "execution_count": null,
   "metadata": {
    "id": "k81GEL9fkPxC"
   },
   "outputs": [],
   "source": [
    "# define the function to compute the fitness\n",
    "def evalOneMax(individual):\n",
    "    return (sum(individual),)"
   ]
  },
  {
   "cell_type": "markdown",
   "metadata": {
    "id": "fyWLMSLRjPFi"
   },
   "source": [
    "### Defining the elements\n"
   ]
  },
  {
   "cell_type": "code",
   "execution_count": null,
   "metadata": {
    "id": "AZ4LwlNhkPxD"
   },
   "outputs": [],
   "source": [
    "toolbox = base.Toolbox()"
   ]
  },
  {
   "cell_type": "code",
   "execution_count": null,
   "metadata": {
    "id": "lrDmck_FkPxD"
   },
   "outputs": [],
   "source": [
    "toolbox.register(\"attr_bool\", random.randint, 0, 1)\n",
    "toolbox.register(\"individual\", tools.initRepeat, creator.Individual,\n",
    "                 toolbox.attr_bool, n=100)\n",
    "toolbox.register(\"population\", tools.initRepeat, list,\n",
    "                 toolbox.individual)"
   ]
  },
  {
   "cell_type": "code",
   "execution_count": null,
   "metadata": {
    "id": "THLTV5yikPxD"
   },
   "outputs": [],
   "source": [
    "toolbox.register(\"evaluate\", evalOneMax)\n",
    "toolbox.register(\"mate\", tools.cxTwoPoint)\n",
    "toolbox.register(\"mutate\", tools.mutFlipBit, indpb=0.05)\n",
    "toolbox.register(\"select\", tools.selTournament, tournsize=3)"
   ]
  },
  {
   "cell_type": "markdown",
   "metadata": {
    "id": "0LZclCOCkPxD"
   },
   "source": [
    "### Running the experiment"
   ]
  },
  {
   "cell_type": "code",
   "execution_count": null,
   "metadata": {
    "id": "_pLZshJfypXh"
   },
   "outputs": [],
   "source": [
    "# Generate an initial population of 300 individuals\n",
    "pop = toolbox.population(n=300)"
   ]
  },
  {
   "cell_type": "code",
   "execution_count": null,
   "metadata": {
    "id": "P4uII8tNldqB"
   },
   "outputs": [],
   "source": [
    "# run the predefined simple evolutionary algorithm (eaSimple) for 10 generations\n",
    "result = algorithms.eaSimple(pop, toolbox, cxpb=0.5, mutpb=0.2,\n",
    "                             ngen=10, verbose=False)"
   ]
  },
  {
   "cell_type": "code",
   "execution_count": null,
   "metadata": {
    "colab": {
     "base_uri": "https://localhost:8080/"
    },
    "executionInfo": {
     "elapsed": 7,
     "status": "ok",
     "timestamp": 1699288934702,
     "user": {
      "displayName": "julia ive",
      "userId": "11396706016758891847"
     },
     "user_tz": 0
    },
    "id": "0vhK5Ph3kPxE",
    "outputId": "d1d40d7c-8967-4f7d-9d86-c83dfb28e1fc"
   },
   "outputs": [],
   "source": [
    "print('Current best fitness:', evalOneMax(tools.selBest(pop, k=1)[0]))"
   ]
  },
  {
   "cell_type": "code",
   "execution_count": null,
   "metadata": {
    "id": "VvadXLwakPxE"
   },
   "outputs": [],
   "source": [
    "# run the algorithm for another 50 generations\n",
    "result = algorithms.eaSimple(pop, toolbox, cxpb=0.5, mutpb=0.2,\n",
    "                             ngen=50, verbose=False)"
   ]
  },
  {
   "cell_type": "code",
   "execution_count": null,
   "metadata": {
    "colab": {
     "base_uri": "https://localhost:8080/"
    },
    "executionInfo": {
     "elapsed": 33,
     "status": "ok",
     "timestamp": 1699288936218,
     "user": {
      "displayName": "julia ive",
      "userId": "11396706016758891847"
     },
     "user_tz": 0
    },
    "id": "na7Yq18ZkPxE",
    "outputId": "3b63e575-2795-47de-ddc5-09f0a1dc8c7f"
   },
   "outputs": [],
   "source": [
    "print('Current best fitness:', evalOneMax(tools.selBest(pop, k=1)[0]))"
   ]
  },
  {
   "cell_type": "markdown",
   "metadata": {
    "id": "VJpRieBzkPxE"
   },
   "source": [
    "# 2. Basic operators of genetic algorithms\n"
   ]
  },
  {
   "cell_type": "markdown",
   "metadata": {
    "id": "WFzn4OFvkPxE"
   },
   "source": [
    "### Defining an individual\n",
    "\n",
    "First import the required modules and register the different functions required to create individuals that are lists of floats with a minimising two objectives fitness (in general, more than one value can be used as fitness)."
   ]
  },
  {
   "cell_type": "code",
   "execution_count": null,
   "metadata": {
    "id": "WhX78LKUj9pk"
   },
   "outputs": [],
   "source": [
    "import random\n",
    "\n",
    "from deap import base\n",
    "from deap import creator\n",
    "from deap import tools"
   ]
  },
  {
   "cell_type": "code",
   "execution_count": null,
   "metadata": {
    "id": "v-kkEXmHwYDF"
   },
   "outputs": [],
   "source": [
    "# length of the one individual presentation (i.e. the chromosome length)\n",
    "IND_SIZE = 5"
   ]
  },
  {
   "cell_type": "code",
   "execution_count": null,
   "metadata": {
    "id": "cJBJNK8fkPxF"
   },
   "outputs": [],
   "source": [
    "creator.create(\"FitnessMin\", base.Fitness, weights=(-1.0, -1.0))\n",
    "creator.create(\"Individual1\", list, fitness=creator.FitnessMin)\n",
    "\n",
    "toolbox1 = base.Toolbox()\n",
    "toolbox1.register(\"attr_float\", random.random)\n",
    "toolbox1.register(\"individual\", tools.initRepeat, creator.Individual1,\n",
    "                  toolbox1.attr_float, n=IND_SIZE)"
   ]
  },
  {
   "cell_type": "markdown",
   "metadata": {
    "id": "Uw1TBBcZkPxF"
   },
   "source": [
    "The first individual can now be built"
   ]
  },
  {
   "cell_type": "code",
   "execution_count": null,
   "metadata": {
    "colab": {
     "base_uri": "https://localhost:8080/"
    },
    "executionInfo": {
     "elapsed": 24,
     "status": "ok",
     "timestamp": 1699288936219,
     "user": {
      "displayName": "julia ive",
      "userId": "11396706016758891847"
     },
     "user_tz": 0
    },
    "id": "2VTCdiZmkPxF",
    "outputId": "d4bd0abe-691b-49b5-b51d-3306a9480b07"
   },
   "outputs": [],
   "source": [
    "ind1 = toolbox1.individual()\n",
    "# Printing the individual ind1\n",
    "print(ind1)\n",
    "# Checking if its fitness is valid\n",
    "print(ind1.fitness.valid)"
   ]
  },
  {
   "cell_type": "markdown",
   "metadata": {
    "id": "dJ4OKA9_kPxF"
   },
   "source": [
    "In the code block above, the individual is printed as its base class representation (here a `list`). Its fitness is invalid because it contains no values."
   ]
  },
  {
   "cell_type": "markdown",
   "metadata": {
    "id": "8rgvRhG8zW6X"
   },
   "source": [
    "### Evaluation\n",
    "\n",
    "The evaluation is the most \"personal\" part of an evolutionary algorithm\n",
    "\n",
    "- It is the only part of the library that you must write yourself\n",
    "- A typical evaluation function takes one individual as argument and return its fitness as a tuple\n",
    "- The fitness is set by setting the values to the associated tuple"
   ]
  },
  {
   "cell_type": "markdown",
   "metadata": {
    "id": "5TOe2RugkPxF"
   },
   "source": [
    "For example, the following evaluates the previously created individual `ind1` and assign its fitness to the corresponding values."
   ]
  },
  {
   "cell_type": "code",
   "execution_count": null,
   "metadata": {
    "id": "kraNSyRG5Ufw"
   },
   "outputs": [],
   "source": [
    "# individual is a list\n",
    "# the fitness is composed of two values, sum and inversed length of the list\n",
    "def evaluate(individual):\n",
    "    # Do some computing on the individual\n",
    "    a = sum(individual)\n",
    "    b = len(individual)\n",
    "    return a, 1. / b"
   ]
  },
  {
   "cell_type": "code",
   "execution_count": null,
   "metadata": {
    "colab": {
     "base_uri": "https://localhost:8080/"
    },
    "executionInfo": {
     "elapsed": 20,
     "status": "ok",
     "timestamp": 1699288936219,
     "user": {
      "displayName": "julia ive",
      "userId": "11396706016758891847"
     },
     "user_tz": 0
    },
    "id": "u-bzcfDBkPxF",
    "outputId": "5e1baa26-a5bb-42d0-8d00-968ca763482c"
   },
   "outputs": [],
   "source": [
    "# evaluate the individual ind1\n",
    "ind1.fitness.values = evaluate(ind1)\n",
    "print(ind1.fitness.valid)\n",
    "print(ind1.fitness)"
   ]
  },
  {
   "cell_type": "markdown",
   "metadata": {
    "id": "Uq0eWgb55dui"
   },
   "source": [
    "Dealing with single objective fitness is not different, the evaluation function must return a tuple because single-objective is treated as a special case of multi-objective."
   ]
  },
  {
   "cell_type": "markdown",
   "metadata": {
    "id": "N8XkAPBWkPxF"
   },
   "source": [
    "### Mutation\n",
    "- There is a variety of mutation operators in the `deap.tools` module\n",
    "- Each mutation has its own characteristics and may be applied to different types of individuals\n",
    "- Be careful to read the documentation of the selected operator in order to avoid undesirable behaviour\n",
    "\n",
    "The general rule for mutation operators is that they only mutate, this means that an independent copy must be made prior to mutating the individual if the original individual has to be kept or is a reference to an other individual (see the selection operator)"
   ]
  },
  {
   "cell_type": "markdown",
   "metadata": {
    "id": "tnk0yRUukPxF"
   },
   "source": [
    "In order to apply a mutation (here a gaussian mutation) on the individual `ind1`, simply apply the desired function."
   ]
  },
  {
   "cell_type": "code",
   "execution_count": null,
   "metadata": {
    "id": "AeXzZ03xkPxF"
   },
   "outputs": [],
   "source": [
    "# create the copy of ind1\n",
    "mutant = toolbox1.clone(ind1)\n",
    "# mutate the copied individual to create ind2\n",
    "# mu: is the mean of the gaussian addition mutation\n",
    "# sigma: is the standard deviation of the gaussian addition mutation\n",
    "# indpb: independent probability for each attribute to be mutated.\n",
    "ind2, = tools.mutGaussian(mutant, mu=0.0, sigma=0.2, indpb=0.2)\n",
    "# delete the fitness’ values of the new individual ind2 (i.e. mutant)\n",
    "del mutant.fitness.values"
   ]
  },
  {
   "cell_type": "markdown",
   "metadata": {
    "id": "gGEC1CJ3kPxG"
   },
   "source": [
    "The fitness values are deleted because they are not related to the individual anymore. As stated above, the mutation only mutates an individual and is not responsible of invalidating the fitness nor anything else. The following shows that `ind2` and mutant are in fact the same individual."
   ]
  },
  {
   "cell_type": "code",
   "execution_count": null,
   "metadata": {
    "colab": {
     "base_uri": "https://localhost:8080/"
    },
    "executionInfo": {
     "elapsed": 17,
     "status": "ok",
     "timestamp": 1699288936219,
     "user": {
      "displayName": "julia ive",
      "userId": "11396706016758891847"
     },
     "user_tz": 0
    },
    "id": "3ttF3QqtkPxM",
    "outputId": "9d0a6f54-e0c9-456a-997c-39a696d5f75a"
   },
   "outputs": [],
   "source": [
    "ind2 is mutant"
   ]
  },
  {
   "cell_type": "code",
   "execution_count": null,
   "metadata": {
    "colab": {
     "base_uri": "https://localhost:8080/"
    },
    "executionInfo": {
     "elapsed": 13,
     "status": "ok",
     "timestamp": 1699288936219,
     "user": {
      "displayName": "julia ive",
      "userId": "11396706016758891847"
     },
     "user_tz": 0
    },
    "id": "ZS1lfE1xkPxM",
    "outputId": "9d600de6-9b6c-4c24-adab-f00b13fbcea0"
   },
   "outputs": [],
   "source": [
    "mutant is ind2"
   ]
  },
  {
   "cell_type": "markdown",
   "metadata": {
    "id": "654_U_C2kPxM"
   },
   "source": [
    "### Crossover\n",
    "- Again, there is a variety of crossover operators in the `deap.tools` module.\n",
    "- Each crossover has its own characteristics and may be applied to different type of individuals\n",
    "- Be careful to read the documentation of the selected operator in order to avoid undesirable behaviour\n",
    "\n",
    "The general rule for crossover operators is that they only mate individuals, this means that independent copies must be made prior to mating the individuals if the original individuals have to be kept or are references to other individuals (see the selection operator)."
   ]
  },
  {
   "cell_type": "markdown",
   "metadata": {
    "id": "hP7LRCefkPxM"
   },
   "source": [
    "Let us apply a crossover operation to produce two children that are cloned beforehand."
   ]
  },
  {
   "cell_type": "code",
   "execution_count": null,
   "metadata": {
    "id": "2_QI4j18kPxM"
   },
   "outputs": [],
   "source": [
    "# clone ind1 and ind2 to create child1 and child2, respectively\n",
    "child1, child2 = [toolbox1.clone(ind) for ind in (ind1, ind2)]\n",
    "# execute a blend crossover (cxBlend) that modifies in-place the input individuals\n",
    "# alpha=0.5: the extent of the interval in which the new values can be drawn for each attribute on both side of the parents’ attributes\n",
    "tools.cxBlend(child1, child2, 0.5)\n",
    "del child1.fitness.values\n",
    "del child2.fitness.values"
   ]
  },
  {
   "cell_type": "markdown",
   "metadata": {
    "id": "NlVlDtuHkPxN"
   },
   "source": [
    "### Selection\n",
    "- Selection is performed using the selection operators that are available in the `deap.operators` module\n",
    "- The selection operator usually takes as first argument an iterable container of individuals and the number of individuals to select. It returns a list containing the references to the selected individuals\n",
    "\n",
    "The selection is made as follows."
   ]
  },
  {
   "cell_type": "code",
   "execution_count": null,
   "metadata": {
    "colab": {
     "base_uri": "https://localhost:8080/"
    },
    "executionInfo": {
     "elapsed": 307,
     "status": "ok",
     "timestamp": 1699288936518,
     "user": {
      "displayName": "julia ive",
      "userId": "11396706016758891847"
     },
     "user_tz": 0
    },
    "id": "jmhUFQb0kPxN",
    "outputId": "f45c57f0-3743-4c45-cc97-f691cb149e7f"
   },
   "outputs": [],
   "source": [
    "selected = tools.selBest([child1, child2], 2)\n",
    "child1 in selected"
   ]
  },
  {
   "cell_type": "markdown",
   "metadata": {
    "id": "Z7jBNATIkPxN"
   },
   "source": [
    "**Q: Do you know why the above block should return \"True\"?**"
   ]
  },
  {
   "cell_type": "markdown",
   "metadata": {
    "id": "tVquAsQ1XTsA"
   },
   "source": [
    "**A: Only a reference to the individual is copied. Like other operators, the operator selects and only selects.**"
   ]
  },
  {
   "cell_type": "markdown",
   "metadata": {
    "id": "tbf25lbfkPxN"
   },
   "source": [
    "### Using the Toolbox\n",
    "- The toolbox is intended to contain all the evolutionary tools, from the object initialisers to the evaluation operator\n",
    "- It allows easy configuration of each algorithm\n",
    "- The toolbox has basically two methods, `register()` and `unregister()`, that are used to add or remove tools from the toolbox\n",
    "- The usual names for the evolutionary tools are `mate()`, `mutate()`, `evaluate()` and `select()`, however, any name can be registered as long as it is unique. Here is how they are registered in the toolbox."
   ]
  },
  {
   "cell_type": "code",
   "execution_count": null,
   "metadata": {
    "id": "doRPmb91kPxN"
   },
   "outputs": [],
   "source": [
    "from deap import base\n",
    "from deap import tools\n",
    "\n",
    "toolbox1 = base.Toolbox()\n",
    "\n",
    "def evaluateInd(individual):\n",
    "    # Do some computation\n",
    "    return result,\n",
    "\n",
    "toolbox1.register(\"mate\", tools.cxTwoPoint)\n",
    "toolbox1.register(\"mutate\", tools.mutGaussian, mu=0, sigma=1, indpb=0.2)\n",
    "toolbox1.register(\"select\", tools.selTournament, tournsize=3)\n",
    "toolbox1.register(\"evaluate\", evaluateInd)"
   ]
  },
  {
   "cell_type": "markdown",
   "metadata": {
    "id": "Ke_s-0cPkPxN"
   },
   "source": [
    "### Algorithms\n",
    "- There are several algorithms implemented in the algorithms module (such as `eaSimple()`, `eaMuPlusLambda()`, `eaMuCommaLambda()`, or `eaGenerateUpdate()`)\n",
    "- They are very simple and reflect the basic types of evolutionary algorithms present in the literature\n",
    "- The algorithms use a Toolbox as defined in the last section\n",
    "- In order to setup a toolbox for an algorithm, you must register the desired operators under specified names, refer to the documentation of the selected algorithm for more details\n",
    "- Once the toolbox is ready, it is time to launch the algorithm"
   ]
  },
  {
   "cell_type": "markdown",
   "metadata": {
    "id": "7qe3KqAHkPxN"
   },
   "source": [
    "For example, the _simple evolutionary algorithm_ takes 5 arguments, a population, a toolbox, a probability of mating each individual at each generation (`cxpb`), a probability of mutating each individual at each generation (`mutpb`) and a number of generations to accomplish (`ngen`)."
   ]
  },
  {
   "cell_type": "code",
   "execution_count": null,
   "metadata": {
    "colab": {
     "base_uri": "https://localhost:8080/"
    },
    "executionInfo": {
     "elapsed": 1225,
     "status": "ok",
     "timestamp": 1699288937732,
     "user": {
      "displayName": "julia ive",
      "userId": "11396706016758891847"
     },
     "user_tz": 0
    },
    "id": "_uFZt7RkkPxN",
    "outputId": "94833a6b-7637-4a8d-de60-b153eba3140c"
   },
   "outputs": [],
   "source": [
    "from deap import algorithms\n",
    "\n",
    "result = algorithms.eaSimple(pop, toolbox, cxpb=0.5, mutpb=0.2, ngen=50)"
   ]
  },
  {
   "cell_type": "markdown",
   "metadata": {
    "id": "iXX01HCQkPxP"
   },
   "source": [
    "**Q. By filling the gaps below, implement a genetic algorithm with DEAP to solve the TSP problem. Compare and discuss the solutions found by both implementations.**\n",
    "\n",
    "We will carry out our tests again for a 30-cities problem. Note that you do not need to regenerate cities otherwise you will not be able to compare results to your previous algorithm.\n",
    "\n",
    "### Individual representation and evaluation\n",
    "- Individuals represent possible solutions to the problem\n",
    "- For simplicity, an individual can be a list with the indexes corresponding to each city\n",
    "- We can rely again on the `total_distance()` function for evaluation and set the fitness assignment as to minimise it"
   ]
  },
  {
   "cell_type": "code",
   "execution_count": null,
   "metadata": {
    "colab": {
     "base_uri": "https://localhost:8080/"
    },
    "executionInfo": {
     "elapsed": 15,
     "status": "ok",
     "timestamp": 1699288937732,
     "user": {
      "displayName": "julia ive",
      "userId": "11396706016758891847"
     },
     "user_tz": 0
    },
    "id": "47ldHPN4eLJx",
    "outputId": "2724580d-752a-4f03-92aa-55c3c0474d13"
   },
   "outputs": [],
   "source": [
    "# sanity check that cities are still the same\n",
    "print(cities)"
   ]
  },
  {
   "cell_type": "code",
   "execution_count": null,
   "metadata": {
    "id": "1hzJINnekPxP"
   },
   "outputs": [],
   "source": [
    "toolbox = base.Toolbox()\n",
    "\n",
    "creator.create(\"FitnessMinTSP\", base.Fitness, weights=(-1.0,))\n",
    "creator.create(\"IndividualTSP\", list, fitness=creator.FitnessMinTSP)"
   ]
  },
  {
   "cell_type": "markdown",
   "metadata": {
    "id": "IwL8InPakPxP"
   },
   "source": [
    "Let us now define that our individuals are composed of indexes that refer to elements of `cities` and, correspondingly, the population is composed of individuals."
   ]
  },
  {
   "cell_type": "code",
   "execution_count": null,
   "metadata": {
    "id": "dPw2F28UkPxP"
   },
   "outputs": [],
   "source": [
    "# TO DO\n",
    "toolbox.register(\"indices\", np.random.permutation, len(cities))\n",
    "# toolbox.register(\"individual\", ... )\n",
    "# toolbox.register(\"population\", ... )\n",
    "toolbox.register(\"individual\", tools.initIterate, creator.IndividualTSP,\n",
    "                 toolbox.indices)\n",
    "toolbox.register(\"population\", tools.initRepeat, list,\n",
    "                 toolbox.individual)"
   ]
  },
  {
   "cell_type": "markdown",
   "metadata": {
    "id": "xPYt9LGQkPxP"
   },
   "source": [
    "Defining the crossover and mutation operators can be a challenging task.\n",
    "\n",
    "There are various crossover operators that have been devised to deal with ordered individuals like ours.\n",
    "\n",
    "- We will be using DEAP's `deap.tools.cxOrdered()` crossover\n",
    "- For mutation we will again swap elements from two points of an individual\n",
    "- This is performed by `deap.tools.mutShuffleIndexes()`"
   ]
  },
  {
   "cell_type": "code",
   "execution_count": null,
   "metadata": {
    "id": "3lcx8qnRkPxP"
   },
   "outputs": [],
   "source": [
    "# TO DO\n",
    "# define crossover operator using tools.cxOrdered crossover\n",
    "# toolbox.register(...)\n",
    "toolbox.register(\"mate\", tools.cxOrdered)\n",
    "\n",
    "# define mutation operator using tools.mutShuffleIndexes\n",
    "# toolbox.register(...)\n",
    "toolbox.register(\"mutate\", tools.mutShuffleIndexes, indpb=0.05)"
   ]
  },
  {
   "cell_type": "markdown",
   "metadata": {
    "id": "EcP3L9GJkPxQ"
   },
   "source": [
    "Evaluation can be easily defined from the `total_distance()` definition."
   ]
  },
  {
   "cell_type": "code",
   "execution_count": null,
   "metadata": {
    "id": "gvymmQktkPxQ"
   },
   "outputs": [],
   "source": [
    "def create_tour(individual):\n",
    "    return [list(cities)[e] for e in individual]"
   ]
  },
  {
   "cell_type": "code",
   "execution_count": null,
   "metadata": {
    "id": "VLdJ74b6kPxQ"
   },
   "outputs": [],
   "source": [
    "def evaluation(individual):\n",
    "    '''Evaluates an individual by converting it into\n",
    "    a list of cities and passing that list to total_distance'''\n",
    "    # TO DO\n",
    "    return (total_distance(create_tour(individual)),)"
   ]
  },
  {
   "cell_type": "code",
   "execution_count": null,
   "metadata": {
    "id": "XCd61riLkPxQ"
   },
   "outputs": [],
   "source": [
    "toolbox.register(\"evaluate\", evaluation)"
   ]
  },
  {
   "cell_type": "markdown",
   "metadata": {
    "id": "rCUsCz_HkPxQ"
   },
   "source": [
    "We will employ tournament selection with size 3."
   ]
  },
  {
   "cell_type": "code",
   "execution_count": null,
   "metadata": {
    "id": "P5ZG7_rmkPxQ"
   },
   "outputs": [],
   "source": [
    "# TO DO\n",
    "# define selection operator using tournament selection with size 3\n",
    "toolbox.register(\"select\", tools.selTournament, tournsize=3)"
   ]
  },
  {
   "cell_type": "markdown",
   "metadata": {
    "id": "SZO3rNbXkPxQ"
   },
   "source": [
    "Let us run the algorithm with a population of 100 individuals and 400 generations."
   ]
  },
  {
   "cell_type": "code",
   "execution_count": null,
   "metadata": {
    "id": "zEmk0ogDkPxQ"
   },
   "outputs": [],
   "source": [
    "# TO DO\n",
    "\n",
    "# create a population of 100 individuals\n",
    "# pop =\n",
    "pop = toolbox.population(n=100)"
   ]
  },
  {
   "cell_type": "code",
   "execution_count": null,
   "metadata": {
    "colab": {
     "base_uri": "https://localhost:8080/"
    },
    "executionInfo": {
     "elapsed": 11610,
     "status": "ok",
     "timestamp": 1699288949657,
     "user": {
      "displayName": "julia ive",
      "userId": "11396706016758891847"
     },
     "user_tz": 0
    },
    "id": "48erbKDzkPxQ",
    "outputId": "8d34869d-58e9-4c82-d91f-b59c0cfea9ad"
   },
   "outputs": [],
   "source": [
    "# TO DO\n",
    "\n",
    "# run the simple genetic algorithm for 400 generations\n",
    "\n",
    "%time\n",
    "# result, log = ...\n",
    "result, log = algorithms.eaSimple(pop, toolbox,\n",
    "                             cxpb=0.8, mutpb=0.2,\n",
    "                             ngen=400, verbose=False)"
   ]
  },
  {
   "cell_type": "markdown",
   "metadata": {
    "id": "uBYSHK9qkPxQ"
   },
   "source": [
    "### We can now review the results\n",
    "The best individual of the last population:"
   ]
  },
  {
   "cell_type": "code",
   "execution_count": null,
   "metadata": {
    "colab": {
     "base_uri": "https://localhost:8080/"
    },
    "executionInfo": {
     "elapsed": 31,
     "status": "ok",
     "timestamp": 1699288949657,
     "user": {
      "displayName": "julia ive",
      "userId": "11396706016758891847"
     },
     "user_tz": 0
    },
    "id": "0puhrnOykPxQ",
    "outputId": "44eed277-ea6d-4019-be72-8a5357365dc9"
   },
   "outputs": [],
   "source": [
    "best_individual = tools.selBest(result, k=1)[0]\n",
    "print(best_individual)\n",
    "print('Fitness of the best individual: ', evaluation(best_individual)[0])"
   ]
  },
  {
   "cell_type": "code",
   "execution_count": null,
   "metadata": {
    "id": "SNNi00iikPxP"
   },
   "outputs": [],
   "source": [
    "def plot_tour(tour, alpha=1, color=None):\n",
    "    # Plot the tour as blue lines between blue circles, and the starting city as a green square.\n",
    "    plotline(list(tour) + [tour[0]], alpha=alpha, color=color)\n",
    "    plotline([tour[0]], style='gD', alpha=alpha, size=10)\n",
    "    # plt.show()\n",
    "\n",
    "def plotline(points, style='bo-', alpha=1, size=7, color=None):\n",
    "    \"Plot a list of points (complex numbers) in the 2-D plane.\"\n",
    "    X, Y = XY(points)\n",
    "\n",
    "    if color:\n",
    "        color = (abs(color[0] - 0.7), abs(color[1] - 0.7), abs(color[2] - 0.4), 1)\n",
    "        plt.plot(X, Y, style.replace('b', ''), alpha=alpha, markersize=size, color=color)\n",
    "    else:\n",
    "        plt.plot(X, Y, style, alpha=alpha, markersize=size)\n",
    "\n",
    "def XY(points):\n",
    "    \"Given a list of points, return two lists: X coordinates, and Y coordinates.\"\n",
    "    return [p.real for p in points], [p.imag for p in points]"
   ]
  },
  {
   "cell_type": "code",
   "execution_count": null,
   "metadata": {
    "colab": {
     "base_uri": "https://localhost:8080/",
     "height": 434
    },
    "executionInfo": {
     "elapsed": 946,
     "status": "ok",
     "timestamp": 1699288950579,
     "user": {
      "displayName": "julia ive",
      "userId": "11396706016758891847"
     },
     "user_tz": 0
    },
    "id": "tcJoCj2SkPxQ",
    "outputId": "51f840c1-95d8-4cc5-bafd-8c5d2a9637f4"
   },
   "outputs": [],
   "source": [
    "plot_tour(create_tour(best_individual))"
   ]
  },
  {
   "cell_type": "markdown",
   "metadata": {
    "id": "aCXSpub3kPxQ"
   },
   "source": [
    "## Extra (optional)\n",
    "It is interesting to assess how the fitness of the population changed as the evolution process took place. We can prepare an `deap.tools.Statistics` instance to specify what data to collect."
   ]
  },
  {
   "cell_type": "code",
   "execution_count": null,
   "metadata": {
    "id": "8ouwabrrkPxR"
   },
   "outputs": [],
   "source": [
    "fit_stats = tools.Statistics(key=operator.attrgetter(\"fitness.values\"))\n",
    "fit_stats.register('mean', np.mean)\n",
    "fit_stats.register('min', np.min)"
   ]
  },
  {
   "cell_type": "markdown",
   "metadata": {
    "id": "wUBT3zErkPxR"
   },
   "source": [
    "We are all set now but lets run again the genetic algorithm configured to collect the statistics that we want to gather:"
   ]
  },
  {
   "cell_type": "code",
   "execution_count": null,
   "metadata": {
    "id": "EcixhfTLkPxR"
   },
   "outputs": [],
   "source": [
    "result, log = algorithms.eaSimple(toolbox.population(n=100), toolbox,\n",
    "                                  cxpb=0.5, mutpb=0.2,\n",
    "                                  ngen=400, verbose=False,\n",
    "                                  stats=fit_stats)"
   ]
  },
  {
   "cell_type": "markdown",
   "metadata": {
    "id": "zupaokkAkPxR"
   },
   "source": [
    "Plotting mean and minimium fitness as evolution took place."
   ]
  },
  {
   "cell_type": "code",
   "execution_count": null,
   "metadata": {
    "colab": {
     "base_uri": "https://localhost:8080/",
     "height": 396
    },
    "executionInfo": {
     "elapsed": 600,
     "status": "ok",
     "timestamp": 1699288959556,
     "user": {
      "displayName": "julia ive",
      "userId": "11396706016758891847"
     },
     "user_tz": 0
    },
    "id": "p1YGugInkPxR",
    "outputId": "2c28e16f-6850-4540-aa92-aeac407fd2f1"
   },
   "outputs": [],
   "source": [
    "plt.figure(figsize=(11, 4))\n",
    "plots = plt.plot(log.select('min'),'c-', log.select('mean'), 'b-')\n",
    "plt.legend(plots, ('Minimum fitness', 'Mean fitness'), frameon=True)\n",
    "plt.ylabel('Fitness'); plt.xlabel('Iterations');"
   ]
  },
  {
   "cell_type": "markdown",
   "metadata": {
    "id": "TYSCQUtBkPxR"
   },
   "source": [
    "### How has the population evolved?"
   ]
  },
  {
   "cell_type": "markdown",
   "metadata": {
    "id": "PHv900QOkPxR"
   },
   "source": [
    "As TSP solutions are easy to visualize, we can plot the individuals of each population as the evolution progressed. We need a new Statistics instance prepared for that."
   ]
  },
  {
   "cell_type": "code",
   "execution_count": null,
   "metadata": {
    "id": "x9NobSz5kPxR"
   },
   "outputs": [],
   "source": [
    "pop_stats = tools.Statistics(key=np.copy)\n",
    "pop_stats.register('pop', np.copy) # -- copies the populations themselves\n",
    "pop_stats.register('fitness', # -- computes and stores the fitnesses\n",
    "                   lambda x : [evaluation(a) for a in x])\n",
    "\n",
    "result, log = algorithms.eaSimple(toolbox.population(n=100), toolbox,\n",
    "                                  cxpb=0.5, mutpb=0.2,\n",
    "                                  ngen=400, verbose=False,\n",
    "                                  stats=pop_stats)"
   ]
  },
  {
   "cell_type": "markdown",
   "metadata": {
    "id": "4WClniuckPxR"
   },
   "source": [
    "Plotting the individuals and their fitness (color-coded)"
   ]
  },
  {
   "cell_type": "code",
   "execution_count": null,
   "metadata": {
    "id": "f61oTl-5kPxR"
   },
   "outputs": [],
   "source": [
    "def plot_population(record, min_fitness, max_fitness):\n",
    "    '''\n",
    "    Plots all individuals in a population.\n",
    "    Darker individuals have a better fitness.\n",
    "    '''\n",
    "    pop = record['pop']\n",
    "    fits = record['fitness']\n",
    "    index = sorted(range(len(fits)), key=lambda k: fits[k])\n",
    "\n",
    "    norm=colors.Normalize(vmin=min_fitness,\n",
    "                          vmax=max_fitness)\n",
    "    sm = cmx.ScalarMappable(norm=norm,\n",
    "                            cmap=plt.get_cmap('PuBu'))\n",
    "\n",
    "    for i in range(len(index)):\n",
    "        color = sm.to_rgba(max_fitness - fits[index[i]][0])\n",
    "        plot_tour(create_tour(pop[index[i]]), alpha=0.5, color=color)"
   ]
  },
  {
   "cell_type": "code",
   "execution_count": null,
   "metadata": {
    "id": "XlFSLzXskPxR"
   },
   "outputs": [],
   "source": [
    "min_fitness = np.min(log.select('fitness'))\n",
    "max_fitness = np.max(log.select('fitness'))"
   ]
  },
  {
   "cell_type": "markdown",
   "metadata": {
    "id": "a-hOyB5rkPxR"
   },
   "source": [
    "We can now plot the population as the evolutionary process progressed. Darker blue colors imply better fitness."
   ]
  },
  {
   "cell_type": "code",
   "execution_count": null,
   "metadata": {
    "colab": {
     "base_uri": "https://localhost:8080/",
     "height": 1000
    },
    "executionInfo": {
     "elapsed": 10876,
     "status": "ok",
     "timestamp": 1699288975115,
     "user": {
      "displayName": "julia ive",
      "userId": "11396706016758891847"
     },
     "user_tz": 0
    },
    "id": "gNV7bo7NkPxS",
    "outputId": "48137bbf-9070-4ac5-daf3-a8dbafd81671"
   },
   "outputs": [],
   "source": [
    "plt.figure(figsize=(11,11))\n",
    "for i in range(0, 12):\n",
    "    plt.subplot(4,3,i+1)\n",
    "    it = int(math.ceil((len(log)-1.)/15))\n",
    "    plt.title('t=' + str(it*i))\n",
    "    plot_population(log[it*i], min_fitness, max_fitness)\n",
    "plt.tight_layout()"
   ]
  },
  {
   "cell_type": "markdown",
   "metadata": {
    "id": "Al5cLc74kPxS"
   },
   "source": [
    "The population of the previous experiment can be better appreciated in animated form."
   ]
  },
  {
   "cell_type": "code",
   "execution_count": null,
   "metadata": {
    "id": "jUD3eNefkPxS"
   },
   "outputs": [],
   "source": [
    "from matplotlib import animation\n",
    "from IPython.display import HTML\n",
    "\n",
    "def update_plot_tour(plot, points, alpha=1, color='blue'):\n",
    "    'A function for updating a plot with an individual'\n",
    "    X, Y = XY(list(points) + [points[0]])\n",
    "    plot.set_data(X, Y)\n",
    "    plot.set_color(color)\n",
    "    return plot\n",
    "\n",
    "def init():\n",
    "    'Initialization of all plots to empty data'\n",
    "    for p in list(tour_plots):\n",
    "        p.set_data([], [])\n",
    "    return tour_plots\n",
    "\n",
    "def animate(i):\n",
    "    'Updates all plots to match frame _i_ of the animation'\n",
    "    pop = log[i]['pop']\n",
    "    fits = log[i]['fitness']\n",
    "    index = sorted(range(len(fits)), key=lambda k: fits[k])\n",
    "\n",
    "    norm=colors.Normalize(vmin=min_fitness,\n",
    "                          vmax=max_fitness)\n",
    "    sm = cmx.ScalarMappable(norm=norm,\n",
    "                            cmap=plt.get_cmap('PuBu'))\n",
    "    for j in range(len(tour_plots)):\n",
    "        color = sm.to_rgba(max_fitness - fits[index[j]][0])\n",
    "        color = (abs(color[0] - 0.7), abs(color[1] - 0.7), abs(color[2] - 0.4), 1)\n",
    "        update_plot_tour(tour_plots[j],\n",
    "                         create_tour(pop[index[j]]),\n",
    "                         alpha=0.5, color=color)\n",
    "    return tour_plots"
   ]
  },
  {
   "cell_type": "markdown",
   "metadata": {
    "id": "GjhdDnVDkPxS"
   },
   "source": [
    "The next step takes some time to execute. Use the video controls to see the evolution in animated form."
   ]
  },
  {
   "cell_type": "code",
   "execution_count": null,
   "metadata": {
    "id": "Vxk26NigkPxS"
   },
   "outputs": [],
   "source": [
    "fig = plt.figure()\n",
    "ax = plt.axes(xlim=(0, 900), ylim=(0, 600))\n",
    "tour_plots = [ax.plot([], [], 'bo-', alpha=0.1) for i in range(len(log[0]['pop']))]\n",
    "tour_plots = [p[0] for p in tour_plots]\n",
    "\n",
    "anim = animation.FuncAnimation(fig, animate, init_func=init,\n",
    "                               frames=200, interval=60, blit=True)\n",
    "plt.close()"
   ]
  },
  {
   "cell_type": "code",
   "execution_count": null,
   "metadata": {
    "colab": {
     "base_uri": "https://localhost:8080/",
     "height": 501
    },
    "executionInfo": {
     "elapsed": 74855,
     "status": "ok",
     "timestamp": 1699289049946,
     "user": {
      "displayName": "julia ive",
      "userId": "11396706016758891847"
     },
     "user_tz": 0
    },
    "id": "Y_VvuQvxkPxS",
    "outputId": "c101ec8c-0e40-4146-b1cc-0b2bf6ffbaf9"
   },
   "outputs": [],
   "source": [
    "HTML(anim.to_html5_video())"
   ]
  },
  {
   "cell_type": "code",
   "execution_count": null,
   "metadata": {
    "id": "Wg6wsMuxkPxS"
   },
   "outputs": [],
   "source": []
  }
 ],
 "metadata": {
  "colab": {
   "provenance": [],
   "toc_visible": true
  },
  "kernelspec": {
   "display_name": "Python 3 (ipykernel)",
   "language": "python",
   "name": "python3"
  },
  "language_info": {
   "codemirror_mode": {
    "name": "ipython",
    "version": 3
   },
   "file_extension": ".py",
   "mimetype": "text/x-python",
   "name": "python",
   "nbconvert_exporter": "python",
   "pygments_lexer": "ipython3",
   "version": "3.9.6"
  }
 },
 "nbformat": 4,
 "nbformat_minor": 4
}
