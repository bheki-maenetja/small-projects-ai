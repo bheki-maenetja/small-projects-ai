{
 "cells": [
  {
   "cell_type": "markdown",
   "id": "779b94fe-f683-4e71-82d3-774dc81f381d",
   "metadata": {},
   "source": [
    "# EECS759P Coursework 2\n",
    "- Name: Bheki Maenetja\n",
    "- Student ID: 230382466"
   ]
  },
  {
   "cell_type": "markdown",
   "id": "bc102413-a374-41cf-9295-28f30f8aa708",
   "metadata": {},
   "source": [
    "## Imports"
   ]
  },
  {
   "cell_type": "code",
   "execution_count": null,
   "id": "10c3331d-310e-4ea9-932c-9dc1e077a95b",
   "metadata": {},
   "outputs": [],
   "source": [
    "import pandas as pd\n",
    "import numpy as np\n",
    "from collections import defaultdict, deque"
   ]
  },
  {
   "cell_type": "markdown",
   "id": "5c80ffec-7e42-4ae3-89a9-3d732a02249f",
   "metadata": {},
   "source": [
    "## Plotting Functions"
   ]
  },
  {
   "cell_type": "code",
   "execution_count": null,
   "id": "e5f149f5-6436-449d-beb2-4c197819d356",
   "metadata": {},
   "outputs": [],
   "source": []
  },
  {
   "cell_type": "markdown",
   "id": "a22a50e5-7361-4fc1-8927-9b45d4827da5",
   "metadata": {},
   "source": [
    "## Loading Data"
   ]
  },
  {
   "cell_type": "code",
   "execution_count": null,
   "id": "dbee3349-d1fe-4316-86b2-d9d434cd54cf",
   "metadata": {},
   "outputs": [],
   "source": [
    "# Function provided in undirected_map.py\n",
    "def load_data(df):\n",
    "    station_dict = defaultdict(list)\n",
    "    zone_dict = defaultdict(set)\n",
    "\n",
    "    # get data row by row\n",
    "    for index, row in df.iterrows():\n",
    "        start_station = row[0]\n",
    "        end_station = row[1]\n",
    "\n",
    "        line = row[2] \n",
    "        \n",
    "        act_cost = int(row[3])\n",
    "        \n",
    "        zone1 = row[4]\n",
    "        zone2 = row[5]\n",
    "\n",
    "        # station dictionary of child station tuples (child_name, cost from parent to the child)\n",
    "        # {\"Mile End\": [(\"Stepney Green\", 2), (\"Wembley\", 1)]}\n",
    "        station_list = station_dict[start_station]\n",
    "        station_list.append((end_station, line, act_cost))\n",
    "\n",
    "        # the following two lines add the other direction of the tube \"step\"\n",
    "        station_list = station_dict[end_station]\n",
    "        station_list.append((start_station, line, act_cost))\n",
    "\n",
    "        # we add the main zone\n",
    "        zone_dict[start_station].add(zone1)\n",
    "        # we add the secondary zone\n",
    "\n",
    "        if zone2 != \"0\":\n",
    "            zone_dict[start_station].add(zone2)\n",
    "            # if the secondary zone is not 0 it's the main zone for the ending station\n",
    "            zone_dict[end_station].add(zone2)\n",
    "        else:\n",
    "            # otherwise the main zone for the ending station is the same as for the starting station\n",
    "            zone_dict[end_station].add(zone1)\n",
    "\n",
    "    return station_dict, zone_dict"
   ]
  },
  {
   "cell_type": "code",
   "execution_count": null,
   "id": "5936ca73-ed67-4f1f-b8b1-f4011e86faba",
   "metadata": {},
   "outputs": [],
   "source": [
    "tube_df = pd.read_csv('tubedata.csv', header=None)\n",
    "tube_df.head()"
   ]
  },
  {
   "cell_type": "code",
   "execution_count": null,
   "id": "8dcb6a86-b630-4427-916a-ec2541a68fd6",
   "metadata": {},
   "outputs": [],
   "source": [
    "stations, zones = load_data(tube_df)"
   ]
  },
  {
   "cell_type": "code",
   "execution_count": null,
   "id": "879321cf-0cd0-4d58-8233-b08512ed51c9",
   "metadata": {},
   "outputs": [],
   "source": [
    "set(tube_df[0])"
   ]
  },
  {
   "cell_type": "code",
   "execution_count": null,
   "id": "a06ceed5-6e43-4e54-b0e7-2dda4dc6fd93",
   "metadata": {},
   "outputs": [],
   "source": [
    "stations"
   ]
  },
  {
   "cell_type": "code",
   "execution_count": null,
   "id": "1999e241-db0f-49b5-927e-51a8e7ce865e",
   "metadata": {},
   "outputs": [],
   "source": [
    "zones"
   ]
  },
  {
   "cell_type": "markdown",
   "id": "1f9f5206-669e-4dcd-b164-f8c55db91a39",
   "metadata": {},
   "source": [
    "## 2.0 Node Class"
   ]
  },
  {
   "cell_type": "code",
   "execution_count": null,
   "id": "aa13401a-bbf9-4f80-9632-4ab61b4899c7",
   "metadata": {},
   "outputs": [],
   "source": [
    "class Node:\n",
    "    def __init__(self, data, parent=None):\n",
    "        self.data = data\n",
    "        self.parent = parent\n",
    "\n",
    "    def __str__(self):\n",
    "        return f\"{self.data[0]} via {self.data[1]} | Cost: {self.data[2]}\"\n",
    "\n",
    "    def __repr__(self):\n",
    "        return self.__str__()"
   ]
  },
  {
   "cell_type": "markdown",
   "id": "09da383e-8c1f-43e7-9c4c-4617f7d23787",
   "metadata": {},
   "source": [
    "## 2.1 DFS, BFS and UCS"
   ]
  },
  {
   "cell_type": "markdown",
   "id": "f1a1b37b-ca34-490b-ba8e-eaa11caa924f",
   "metadata": {},
   "source": [
    "### Building optimal path to goal node"
   ]
  },
  {
   "cell_type": "code",
   "execution_count": null,
   "id": "3f326d93-c16a-4605-918c-1b00bb0e3662",
   "metadata": {},
   "outputs": [],
   "source": [
    "def build_path(node):\n",
    "    path_from_root = [node.data[0]]\n",
    "    \n",
    "    while node.parent:\n",
    "        node = node.parent\n",
    "        path_from_root = [node.data[0]] + path_from_root\n",
    "    \n",
    "    return path_from_root"
   ]
  },
  {
   "cell_type": "markdown",
   "id": "029d7e59-8153-4d9c-863e-acfddf535a77",
   "metadata": {},
   "source": [
    "### Depth-First Search"
   ]
  },
  {
   "cell_type": "code",
   "execution_count": null,
   "id": "0660bba1-b2b0-4c73-a1e7-9c528b6e6e07",
   "metadata": {},
   "outputs": [],
   "source": [
    "def dfs_search(start, goal):\n",
    "    if start == goal:\n",
    "        print(\"Start and goal are the same!!!\")\n",
    "        return None\n",
    "\n",
    "    start_node = Node((start, None, None), None)\n",
    "    \n",
    "    frontier = [\n",
    "        Node(s, start_node) \n",
    "        for s in stations[start].copy()\n",
    "    ]\n",
    "    \n",
    "    explored = [start]\n",
    "    num_explored = 0\n",
    "    print(f\"Start: {start} —>\")\n",
    "    \n",
    "    while frontier:\n",
    "        node = frontier.pop()\n",
    "        num_explored += 1\n",
    "\n",
    "        # Goal check\n",
    "        if node.data[0] == goal:\n",
    "            print(f\"GOAL: {node.data[0]}\")\n",
    "            print(f\"\\nGoal found!\\nNumber of explorations = {num_explored}\")\n",
    "            return node\n",
    "\n",
    "        print(f\"{node} ->\")\n",
    "        \n",
    "        # Node expansion\n",
    "        new_nodes = stations[node.data[0]].copy()\n",
    "        \n",
    "        for n in new_nodes:\n",
    "            if n[0] not in explored:\n",
    "                n_obj = Node(n, node)\n",
    "                frontier.append(n_obj)\n",
    "                explored.append(n[0])"
   ]
  },
  {
   "cell_type": "code",
   "execution_count": null,
   "id": "4aaa5c69-cd16-4cf8-9b7e-7c01cb5d5bc9",
   "metadata": {},
   "outputs": [],
   "source": [
    "# goal_node = dfs_search(\"Euston\", \"Victoria\")\n",
    "goal_node = dfs_search(\"Whitechapel\", \"Westminster\")"
   ]
  },
  {
   "cell_type": "code",
   "execution_count": null,
   "id": "36054635-a2ef-462e-9072-083b9e943504",
   "metadata": {},
   "outputs": [],
   "source": [
    "goal_node"
   ]
  },
  {
   "cell_type": "code",
   "execution_count": null,
   "id": "f08e9e12-1d0d-45ba-9ad0-fed8c6737381",
   "metadata": {},
   "outputs": [],
   "source": [
    "build_path(goal_node)"
   ]
  },
  {
   "cell_type": "markdown",
   "id": "0bab0851-f091-4d07-9575-c6e26304ff50",
   "metadata": {},
   "source": [
    "### Breadth-First Search"
   ]
  },
  {
   "cell_type": "code",
   "execution_count": null,
   "id": "87d1ac7f-6839-4e78-8b75-3a5cb5b023b2",
   "metadata": {},
   "outputs": [],
   "source": [
    "def bfs_search(start, goal):    \n",
    "    if start == goal:\n",
    "        print(\"Start and goal are the same!!!\")\n",
    "        return None\n",
    "\n",
    "    start_node = Node((start, None, None), None)\n",
    "    \n",
    "    frontier = [\n",
    "        Node(s, start_node)\n",
    "        for s in stations[start].copy()\n",
    "    ]\n",
    "    \n",
    "    explored = [start]\n",
    "    num_explored = 0\n",
    "    print(f\"Start: {start} —>\")\n",
    "    \n",
    "    while frontier:\n",
    "        node = frontier.pop(0)\n",
    "        num_explored += 1\n",
    "\n",
    "        # Goal check\n",
    "        if node.data[0] == goal:\n",
    "            print(f\"GOAL: {node.data[0]}\")\n",
    "            print(f\"\\nGoal found!\\nNumber of explorations = {num_explored}\")\n",
    "            return node\n",
    "\n",
    "        print(f\"{node} ->\")\n",
    "        \n",
    "        # Node expansion\n",
    "        new_nodes = stations[node.data[0]].copy()\n",
    "        \n",
    "        for n in new_nodes:\n",
    "            if n[0] not in explored:\n",
    "                n_obj = Node(n, node)\n",
    "                frontier.append(n_obj)\n",
    "                explored.append(n[0])"
   ]
  },
  {
   "cell_type": "code",
   "execution_count": null,
   "id": "321cca69-69d9-4ac1-b38c-9a673cd2c4e5",
   "metadata": {},
   "outputs": [],
   "source": [
    "# goal_node = bfs_search(\"Euston\", \"Victoria\")\n",
    "goal_node = bfs_search(\"Whitechapel\", \"Westminster\")"
   ]
  },
  {
   "cell_type": "code",
   "execution_count": null,
   "id": "9eb49556-d89e-4bf2-92bd-7ccc94d37143",
   "metadata": {},
   "outputs": [],
   "source": [
    "goal_node"
   ]
  },
  {
   "cell_type": "code",
   "execution_count": null,
   "id": "f8014743-549d-4a01-9ea5-b36e8e6efe4f",
   "metadata": {},
   "outputs": [],
   "source": [
    "build_path(goal_node)"
   ]
  },
  {
   "cell_type": "markdown",
   "id": "539c3e5b-62b6-4087-8ef6-a6d92008ca8a",
   "metadata": {},
   "source": [
    "### Uniform Cost Search"
   ]
  },
  {
   "cell_type": "code",
   "execution_count": null,
   "id": "c88e0032-6b94-4f25-b9cd-6a2187176b03",
   "metadata": {},
   "outputs": [],
   "source": [
    "def ucs_search(start, goal):    \n",
    "    if start == goal:\n",
    "        print(\"Start and goal are the same!!!\")\n",
    "        return None\n",
    "\n",
    "    start_node = Node((start, None, None), None)\n",
    "    \n",
    "    frontier = [\n",
    "        Node(s, start_node)\n",
    "        for s in stations[start].copy()\n",
    "    ]\n",
    "    frontier.sort(key=lambda x: x.data[2])\n",
    "    \n",
    "    explored = [start]\n",
    "    num_explored = 0\n",
    "\n",
    "    print(f\"START: {start} —>\")\n",
    "    \n",
    "    while frontier:\n",
    "        node = frontier.pop(0)\n",
    "        num_explored += 1\n",
    "\n",
    "        # Goal check\n",
    "        if node.data[0] == goal:\n",
    "            print(f\"GOAL: {node.data[0]}\")\n",
    "            print(f\"\\nGoal found!\\nNumber of explorations = {num_explored}\")\n",
    "            return node\n",
    "\n",
    "        print(f\"{node} ->\")\n",
    "        \n",
    "        # Node expansion\n",
    "        new_nodes = stations[node.data[0]].copy()\n",
    "        \n",
    "        for n in new_nodes:\n",
    "            if n[0] not in explored:\n",
    "                n_obj = Node(n, node)\n",
    "                frontier.append(n_obj)\n",
    "                explored.append(n[0])\n",
    "\n",
    "        frontier.sort(key=lambda x: x.data[2])"
   ]
  },
  {
   "cell_type": "code",
   "execution_count": null,
   "id": "1fe71539-07b2-4872-a556-7b305d2591a4",
   "metadata": {},
   "outputs": [],
   "source": [
    "goal_node = ucs_search(\"Euston\", \"Victoria\")\n",
    "# goal_node = ucs_search(\"Whitechapel\", \"Westminster\")"
   ]
  },
  {
   "cell_type": "code",
   "execution_count": null,
   "id": "2ab8fa3a-7844-4fb3-b973-47f6061c4b65",
   "metadata": {},
   "outputs": [],
   "source": [
    "goal_node"
   ]
  },
  {
   "cell_type": "code",
   "execution_count": null,
   "id": "b1bbdce4-c31c-4983-b522-83861072ad2a",
   "metadata": {},
   "outputs": [],
   "source": [
    "build_path(goal_node)"
   ]
  },
  {
   "cell_type": "markdown",
   "id": "9f64c635-72cf-4bc5-a382-4035883cc9a6",
   "metadata": {},
   "source": [
    "## 2.2 Comparison of DFS, BFS and UCS (report question)"
   ]
  },
  {
   "cell_type": "code",
   "execution_count": null,
   "id": "63ba9aca-d8cf-4793-9b16-58bdcc3b752b",
   "metadata": {},
   "outputs": [],
   "source": []
  },
  {
   "cell_type": "markdown",
   "id": "1e52d06d-9921-49ab-96e0-0d6b09033016",
   "metadata": {},
   "source": [
    "## 2.3 Extending the Cost Function"
   ]
  },
  {
   "cell_type": "code",
   "execution_count": null,
   "id": "e66503f5-875f-49ea-8779-0231377cea8c",
   "metadata": {},
   "outputs": [],
   "source": [
    "def ucs_search_2(start, goal, penalty=2):    \n",
    "    if start == goal:\n",
    "        print(\"Start and goal are the same!!!\")\n",
    "        return None\n",
    "\n",
    "    start_node = Node((start, None, None), None)\n",
    "    \n",
    "    frontier = [\n",
    "        Node(s, start_node)\n",
    "        for s in stations[start].copy()\n",
    "    ]\n",
    "    frontier.sort(key=lambda x: x.data[2])\n",
    "    \n",
    "    explored = [start]\n",
    "    num_explored = 0\n",
    "\n",
    "    # input(f\"Starting frontier: {frontier} >>> \")\n",
    "    print(f\"START: {start} —>\")\n",
    "    \n",
    "    while frontier:\n",
    "        # input(f\"\\n\\n===== NEW ITERATION =====\\n\\n\")\n",
    "        node = frontier.pop(0)\n",
    "        num_explored += 1\n",
    "\n",
    "        # input(f\"Current node: {node} >>> \")\n",
    "        \n",
    "        # Goal check\n",
    "        if node.data[0] == goal:\n",
    "            print(f\"GOAL: {node.data[0]}\")\n",
    "            print(f\"\\nGoal found!\\nNumber of explorations = {num_explored}\")\n",
    "            return node\n",
    "\n",
    "        print(f\"{node} ->\")\n",
    "        \n",
    "        # Node expansion\n",
    "        # new_nodes = stations[node.data[0]].copy()\n",
    "        new_nodes = [\n",
    "            (c[0], c[1], c[2])\n",
    "            if c[1] == node.data[1]\n",
    "            else (c[0], c[1], c[2] + penalty) # applying penalty for line change\n",
    "            for c in stations[node.data[0]].copy()\n",
    "        ]\n",
    "        # input(f\"\\nProspective children: {new_nodes} >>> \")\n",
    "        # input(f\"\\nProspective children (with penalty applied): {new_nodes_2} >>> \")\n",
    "        \n",
    "        for n in new_nodes:\n",
    "            if n[0] not in explored:\n",
    "                n_obj = Node(n, node)\n",
    "                frontier.append(n_obj)\n",
    "                explored.append(n[0])\n",
    "\n",
    "        # input(f\"\\nNew frontier: {frontier} >>> \")\n",
    "        frontier.sort(key=lambda x: x.data[2])\n",
    "        # input(f\"\\nNew sorted frontier: {frontier} >>> \")"
   ]
  },
  {
   "cell_type": "code",
   "execution_count": null,
   "id": "865bbf0f-57aa-4443-aea0-4183c0b5b2b7",
   "metadata": {},
   "outputs": [],
   "source": [
    "# goal_node = ucs_search_2(\"Whitechapel\", \"Westminster\")\n",
    "goal_node = ucs_search_2(\"Euston\", \"Victoria\")"
   ]
  },
  {
   "cell_type": "code",
   "execution_count": null,
   "id": "653ffb8d-0c5a-400d-a9f3-f0c27e065004",
   "metadata": {},
   "outputs": [],
   "source": [
    "goal_node"
   ]
  },
  {
   "cell_type": "code",
   "execution_count": null,
   "id": "dfbbb58e-9fb0-4e4a-aaa3-6d26b89da50a",
   "metadata": {},
   "outputs": [],
   "source": [
    "build_path(goal_node)"
   ]
  },
  {
   "cell_type": "code",
   "execution_count": null,
   "id": "679bfaa7-cd26-4880-b5c2-0b80543a9d6c",
   "metadata": {},
   "outputs": [],
   "source": []
  }
 ],
 "metadata": {
  "kernelspec": {
   "display_name": "Python 3 (ipykernel)",
   "language": "python",
   "name": "python3"
  },
  "language_info": {
   "codemirror_mode": {
    "name": "ipython",
    "version": 3
   },
   "file_extension": ".py",
   "mimetype": "text/x-python",
   "name": "python",
   "nbconvert_exporter": "python",
   "pygments_lexer": "ipython3",
   "version": "3.9.6"
  }
 },
 "nbformat": 4,
 "nbformat_minor": 5
}
