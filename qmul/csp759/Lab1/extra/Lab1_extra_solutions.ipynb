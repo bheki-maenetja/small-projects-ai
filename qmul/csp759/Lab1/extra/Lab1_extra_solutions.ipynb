{
 "cells": [
  {
   "cell_type": "markdown",
   "metadata": {
    "id": "awLWq__hEoss"
   },
   "source": [
    "### ECS759P - Artificial Intelligence - Lab 1 Extra\n",
    "\n",
    "Last 1 was focused on learning the basics of `python` and `numpy`. In this extra material, we are going solve some problems using these two tools. The objective of this extra material is two-fold:\n",
    "\n",
    "- to have a bit more serious practice with Python and get yourself comfortable with its features (so try to be as Pythonic as possible!)\n",
    "- also to exercise your programming skills, especially how to model a problem and think algorithmically.\n",
    "\n",
    "If you feel confident that you can easily do the tasks in the first two levels of difficulty (properly), feel free to skip to the last part (exercises 6 and 7)."
   ]
  },
  {
   "cell_type": "markdown",
   "metadata": {
    "id": "9SsTyIVMUeho"
   },
   "source": [
    "### 1) Fibonacci\n",
    "**Q. Fill in the gap below to write a function that takes in an integer, determining how many Fibonacci numbers to generate and then generates them. Make sure to check if a valid argument is passed.**\n",
    "\n",
    "Note:\n",
    "\n",
    "*The Fibonacci sequence is a sequence in which each number is the sum of the two preceding numbers, starting from 0, 1. So, the sequence looks like this:*\n",
    "\n",
    "0, 1, 1, 2, 3, 5, 8,...\n",
    "\n",
    "*Hence, your function, let's call it `my_fibo_v1`, should generate outputs like this:*\n",
    "\n",
    "my_fibo_v1(1) = [0] <br>\n",
    "my_fibo_v1(2) = [0, 1] <br>\n",
    "my_fibo_v1(3) = [0, 1, 1] <br>\n",
    "my_fibo_v1(4) = [0, 1, 1, 2] <br>\n",
    "my_fibo_v1(5) = [0, 1, 1, 2, 3] <br>\n",
    "my_fibo_v1(6) = [0, 1, 1, 2, 3, 5] <br>\n",
    "my_fibo_v1(7) = [0, 1, 1, 2, 3, 5, 8] <br>\n",
    "my_fibo_v1(8) = [0, 1, 1, 2, 3, 5, 8, 13] <br>\n",
    "my_fibo_v1(9) = [0, 1, 1, 2, 3, 5, 8, 13, 21],...\n",
    "\n",
    "*Hint: you can use a `for` loop inside the function.*"
   ]
  },
  {
   "cell_type": "code",
   "execution_count": null,
   "metadata": {
    "id": "BboRrR7W3Zue"
   },
   "outputs": [],
   "source": [
    "def my_fibo_v1(n):\n",
    "    # TO DO\n",
    "    if type(n) is not int:\n",
    "        raise TypeError('The input must be an integer!')\n",
    "    if n<=0:\n",
    "        raise ValueError(\"the input must be positive!\")\n",
    "    if n == 1:\n",
    "        return [0]\n",
    "    elif n==2:\n",
    "        return [0,1]\n",
    "    else:\n",
    "        fibos = [0]*n\n",
    "        fibos[1] = 1\n",
    "        for i in range(2, n):\n",
    "            fibos[i] = fibos[i-2] + fibos[i-1]\n",
    "        return fibos\n",
    "\n",
    "# now for testing:\n",
    "for i in range(1,10):\n",
    "    print('my_fibo_v1({0}) = {1}'.format(i, my_fibo_v1(i)))"
   ]
  },
  {
   "cell_type": "markdown",
   "metadata": {
    "id": "juLrDy_pQ705"
   },
   "source": [
    "**Q. Now fill in the gap below and write a small variation of the previous implementation that takes a positive integer, and produces all the Fibonacci numbers that are (strictly) smaller than that.**\n",
    "\n",
    "So for example, your function, e.g. if we name it `my_fibo_v2(n)` should generate outputs like the following:\n",
    "\n",
    "\n",
    "my_fibo_v2(1) = [0] <br>\n",
    "my_fibo_v2(8) = [0, 1, 1, 2, 3, 5] <br>\n",
    "my_fibo_v2(45) = [0, 1, 1, 2, 3, 5, 8, 13, 21, 34] <br>\n",
    "my_fibo_v2(100) = [0, 1, 1, 2, 3, 5, 8, 13, 21, 34, 55, 89], ...\n",
    "\n",
    "*Hint: you can use a `while` loop inside the function."
   ]
  },
  {
   "cell_type": "code",
   "execution_count": null,
   "metadata": {
    "id": "rZ9sYfQaQ706"
   },
   "outputs": [],
   "source": [
    "def my_fibo_v2(n):\n",
    "\n",
    "    # TO DO\n",
    "\n",
    "    if type(n) is not int:\n",
    "        raise TypeError('The input must be an integer!')\n",
    "    if n<=0:\n",
    "        raise ValueError(\"the input must be positive!\")\n",
    "    if n==1:\n",
    "        return [0]\n",
    "    fibos = [0, 1]\n",
    "    while fibos[-1] < n:\n",
    "        fibos.append(fibos[-2] + fibos[-1])\n",
    "    return fibos[:-1]\n",
    "\n",
    "test_values = [1, 8, 45, 100]\n",
    "\n",
    "for i in test_values:\n",
    "    print('my_fibo_v2({0}) = {1}'.format(i, my_fibo_v2(i)))"
   ]
  },
  {
   "cell_type": "markdown",
   "metadata": {
    "id": "t8c-jBI33c9i"
   },
   "source": [
    "### 2) Rock-Paper-Scissors\n",
    "\n",
    "**Q. By filling the gaps below make a one-player Rock-Paper-Scissors game (the other player will be the computer). You should generate a choice for the computer (using the `random` module for instance). Also add an option to start a new game without having to run the same script again.**"
   ]
  },
  {
   "cell_type": "code",
   "execution_count": null,
   "metadata": {
    "id": "nXwVDd6Y3r_4"
   },
   "outputs": [],
   "source": [
    "from random import randint\n",
    "\n",
    "message = ['You Won!', 'You Lost!', 'Draw!']\n",
    "moves = {0:'Rock', 1:'Paper', 2:'Scissors'}\n",
    "want_to_continue = 'Y'\n",
    "\n",
    "def who_won(you, computer):\n",
    "     # TO DO\n",
    "     if you == computer:\n",
    "         return 2\n",
    "     if you==(computer+1)%3:\n",
    "         return 0\n",
    "     return 1\n",
    "\n",
    "while want_to_continue.upper()=='Y':\n",
    "     print(moves)\n",
    "     you = int(input('Choose:'))\n",
    "     if you not in [0, 1, 2]:\n",
    "         print('Invalid Move!')\n",
    "         continue\n",
    "     # TO DO\n",
    "     # computer =\n",
    "     computer = randint(0,2)\n",
    "     print('You: {}\\tComputer: {}\\t => \\t'.format(moves[you], moves[computer]),end='')\n",
    "     print(message[who_won(you, computer)])\n",
    "     # TO DO\n",
    "     # want_to_continue =\n",
    "     want_to_continue = input('press \"y\" to play again.')\n",
    "\n",
    "\n"
   ]
  },
  {
   "cell_type": "markdown",
   "metadata": {
    "id": "CzBJqQKk3wdG"
   },
   "source": [
    "### 3) Guess the number game (Human player):\n",
    "\n",
    "**Q.  By filling the gaps below write the code that generates a random integer between 1 and 100 (including 1 and 100). Ask the user to guess the number, then tell them whether they guessed too low, too high, or exactly right. You must record how many tries were taken and display it at the end.**"
   ]
  },
  {
   "cell_type": "code",
   "execution_count": null,
   "metadata": {
    "id": "1trG0i7b33_S"
   },
   "outputs": [],
   "source": [
    "from random import randint\n",
    "\n",
    "class Guessing_Game:\n",
    "    def __init__(self):\n",
    "        # TO DO\n",
    "        # self.secret =\n",
    "        self.secret = randint(1, 100)\n",
    "        self.num_guesses = 0\n",
    "        self.guess = None\n",
    "        self.finished = False\n",
    "\n",
    "    def take_a_guess(self):\n",
    "        # TO DO\n",
    "\n",
    "        try:\n",
    "            self.guess = int(input('Make a guess:'))\n",
    "        except ValueError:\n",
    "            print('Not a valid guess.')\n",
    "            return False\n",
    "\n",
    "        return True\n",
    "\n",
    "\n",
    "    def play(self):\n",
    "        print('I have thought of a number between 1 and 100.')\n",
    "        while not self.finished:\n",
    "            # TO DO\n",
    "            if not self.take_a_guess():\n",
    "                continue\n",
    "\n",
    "            self.num_guesses += 1\n",
    "\n",
    "            if self.guess < self.secret:\n",
    "                print('Too low!')\n",
    "\n",
    "            if self.guess > self.secret:\n",
    "                print('Too high!')\n",
    "\n",
    "            if self.guess == self.secret:\n",
    "                self.finished = True\n",
    "                print('Well done! It took you {} tries!'.format(self.num_guesses))\n",
    "\n",
    "\n",
    "\n",
    "finished_playing = False\n",
    "while not finished_playing:\n",
    "    Guessing_Game().play()\n",
    "\n",
    "    prompt = input('Want to play again? (\"y\" for yes): ')\n",
    "    if prompt.upper()!='Y':\n",
    "        finished_playing = True\n",
    "\n"
   ]
  },
  {
   "cell_type": "markdown",
   "metadata": {
    "id": "u6rtVBq_Q70_"
   },
   "source": [
    "**Difficulty:** to manage your time, we recommend to choose only one of the exercises 4 and 5 to do during the lab session."
   ]
  },
  {
   "cell_type": "markdown",
   "metadata": {
    "id": "5bHKjTZXQ71C"
   },
   "source": [
    "### 4) Guess the number game (Computer player):\n"
   ]
  },
  {
   "cell_type": "markdown",
   "metadata": {
    "id": "JE6QUhMxUeqr"
   },
   "source": [
    "This time, we are going to let the computer play the guessing.\n",
    "\n",
    "**Q. Fill in the gaps below and create the game where you, the user, will have in your head a number between 0 and 100. The AI opponent will guess a number, and you, the user, will say whether it is too high, too low, or your number.\n",
    "Try to come up with a decent strategy for the computer (as opposed to say, a brute-force approach).**\n",
    "\n",
    "\n"
   ]
  },
  {
   "cell_type": "code",
   "execution_count": null,
   "metadata": {
    "id": "WmdeRvQZ4CIE"
   },
   "outputs": [],
   "source": [
    "class AI_Guessing_Game:\n",
    "\n",
    "    def __init__(self, minimum, maximum):\n",
    "        # TO DO\n",
    "        self.min = minimum\n",
    "        self.max = maximum\n",
    "        self.possibilities = [minimum, maximum]\n",
    "        self.num_guesses = 0\n",
    "        self.finished = False\n",
    "\n",
    "    def make_a_guess(self):\n",
    "        # TO DO\n",
    "        return sum(self.possibilities)//2\n",
    "\n",
    "    def update_game(self, guess, response):\n",
    "        # TO DO\n",
    "\n",
    "        if response == '0': # guess too low!\n",
    "            if guess == self.max:\n",
    "                print('Come on! The highest was supposed to be {}!'.format(self.max))\n",
    "                self.finished = True\n",
    "            else:\n",
    "                self.possibilities[0] = guess+1\n",
    "        if response == '1': # guess too high!\n",
    "            if guess == self.min:\n",
    "                print('Come on! The lowest was supposed to be {}!'.format(self.min))\n",
    "                self.finished = True\n",
    "            else:\n",
    "                self.possibilities[1] = guess-1\n",
    "        print(self.possibilities)\n",
    "        if response == '2' or self.possibilities[0]==self.possibilities[1]:\n",
    "            if response == '2': # guessed exactly right!\n",
    "                print('Yey! So you had chosen {}. Interesting!'.format(guess))\n",
    "            else: # only one possible guess remaining!\n",
    "                print('Yey! So you had chosen {}. Interesting!'.format(self.possibilities[0]))\n",
    "            print('It took me {} tries!'.format(self.num_guesses))\n",
    "            self.finished = True\n",
    "\n",
    "\n",
    "\n",
    "    def play(self):\n",
    "        print('Think of a number between {} and {}. Then I will try and guess it!\\n'.format(self.min, self.max))\n",
    "        while not self.finished:\n",
    "            my_guess = self.make_a_guess()\n",
    "            self.num_guesses += 1\n",
    "            print('Is it {}?'.format(my_guess))\n",
    "            response = None\n",
    "            while response not in ['0', '1', '2']:\n",
    "                response = input('0: too low\\t1: too high\\t2: exactly right: ')\n",
    "            self.update_game(my_guess, response)\n",
    "\n",
    "\n",
    "print('Welcome!')\n",
    "finished_playing = False\n",
    "while not finished_playing:\n",
    "    print('\\n'+'='*15+'\\nWell, hello hello!\\n')\n",
    "    AI_Guessing_Game(0, 100).play()\n",
    "\n",
    "    prompt = input('Want to play again? (\"y\" for yes): ')\n",
    "    if prompt.upper()!='Y':\n",
    "        finished_playing = True\n",
    "        print('Bye!')"
   ]
  },
  {
   "cell_type": "markdown",
   "metadata": {
    "id": "HqQ6FckD4ETU"
   },
   "source": [
    "### 5) Tic-Tac-Toe (Human vs Human):\n",
    "\n",
    "\n",
    "**Q. By filling the gaps below create a two human player Tic-Tac-Toe (a.k.a. naughts and crosses). You should ask each user the cell number in which it wants to play. In order to help the players, you should display at each turn the state of the grid. At the end of the game, a message should be displayed to announce the winner. The winner being the first one who aligns three marks vertically, horizontally or diagonally.**"
   ]
  },
  {
   "cell_type": "code",
   "execution_count": null,
   "metadata": {
    "id": "VeovlK2B4yKO"
   },
   "outputs": [],
   "source": [
    "class TicTacToeGame(object):\n",
    "    def __init__(self, board, player1, player2):\n",
    "        self.board = board\n",
    "        self.players = [player1, player2]\n",
    "        self.turn = 0\n",
    "\n",
    "    def user_invite(self, player):\n",
    "        print('Your turn player {}!'.format(player.symbol))\n",
    "\n",
    "    def play(self):\n",
    "        finished_playing = False\n",
    "\n",
    "        while not finished_playing:\n",
    "            # get the first player\n",
    "\n",
    "            # TO DO\n",
    "\n",
    "            currplayer = self.players[self.turn]\n",
    "            self.board.print_board()\n",
    "            self.user_invite(currplayer)\n",
    "            # ask for move\n",
    "            currplayer.get_move()\n",
    "            # move - switch board number to player symbol\n",
    "            self.board.tiles[currplayer.move] = currplayer.symbol\n",
    "            print(self.board.tiles)\n",
    "            #checks for a win\n",
    "            winner = self.check_win(currplayer.symbol)\n",
    "            #if win, declare win and break loop\n",
    "            if winner is not False:\n",
    "                self.board.print_board()\n",
    "                print('Player {} wins!'.format(winner))\n",
    "                finished_playing = True\n",
    "            #else, switch turns by flipping index in self.players array\n",
    "            else:\n",
    "                self.turn = 1 - self.turn\n",
    "\n",
    "\n",
    "    def check_win(self, player_symbol):\n",
    "        # TO DO\n",
    "        tiles = self.board.tiles\n",
    "\n",
    "        for i in range(3):\n",
    "            if tiles[i] == player_symbol and tiles[i+3] == player_symbol and tiles[i+6] == player_symbol: #check for vertical win\n",
    "                return player_symbol\n",
    "            elif tiles[(i*3)] == player_symbol and tiles[(i*3) + 1] == player_symbol and tiles[(i*3) + 2] == player_symbol: #check for horizontal win\n",
    "                print(player_symbol)\n",
    "                return player_symbol\n",
    "            #check for diagonal wins\n",
    "            if tiles[0] == player_symbol and tiles[4] == player_symbol and tiles[8] == player_symbol:\n",
    "                return player_symbol\n",
    "            elif tiles[2] == player_symbol and tiles[4] == player_symbol and tiles[6] == player_symbol:\n",
    "                return player_symbol\n",
    "        # corrected indent here\n",
    "        #if no wins, return false\n",
    "        return False\n",
    "\n",
    "\n",
    "\n",
    "class Player(object):\n",
    " # in the future we can have human or computer players\n",
    " pass\n",
    "\n",
    "class HumanPlayer(Player):\n",
    "\n",
    "    def __init__(self, symbol, board):\n",
    "        self.symbol = symbol\n",
    "        self.board = board\n",
    "        self.move = 0\n",
    "\n",
    "    def get_move(self):\n",
    "        # TO DO\n",
    "\n",
    "        possible_moves = [i for i in range(9)]\n",
    "        move = int(input('Please enter the number where you wanna move your ' + self.symbol + ':'))\n",
    "        if move in possible_moves:\n",
    "            # check to see if tile user wants to use is empty\n",
    "            if move != self.board.tiles[move]:\n",
    "                print('Someone has already moved to that spot.')\n",
    "                self.get_move()\n",
    "            else:\n",
    "                self.move = int(move)\n",
    "\n",
    "        else:\n",
    "            print('Please enter valid move')\n",
    "            self.get_move()\n",
    "\n",
    "\n",
    "class Board(object):\n",
    "    def __init__(self):\n",
    "        self.tiles = [i for i in range(9)]\n",
    "\n",
    "    def build_board(self):\n",
    "        board = [self.tiles[0], self.tiles[1], self.tiles[2]], [self.tiles[3], self.tiles[4], self.tiles[5]], [self.tiles[6], self.tiles[7], self.tiles[8]]\n",
    "        return board\n",
    "\n",
    "    def print_board(self):\n",
    "        board = self.build_board()\n",
    "        for row in board:\n",
    "            print('|'.join([str(i) for i in row]) + '\\n')\n",
    "\n",
    "my_board = Board()\n",
    "player1 = HumanPlayer('X', my_board)\n",
    "player2 = HumanPlayer('O', my_board)\n",
    "my_game = TicTacToeGame(my_board, player1, player2)\n",
    "my_game.play()\n"
   ]
  },
  {
   "cell_type": "markdown",
   "metadata": {
    "id": "9nTBLie6_kAr"
   },
   "source": [
    "### 6) _Flood fill_ algorithm:\n",
    "\n",
    "In this first part, you are going to implement the **Flood fill** algorithm. It is a very basic algorithm with a lot of uses. For instance, as we will see later, it is in fact used in most \"paint\" programs, specifically, when you use a \"bucket\" tool and click somewhere on an image, to have all the neighbouring pixels with the same value be filled with a chosen colour. Technically, it involves assigning a value to all the \"connected\" elements of a given element in a matrix (as elaborated below).\n",
    "\n",
    "We start pouring \"water\" on an *initial* pixel (or cell), which is just an element of a matrix. The \"water\" will only \"flow\" to all neighbouring cells with the exact same value (let's called it `v`). This value can represents anything like intensity, colour, etc. Neighbours of an element are all the elements in the matrix that are immediately above, below, right or left of it. *The water stops flowing only when for each pixel with value `v`, there exists no other neighbours with the same value*.  Once the \"flooding\" stops, we can give a new colour to all flooded cells.\n",
    "\n",
    "**Q. Fill in the gap below and write a function that takes as input: a numpy array, the coordinates of the initial point, and the value that should be given to all the flooded cells. Your function should return a new numpy array with the updated values.**\n",
    "\n",
    "To help visualise the (input and) output data, you can use the following function:"
   ]
  },
  {
   "cell_type": "code",
   "execution_count": null,
   "metadata": {
    "id": "pJOLit-A_oJm"
   },
   "outputs": [],
   "source": [
    "import matplotlib.pyplot as plt\n",
    "\n",
    "def visualise_array(np_array, colour_scale):\n",
    "    plt.matshow(np_array, cmap=colour_scale)\n",
    "    plt.show();"
   ]
  },
  {
   "cell_type": "code",
   "execution_count": null,
   "metadata": {
    "id": "rdqDuzrZCiue"
   },
   "outputs": [],
   "source": [
    "def flood_fill(matrix, start, fill_value):\n",
    "\n",
    "    start_val = matrix[start]\n",
    "    matrix_flooded = matrix\n",
    "\n",
    "    active_frontier = {start}\n",
    "    while active_frontier:\n",
    "        next_frontier = set()\n",
    "        # TO DO\n",
    "        for node in active_frontier:\n",
    "            if node[0]>0:\n",
    "                above_node = (node[0]-1, node[1])\n",
    "                if matrix[above_node] == start_val:\n",
    "                    next_frontier |= {above_node}\n",
    "\n",
    "            # check below\n",
    "            if node[0]<matrix.shape[0]-1:\n",
    "                below_node = (node[0]+1, node[1])\n",
    "                if matrix[below_node] == start_val:\n",
    "                    next_frontier |= {below_node}\n",
    "\n",
    "            # check left\n",
    "            if node[1]>0:\n",
    "                left_node = (node[0], node[1]-1)\n",
    "                # print(left_node)\n",
    "                if matrix[left_node] == start_val:\n",
    "                    # print(\"yes\")\n",
    "                    next_frontier |= {left_node}\n",
    "\n",
    "            # check right\n",
    "            if node[1]<matrix.shape[1]-1:\n",
    "                right_node = (node[0],node[1]+1)\n",
    "                if matrix[right_node] == start_val:\n",
    "                    next_frontier |= {right_node}\n",
    "\n",
    "            matrix_flooded[node] = fill_value\n",
    "\n",
    "        active_frontier = next_frontier\n",
    "\n",
    "    return matrix_flooded"
   ]
  },
  {
   "cell_type": "markdown",
   "metadata": {
    "id": "h_FBr_9OcsDs"
   },
   "source": [
    "To further test your algorithm (and a bit of fun!), let's upload some images and paint them. Make sure you have put the following files in the same directory of this notebook: **test_flood1.npy**, **test_flood2.npy** and **test_flood3.npy** (you can download them from QM+ under the same folder as this lab manual).\n",
    "\n",
    "If you are on Google Colab, you can do as follows:\n",
    "\n",
    ">-   On the left side of this page, click on the Files tab and then the Upload button;\n",
    ">-   Choose the files that you want to upload to google colab from your local machine.\n",
    "\n",
    ">_Note:_ *this is a virtual machine hosted by Google Compute Engine that is running this notebook. So next time you log in, the uploaded files may be gone and need to be re-uploaded, as Google recycles virtual machines when they are idle for a while.*\n",
    "\n",
    "\n",
    "Once you have the files uploaded, run the following cell to have a look at them:"
   ]
  },
  {
   "cell_type": "code",
   "execution_count": null,
   "metadata": {
    "id": "YUdVu-Q6dnfF"
   },
   "outputs": [],
   "source": [
    "import numpy as np # You can comment this line if you have already imported it!\n",
    "test_image_1 = np.load(\"test_flood1.npy\")\n",
    "visualise_array(test_image_1, colour_scale=\"viridis\")\n",
    "test_image_2 = np.load(\"test_flood2.npy\")\n",
    "visualise_array(test_image_2, colour_scale=\"twilight_shifted\")\n",
    "test_image_3 = np.load(\"test_flood3.npy\")\n",
    "visualise_array(test_image_3, colour_scale=\"magma\")"
   ]
  },
  {
   "cell_type": "markdown",
   "metadata": {
    "id": "9RLDhOA8LvVH"
   },
   "source": [
    "It is currently difficult to guess what's behind each of these images. Let's apply our Flood-fill algorithm as a \"bucket\" colour-filling tool (commonly found in many \"paint\" apps). The effect is as follows: once a pixel is clicked, all the connected cells with the same initial value will be coloured to the specified colour.\n",
    "\n",
    "\n",
    "**Q. Use your Flood-fill function on the first image, specifying that the initial cell, i.e., the pixel that is clicked on, to be `(3,1)` and the new value given to the flooded cells  be  `1`. Display the output of your function using `visualise_array` as before (but with the `colour_scale` option of `\"viridis\"`).**"
   ]
  },
  {
   "cell_type": "code",
   "execution_count": null,
   "metadata": {
    "id": "yWh0yZy0NldO",
    "scrolled": true
   },
   "outputs": [],
   "source": [
    "# TO DO\n",
    "result = flood_fill(test_image_1, (3,1), 1)\n",
    "visualise_array(result, colour_scale = \"viridis\")\n",
    "\n"
   ]
  },
  {
   "cell_type": "markdown",
   "metadata": {
    "id": "KEqb2vd8OIxD"
   },
   "source": [
    "**Q. For the second image, call the functions so that all cells connected and having the same value as the cell `(15,15)`, take the value `0.5`. Using the option `\"twilight_shifted\"`, it comes to painting in white.**"
   ]
  },
  {
   "cell_type": "code",
   "execution_count": null,
   "metadata": {
    "id": "4bbLE1UaO__X"
   },
   "outputs": [],
   "source": [
    "# TO DO\n",
    "result = flood_fill(test_image_2, (15,15), 0.5)\n",
    "visualise_array(result, \"twilight_shifted\")\n",
    "\n"
   ]
  },
  {
   "cell_type": "markdown",
   "metadata": {
    "id": "QVAXZUp7PQ8D"
   },
   "source": [
    "**Q. The last image will need to be colourised twice in order to show what is hiding behind it. Apply a first time your algorithm on cell `(10, 2)` in order to assign the value `0.7`. Apply once again your algorithm on the previously computed matrix, with the starting point at `(5, 10)` to once again assign `0.7`. Using the option `\"magma\"`, you should now be able to recognize something. Call the respectively functions below.**"
   ]
  },
  {
   "cell_type": "code",
   "execution_count": null,
   "metadata": {
    "id": "j6CbKQETUZT0"
   },
   "outputs": [],
   "source": [
    "# TO DO\n",
    "result = flood_fill(test_image_3, (10,2), 0.7)\n",
    "result = flood_fill(result, (5,10), 0.7)\n",
    "visualise_array(result, \"magma\")\n"
   ]
  },
  {
   "cell_type": "markdown",
   "metadata": {
    "id": "6rG_ehw2Ueya"
   },
   "source": [
    "### 7) _Flood fill_ algorithm -- a small variation:\n",
    "\n",
    "Now let's assume that we have an empty image (cells filled with 0) and some \"walls\" (cells filled with 255). Following the same strategy as before, modify your algorithm to assign a different label to each connected part. You can either have the starting point as an argument of your function or selecting one *randomly*. Here, we can consider 255s as *walls* that separate the different connected parts and responsible for the water to rise. Whenever the water rises too much and floods a new area, the label given will be different. The algorithm should stop when all cells previously labeled as 0 have now a label belonging to `]0; 255[`.\n",
    "\n",
    "**Q. Implement the algorithm by filling the gaps below. Feel free to copy-paste the code that you wrote earlier.**"
   ]
  },
  {
   "cell_type": "code",
   "execution_count": null,
   "metadata": {
    "id": "jQzN3KTnCqj8"
   },
   "outputs": [],
   "source": [
    "def _flood_fill_variant(matrix, start, fill_value):\n",
    "\n",
    "    matrix_flooded = matrix\n",
    "\n",
    "    active_frontier = {start}\n",
    "\n",
    "    while active_frontier:\n",
    "        next_frontier = set()\n",
    "        # TO DO\n",
    "        for node in active_frontier:\n",
    "\n",
    "            # check above\n",
    "            if node[0]>0:\n",
    "                above_node = (node[0]-1, node[1])\n",
    "                if matrix[above_node] == 0:\n",
    "                    next_frontier |= {above_node}\n",
    "\n",
    "            # check below\n",
    "            if node[0]<matrix.shape[0]-1:\n",
    "                below_node = (node[0]+1, node[1])\n",
    "                if matrix[below_node] == 0:\n",
    "                    next_frontier |= {below_node}\n",
    "\n",
    "            # check left\n",
    "            if node[1]>0:\n",
    "                left_node = (node[0], node[1]-1)\n",
    "                if matrix[left_node] == 0:\n",
    "                    next_frontier |= {left_node}\n",
    "\n",
    "            # check right\n",
    "            if node[1]<matrix.shape[1]-1:\n",
    "                right_node = (node[0],node[1]+1)\n",
    "                if matrix[right_node] == 0:\n",
    "                    next_frontier |= {right_node}\n",
    "\n",
    "            matrix_flooded[node] = fill_value\n",
    "\n",
    "        active_frontier = next_frontier\n",
    "\n",
    "\n",
    "    return matrix_flooded\n",
    "\n",
    "def flood_fill_wrapper(matrix):\n",
    "    matrix_flooded = matrix\n",
    "    label = 1;\n",
    "    [row, col] = matrix_flooded.shape\n",
    "    for r in range(row):\n",
    "        for c in range(col):\n",
    "            # TO DO\n",
    "\n",
    "            if matrix[r,c] == 0. and matrix[r,c] != 255. :\n",
    "                matrix_flooded = _flood_fill_variant(matrix_flooded, (r,c), label)\n",
    "                label += 10\n",
    "\n",
    "    return matrix_flooded"
   ]
  },
  {
   "cell_type": "markdown",
   "metadata": {
    "id": "0dYcSsHFf504"
   },
   "source": [
    "Let's test your new algorithm on some test images. Upload the following files: **test_variant1.npy**, **test_variant2.npy** and **test_variant3.npy** (recall:  arrow on the left --> `Files` --> `UPLOAD`).\n",
    "\n",
    "Let's have a look at them:"
   ]
  },
  {
   "cell_type": "code",
   "execution_count": null,
   "metadata": {
    "id": "6PB-gMRZgGfS"
   },
   "outputs": [],
   "source": [
    "variant_test_image_1 = np.load(\"test_variant1.npy\")\n",
    "visualise_array(variant_test_image_1, \"Greys\")\n",
    "variant_test_image_2 = np.load(\"test_variant2.npy\")\n",
    "visualise_array(variant_test_image_2, \"Greys\")\n",
    "variant_test_image_3 = np.load(\"test_variant3.npy\")\n",
    "visualise_array(variant_test_image_3, \"Greys\")"
   ]
  },
  {
   "cell_type": "code",
   "execution_count": null,
   "metadata": {
    "id": "QHk3GvEEQ71l"
   },
   "outputs": [],
   "source": [
    "variant_test_image_1[200,450:500]"
   ]
  },
  {
   "cell_type": "markdown",
   "metadata": {
    "id": "CyUQi1JCgljs"
   },
   "source": [
    "As you can see, the size of each matrix is significantly bigger (you may feel it when running your algorithm). Now try to use the variant of the flood fill algorithm to automatically colour each connected part. If you use the `\"Greys\"` option in `visualise_array`, you should get a drawing coloured in greyscale. Nevertheless, each component should have a different colour."
   ]
  },
  {
   "cell_type": "code",
   "execution_count": null,
   "metadata": {
    "id": "rVuG4ANpiH4g"
   },
   "outputs": [],
   "source": [
    "# You should call your function with variant_test_image_1, variant_test_image_2 and variant_test_image_3\n",
    "# ...\n",
    "variant_test_image_1 = flood_fill_wrapper(variant_test_image_1)\n",
    "\n",
    "# Display the output of each image using visualise_array(your_result, \"Greys\")\n",
    "visualise_array(variant_test_image_1, colour_scale = \"viridis\")\n",
    "\n",
    "variant_test_image_1[200,450:500]"
   ]
  },
  {
   "cell_type": "markdown",
   "metadata": {
    "id": "LJXQPxZ7Daud"
   },
   "source": [
    " The last two algorithms that you implemented are examples of search algorithms. There are many techniques to decrease the time required to perform the required tasks. Try to think of simple ways to improve the efficiency of what you previously developed."
   ]
  }
 ],
 "metadata": {
  "colab": {
   "provenance": [
    {
     "file_id": "1Xjh550P3NNxScNwKxyxphGYxFIL_KRz-",
     "timestamp": 1696863593458
    }
   ],
   "toc_visible": true
  },
  "kernelspec": {
   "display_name": "Python 3 (ipykernel)",
   "language": "python",
   "name": "python3"
  },
  "language_info": {
   "codemirror_mode": {
    "name": "ipython",
    "version": 3
   },
   "file_extension": ".py",
   "mimetype": "text/x-python",
   "name": "python",
   "nbconvert_exporter": "python",
   "pygments_lexer": "ipython3",
   "version": "3.10.12"
  }
 },
 "nbformat": 4,
 "nbformat_minor": 4
}
