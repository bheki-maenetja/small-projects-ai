{
  "nbformat": 4,
  "nbformat_minor": 0,
  "metadata": {
    "colab": {
      "provenance": [],
      "collapsed_sections": [],
      "toc_visible": true
    },
    "kernelspec": {
      "name": "python3",
      "display_name": "Python 3"
    },
    "language_info": {
      "name": "python"
    }
  },
  "cells": [
    {
      "cell_type": "markdown",
      "source": [
        "# 0. Introduction\n",
        "**Before we start:** this environment that allows us to enter both text and run codes interactively, is called ***[notebook](https://jupyter.org/)***).\n",
        "\n",
        "There are two types of cells: *Text* and *Code*. You can add your own cells. You can also edit the texts by double-clicking on them. It follows the [markup rules](https://github.com/adam-p/markdown-here/wiki/Markdown-Cheatsheet). \n",
        "\n",
        "In order to execute (run) a cell, you can use one of the following ways:\n",
        "\n",
        "0. `Shift + Enter` : executes a cell and goes to the next one.\n",
        "1. `Ctrl + Enter` : executes a block but stays at the same block. This is equivalent to clicking on the *run* butten to the left of the cell, which appears when you hover the mouse over the `[ ]` icon. \n",
        "2. Use the `Runtime` tab (at the top of the page), which gives you more options as well."
      ],
      "metadata": {
        "id": "ADoqnuR_LbqF"
      }
    },
    {
      "cell_type": "code",
      "execution_count": null,
      "metadata": {
        "id": "AQwdfvpEwsEE"
      },
      "outputs": [],
      "source": [
        "# import libraries we will be using\n",
        "import torch\n",
        "import numpy as np\n",
        "import pandas as pd\n",
        "import matplotlib.pyplot as plt\n",
        "import seaborn as sn\n",
        "import scipy.stats as stats\n",
        "from sklearn import datasets"
      ]
    },
    {
      "cell_type": "markdown",
      "source": [
        "In this and subsequent labs, we will be using the libraries imported above among others.\n",
        "\n",
        "You are strongly encouraged to refer to the API's or each library and familiarize yourselves with the available classes and methods."
      ],
      "metadata": {
        "id": "nZFFftYELvHg"
      }
    },
    {
      "cell_type": "markdown",
      "source": [
        "# 1. Bayes Rule\n",
        "Bayes Rule is used a lot for inference.\n",
        "\\begin{equation}\n",
        "P(\\textrm{A }\n",
        "| \\textrm{ B}) = \n",
        "\\frac{P(\\textrm{B }\n",
        "| \\textrm{ A})\n",
        "\\times\n",
        "P(\\textrm{A})}{P(\\textrm{B})}\n",
        "\\end{equation}"
      ],
      "metadata": {
        "id": "GodWaZnPGJq4"
      }
    },
    {
      "cell_type": "code",
      "source": [
        "def bayes_rule(likelihood: float, prior_a:float, prior_b: float) -> float:\n",
        "  \"\"\"\n",
        "  Bayes rule calculation.\n",
        "  P(A|B) = (P(B|A) * P(A)) / P(B)\n",
        "\n",
        "  Given the likelihood i.e. P(B|A), the prior probability of A (P(A)) and the \n",
        "  prior probability of B (P(B)), the method calculates the posterior probability\n",
        "  P(A|B).\n",
        "  Args:\n",
        "    likelihood: the likelihood, 0 <= P(B|A) <= 1\n",
        "    prior_a: the prior probability of A, 0 <= P(A) <= 1\n",
        "    prior_b: the  prior probability of B, 0 <= P(B) <= 1\n",
        "  Returns:\n",
        "    The posterior probability P(A|B)\n",
        "  \"\"\"\n",
        "  assert likelihood >= 0 and likelihood <= 1, (\"Probability should be between 0 and 1\")\n",
        "  assert prior_a >= 0 and prior_a <= 1, (\"Probability should be between 0 and 1\")\n",
        "  assert prior_b >= 0 and prior_b <= 1, (\"Probability should be between 0 and 1\")\n",
        "\n",
        "  posterior = likelihood * prior_a /  prior_b\n",
        "  return posterior"
      ],
      "metadata": {
        "id": "3dZCSaR1yWV-"
      },
      "execution_count": null,
      "outputs": []
    },
    {
      "cell_type": "markdown",
      "source": [
        "##1.1 Revisit the excercise from the lecture notes!\n",
        "\n",
        "\n",
        "A bank asks a machine learning engineer to build a system to decide whether to approve or not, loan applications (0.1% of all loan applications will not be repaid). \n",
        "\n",
        "The bank installs a system that recommends whether the loan should be approved or not.\n",
        "\n",
        "The system, is such that it will correctly identify loans that will not be repaid, 99% of the time.\n",
        "\n",
        "Similarly, the system will correctly identify loans that will be repaid 99% of the time.\n",
        "\n",
        "What is the probability that a loan will not be repaid given that the system has identified it as such?"
      ],
      "metadata": {
        "id": "STusCCk51pJm"
      }
    },
    {
      "cell_type": "code",
      "source": [
        "p_nr = 0.001 # 0.1% of all loan applications will not be repaid\n",
        "p_r = 0.999 # 1-p_nr\n",
        "\n",
        "p_neg_nr = 0.99 # correctly identify loans that will not be repaid, 99% of the time\n",
        "p_pos_nr = 0.01 # 1-p_neg_nr\n",
        "\n",
        "p_pos_r = 0.99 # correctly identify loans that will be repaid 99% of the time\n",
        "p_neg_r = 0.01 # 1-p_pos_r"
      ],
      "metadata": {
        "id": "twRIOYG51nqU"
      },
      "execution_count": null,
      "outputs": []
    },
    {
      "cell_type": "code",
      "source": [
        "p_neg = p_neg_r * p_r + p_neg_nr * p_nr\n",
        "p_nr_neg = bayes_rule(likelihood=p_neg_nr, prior_a=p_nr, prior_b=p_neg)\n",
        "print(p_nr_neg)"
      ],
      "metadata": {
        "id": "DYZWSwN-3epg"
      },
      "execution_count": null,
      "outputs": []
    },
    {
      "cell_type": "markdown",
      "source": [
        "## 1.2 Ex. 1: The Sally Clark Case (aka prosecutor's fallacy)\n",
        "\n",
        "Sally Clark, a lawyer who lost her first son at 11 weeks and her second at 8 weeks, was convicted in 1999.\n",
        "\n",
        "\n",
        "The chance of one random infant dying from SIDS was about **1 in 1,300** during this period in Britain.\n",
        "\n",
        "The estimated odds of a second SIDS death in the same family was much larger, perhaps **1 in 100**, because family members can share a common environmental or genetic propensity for SIDS.\n",
        "\n",
        "About **30 children out of 650,000** annual births in England, Scotland, and Wales were known to have been murdered by their mothers.\n",
        "\n",
        "The number of double murders must be much lower, estimated as **10 times less likely**.\n",
        "\n",
        "\n",
        "What is the probability of SIDS for both children?\n",
        "\n",
        "What is the probability a random pair of siblings dies suddenly and expectedly but not from SIDS?\n",
        "\n",
        "What is the probability that the cause of death was SIDS, given their unexplained deaths?\n",
        "\n",
        "What scenario is more likely?\n",
        "\n",
        "(Hint: Probability of death given SIDS is 1)"
      ],
      "metadata": {
        "id": "hyOqmlJj4txC"
      }
    },
    {
      "cell_type": "code",
      "source": [
        "### your calculations here ###"
      ],
      "metadata": {
        "id": "BMqh7e377tsF"
      },
      "execution_count": null,
      "outputs": []
    },
    {
      "cell_type": "markdown",
      "source": [
        "## 1.3 Ex. 2\n",
        "Company A supplies 40% of the computers sold and is late 5% of the time. \n",
        "\n",
        "Company B supplies 30% of the computers sold and is late 3% of the time. \n",
        "\n",
        "Company C supplies another 30% and is late 2.5% of the time. \n",
        "\n",
        "A computer arrives late - what is the probability that it came from Company A?\n"
      ],
      "metadata": {
        "id": "wPQOoiRKB80J"
      }
    },
    {
      "cell_type": "code",
      "source": [
        "### your calculations here ###"
      ],
      "metadata": {
        "id": "HITJ9CczDLg0"
      },
      "execution_count": null,
      "outputs": []
    },
    {
      "cell_type": "markdown",
      "source": [
        "# 2. Gaussian Distribution\n",
        "aka the ‘normal distribution’, with probability density function (pdf):\n",
        "\\begin{equation}\n",
        "f(x) = \\frac{1}{\\sigma\\sqrt{2\\pi}} \n",
        "  \\exp\\left( -\\frac{1}{2}\\left(\\frac{x-\\mu}{\\sigma}\\right)^{\\!2}\\,\\right)\n",
        "\\end{equation}\n",
        "where μ is the mean and σ is the standard deviation."
      ],
      "metadata": {
        "id": "8JaLnw1YE3bU"
      }
    },
    {
      "cell_type": "code",
      "source": [
        "mean = 0; std = 1; variance = np.square(std)\n",
        "x = np.arange(-5,5,.01)\n",
        "f = np.exp(-np.square(x-mean)/2*variance)/(np.sqrt(2*np.pi*variance))\n",
        "\n",
        "plt.plot(x,f)\n",
        "plt.ylabel('gaussian distribution')\n",
        "plt.show()"
      ],
      "metadata": {
        "id": "cegnvtXyFpii"
      },
      "execution_count": null,
      "outputs": []
    },
    {
      "cell_type": "markdown",
      "source": [
        "Plot a few distributions with different μ and σ.\n",
        "\n",
        "What do you observe?"
      ],
      "metadata": {
        "id": "NucMCqJdJSY2"
      }
    },
    {
      "cell_type": "code",
      "source": [
        "### your code here ###"
      ],
      "metadata": {
        "id": "R1WgsaTXJkzt"
      },
      "execution_count": null,
      "outputs": []
    },
    {
      "cell_type": "markdown",
      "source": [
        "# 3. Independent Random Variables\n",
        "The covariance of two RVs X and Y is:\n",
        "\\begin{equation}\n",
        "  \\textrm{Cov}(X,Y)=\\frac{\\sum_{i=1}^{N}(x_{i}-\\bar{x})(y_{i}-\\bar{y})}{N-1}\n",
        "\\end{equation}\n",
        "\n",
        "and Pearson's Correlation Coefficient is:\n",
        "\n",
        "\\begin{equation}\n",
        "  \\textrm{PCC}(X,Y) = \\frac{\\textrm{Cov}(X,Y)}{σ_xσ_y}\n",
        "\\end{equation}\n",
        "\n",
        "Write two methods, one for each formula"
      ],
      "metadata": {
        "id": "KEF4soYWJ0Ii"
      }
    },
    {
      "cell_type": "code",
      "source": [
        "def COV(x, y):\n",
        "  cov = 0\n",
        "  ### your code here\n",
        "  return cov\n",
        "\n",
        "def PCC(x, y):\n",
        "  pcc = 0\n",
        "  ### your code here\n",
        "  return pcc"
      ],
      "metadata": {
        "id": "lISpg2RnLlFd"
      },
      "execution_count": null,
      "outputs": []
    },
    {
      "cell_type": "markdown",
      "source": [
        "Below are annual data of people who drowned by falling into a pool and films Nicolas Cage appeared in.\n",
        "\n",
        "Now using matplotlib, plot the data below as timeseries (hint: check matplotlib [documentation](https://matplotlib.org/stable/api/_as_gen/matplotlib.pyplot.plot.html))"
      ],
      "metadata": {
        "id": "4vCRQ-gGL4Mu"
      }
    },
    {
      "cell_type": "code",
      "source": [
        "year = np.arange(1999, 2010)\n",
        "cage_films = np.array([2, 2, 2, 3, 1, 1, 2, 3, 4, 1, 4])\n",
        "drownings = np.array([109, 102, 102, 98, 85, 95, 96, 98, 123, 94, 102])"
      ],
      "metadata": {
        "id": "hB12-Vb7L3cQ"
      },
      "execution_count": null,
      "outputs": []
    },
    {
      "cell_type": "code",
      "source": [
        "### your code here"
      ],
      "metadata": {
        "id": "1Lg1aJjcNUer"
      },
      "execution_count": null,
      "outputs": []
    },
    {
      "cell_type": "markdown",
      "source": [
        "Using the methods for COV and PCC, calculate the correlation coefficient between annual drownings in pools and Nic Cage films. Does it look like a strong correlation? What conclusion can be drawn for correlation vs causation in Independent Random Variables?"
      ],
      "metadata": {
        "id": "ueMZ-Lt0NWqS"
      }
    },
    {
      "cell_type": "code",
      "source": [
        "### your code here"
      ],
      "metadata": {
        "id": "O30C6ltjN250"
      },
      "execution_count": null,
      "outputs": []
    },
    {
      "cell_type": "markdown",
      "source": [
        "Modify the COV and PCC methods to handle n-dimensional data"
      ],
      "metadata": {
        "id": "1TMTpdbzOiV8"
      }
    },
    {
      "cell_type": "code",
      "source": [
        "def COV(x: np.array, y: np.array) -> np.array:\n",
        "  ### your code here\n",
        "  return \n",
        "\n",
        "def PCC(x: np.array, y: np.array) -> np.array:\n",
        "  ### your code here\n",
        "  return"
      ],
      "metadata": {
        "id": "aq4q-a7jOrS8"
      },
      "execution_count": null,
      "outputs": []
    },
    {
      "cell_type": "markdown",
      "source": [
        "For a more complex example, we will use the [iris dataset](https://scikit-learn.org/stable/modules/generated/sklearn.datasets.load_iris.html#sklearn.datasets.load_iris) from sklearn"
      ],
      "metadata": {
        "id": "xGStPjnO0v9M"
      }
    },
    {
      "cell_type": "code",
      "source": [
        "iris_db = datasets.load_iris(as_frame=True)\n",
        "sn.pairplot(iris_db.data)"
      ],
      "metadata": {
        "id": "u1HuJL500udH"
      },
      "execution_count": null,
      "outputs": []
    },
    {
      "cell_type": "markdown",
      "source": [
        "Using the COV and PCC methods written above, write your own code to produce the covariance and correlation matrices of the data features and seaborn [heatmap](https://seaborn.pydata.org/generated/seaborn.heatmap.html?highlight=heatmap#seaborn.heatmap) method to visualize the output (hint: the matrix will have shape  $num\\_feats × num\\_feats$ )"
      ],
      "metadata": {
        "id": "ZoiQpCr92Px1"
      }
    },
    {
      "cell_type": "code",
      "source": [
        "### your code here"
      ],
      "metadata": {
        "id": "zfmKDQ3F2jVM"
      },
      "execution_count": null,
      "outputs": []
    },
    {
      "cell_type": "markdown",
      "source": [
        "Let's focus on `petal length` and `petal width.`\n",
        "\n",
        "Using `numpy` make a 2D histogram for the two features, with `8x8` bins and visualize it using `matplotlib`."
      ],
      "metadata": {
        "id": "oiLXM7057CyS"
      }
    },
    {
      "cell_type": "code",
      "source": [
        "data = iris_db.data[['petal length (cm)', 'petal width (cm)']]\n",
        "### your code here\n",
        "plt.legend()\n",
        "plt.show()"
      ],
      "metadata": {
        "id": "aAFBWLvTA8mV"
      },
      "execution_count": null,
      "outputs": []
    },
    {
      "cell_type": "markdown",
      "source": [
        "Using the concepts learnt in the lectures and the histogram generated, find:\n",
        "\n",
        "\n",
        "*   The Joint probability matrix\n",
        "*   The conditional probability matrix\n",
        "*   The marginal probabilities of the two features (2 vectors of size 8)\n",
        "*   Fit a Gaussian to each dimension and plot it along with the marginal probability vectors\n",
        "\n",
        "\n",
        "\n"
      ],
      "metadata": {
        "id": "5RJugafoDQv2"
      }
    },
    {
      "cell_type": "code",
      "source": [
        "### your code here\n"
      ],
      "metadata": {
        "id": "SaBEfbqHE0iD"
      },
      "execution_count": null,
      "outputs": []
    },
    {
      "cell_type": "markdown",
      "source": [
        "Are petal length and width independent? Are they correlated?"
      ],
      "metadata": {
        "id": "OBaerlBBFUrX"
      }
    }
  ]
}