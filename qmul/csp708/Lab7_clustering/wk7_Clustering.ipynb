{
  "nbformat": 4,
  "nbformat_minor": 0,
  "metadata": {
    "colab": {
      "provenance": [],
      "collapsed_sections": []
    },
    "kernelspec": {
      "name": "python3",
      "display_name": "Python 3"
    },
    "language_info": {
      "name": "python"
    }
  },
  "cells": [
    {
      "cell_type": "markdown",
      "source": [
        "## 0. Introduction \n",
        "\n",
        "The aim of this lab is to get familiar with **clustering** using **K-means**.\n",
        "\n",
        "For this lab, we will be using the [iris dataset](https://scikit-learn.org/stable/datasets/toy_dataset.html#iris-dataset)."
      ],
      "metadata": {
        "id": "BzoHqqv1l9fm"
      }
    },
    {
      "cell_type": "code",
      "execution_count": null,
      "metadata": {
        "id": "tD0JAgRhxDdw"
      },
      "outputs": [],
      "source": [
        "from sklearn import model_selection\n",
        "from sklearn import preprocessing\n",
        "from sklearn import cluster\n",
        "from sklearn import datasets\n",
        "from sklearn import metrics\n",
        "import numpy as np\n",
        "import pandas as pd\n",
        "import matplotlib.pyplot as plt\n",
        "from matplotlib import colors as clr\n",
        "import seaborn as sn\n",
        "from scipy.spatial.distance import cdist\n",
        "from scipy.cluster.hierarchy import dendrogram\n",
        "from IPython import display\n",
        "\n",
        "import typing\n",
        "%matplotlib inline"
      ]
    },
    {
      "cell_type": "code",
      "source": [
        "iris = datasets.load_iris()\n",
        "print(iris.DESCR)"
      ],
      "metadata": {
        "id": "QDU_8VhamSWh"
      },
      "execution_count": null,
      "outputs": []
    },
    {
      "cell_type": "markdown",
      "source": [
        "For simplicity we will use `petal length` and `petal width` in the first part of the lab."
      ],
      "metadata": {
        "id": "-UbZucDqmdyW"
      }
    },
    {
      "cell_type": "code",
      "source": [
        "X = iris.data[:, 2:]\n",
        "Y = iris.target\n",
        "scaler = preprocessing.StandardScaler()\n",
        "X = scaler.fit_transform(X)\n",
        "\n",
        "print(X.shape, Y.shape)"
      ],
      "metadata": {
        "id": "ywYZpQV1m_tM"
      },
      "execution_count": null,
      "outputs": []
    },
    {
      "cell_type": "markdown",
      "source": [
        "By looking at the data and their corresponding ground truths, we can already identify some clusters."
      ],
      "metadata": {
        "id": "_eSRVjQ3oBsc"
      }
    },
    {
      "cell_type": "code",
      "source": [
        "marker_list = ['+', '.', 'x']\n",
        "fig = plt.figure(figsize=(7, 7))\n",
        "ax = fig.add_subplot(111)\n",
        "ax.set_aspect('equal')\n",
        "\n",
        "for l in [0, 1, 2]:\n",
        "  ax.scatter(\n",
        "      X[Y == l, 0], \n",
        "      X[Y == l, 1],\n",
        "      marker=marker_list[l], \n",
        "      s=70, \n",
        "      color='black',\n",
        "      label='{:d} ({:s})'.format(l, iris.target_names[l])\n",
        "      )\n",
        "\n",
        "ax.legend(fontsize=12)\n",
        "ax.set_xlabel(iris.feature_names[2], fontsize=14)\n",
        "ax.set_ylabel(iris.feature_names[3], fontsize=14)\n",
        "ax.grid(alpha=0.3)\n",
        "ax.set_xlim(X[:, 0].min() - 0.5, X[:, 0].max() + 0.5)\n",
        "ax.set_ylim(X[:, 1].min() - 0.5, X[:, 1].max() + 0.5)\n",
        "plt.show()"
      ],
      "metadata": {
        "id": "IQd2ai9NnojI"
      },
      "execution_count": null,
      "outputs": []
    },
    {
      "cell_type": "markdown",
      "source": [
        "# 1. K-means algorithm\n",
        "\n",
        "This is an iterative algorithm to partition $N$ observations into $K$ clusters.\n",
        "\n",
        "The two main parts of the algorithm are:\n",
        "\n",
        "1. E-step: Assign each datum to the closest centroid\n",
        "2. M-step: Find the new center of each cluster"
      ],
      "metadata": {
        "id": "dCpLPtK4o2iA"
      }
    },
    {
      "cell_type": "code",
      "source": [
        "def distance(x: np.ndarray, mu: np.ndarray) -> np.ndarray:\n",
        "  \"\"\"We will use the euclidean distance\"\"\"\n",
        "  x2 = np.sum(x**2, axis=1)\n",
        "  mu2 = np.sum(mu**2, axis=1)\n",
        "  xmu = np.matmul(x, mu.T)\n",
        "  x2 = x2.reshape(-1, 1)\n",
        "  dist = x2 - 2*xmu + mu2\n",
        "  return np.sqrt(dist)\n",
        "\n",
        "def estep(centroids: np.ndarray, x_data: np.ndarray) -> np.ndarray:\n",
        "  distances = distance(x_data, centroids)\n",
        "  allocation = np.argmin(distances, axis=1)\n",
        "  return allocation\n",
        "\n",
        "def mstep(x_data: np.ndarray, allocation: np.ndarray) -> np.ndarray:\n",
        "  _ndx = np.argsort(allocation)\n",
        "  _id, _pos, g_count = np.unique(allocation[_ndx], return_index=True, return_counts=True)\n",
        "  sum = np.add.reduceat(x_data[_ndx], _pos, axis=0)\n",
        "  mean = sum/g_count[:, None]\n",
        "  return mean"
      ],
      "metadata": {
        "id": "D1BIm2R7r0ZY"
      },
      "execution_count": null,
      "outputs": []
    },
    {
      "cell_type": "code",
      "source": [
        "def visualize_clusters(X, Y, centroids, allocation):\n",
        "  display.clear_output(wait=True)\n",
        "  colors = ['#CBAACB', '#F6EAC2', '#97C1A9']\n",
        "  fig = plt.figure(figsize=(7, 7))\n",
        "  ax = fig.add_subplot(111)\n",
        "  ax.set_aspect('equal')\n",
        "  for l in [0, 1, 2]:\n",
        "      idx = Y == l\n",
        "      c = allocation[idx]\n",
        "      cmap = clr.ListedColormap(colors, N=3)\n",
        "      ranges = np.linspace(0, 2, len(colors)+1)\n",
        "      norm = clr.BoundaryNorm(ranges, cmap.N)\n",
        "      # print(X.shape, Y.shape, c.shape)\n",
        "      ax.scatter(\n",
        "          X[idx, 0], \n",
        "          X[idx, 1],\n",
        "          marker=marker_list[l], \n",
        "          s=70, \n",
        "          c=c,\n",
        "          label='{:d} ({:s})'.format(l, iris.target_names[l]),\n",
        "          cmap=cmap,\n",
        "          norm=norm\n",
        "          )\n",
        "  #plot centroids\n",
        "  plt.scatter(\n",
        "      centroids[:, 0], \n",
        "      centroids[:, 1], \n",
        "      marker='^', \n",
        "      c=colors, \n",
        "      s=70,\n",
        "      )\n",
        "  #plot lines\n",
        "  for idx, datum in enumerate(X):\n",
        "    calloc = allocation[idx]\n",
        "    cen = centroids[calloc]\n",
        "    x_dat = [datum[0], cen[0]]\n",
        "    y_dat = [datum[1], cen[1]]\n",
        "    plt.plot(x_dat, y_dat, alpha=0.2, c=colors[calloc])\n",
        "\n",
        "  ax.legend(fontsize=12)\n",
        "  ax.set_xlabel(iris.feature_names[2], fontsize=14)\n",
        "  ax.set_ylabel(iris.feature_names[3], fontsize=14)\n",
        "  ax.grid(alpha=0.3)\n",
        "  ax.set_xlim(X[:, 0].min() - 0.5, X[:, 0].max() + 0.5)\n",
        "  ax.set_ylim(X[:, 1].min() - 0.5, X[:, 1].max() + 0.5)\n",
        "  plt.show()"
      ],
      "metadata": {
        "id": "SAmGOsng28Gu"
      },
      "execution_count": null,
      "outputs": []
    },
    {
      "cell_type": "markdown",
      "source": [
        "Puting everything together:\n",
        "\n",
        "* Initialize $K$ random centroids\n",
        "* Repeat E-M steps for $I$ number of iterations"
      ],
      "metadata": {
        "id": "J1A1QyYIzs6v"
      }
    },
    {
      "cell_type": "code",
      "source": [
        "iterations = 10\n",
        "K = 3\n",
        "dimensions = X.shape[1]\n",
        "\n",
        "# Initialize K random centroids\n",
        "centroids = np.random.rand(K, dimensions) * 4 - 2 #random centroids between [-2,2]\n",
        "# for I number of iterations\n",
        "for i in range(iterations):\n",
        "  allocation = estep(centroids, X)\n",
        "  centroids = mstep(X, allocation)\n",
        "  visualize_clusters(X, Y, centroids, allocation)"
      ],
      "metadata": {
        "id": "qaIg38dpthWI"
      },
      "execution_count": null,
      "outputs": []
    },
    {
      "cell_type": "markdown",
      "source": [
        "# 2. Selecting $K$ (Elbow curve)\n",
        "In the iris example, we have some prior knowledge about the different species which informs our decision on K. This is not always the case, in which case we need a way of selecting $K$.\n",
        "\n",
        "For this part of the lab, we will use `sklearn` built in methods."
      ],
      "metadata": {
        "id": "UJ-DlqAhGP7z"
      }
    },
    {
      "cell_type": "code",
      "source": [
        "K = range(1, 10)\n",
        "cost = list()\n",
        "for k in K:\n",
        "  model = cluster.KMeans(n_clusters=k)\n",
        "  model.fit(X)\n",
        "  cost.append(\n",
        "      sum(np.min(cdist(X, model.cluster_centers_, 'euclidean'), axis=1)) / X.shape[0]\n",
        "  )"
      ],
      "metadata": {
        "id": "cEmWv7BHH6bQ"
      },
      "execution_count": null,
      "outputs": []
    },
    {
      "cell_type": "markdown",
      "source": [
        "Plot the cost against number of clusters. What is the optimal number of $K$?"
      ],
      "metadata": {
        "id": "4T3dlc8uKce9"
      }
    },
    {
      "cell_type": "code",
      "source": [
        "### your code here"
      ],
      "metadata": {
        "id": "BQixIx9zKzIl"
      },
      "execution_count": null,
      "outputs": []
    },
    {
      "cell_type": "markdown",
      "source": [
        "Now using all of the attributes, repeat the elbow curve method to select the optimal $K$. Are they the same?"
      ],
      "metadata": {
        "id": "D93donVFHXZ9"
      }
    },
    {
      "cell_type": "code",
      "source": [
        "X = iris.data\n",
        "### your code here"
      ],
      "metadata": {
        "id": "kl586OpwHnFi"
      },
      "execution_count": null,
      "outputs": []
    },
    {
      "cell_type": "markdown",
      "source": [
        "# 3. Hierarchical Clustering\n",
        "In this section we will look into a Hierarchical clustering algorithm.\n",
        "We will be using the [AgglomerativeClustering](https://scikit-learn.org/stable/modules/generated/sklearn.cluster.AgglomerativeClustering.html?highlight=agglomerative) class from sklearn.\n",
        "\n",
        "First, spend some time to read the API and understand the model parameters.\n",
        "Then, fit a model to $X$\n"
      ],
      "metadata": {
        "id": "OrWQmcsRLi-o"
      }
    },
    {
      "cell_type": "code",
      "source": [
        "### your code here"
      ],
      "metadata": {
        "id": "izHBfxUeIStP"
      },
      "execution_count": null,
      "outputs": []
    },
    {
      "cell_type": "markdown",
      "source": [
        "Using the method below, plot the dendrogram. What do you observe? "
      ],
      "metadata": {
        "id": "4Ev02mnxIVFO"
      }
    },
    {
      "cell_type": "code",
      "source": [
        "def plot_dendrogram(model, **kwargs):\n",
        "    counts = np.zeros(model.children_.shape[0])\n",
        "    n_samples = len(model.labels_)\n",
        "    for i, merge in enumerate(model.children_):\n",
        "        current_count = 0\n",
        "        for child_idx in merge:\n",
        "            if child_idx < n_samples:\n",
        "                current_count += 1  # leaf node\n",
        "            else:\n",
        "                current_count += counts[child_idx - n_samples]\n",
        "        counts[i] = current_count\n",
        "\n",
        "    linkage_matrix = np.column_stack(\n",
        "        [model.children_, model.distances_, counts]\n",
        "    ).astype(float)\n",
        "    dendrogram(linkage_matrix, **kwargs)\n",
        "\n",
        "\n",
        "### your code here"
      ],
      "metadata": {
        "id": "Ee-14Tq5IUdB"
      },
      "execution_count": null,
      "outputs": []
    },
    {
      "cell_type": "markdown",
      "source": [
        "# 4. Segmentation Example\n",
        "\n",
        "For the remainder of the lab, we will use the `ifood_df.csv` dataset, which consists of 2206 customers of XYZ company with data on:\n",
        "\n",
        "*    Customer profiles\n",
        "*    Product preferences\n",
        "*    Campaign successes/failures\n",
        "*    Channel performance\n",
        "\n",
        "First, upload the csv file to drive and load as a DataFrame.\n",
        "\n",
        "*Note the files uploaded are ephemeral and will need to be reuploaded*"
      ],
      "metadata": {
        "id": "MJATU5Q0JWza"
      }
    },
    {
      "cell_type": "code",
      "source": [
        "from google.colab import files\n",
        "files.upload()\n",
        "### load in a data frame"
      ],
      "metadata": {
        "id": "qnciBifnIt-F"
      },
      "execution_count": null,
      "outputs": []
    },
    {
      "cell_type": "markdown",
      "source": [
        "\n",
        "Some transformations are required:\n",
        "\n",
        "*    yearbirth -> customer_age: in years `date.today().year - df['Year_Birth']`\n",
        "*    dtCustomer -> customer_days: customer's erollment in days `(pd.to_datetime(\"now\") - pd.to_datetime(df['Dt_Customer'])) // np.timedelta64(1,'D')`\n",
        "* Total Amount -> `df['MntTotal'] = df.loc[:,['MntWines', 'MntFruits', 'MntMeatProducts', 'MntFishProducts', 'MntSweetProducts']].sum(axis=1)`\n",
        "* Regular products amount -> `df['MntRegularProds'] = df.loc[:,'MntTotal'] - df.loc[:,'MntGoldProds']`\n",
        "\n"
      ],
      "metadata": {
        "id": "GpumKLXyMqFW"
      }
    },
    {
      "cell_type": "markdown",
      "source": [
        "We will only use the following columns:\n",
        "`['Income', 'Age', 'Recency', 'MntWines',\n",
        "       'MntFruits', 'MntMeatProducts', 'MntFishProducts', 'MntSweetProducts',\n",
        "       'MntRegularProds','MntGoldProds', 'NumDealsPurchases', 'NumWebPurchases',\n",
        "       'NumCatalogPurchases', 'NumStorePurchases', 'NumWebVisitsMonth', 'MntTotal'\n",
        "       ]`"
      ],
      "metadata": {
        "id": "K6xIGQuvKRF1"
      }
    },
    {
      "cell_type": "code",
      "source": [
        "### your code here"
      ],
      "metadata": {
        "id": "LomTQOEmKQXT"
      },
      "execution_count": null,
      "outputs": []
    },
    {
      "cell_type": "markdown",
      "source": [
        "We will train a Kmeans clustering algorithm.\n",
        "\n",
        "Using the elbow method, find the optimal number of $K$ and plot the elbow curve.\n",
        "\n",
        "Train a model for the optimal number of $K$."
      ],
      "metadata": {
        "id": "gs6KG5-zK2c9"
      }
    },
    {
      "cell_type": "code",
      "source": [
        "### elbow curve\n",
        "\n",
        "\n",
        "### train model for optimal K\n",
        "k = 0"
      ],
      "metadata": {
        "id": "m6ldGGaHLhsV"
      },
      "execution_count": null,
      "outputs": []
    },
    {
      "cell_type": "markdown",
      "source": [
        "Add a column to the DataFrame named `cluster` and store the allocated cluster."
      ],
      "metadata": {
        "id": "F8hHOx1TLrOw"
      }
    },
    {
      "cell_type": "code",
      "source": [
        "### your code here"
      ],
      "metadata": {
        "id": "9ZVamSDzL078"
      },
      "execution_count": null,
      "outputs": []
    },
    {
      "cell_type": "markdown",
      "source": [
        "Using matplotlib and [boxplot](https://pandas.pydata.org/docs/reference/api/pandas.DataFrame.boxplot.html), visualize the clusters along each dimension."
      ],
      "metadata": {
        "id": "z4U59PupL2Yl"
      }
    },
    {
      "cell_type": "code",
      "source": [
        "### your code here"
      ],
      "metadata": {
        "id": "gvG2lZRMMJT7"
      },
      "execution_count": null,
      "outputs": []
    },
    {
      "cell_type": "markdown",
      "source": [
        "Now looking at the clusters along each dimension:\n",
        "* Are all dimensions equally important in separating the customers into clusters?\n",
        "* Write a small paragraph describing each customer profile.\n",
        "\n",
        "\n",
        "Answer:"
      ],
      "metadata": {
        "id": "CqgEyv_SMVMx"
      }
    }
  ]
}